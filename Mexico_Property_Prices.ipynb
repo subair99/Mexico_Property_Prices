{
 "cells": [
  {
   "cell_type": "markdown",
   "id": "13f5cce9",
   "metadata": {},
   "source": [
    "# Mexico Property Prices"
   ]
  },
  {
   "cell_type": "markdown",
   "id": "80fa9de2",
   "metadata": {},
   "source": [
    "## 1. Problem statement\n",
    "- This project is aimed at predicting apartment prices in Mexico City with the aid of 14 features which includes surface_total_in_m2, lat-lon, price_per_m2 and rooms."
   ]
  },
  {
   "cell_type": "markdown",
   "id": "b65cdac1",
   "metadata": {},
   "source": [
    "## 2. Data Collection"
   ]
  },
  {
   "cell_type": "markdown",
   "id": "6d2e2b3c",
   "metadata": {},
   "source": [
    "### 2.1: Data Source and Description\n",
    "- Dataset Source - https://github.com/tuancompa2610/Predict-Mexico-House-Price\n",
    "- The data consists of of 5 comma seperated files which when combined results in 16 columns and 23,140 rows."
   ]
  },
  {
   "cell_type": "markdown",
   "id": "5b8d04ce",
   "metadata": {},
   "source": [
    "### 2.2: Import data and required packages"
   ]
  },
  {
   "cell_type": "code",
   "execution_count": 1,
   "id": "9c8d3714",
   "metadata": {},
   "outputs": [],
   "source": [
    "import warnings\n",
    "\n",
    "from glob import glob\n",
    "import matplotlib.pyplot as plt\n",
    "\n",
    "import numpy as np\n",
    "import pandas as pd\n",
    "import seaborn as sns\n",
    "import pickle\n",
    "import gzip\n",
    "from sklearn.impute import SimpleImputer\n",
    "from sklearn.preprocessing import StandardScaler\n",
    "from category_encoders import OrdinalEncoder\n",
    "from sklearn.compose import make_column_transformer\n",
    "from sklearn.pipeline import make_pipeline\n",
    "from sklearn.model_selection import train_test_split, GridSearchCV\n",
    "from sklearn.metrics import r2_score, mean_absolute_error, mean_squared_error\n",
    "from sklearn.neighbors import KNeighborsRegressor\n",
    "from sklearn.tree import DecisionTreeRegressor\n",
    "from sklearn.ensemble import RandomForestRegressor, AdaBoostRegressor\n",
    "from sklearn.linear_model import LinearRegression, Ridge, Lasso\n",
    "from catboost import CatBoostRegressor\n",
    "from xgboost import XGBRegressor\n",
    "\n",
    "warnings.simplefilter(action=\"ignore\", category=FutureWarning)\n",
    "warnings.filterwarnings('ignore')"
   ]
  },
  {
   "cell_type": "markdown",
   "id": "65f88ffd",
   "metadata": {},
   "source": [
    "### 2.3: Dataset information"
   ]
  },
  {
   "cell_type": "code",
   "execution_count": 2,
   "id": "29cfc916",
   "metadata": {},
   "outputs": [
    {
     "name": "stdout",
     "output_type": "stream",
     "text": [
      "Shape of df: (23140, 16)\n"
     ]
    },
    {
     "data": {
      "text/html": [
       "<div>\n",
       "<style scoped>\n",
       "    .dataframe tbody tr th:only-of-type {\n",
       "        vertical-align: middle;\n",
       "    }\n",
       "\n",
       "    .dataframe tbody tr th {\n",
       "        vertical-align: top;\n",
       "    }\n",
       "\n",
       "    .dataframe thead th {\n",
       "        text-align: right;\n",
       "    }\n",
       "</style>\n",
       "<table border=\"1\" class=\"dataframe\">\n",
       "  <thead>\n",
       "    <tr style=\"text-align: right;\">\n",
       "      <th></th>\n",
       "      <th>operation</th>\n",
       "      <th>property_type</th>\n",
       "      <th>place_with_parent_names</th>\n",
       "      <th>lat-lon</th>\n",
       "      <th>price</th>\n",
       "      <th>currency</th>\n",
       "      <th>price_aprox_local_currency</th>\n",
       "      <th>price_aprox_usd</th>\n",
       "      <th>surface_total_in_m2</th>\n",
       "      <th>surface_covered_in_m2</th>\n",
       "      <th>price_usd_per_m2</th>\n",
       "      <th>price_per_m2</th>\n",
       "      <th>floor</th>\n",
       "      <th>rooms</th>\n",
       "      <th>expenses</th>\n",
       "      <th>properati_url</th>\n",
       "    </tr>\n",
       "  </thead>\n",
       "  <tbody>\n",
       "    <tr>\n",
       "      <th>0</th>\n",
       "      <td>sell</td>\n",
       "      <td>apartment</td>\n",
       "      <td>|Miguel Hidalgo|Distrito Federal|México|</td>\n",
       "      <td>23.634501,-102.552788</td>\n",
       "      <td>5500000.0</td>\n",
       "      <td>MXN</td>\n",
       "      <td>5450245.50</td>\n",
       "      <td>289775.66</td>\n",
       "      <td>NaN</td>\n",
       "      <td>54.0</td>\n",
       "      <td>NaN</td>\n",
       "      <td>101851.851900</td>\n",
       "      <td>NaN</td>\n",
       "      <td>NaN</td>\n",
       "      <td>NaN</td>\n",
       "      <td>http://miguel-hidalgo-df.properati.com.mx/o3zb...</td>\n",
       "    </tr>\n",
       "    <tr>\n",
       "      <th>1</th>\n",
       "      <td>sell</td>\n",
       "      <td>house</td>\n",
       "      <td>|Iztapalapa|Distrito Federal|México|</td>\n",
       "      <td>19.31033,-99.068557</td>\n",
       "      <td>1512000.0</td>\n",
       "      <td>MXN</td>\n",
       "      <td>1498321.97</td>\n",
       "      <td>79661.96</td>\n",
       "      <td>NaN</td>\n",
       "      <td>80.0</td>\n",
       "      <td>NaN</td>\n",
       "      <td>18900.000000</td>\n",
       "      <td>NaN</td>\n",
       "      <td>NaN</td>\n",
       "      <td>NaN</td>\n",
       "      <td>http://iztapalapa.properati.com.mx/q7t0_venta_...</td>\n",
       "    </tr>\n",
       "    <tr>\n",
       "      <th>2</th>\n",
       "      <td>sell</td>\n",
       "      <td>apartment</td>\n",
       "      <td>|Tlalpan|Distrito Federal|México|</td>\n",
       "      <td>19.279771,-99.234597</td>\n",
       "      <td>926667.0</td>\n",
       "      <td>MXN</td>\n",
       "      <td>918284.00</td>\n",
       "      <td>48822.82</td>\n",
       "      <td>NaN</td>\n",
       "      <td>100.0</td>\n",
       "      <td>NaN</td>\n",
       "      <td>9266.670000</td>\n",
       "      <td>NaN</td>\n",
       "      <td>NaN</td>\n",
       "      <td>NaN</td>\n",
       "      <td>http://tlalpan.properati.com.mx/qbi4_venta_dep...</td>\n",
       "    </tr>\n",
       "    <tr>\n",
       "      <th>3</th>\n",
       "      <td>sell</td>\n",
       "      <td>apartment</td>\n",
       "      <td>|Miguel Hidalgo|Distrito Federal|México|</td>\n",
       "      <td>23.634501,-102.552788</td>\n",
       "      <td>6410000.0</td>\n",
       "      <td>MXN</td>\n",
       "      <td>6352013.39</td>\n",
       "      <td>337720.36</td>\n",
       "      <td>NaN</td>\n",
       "      <td>135.0</td>\n",
       "      <td>NaN</td>\n",
       "      <td>47481.481480</td>\n",
       "      <td>NaN</td>\n",
       "      <td>NaN</td>\n",
       "      <td>NaN</td>\n",
       "      <td>http://miguel-hidalgo-df.properati.com.mx/opeq...</td>\n",
       "    </tr>\n",
       "    <tr>\n",
       "      <th>4</th>\n",
       "      <td>sell</td>\n",
       "      <td>apartment</td>\n",
       "      <td>|Benito Juárez|Quintana Roo|México|</td>\n",
       "      <td>21.1902642,-86.8198375</td>\n",
       "      <td>875000.0</td>\n",
       "      <td>USD</td>\n",
       "      <td>16457437.50</td>\n",
       "      <td>875000.00</td>\n",
       "      <td>0.0</td>\n",
       "      <td>263.0</td>\n",
       "      <td>NaN</td>\n",
       "      <td>3326.996198</td>\n",
       "      <td>NaN</td>\n",
       "      <td>NaN</td>\n",
       "      <td>NaN</td>\n",
       "      <td>http://cancun.properati.com.mx/hg4t_venta_depa...</td>\n",
       "    </tr>\n",
       "  </tbody>\n",
       "</table>\n",
       "</div>"
      ],
      "text/plain": [
       "  operation property_type                   place_with_parent_names  \\\n",
       "0      sell     apartment  |Miguel Hidalgo|Distrito Federal|México|   \n",
       "1      sell         house      |Iztapalapa|Distrito Federal|México|   \n",
       "2      sell     apartment         |Tlalpan|Distrito Federal|México|   \n",
       "3      sell     apartment  |Miguel Hidalgo|Distrito Federal|México|   \n",
       "4      sell     apartment       |Benito Juárez|Quintana Roo|México|   \n",
       "\n",
       "                  lat-lon      price currency  price_aprox_local_currency  \\\n",
       "0   23.634501,-102.552788  5500000.0      MXN                  5450245.50   \n",
       "1     19.31033,-99.068557  1512000.0      MXN                  1498321.97   \n",
       "2    19.279771,-99.234597   926667.0      MXN                   918284.00   \n",
       "3   23.634501,-102.552788  6410000.0      MXN                  6352013.39   \n",
       "4  21.1902642,-86.8198375   875000.0      USD                 16457437.50   \n",
       "\n",
       "   price_aprox_usd  surface_total_in_m2  surface_covered_in_m2  \\\n",
       "0        289775.66                  NaN                   54.0   \n",
       "1         79661.96                  NaN                   80.0   \n",
       "2         48822.82                  NaN                  100.0   \n",
       "3        337720.36                  NaN                  135.0   \n",
       "4        875000.00                  0.0                  263.0   \n",
       "\n",
       "   price_usd_per_m2   price_per_m2  floor  rooms  expenses  \\\n",
       "0               NaN  101851.851900    NaN    NaN       NaN   \n",
       "1               NaN   18900.000000    NaN    NaN       NaN   \n",
       "2               NaN    9266.670000    NaN    NaN       NaN   \n",
       "3               NaN   47481.481480    NaN    NaN       NaN   \n",
       "4               NaN    3326.996198    NaN    NaN       NaN   \n",
       "\n",
       "                                       properati_url  \n",
       "0  http://miguel-hidalgo-df.properati.com.mx/o3zb...  \n",
       "1  http://iztapalapa.properati.com.mx/q7t0_venta_...  \n",
       "2  http://tlalpan.properati.com.mx/qbi4_venta_dep...  \n",
       "3  http://miguel-hidalgo-df.properati.com.mx/opeq...  \n",
       "4  http://cancun.properati.com.mx/hg4t_venta_depa...  "
      ]
     },
     "execution_count": 2,
     "metadata": {},
     "output_type": "execute_result"
    }
   ],
   "source": [
    "# Use glob to create a list of filenames for all the Mexico City real estate CSV files\n",
    "files = glob(\"./data/mexico-city-real-estate-[0-5].csv\")\n",
    "\n",
    "# Define function that takes a file path as an argument and returns a DataFrame\n",
    "def read(filepath):\n",
    "    df = pd.read_csv(filepath)\n",
    "    return df\n",
    "\n",
    "# Use function to create a list named frames\n",
    "frames = [read(path) for path in files]\n",
    "\n",
    "# Concatenate the items in frames into a single DataFrame df and reindex\n",
    "df = pd.concat(frames)\n",
    "\n",
    "print(\"Shape of df:\", df.shape)\n",
    "df.head()"
   ]
  },
  {
   "cell_type": "markdown",
   "id": "0f2efc04",
   "metadata": {},
   "source": [
    "### 2.4: Preprocess data"
   ]
  },
  {
   "cell_type": "code",
   "execution_count": 3,
   "id": "f83a97a0",
   "metadata": {},
   "outputs": [
    {
     "name": "stdout",
     "output_type": "stream",
     "text": [
      "df shape: (18942, 15)\n"
     ]
    }
   ],
   "source": [
    "# Extract \"borough\" and \"district\" from \"place_with_parent_names\"\n",
    "parent_names = df[\"place_with_parent_names\"].str.split(\"|\", expand=True)\n",
    "df[\"borough\"] = parent_names[1]\n",
    "df[\"district\"] = parent_names[2]\n",
    "df.drop(columns=\"place_with_parent_names\", inplace=True)\n",
    "\n",
    "# Include only properties in \"Distrito Federal\"\n",
    "df = df[df[\"district\"] == \"Distrito Federal\"]\n",
    "\n",
    "# Split \"lat-lon\" column\n",
    "df[[\"lat\", \"lon\"]] = df[\"lat-lon\"].str.split(\",\", expand=True).astype(float)\n",
    "df.drop(columns=\"lat-lon\", inplace=True) \n",
    "\n",
    "# Remove columns price, currency, price_aprox_local_currency\n",
    "df.drop(columns=['price', 'currency', 'price_aprox_local_currency'], inplace=True)\n",
    "\n",
    "print(\"df shape:\", df.shape)"
   ]
  },
  {
   "cell_type": "markdown",
   "id": "da267679",
   "metadata": {},
   "source": [
    "## 3. Data Checks"
   ]
  },
  {
   "cell_type": "markdown",
   "id": "a8759348",
   "metadata": {},
   "source": [
    "### 3.1: Check missing values"
   ]
  },
  {
   "cell_type": "code",
   "execution_count": 4,
   "id": "a833e683",
   "metadata": {},
   "outputs": [
    {
     "data": {
      "text/plain": [
       "operation                    0\n",
       "property_type                0\n",
       "price_aprox_usd            363\n",
       "surface_total_in_m2      13506\n",
       "surface_covered_in_m2      811\n",
       "price_usd_per_m2         15175\n",
       "price_per_m2              1366\n",
       "floor                    18304\n",
       "rooms                    18448\n",
       "expenses                 18931\n",
       "properati_url                0\n",
       "borough                      0\n",
       "district                     0\n",
       "lat                       1932\n",
       "lon                       1932\n",
       "dtype: int64"
      ]
     },
     "execution_count": 4,
     "metadata": {},
     "output_type": "execute_result"
    }
   ],
   "source": [
    "# Sum of all missing values\n",
    "df.isnull().sum()"
   ]
  },
  {
   "cell_type": "markdown",
   "id": "fcc416fb",
   "metadata": {},
   "source": [
    "### 3.2: Remove columns with high missing values"
   ]
  },
  {
   "cell_type": "code",
   "execution_count": 5,
   "id": "1f4b739b",
   "metadata": {},
   "outputs": [
    {
     "name": "stdout",
     "output_type": "stream",
     "text": [
      "['surface_total_in_m2', 'price_usd_per_m2', 'floor', 'rooms', 'expenses']\n"
     ]
    }
   ],
   "source": [
    "# Extract columns having missing values with more than halve the data\n",
    "col_miss = [col for col in df.columns if df[col].isnull().sum() > df.shape[0]/2]\n",
    "print(col_miss)"
   ]
  },
  {
   "cell_type": "code",
   "execution_count": 6,
   "id": "5609304d",
   "metadata": {},
   "outputs": [
    {
     "data": {
      "text/plain": [
       "Index(['operation', 'property_type', 'price_aprox_usd',\n",
       "       'surface_covered_in_m2', 'price_per_m2', 'properati_url', 'borough',\n",
       "       'district', 'lat', 'lon'],\n",
       "      dtype='object')"
      ]
     },
     "execution_count": 6,
     "metadata": {},
     "output_type": "execute_result"
    }
   ],
   "source": [
    "# Use col_miss to remove columns from df\n",
    "df.drop(columns=col_miss, inplace=True)\n",
    "df.columns"
   ]
  },
  {
   "cell_type": "code",
   "execution_count": 7,
   "id": "a287d0bc",
   "metadata": {},
   "outputs": [
    {
     "data": {
      "text/plain": [
       "operation                   0\n",
       "property_type               0\n",
       "price_aprox_usd           363\n",
       "surface_covered_in_m2     811\n",
       "price_per_m2             1366\n",
       "properati_url               0\n",
       "borough                     0\n",
       "district                    0\n",
       "lat                      1932\n",
       "lon                      1932\n",
       "dtype: int64"
      ]
     },
     "execution_count": 7,
     "metadata": {},
     "output_type": "execute_result"
    }
   ],
   "source": [
    "# Check missing values again\n",
    "df.isnull().sum()"
   ]
  },
  {
   "cell_type": "code",
   "execution_count": 8,
   "id": "b30132e7",
   "metadata": {},
   "outputs": [],
   "source": [
    "# Remove rows by using missing values in price_aprox_usd column\n",
    "df.dropna(subset=['price_aprox_usd'], inplace=True)"
   ]
  },
  {
   "cell_type": "code",
   "execution_count": 9,
   "id": "4ad7b778",
   "metadata": {},
   "outputs": [
    {
     "name": "stdout",
     "output_type": "stream",
     "text": [
      "operation                   0\n",
      "property_type               0\n",
      "price_aprox_usd             0\n",
      "surface_covered_in_m2     808\n",
      "price_per_m2             1003\n",
      "properati_url               0\n",
      "borough                     0\n",
      "district                    0\n",
      "lat                      1849\n",
      "lon                      1849\n",
      "dtype: int64\n"
     ]
    },
    {
     "data": {
      "text/plain": [
       "(18579, 10)"
      ]
     },
     "execution_count": 9,
     "metadata": {},
     "output_type": "execute_result"
    }
   ],
   "source": [
    "# Check missing values again\n",
    "print(df.isnull().sum())\n",
    "df.shape"
   ]
  },
  {
   "cell_type": "markdown",
   "id": "d9360839",
   "metadata": {},
   "source": [
    "### 3.3: Check duplicates"
   ]
  },
  {
   "cell_type": "code",
   "execution_count": 10,
   "id": "96754955",
   "metadata": {},
   "outputs": [
    {
     "data": {
      "text/plain": [
       "0"
      ]
     },
     "execution_count": 10,
     "metadata": {},
     "output_type": "execute_result"
    }
   ],
   "source": [
    "# Toal duplicates\n",
    "df.duplicated().sum()"
   ]
  },
  {
   "cell_type": "markdown",
   "id": "3548a92f",
   "metadata": {},
   "source": [
    "### There are no duplicates to remove"
   ]
  },
  {
   "cell_type": "markdown",
   "id": "7278695f",
   "metadata": {},
   "source": [
    "### 3.4: Check data types"
   ]
  },
  {
   "cell_type": "code",
   "execution_count": 11,
   "id": "6d7b4427",
   "metadata": {},
   "outputs": [
    {
     "name": "stdout",
     "output_type": "stream",
     "text": [
      "<class 'pandas.core.frame.DataFrame'>\n",
      "Index: 18579 entries, 0 to 4627\n",
      "Data columns (total 10 columns):\n",
      " #   Column                 Non-Null Count  Dtype  \n",
      "---  ------                 --------------  -----  \n",
      " 0   operation              18579 non-null  object \n",
      " 1   property_type          18579 non-null  object \n",
      " 2   price_aprox_usd        18579 non-null  float64\n",
      " 3   surface_covered_in_m2  17771 non-null  float64\n",
      " 4   price_per_m2           17576 non-null  float64\n",
      " 5   properati_url          18579 non-null  object \n",
      " 6   borough                18579 non-null  object \n",
      " 7   district               18579 non-null  object \n",
      " 8   lat                    16730 non-null  float64\n",
      " 9   lon                    16730 non-null  float64\n",
      "dtypes: float64(5), object(5)\n",
      "memory usage: 1.6+ MB\n"
     ]
    }
   ],
   "source": [
    "# Information of data types\n",
    "df.info()"
   ]
  },
  {
   "cell_type": "markdown",
   "id": "0534618d",
   "metadata": {},
   "source": [
    "### 3.5: Check unique values in object columns"
   ]
  },
  {
   "cell_type": "code",
   "execution_count": 12,
   "id": "07088420",
   "metadata": {},
   "outputs": [
    {
     "data": {
      "text/plain": [
       "operation            1\n",
       "property_type        4\n",
       "properati_url    18579\n",
       "borough             16\n",
       "district             1\n",
       "dtype: int64"
      ]
     },
     "execution_count": 12,
     "metadata": {},
     "output_type": "execute_result"
    }
   ],
   "source": [
    "# Define dataframe object columns\n",
    "obj_col = df.select_dtypes(exclude=\"number\").columns\n",
    "df[obj_col].nunique()"
   ]
  },
  {
   "cell_type": "markdown",
   "id": "894a99ea",
   "metadata": {},
   "source": [
    "### 3.6: Remove object columns with high dimensionality"
   ]
  },
  {
   "cell_type": "code",
   "execution_count": 13,
   "id": "e305b1d2",
   "metadata": {},
   "outputs": [
    {
     "name": "stdout",
     "output_type": "stream",
     "text": [
      "['operation', 'properati_url', 'district']\n"
     ]
    }
   ],
   "source": [
    "# Extract object columns with dimensionality not between 2 and 99\n",
    "col_dim = [col for col in obj_col if df[col].nunique() not in range(2,99)]\n",
    "print(col_dim)"
   ]
  },
  {
   "cell_type": "code",
   "execution_count": 14,
   "id": "40999eb4",
   "metadata": {},
   "outputs": [
    {
     "data": {
      "text/plain": [
       "(18579, 7)"
      ]
     },
     "execution_count": 14,
     "metadata": {},
     "output_type": "execute_result"
    }
   ],
   "source": [
    "# Remove high dimentionality columns from df\n",
    "df.drop(columns=col_dim, inplace=True)\n",
    "df.shape"
   ]
  },
  {
   "cell_type": "code",
   "execution_count": 15,
   "id": "389f90cc",
   "metadata": {},
   "outputs": [],
   "source": [
    "# Define fuction to keep object value_counts more than 20\n",
    "\n",
    "def keep_value(df_in, col_name): \n",
    "    \n",
    "    # Explore the borough column\n",
    "    col_count = df_in[col_name].value_counts()\n",
    "\n",
    "    # Extract the index of borough_count \n",
    "    col_ind = col_count.index\n",
    "\n",
    "    # Create zip object with borough_ind and borough_count\n",
    "    zipper = list(zip(col_ind, col_count))\n",
    "\n",
    "    # Subset borough values more than 20\n",
    "    col_less = [val[0] for val in zipper if val[1] > 20]\n",
    "\n",
    "    # get new df with borough_less\n",
    "    df_out = df_in[df_in[col_name].isin(col_less)]\n",
    "    \n",
    "    return df_out"
   ]
  },
  {
   "cell_type": "code",
   "execution_count": 16,
   "id": "dc12ac13",
   "metadata": {},
   "outputs": [
    {
     "data": {
      "text/plain": [
       "(18577, 7)"
      ]
     },
     "execution_count": 16,
     "metadata": {},
     "output_type": "execute_result"
    }
   ],
   "source": [
    "# Keep value_counts of 'borough' more than 20\n",
    "df = keep_value(df, 'borough')\n",
    "df.shape"
   ]
  },
  {
   "cell_type": "code",
   "execution_count": 17,
   "id": "585a449c",
   "metadata": {},
   "outputs": [
    {
     "data": {
      "text/plain": [
       "(18563, 7)"
      ]
     },
     "execution_count": 17,
     "metadata": {},
     "output_type": "execute_result"
    }
   ],
   "source": [
    "# Keep value_counts of 'property_type' more than 20\n",
    "df = keep_value(df, 'property_type')\n",
    "df.shape"
   ]
  },
  {
   "cell_type": "markdown",
   "id": "f5675a8f",
   "metadata": {},
   "source": [
    "### 3.7: Check statistics"
   ]
  },
  {
   "cell_type": "code",
   "execution_count": 18,
   "id": "5e3ed1c4",
   "metadata": {},
   "outputs": [
    {
     "data": {
      "text/html": [
       "<div>\n",
       "<style scoped>\n",
       "    .dataframe tbody tr th:only-of-type {\n",
       "        vertical-align: middle;\n",
       "    }\n",
       "\n",
       "    .dataframe tbody tr th {\n",
       "        vertical-align: top;\n",
       "    }\n",
       "\n",
       "    .dataframe thead th {\n",
       "        text-align: right;\n",
       "    }\n",
       "</style>\n",
       "<table border=\"1\" class=\"dataframe\">\n",
       "  <thead>\n",
       "    <tr style=\"text-align: right;\">\n",
       "      <th></th>\n",
       "      <th>price_aprox_usd</th>\n",
       "      <th>surface_covered_in_m2</th>\n",
       "      <th>price_per_m2</th>\n",
       "      <th>lat</th>\n",
       "      <th>lon</th>\n",
       "    </tr>\n",
       "  </thead>\n",
       "  <tbody>\n",
       "    <tr>\n",
       "      <th>count</th>\n",
       "      <td>18563.0</td>\n",
       "      <td>17769.0</td>\n",
       "      <td>17574.0</td>\n",
       "      <td>16715.0</td>\n",
       "      <td>16715.0</td>\n",
       "    </tr>\n",
       "    <tr>\n",
       "      <th>mean</th>\n",
       "      <td>271767.3</td>\n",
       "      <td>4136.0</td>\n",
       "      <td>24308.6</td>\n",
       "      <td>19.5</td>\n",
       "      <td>-99.2</td>\n",
       "    </tr>\n",
       "    <tr>\n",
       "      <th>std</th>\n",
       "      <td>513897.1</td>\n",
       "      <td>493603.1</td>\n",
       "      <td>40706.7</td>\n",
       "      <td>0.6</td>\n",
       "      <td>0.5</td>\n",
       "    </tr>\n",
       "    <tr>\n",
       "      <th>min</th>\n",
       "      <td>5796.9</td>\n",
       "      <td>0.0</td>\n",
       "      <td>0.0</td>\n",
       "      <td>19.2</td>\n",
       "      <td>-102.6</td>\n",
       "    </tr>\n",
       "    <tr>\n",
       "      <th>25%</th>\n",
       "      <td>59040.4</td>\n",
       "      <td>65.0</td>\n",
       "      <td>11444.4</td>\n",
       "      <td>19.3</td>\n",
       "      <td>-99.2</td>\n",
       "    </tr>\n",
       "    <tr>\n",
       "      <th>50%</th>\n",
       "      <td>120652.0</td>\n",
       "      <td>91.0</td>\n",
       "      <td>18488.4</td>\n",
       "      <td>19.4</td>\n",
       "      <td>-99.2</td>\n",
       "    </tr>\n",
       "    <tr>\n",
       "      <th>75%</th>\n",
       "      <td>252419.7</td>\n",
       "      <td>200.0</td>\n",
       "      <td>32209.5</td>\n",
       "      <td>19.4</td>\n",
       "      <td>-99.1</td>\n",
       "    </tr>\n",
       "    <tr>\n",
       "      <th>max</th>\n",
       "      <td>17890000.0</td>\n",
       "      <td>65748000.0</td>\n",
       "      <td>3338952.9</td>\n",
       "      <td>41.6</td>\n",
       "      <td>-90.5</td>\n",
       "    </tr>\n",
       "  </tbody>\n",
       "</table>\n",
       "</div>"
      ],
      "text/plain": [
       "       price_aprox_usd  surface_covered_in_m2  price_per_m2      lat      lon\n",
       "count          18563.0                17769.0       17574.0  16715.0  16715.0\n",
       "mean          271767.3                 4136.0       24308.6     19.5    -99.2\n",
       "std           513897.1               493603.1       40706.7      0.6      0.5\n",
       "min             5796.9                    0.0           0.0     19.2   -102.6\n",
       "25%            59040.4                   65.0       11444.4     19.3    -99.2\n",
       "50%           120652.0                   91.0       18488.4     19.4    -99.2\n",
       "75%           252419.7                  200.0       32209.5     19.4    -99.1\n",
       "max         17890000.0             65748000.0     3338952.9     41.6    -90.5"
      ]
     },
     "execution_count": 18,
     "metadata": {},
     "output_type": "execute_result"
    }
   ],
   "source": [
    "# Get the description of the dataframe\n",
    "num_col = df.select_dtypes(include=\"number\").columns\n",
    "df[num_col].describe().round(1)"
   ]
  },
  {
   "cell_type": "markdown",
   "id": "ee8dc097",
   "metadata": {},
   "source": [
    "### 3.8: Check correletion"
   ]
  },
  {
   "cell_type": "code",
   "execution_count": 19,
   "id": "c5c1b763",
   "metadata": {},
   "outputs": [
    {
     "data": {
      "text/html": [
       "<div>\n",
       "<style scoped>\n",
       "    .dataframe tbody tr th:only-of-type {\n",
       "        vertical-align: middle;\n",
       "    }\n",
       "\n",
       "    .dataframe tbody tr th {\n",
       "        vertical-align: top;\n",
       "    }\n",
       "\n",
       "    .dataframe thead th {\n",
       "        text-align: right;\n",
       "    }\n",
       "</style>\n",
       "<table border=\"1\" class=\"dataframe\">\n",
       "  <thead>\n",
       "    <tr style=\"text-align: right;\">\n",
       "      <th></th>\n",
       "      <th>surface_covered_in_m2</th>\n",
       "      <th>price_per_m2</th>\n",
       "      <th>lat</th>\n",
       "      <th>lon</th>\n",
       "    </tr>\n",
       "  </thead>\n",
       "  <tbody>\n",
       "    <tr>\n",
       "      <th>surface_covered_in_m2</th>\n",
       "      <td>1.000000</td>\n",
       "      <td>-0.004856</td>\n",
       "      <td>-0.001787</td>\n",
       "      <td>0.002450</td>\n",
       "    </tr>\n",
       "    <tr>\n",
       "      <th>price_per_m2</th>\n",
       "      <td>-0.004856</td>\n",
       "      <td>1.000000</td>\n",
       "      <td>0.053367</td>\n",
       "      <td>-0.049915</td>\n",
       "    </tr>\n",
       "    <tr>\n",
       "      <th>lat</th>\n",
       "      <td>-0.001787</td>\n",
       "      <td>0.053367</td>\n",
       "      <td>1.000000</td>\n",
       "      <td>-0.891294</td>\n",
       "    </tr>\n",
       "    <tr>\n",
       "      <th>lon</th>\n",
       "      <td>0.002450</td>\n",
       "      <td>-0.049915</td>\n",
       "      <td>-0.891294</td>\n",
       "      <td>1.000000</td>\n",
       "    </tr>\n",
       "  </tbody>\n",
       "</table>\n",
       "</div>"
      ],
      "text/plain": [
       "                       surface_covered_in_m2  price_per_m2       lat       lon\n",
       "surface_covered_in_m2               1.000000     -0.004856 -0.001787  0.002450\n",
       "price_per_m2                       -0.004856      1.000000  0.053367 -0.049915\n",
       "lat                                -0.001787      0.053367  1.000000 -0.891294\n",
       "lon                                 0.002450     -0.049915 -0.891294  1.000000"
      ]
     },
     "execution_count": 19,
     "metadata": {},
     "output_type": "execute_result"
    }
   ],
   "source": [
    "corr = df[num_col].drop(columns=\"price_aprox_usd\").corr()\n",
    "corr"
   ]
  },
  {
   "cell_type": "markdown",
   "id": "58207248",
   "metadata": {},
   "source": [
    "### 3.9: Draw the correlation heatmap"
   ]
  },
  {
   "cell_type": "code",
   "execution_count": 20,
   "id": "a576b5f1",
   "metadata": {},
   "outputs": [
    {
     "data": {
      "image/png": "[encoded data removed]",
      "text/plain": [
       "<Figure size 640x480 with 2 Axes>"
      ]
     },
     "metadata": {},
     "output_type": "display_data"
    }
   ],
   "source": [
    "sns.heatmap(corr, cmap='Blues', annot=True);"
   ]
  },
  {
   "cell_type": "markdown",
   "id": "0427c0e0",
   "metadata": {},
   "source": [
    "### There are no colinear columns"
   ]
  },
  {
   "cell_type": "markdown",
   "id": "2dd23742",
   "metadata": {},
   "source": [
    "### 3.8: Check outliers"
   ]
  },
  {
   "cell_type": "code",
   "execution_count": 21,
   "id": "76203278",
   "metadata": {},
   "outputs": [
    {
     "data": {
      "image/png": "[encoded data removed]",
      "text/plain": [
       "<Figure size 1200x600 with 1 Axes>"
      ]
     },
     "metadata": {},
     "output_type": "display_data"
    }
   ],
   "source": [
    "# Create box plot for the numerical columns\n",
    "plt.figure(figsize=(12, 6))\n",
    "plt.xticks(rotation=45)\n",
    "plt.title('Outliers')\n",
    "sns.boxplot(data=df);"
   ]
  },
  {
   "cell_type": "markdown",
   "id": "f4a1939d",
   "metadata": {},
   "source": [
    "### 3.9 Remove outliers"
   ]
  },
  {
   "cell_type": "code",
   "execution_count": 22,
   "id": "3efe4585",
   "metadata": {},
   "outputs": [],
   "source": [
    "# Function to remove_outlier\n",
    "def remove_outlier(df_in, col_name):\n",
    "    q1 = df_in[col_name].quantile(0.25)\n",
    "    q3 = df_in[col_name].quantile(0.75)\n",
    "    iqr = q3 - q1\n",
    "    lower  = q1 - (1.5 * iqr)\n",
    "    upper = q3 + (1.5 * iqr)\n",
    "    df_remove = df_in[~((df_in[col_name] < lower) | (df_in[col_name] > upper))]\n",
    "    return df_remove\n",
    "\n",
    "# Function to get_outlier\n",
    "def extract_outlier(df_in, col_name):\n",
    "    q1 = df_in[col_name].quantile(0.25)\n",
    "    q3 = df_in[col_name].quantile(0.75)\n",
    "    iqr = q3 - q1\n",
    "    lower  = q1 - (1.5 * iqr)\n",
    "    upper = q3 + (1.5 * iqr)\n",
    "    df_extract = df_in[((df_in[col_name] < lower) | (df_in[col_name] > upper))]\n",
    "    return df_extract\n",
    "\n",
    "# Function to replace_outlier with NaN\n",
    "def nan_outlier(df_in, col_name):\n",
    "    q1 = df_in[col_name].quantile(0.25)\n",
    "    q3 = df_in[col_name].quantile(0.75)\n",
    "    iqr = q3 - q1\n",
    "    lower  = q1 - (1.5 * iqr)\n",
    "    upper = q3 + (1.5 * iqr)\n",
    "    df_nan = df_in.replace(((df_in[col_name] < lower) | (df_in[col_name] > upper)), np.nan)\n",
    "    return df_nan\n",
    "\n",
    "# Function to replace_outlier with median\n",
    "def median_outlier(df_in, col_name):\n",
    "    q1 = df_in[col_name].quantile(0.25)\n",
    "    q3 = df_in[col_name].quantile(0.75)\n",
    "    iqr = q3 - q1\n",
    "    lower  = q1 - (1.5 * iqr)\n",
    "    upper = q3 + (1.5 * iqr)\n",
    "    df_median = df_in.replace(((df_in[col_name] < lower) | (df_in[col_name] > upper)), df_in[col_name].median())\n",
    "    return df_median"
   ]
  },
  {
   "cell_type": "code",
   "execution_count": 23,
   "id": "0303875f",
   "metadata": {},
   "outputs": [
    {
     "name": "stdout",
     "output_type": "stream",
     "text": [
      "(16426, 7)\n"
     ]
    },
    {
     "data": {
      "text/html": [
       "<div>\n",
       "<style scoped>\n",
       "    .dataframe tbody tr th:only-of-type {\n",
       "        vertical-align: middle;\n",
       "    }\n",
       "\n",
       "    .dataframe tbody tr th {\n",
       "        vertical-align: top;\n",
       "    }\n",
       "\n",
       "    .dataframe thead th {\n",
       "        text-align: right;\n",
       "    }\n",
       "</style>\n",
       "<table border=\"1\" class=\"dataframe\">\n",
       "  <thead>\n",
       "    <tr style=\"text-align: right;\">\n",
       "      <th></th>\n",
       "      <th>property_type</th>\n",
       "      <th>price_aprox_usd</th>\n",
       "      <th>surface_covered_in_m2</th>\n",
       "      <th>price_per_m2</th>\n",
       "      <th>borough</th>\n",
       "      <th>lat</th>\n",
       "      <th>lon</th>\n",
       "    </tr>\n",
       "  </thead>\n",
       "  <tbody>\n",
       "    <tr>\n",
       "      <th>0</th>\n",
       "      <td>apartment</td>\n",
       "      <td>289775.66</td>\n",
       "      <td>54.0</td>\n",
       "      <td>101851.85190</td>\n",
       "      <td>Miguel Hidalgo</td>\n",
       "      <td>23.634501</td>\n",
       "      <td>-102.552788</td>\n",
       "    </tr>\n",
       "    <tr>\n",
       "      <th>1</th>\n",
       "      <td>house</td>\n",
       "      <td>79661.96</td>\n",
       "      <td>80.0</td>\n",
       "      <td>18900.00000</td>\n",
       "      <td>Iztapalapa</td>\n",
       "      <td>19.310330</td>\n",
       "      <td>-99.068557</td>\n",
       "    </tr>\n",
       "    <tr>\n",
       "      <th>2</th>\n",
       "      <td>apartment</td>\n",
       "      <td>48822.82</td>\n",
       "      <td>100.0</td>\n",
       "      <td>9266.67000</td>\n",
       "      <td>Tlalpan</td>\n",
       "      <td>19.279771</td>\n",
       "      <td>-99.234597</td>\n",
       "    </tr>\n",
       "    <tr>\n",
       "      <th>3</th>\n",
       "      <td>apartment</td>\n",
       "      <td>337720.36</td>\n",
       "      <td>135.0</td>\n",
       "      <td>47481.48148</td>\n",
       "      <td>Miguel Hidalgo</td>\n",
       "      <td>23.634501</td>\n",
       "      <td>-102.552788</td>\n",
       "    </tr>\n",
       "    <tr>\n",
       "      <th>5</th>\n",
       "      <td>apartment</td>\n",
       "      <td>232663.51</td>\n",
       "      <td>87.0</td>\n",
       "      <td>50758.62069</td>\n",
       "      <td>Miguel Hidalgo</td>\n",
       "      <td>19.432657</td>\n",
       "      <td>-99.177444</td>\n",
       "    </tr>\n",
       "  </tbody>\n",
       "</table>\n",
       "</div>"
      ],
      "text/plain": [
       "  property_type  price_aprox_usd  surface_covered_in_m2  price_per_m2  \\\n",
       "0     apartment        289775.66                   54.0  101851.85190   \n",
       "1         house         79661.96                   80.0   18900.00000   \n",
       "2     apartment         48822.82                  100.0    9266.67000   \n",
       "3     apartment        337720.36                  135.0   47481.48148   \n",
       "5     apartment        232663.51                   87.0   50758.62069   \n",
       "\n",
       "          borough        lat         lon  \n",
       "0  Miguel Hidalgo  23.634501 -102.552788  \n",
       "1      Iztapalapa  19.310330  -99.068557  \n",
       "2         Tlalpan  19.279771  -99.234597  \n",
       "3  Miguel Hidalgo  23.634501 -102.552788  \n",
       "5  Miguel Hidalgo  19.432657  -99.177444  "
      ]
     },
     "execution_count": 23,
     "metadata": {},
     "output_type": "execute_result"
    }
   ],
   "source": [
    "# Remove rows using outliers in price_aprox_usd column\n",
    "df = remove_outlier(df, 'price_aprox_usd')\n",
    "print(df.shape)\n",
    "df.head()"
   ]
  },
  {
   "cell_type": "code",
   "execution_count": 24,
   "id": "aaf3f776",
   "metadata": {},
   "outputs": [
    {
     "data": {
      "image/png": "[encoded data removed]",
      "text/plain": [
       "<Figure size 600x300 with 1 Axes>"
      ]
     },
     "metadata": {},
     "output_type": "display_data"
    }
   ],
   "source": [
    "# Create box plot for the numerical price_aprox_usd\n",
    "plt.figure(figsize=(6, 3))\n",
    "plt.xticks(rotation=45)\n",
    "plt.title('price_aprox_usd')\n",
    "sns.boxplot(x=df['price_aprox_usd']);"
   ]
  },
  {
   "cell_type": "markdown",
   "id": "e2d1a67f",
   "metadata": {},
   "source": [
    "### 3.10: Rearrange columms in df"
   ]
  },
  {
   "cell_type": "code",
   "execution_count": 25,
   "id": "07619224",
   "metadata": {},
   "outputs": [
    {
     "data": {
      "text/plain": [
       "['property_type', 'borough']"
      ]
     },
     "execution_count": 25,
     "metadata": {},
     "output_type": "execute_result"
    }
   ],
   "source": [
    "# Define object columns\n",
    "df_obj = df.select_dtypes(exclude=\"number\").columns.to_list()\n",
    "df_obj"
   ]
  },
  {
   "cell_type": "code",
   "execution_count": 26,
   "id": "db5d5866",
   "metadata": {},
   "outputs": [
    {
     "data": {
      "text/plain": [
       "['price_aprox_usd', 'surface_covered_in_m2', 'price_per_m2', 'lat', 'lon']"
      ]
     },
     "execution_count": 26,
     "metadata": {},
     "output_type": "execute_result"
    }
   ],
   "source": [
    "# Define number columns\n",
    "df_num = df.select_dtypes(include=\"number\").columns.to_list()\n",
    "df_num"
   ]
  },
  {
   "cell_type": "code",
   "execution_count": 27,
   "id": "cd0b6c0d",
   "metadata": {},
   "outputs": [
    {
     "name": "stdout",
     "output_type": "stream",
     "text": [
      "(16426, 7)\n"
     ]
    },
    {
     "data": {
      "text/html": [
       "<div>\n",
       "<style scoped>\n",
       "    .dataframe tbody tr th:only-of-type {\n",
       "        vertical-align: middle;\n",
       "    }\n",
       "\n",
       "    .dataframe tbody tr th {\n",
       "        vertical-align: top;\n",
       "    }\n",
       "\n",
       "    .dataframe thead th {\n",
       "        text-align: right;\n",
       "    }\n",
       "</style>\n",
       "<table border=\"1\" class=\"dataframe\">\n",
       "  <thead>\n",
       "    <tr style=\"text-align: right;\">\n",
       "      <th></th>\n",
       "      <th>property_type</th>\n",
       "      <th>borough</th>\n",
       "      <th>surface_covered_in_m2</th>\n",
       "      <th>price_per_m2</th>\n",
       "      <th>lat</th>\n",
       "      <th>lon</th>\n",
       "      <th>price_aprox_usd</th>\n",
       "    </tr>\n",
       "  </thead>\n",
       "  <tbody>\n",
       "    <tr>\n",
       "      <th>0</th>\n",
       "      <td>apartment</td>\n",
       "      <td>Miguel Hidalgo</td>\n",
       "      <td>54.0</td>\n",
       "      <td>101851.85190</td>\n",
       "      <td>23.634501</td>\n",
       "      <td>-102.552788</td>\n",
       "      <td>289775.66</td>\n",
       "    </tr>\n",
       "    <tr>\n",
       "      <th>1</th>\n",
       "      <td>house</td>\n",
       "      <td>Iztapalapa</td>\n",
       "      <td>80.0</td>\n",
       "      <td>18900.00000</td>\n",
       "      <td>19.310330</td>\n",
       "      <td>-99.068557</td>\n",
       "      <td>79661.96</td>\n",
       "    </tr>\n",
       "    <tr>\n",
       "      <th>2</th>\n",
       "      <td>apartment</td>\n",
       "      <td>Tlalpan</td>\n",
       "      <td>100.0</td>\n",
       "      <td>9266.67000</td>\n",
       "      <td>19.279771</td>\n",
       "      <td>-99.234597</td>\n",
       "      <td>48822.82</td>\n",
       "    </tr>\n",
       "    <tr>\n",
       "      <th>3</th>\n",
       "      <td>apartment</td>\n",
       "      <td>Miguel Hidalgo</td>\n",
       "      <td>135.0</td>\n",
       "      <td>47481.48148</td>\n",
       "      <td>23.634501</td>\n",
       "      <td>-102.552788</td>\n",
       "      <td>337720.36</td>\n",
       "    </tr>\n",
       "    <tr>\n",
       "      <th>5</th>\n",
       "      <td>apartment</td>\n",
       "      <td>Miguel Hidalgo</td>\n",
       "      <td>87.0</td>\n",
       "      <td>50758.62069</td>\n",
       "      <td>19.432657</td>\n",
       "      <td>-99.177444</td>\n",
       "      <td>232663.51</td>\n",
       "    </tr>\n",
       "  </tbody>\n",
       "</table>\n",
       "</div>"
      ],
      "text/plain": [
       "  property_type         borough  surface_covered_in_m2  price_per_m2  \\\n",
       "0     apartment  Miguel Hidalgo                   54.0  101851.85190   \n",
       "1         house      Iztapalapa                   80.0   18900.00000   \n",
       "2     apartment         Tlalpan                  100.0    9266.67000   \n",
       "3     apartment  Miguel Hidalgo                  135.0   47481.48148   \n",
       "5     apartment  Miguel Hidalgo                   87.0   50758.62069   \n",
       "\n",
       "         lat         lon  price_aprox_usd  \n",
       "0  23.634501 -102.552788        289775.66  \n",
       "1  19.310330  -99.068557         79661.96  \n",
       "2  19.279771  -99.234597         48822.82  \n",
       "3  23.634501 -102.552788        337720.36  \n",
       "5  19.432657  -99.177444        232663.51  "
      ]
     },
     "execution_count": 27,
     "metadata": {},
     "output_type": "execute_result"
    }
   ],
   "source": [
    "# Rearrange df with object columns coming first\n",
    "df = df[['property_type', 'borough', 'surface_covered_in_m2', 'price_per_m2', 'lat', 'lon', 'price_aprox_usd']]\n",
    "print(df.shape)\n",
    "df.head()"
   ]
  },
  {
   "cell_type": "code",
   "execution_count": 28,
   "id": "890bdbbf",
   "metadata": {},
   "outputs": [
    {
     "data": {
      "image/png": "[encoded data removed]",
      "text/plain": [
       "<Figure size 640x480 with 1 Axes>"
      ]
     },
     "metadata": {},
     "output_type": "display_data"
    }
   ],
   "source": [
    "# Plot distribution of price\n",
    "plt.hist(df[\"price_aprox_usd\"])\n",
    "plt.title(\"Distribution of Apartment Prices\")\n",
    "plt.xlabel(\"Area [sq meters]\")\n",
    "plt.ylabel(\"Count\");"
   ]
  },
  {
   "cell_type": "code",
   "execution_count": 29,
   "id": "f639a3b7",
   "metadata": {},
   "outputs": [
    {
     "data": {
      "image/png": "[encoded data removed]",
      "text/plain": [
       "<Figure size 640x480 with 1 Axes>"
      ]
     },
     "metadata": {},
     "output_type": "display_data"
    }
   ],
   "source": [
    "# Plot price vs area\n",
    "plt.scatter(df[\"surface_covered_in_m2\"], df[\"price_aprox_usd\"])\n",
    "plt.xlabel(\"Area [sq meters]\")\n",
    "plt.ylabel(\"Price [USD]\")\n",
    "plt.title(\"Mexico City: Price vs. Area\");"
   ]
  },
  {
   "cell_type": "markdown",
   "id": "1b1ebd1d",
   "metadata": {},
   "source": [
    "### 3.11: Evaluate model with outlier removal and outlier substitution"
   ]
  },
  {
   "cell_type": "code",
   "execution_count": 30,
   "id": "34e70af6",
   "metadata": {},
   "outputs": [],
   "source": [
    "# Define columns with outliers\n",
    "out_col = ['surface_covered_in_m2', 'price_per_m2', 'lat', 'lon']"
   ]
  },
  {
   "cell_type": "code",
   "execution_count": 31,
   "id": "bd364c5c",
   "metadata": {},
   "outputs": [
    {
     "name": "stdout",
     "output_type": "stream",
     "text": [
      "Percent of outliers = 5%\n"
     ]
    }
   ],
   "source": [
    "# Calculate total outliers\n",
    "for col in out_col:\n",
    "    df_ex = extract_outlier(df, col)\n",
    "    \n",
    "print('Percent of outliers = ' + str(round(df_ex.shape[0]*100/16437)) + '%')"
   ]
  },
  {
   "cell_type": "markdown",
   "id": "93b3d44c",
   "metadata": {},
   "source": [
    "## 4. Train model"
   ]
  },
  {
   "cell_type": "markdown",
   "id": "19ebb24a",
   "metadata": {},
   "source": [
    "### 4.1: Function to train model"
   ]
  },
  {
   "cell_type": "code",
   "execution_count": 32,
   "id": "37b39bd4",
   "metadata": {},
   "outputs": [],
   "source": [
    "# Create function that trains df\n",
    "\n",
    "def train_df(df):\n",
    "    \n",
    "    # Prepare X and Y variables\n",
    "    X = df.drop(columns=['price_aprox_usd'], axis=1)\n",
    "    y = df['price_aprox_usd']\n",
    "\n",
    "    # Subset categorical and numerical columns\n",
    "    num_features = X.select_dtypes(include=\"number\").columns.to_list()\n",
    "    cat_features = X.select_dtypes(exclude=\"number\").columns.to_list()\n",
    "\n",
    "    # Create the preprocessor.\n",
    "    num_pipeline = make_pipeline(SimpleImputer(strategy=\"median\"), StandardScaler())\n",
    "    cat_pipeline = make_pipeline(SimpleImputer(strategy=\"most_frequent\"), OrdinalEncoder())\n",
    "\n",
    "    preprocessor = make_column_transformer(\n",
    "        (num_pipeline, num_features),\n",
    "        (cat_pipeline, cat_features)\n",
    "    )\n",
    "\n",
    "    # Separate dataset into train and test\n",
    "    X_train, X_test, y_train, y_test = train_test_split(X, y, test_size=0.2, random_state=42)\n",
    "\n",
    "    # Create function to give all metrics after model rraining\n",
    "    def evaluate_model(true, predicted):\n",
    "        mae = mean_absolute_error(true, predicted)\n",
    "        mse = mean_squared_error(true, predicted)\n",
    "        rmse = np.sqrt(mean_squared_error(true, predicted))\n",
    "        r2_square = r2_score(true, predicted)\n",
    "        return mae, rmse, r2_square\n",
    "\n",
    "    # Use function to evaluate models\n",
    "    models = {\n",
    "        \"Linear Regression\": LinearRegression(),\n",
    "        \"Lasso\": Lasso(),\n",
    "        \"Ridge\": Ridge(),\n",
    "        \"K-Neighbors Regressor\": KNeighborsRegressor(),\n",
    "        \"Decision Tree\": DecisionTreeRegressor(),\n",
    "        \"Random Forest Regressor\": RandomForestRegressor(),\n",
    "        \"XGBRegressor\": XGBRegressor(), \n",
    "        \"CatBoosting Regressor\": CatBoostRegressor(verbose=False),\n",
    "        \"AdaBoost Regressor\": AdaBoostRegressor()\n",
    "    }\n",
    "\n",
    "    # Create model and r2_square empty lists\n",
    "    model_list = []\n",
    "    r2_list = []\n",
    "\n",
    "    # Run the models\n",
    "    for i in range(len(list(models))):\n",
    "        selected = list(models.values())[i]\n",
    "        model = make_pipeline(preprocessor, selected)\n",
    "        model.fit(X_train, y_train) # Train model\n",
    "\n",
    "        # Make predictions\n",
    "        y_train_pred = model.predict(X_train)\n",
    "        y_test_pred = model.predict(X_test)\n",
    "\n",
    "        # Evaluate Train and Test dataset\n",
    "        model_train_mae , model_train_rmse, model_train_r2 = evaluate_model(y_train, y_train_pred)\n",
    "        model_test_mae , model_test_rmse, model_test_r2 = evaluate_model(y_test, y_test_pred)\n",
    "        \n",
    "        # Append to model and r2_square empty lists\n",
    "        model_list.append(list(models.keys())[i])\n",
    "        r2_list.append(model_test_r2)\n",
    "\n",
    "    # Create a dataframe of the results\n",
    "    df_result = pd.DataFrame(list(zip(model_list, r2_list)), \\\n",
    "                             columns=['Model Name', 'R2_Score']).\\\n",
    "                             sort_values(by=[\"R2_Score\"],ascending=False)\n",
    "\n",
    "    return df_result"
   ]
  },
  {
   "cell_type": "markdown",
   "id": "faed4194",
   "metadata": {},
   "source": [
    "### 4.2: Evalutate trained model"
   ]
  },
  {
   "cell_type": "code",
   "execution_count": 33,
   "id": "9c2b7a92",
   "metadata": {},
   "outputs": [
    {
     "data": {
      "text/html": [
       "<div>\n",
       "<style scoped>\n",
       "    .dataframe tbody tr th:only-of-type {\n",
       "        vertical-align: middle;\n",
       "    }\n",
       "\n",
       "    .dataframe tbody tr th {\n",
       "        vertical-align: top;\n",
       "    }\n",
       "\n",
       "    .dataframe thead th {\n",
       "        text-align: right;\n",
       "    }\n",
       "</style>\n",
       "<table border=\"1\" class=\"dataframe\">\n",
       "  <thead>\n",
       "    <tr style=\"text-align: right;\">\n",
       "      <th></th>\n",
       "      <th>Model Name</th>\n",
       "      <th>R2_Score</th>\n",
       "    </tr>\n",
       "  </thead>\n",
       "  <tbody>\n",
       "    <tr>\n",
       "      <th>5</th>\n",
       "      <td>Random Forest Regressor</td>\n",
       "      <td>0.969936</td>\n",
       "    </tr>\n",
       "    <tr>\n",
       "      <th>7</th>\n",
       "      <td>CatBoosting Regressor</td>\n",
       "      <td>0.967547</td>\n",
       "    </tr>\n",
       "    <tr>\n",
       "      <th>6</th>\n",
       "      <td>XGBRegressor</td>\n",
       "      <td>0.963092</td>\n",
       "    </tr>\n",
       "    <tr>\n",
       "      <th>4</th>\n",
       "      <td>Decision Tree</td>\n",
       "      <td>0.962439</td>\n",
       "    </tr>\n",
       "    <tr>\n",
       "      <th>3</th>\n",
       "      <td>K-Neighbors Regressor</td>\n",
       "      <td>0.633574</td>\n",
       "    </tr>\n",
       "    <tr>\n",
       "      <th>8</th>\n",
       "      <td>AdaBoost Regressor</td>\n",
       "      <td>0.582817</td>\n",
       "    </tr>\n",
       "    <tr>\n",
       "      <th>0</th>\n",
       "      <td>Linear Regression</td>\n",
       "      <td>0.350408</td>\n",
       "    </tr>\n",
       "    <tr>\n",
       "      <th>1</th>\n",
       "      <td>Lasso</td>\n",
       "      <td>0.350404</td>\n",
       "    </tr>\n",
       "    <tr>\n",
       "      <th>2</th>\n",
       "      <td>Ridge</td>\n",
       "      <td>0.350390</td>\n",
       "    </tr>\n",
       "  </tbody>\n",
       "</table>\n",
       "</div>"
      ],
      "text/plain": [
       "                Model Name  R2_Score\n",
       "5  Random Forest Regressor  0.969936\n",
       "7    CatBoosting Regressor  0.967547\n",
       "6             XGBRegressor  0.963092\n",
       "4            Decision Tree  0.962439\n",
       "3    K-Neighbors Regressor  0.633574\n",
       "8       AdaBoost Regressor  0.582817\n",
       "0        Linear Regression  0.350408\n",
       "1                    Lasso  0.350404\n",
       "2                    Ridge  0.350390"
      ]
     },
     "execution_count": 33,
     "metadata": {},
     "output_type": "execute_result"
    }
   ],
   "source": [
    "# Remove outliers from df\n",
    "for col in out_col:\n",
    "    df_rem = remove_outlier(df, col).reset_index(drop=True)\n",
    "\n",
    "# Train df with outliers removed\n",
    "train_df(df_rem)"
   ]
  },
  {
   "cell_type": "code",
   "execution_count": 34,
   "id": "52434451",
   "metadata": {},
   "outputs": [
    {
     "data": {
      "text/html": [
       "<div>\n",
       "<style scoped>\n",
       "    .dataframe tbody tr th:only-of-type {\n",
       "        vertical-align: middle;\n",
       "    }\n",
       "\n",
       "    .dataframe tbody tr th {\n",
       "        vertical-align: top;\n",
       "    }\n",
       "\n",
       "    .dataframe thead th {\n",
       "        text-align: right;\n",
       "    }\n",
       "</style>\n",
       "<table border=\"1\" class=\"dataframe\">\n",
       "  <thead>\n",
       "    <tr style=\"text-align: right;\">\n",
       "      <th></th>\n",
       "      <th>Model Name</th>\n",
       "      <th>R2_Score</th>\n",
       "    </tr>\n",
       "  </thead>\n",
       "  <tbody>\n",
       "    <tr>\n",
       "      <th>7</th>\n",
       "      <td>CatBoosting Regressor</td>\n",
       "      <td>0.964041</td>\n",
       "    </tr>\n",
       "    <tr>\n",
       "      <th>6</th>\n",
       "      <td>XGBRegressor</td>\n",
       "      <td>0.957878</td>\n",
       "    </tr>\n",
       "    <tr>\n",
       "      <th>5</th>\n",
       "      <td>Random Forest Regressor</td>\n",
       "      <td>0.952106</td>\n",
       "    </tr>\n",
       "    <tr>\n",
       "      <th>4</th>\n",
       "      <td>Decision Tree</td>\n",
       "      <td>0.922488</td>\n",
       "    </tr>\n",
       "    <tr>\n",
       "      <th>3</th>\n",
       "      <td>K-Neighbors Regressor</td>\n",
       "      <td>0.630307</td>\n",
       "    </tr>\n",
       "    <tr>\n",
       "      <th>8</th>\n",
       "      <td>AdaBoost Regressor</td>\n",
       "      <td>0.503132</td>\n",
       "    </tr>\n",
       "    <tr>\n",
       "      <th>1</th>\n",
       "      <td>Lasso</td>\n",
       "      <td>0.124865</td>\n",
       "    </tr>\n",
       "    <tr>\n",
       "      <th>2</th>\n",
       "      <td>Ridge</td>\n",
       "      <td>0.124712</td>\n",
       "    </tr>\n",
       "    <tr>\n",
       "      <th>0</th>\n",
       "      <td>Linear Regression</td>\n",
       "      <td>0.124662</td>\n",
       "    </tr>\n",
       "  </tbody>\n",
       "</table>\n",
       "</div>"
      ],
      "text/plain": [
       "                Model Name  R2_Score\n",
       "7    CatBoosting Regressor  0.964041\n",
       "6             XGBRegressor  0.957878\n",
       "5  Random Forest Regressor  0.952106\n",
       "4            Decision Tree  0.922488\n",
       "3    K-Neighbors Regressor  0.630307\n",
       "8       AdaBoost Regressor  0.503132\n",
       "1                    Lasso  0.124865\n",
       "2                    Ridge  0.124712\n",
       "0        Linear Regression  0.124662"
      ]
     },
     "execution_count": 34,
     "metadata": {},
     "output_type": "execute_result"
    }
   ],
   "source": [
    "# Replace outliers with NaN\n",
    "for col in out_col:\n",
    "    df_nan = nan_outlier(df, col).reset_index(drop=True)\n",
    "\n",
    "# Train df with outliers replaced with NaN\n",
    "train_df(df_nan)"
   ]
  },
  {
   "cell_type": "code",
   "execution_count": 35,
   "id": "0a1fcc23",
   "metadata": {},
   "outputs": [
    {
     "data": {
      "text/html": [
       "<div>\n",
       "<style scoped>\n",
       "    .dataframe tbody tr th:only-of-type {\n",
       "        vertical-align: middle;\n",
       "    }\n",
       "\n",
       "    .dataframe tbody tr th {\n",
       "        vertical-align: top;\n",
       "    }\n",
       "\n",
       "    .dataframe thead th {\n",
       "        text-align: right;\n",
       "    }\n",
       "</style>\n",
       "<table border=\"1\" class=\"dataframe\">\n",
       "  <thead>\n",
       "    <tr style=\"text-align: right;\">\n",
       "      <th></th>\n",
       "      <th>Model Name</th>\n",
       "      <th>R2_Score</th>\n",
       "    </tr>\n",
       "  </thead>\n",
       "  <tbody>\n",
       "    <tr>\n",
       "      <th>7</th>\n",
       "      <td>CatBoosting Regressor</td>\n",
       "      <td>0.964041</td>\n",
       "    </tr>\n",
       "    <tr>\n",
       "      <th>6</th>\n",
       "      <td>XGBRegressor</td>\n",
       "      <td>0.957878</td>\n",
       "    </tr>\n",
       "    <tr>\n",
       "      <th>5</th>\n",
       "      <td>Random Forest Regressor</td>\n",
       "      <td>0.952824</td>\n",
       "    </tr>\n",
       "    <tr>\n",
       "      <th>4</th>\n",
       "      <td>Decision Tree</td>\n",
       "      <td>0.925151</td>\n",
       "    </tr>\n",
       "    <tr>\n",
       "      <th>3</th>\n",
       "      <td>K-Neighbors Regressor</td>\n",
       "      <td>0.630307</td>\n",
       "    </tr>\n",
       "    <tr>\n",
       "      <th>8</th>\n",
       "      <td>AdaBoost Regressor</td>\n",
       "      <td>0.487237</td>\n",
       "    </tr>\n",
       "    <tr>\n",
       "      <th>1</th>\n",
       "      <td>Lasso</td>\n",
       "      <td>0.124865</td>\n",
       "    </tr>\n",
       "    <tr>\n",
       "      <th>2</th>\n",
       "      <td>Ridge</td>\n",
       "      <td>0.124712</td>\n",
       "    </tr>\n",
       "    <tr>\n",
       "      <th>0</th>\n",
       "      <td>Linear Regression</td>\n",
       "      <td>0.124662</td>\n",
       "    </tr>\n",
       "  </tbody>\n",
       "</table>\n",
       "</div>"
      ],
      "text/plain": [
       "                Model Name  R2_Score\n",
       "7    CatBoosting Regressor  0.964041\n",
       "6             XGBRegressor  0.957878\n",
       "5  Random Forest Regressor  0.952824\n",
       "4            Decision Tree  0.925151\n",
       "3    K-Neighbors Regressor  0.630307\n",
       "8       AdaBoost Regressor  0.487237\n",
       "1                    Lasso  0.124865\n",
       "2                    Ridge  0.124712\n",
       "0        Linear Regression  0.124662"
      ]
     },
     "execution_count": 35,
     "metadata": {},
     "output_type": "execute_result"
    }
   ],
   "source": [
    "# Replace outliers with median\n",
    "for col in out_col:\n",
    "    df_med = median_outlier(df, col).reset_index(drop=True)\n",
    "\n",
    "# Train df with outliers replaced with median\n",
    "train_df(df_med)"
   ]
  },
  {
   "cell_type": "markdown",
   "id": "48ddb93a",
   "metadata": {},
   "source": [
    "### The best result was achieved when outliers were removed with Random Forest Regressor model"
   ]
  },
  {
   "cell_type": "markdown",
   "id": "69678e6f",
   "metadata": {},
   "source": [
    "### 4.3: Save dataframe to data folder"
   ]
  },
  {
   "cell_type": "code",
   "execution_count": 36,
   "id": "f369c325",
   "metadata": {},
   "outputs": [],
   "source": [
    "# Save df_rem\n",
    "df_rem.to_parquet('./data/mexico_data.parquet', compression='gzip')"
   ]
  },
  {
   "cell_type": "code",
   "execution_count": 37,
   "id": "77b000e5",
   "metadata": {},
   "outputs": [
    {
     "data": {
      "text/plain": [
       "['property_type',\n",
       " 'borough',\n",
       " 'surface_covered_in_m2',\n",
       " 'price_per_m2',\n",
       " 'lat',\n",
       " 'lon',\n",
       " 'price_aprox_usd']"
      ]
     },
     "execution_count": 37,
     "metadata": {},
     "output_type": "execute_result"
    }
   ],
   "source": [
    "# Get the columns of df_rem\n",
    "df_rem.columns.to_list()"
   ]
  },
  {
   "cell_type": "markdown",
   "id": "ee2c2e56",
   "metadata": {},
   "source": [
    "## 5. Train selected algorithm with GridSearchCV"
   ]
  },
  {
   "cell_type": "code",
   "execution_count": 38,
   "id": "0ec426db",
   "metadata": {},
   "outputs": [
    {
     "data": {
      "text/html": [
       "<style>#sk-container-id-1 {color: black;background-color: white;}#sk-container-id-1 pre{padding: 0;}#sk-container-id-1 div.sk-toggleable {background-color: white;}#sk-container-id-1 label.sk-toggleable__label {cursor: pointer;display: block;width: 100%;margin-bottom: 0;padding: 0.3em;box-sizing: border-box;text-align: center;}#sk-container-id-1 label.sk-toggleable__label-arrow:before {content: \"▸\";float: left;margin-right: 0.25em;color: #696969;}#sk-container-id-1 label.sk-toggleable__label-arrow:hover:before {color: black;}#sk-container-id-1 div.sk-estimator:hover label.sk-toggleable__label-arrow:before {color: black;}#sk-container-id-1 div.sk-toggleable__content {max-height: 0;max-width: 0;overflow: hidden;text-align: left;background-color: #f0f8ff;}#sk-container-id-1 div.sk-toggleable__content pre {margin: 0.2em;color: black;border-radius: 0.25em;background-color: #f0f8ff;}#sk-container-id-1 input.sk-toggleable__control:checked~div.sk-toggleable__content {max-height: 200px;max-width: 100%;overflow: auto;}#sk-container-id-1 input.sk-toggleable__control:checked~label.sk-toggleable__label-arrow:before {content: \"▾\";}#sk-container-id-1 div.sk-estimator input.sk-toggleable__control:checked~label.sk-toggleable__label {background-color: #d4ebff;}#sk-container-id-1 div.sk-label input.sk-toggleable__control:checked~label.sk-toggleable__label {background-color: #d4ebff;}#sk-container-id-1 input.sk-hidden--visually {border: 0;clip: rect(1px 1px 1px 1px);clip: rect(1px, 1px, 1px, 1px);height: 1px;margin: -1px;overflow: hidden;padding: 0;position: absolute;width: 1px;}#sk-container-id-1 div.sk-estimator {font-family: monospace;background-color: #f0f8ff;border: 1px dotted black;border-radius: 0.25em;box-sizing: border-box;margin-bottom: 0.5em;}#sk-container-id-1 div.sk-estimator:hover {background-color: #d4ebff;}#sk-container-id-1 div.sk-parallel-item::after {content: \"\";width: 100%;border-bottom: 1px solid gray;flex-grow: 1;}#sk-container-id-1 div.sk-label:hover label.sk-toggleable__label {background-color: #d4ebff;}#sk-container-id-1 div.sk-serial::before {content: \"\";position: absolute;border-left: 1px solid gray;box-sizing: border-box;top: 0;bottom: 0;left: 50%;z-index: 0;}#sk-container-id-1 div.sk-serial {display: flex;flex-direction: column;align-items: center;background-color: white;padding-right: 0.2em;padding-left: 0.2em;position: relative;}#sk-container-id-1 div.sk-item {position: relative;z-index: 1;}#sk-container-id-1 div.sk-parallel {display: flex;align-items: stretch;justify-content: center;background-color: white;position: relative;}#sk-container-id-1 div.sk-item::before, #sk-container-id-1 div.sk-parallel-item::before {content: \"\";position: absolute;border-left: 1px solid gray;box-sizing: border-box;top: 0;bottom: 0;left: 50%;z-index: -1;}#sk-container-id-1 div.sk-parallel-item {display: flex;flex-direction: column;z-index: 1;position: relative;background-color: white;}#sk-container-id-1 div.sk-parallel-item:first-child::after {align-self: flex-end;width: 50%;}#sk-container-id-1 div.sk-parallel-item:last-child::after {align-self: flex-start;width: 50%;}#sk-container-id-1 div.sk-parallel-item:only-child::after {width: 0;}#sk-container-id-1 div.sk-dashed-wrapped {border: 1px dashed gray;margin: 0 0.4em 0.5em 0.4em;box-sizing: border-box;padding-bottom: 0.4em;background-color: white;}#sk-container-id-1 div.sk-label label {font-family: monospace;font-weight: bold;display: inline-block;line-height: 1.2em;}#sk-container-id-1 div.sk-label-container {text-align: center;}#sk-container-id-1 div.sk-container {/* jupyter's `normalize.less` sets `[hidden] { display: none; }` but bootstrap.min.css set `[hidden] { display: none !important; }` so we also need the `!important` here to be able to override the default hidden behavior on the sphinx rendered scikit-learn.org. See: https://github.com/scikit-learn/scikit-learn/issues/21755 */display: inline-block !important;position: relative;}#sk-container-id-1 div.sk-text-repr-fallback {display: none;}</style><div id=\"sk-container-id-1\" class=\"sk-top-container\"><div class=\"sk-text-repr-fallback\"><pre>GridSearchCV(cv=5,\n",
       "             estimator=Pipeline(steps=[(&#x27;columntransformer&#x27;,\n",
       "                                        ColumnTransformer(transformers=[(&#x27;pipeline-1&#x27;,\n",
       "                                                                         Pipeline(steps=[(&#x27;simpleimputer&#x27;,\n",
       "                                                                                          SimpleImputer(strategy=&#x27;median&#x27;)),\n",
       "                                                                                         (&#x27;standardscaler&#x27;,\n",
       "                                                                                          StandardScaler())]),\n",
       "                                                                         [&#x27;surface_covered_in_m2&#x27;,\n",
       "                                                                          &#x27;price_per_m2&#x27;,\n",
       "                                                                          &#x27;lat&#x27;,\n",
       "                                                                          &#x27;lon&#x27;]),\n",
       "                                                                        (&#x27;pipeline-2&#x27;,\n",
       "                                                                         Pipeline(steps=[(&#x27;simpleimputer&#x27;,\n",
       "                                                                                          SimpleImputer(strategy=&#x27;most_frequent&#x27;)),\n",
       "                                                                                         (&#x27;ordinalencoder&#x27;,\n",
       "                                                                                          OrdinalEncoder())]),\n",
       "                                                                         [&#x27;property_type&#x27;,\n",
       "                                                                          &#x27;borough&#x27;])])),\n",
       "                                       (&#x27;randomforestregressor&#x27;,\n",
       "                                        RandomForestRegressor())]),\n",
       "             n_jobs=-1,\n",
       "             param_grid={&#x27;randomforestregressor__min_samples_leaf&#x27;: [1, 2, 3],\n",
       "                         &#x27;randomforestregressor__min_samples_split&#x27;: [2, 3, 5],\n",
       "                         &#x27;randomforestregressor__n_estimators&#x27;: [100, 200,\n",
       "                                                                 300]})</pre><b>In a Jupyter environment, please rerun this cell to show the HTML representation or trust the notebook. <br />On GitHub, the HTML representation is unable to render, please try loading this page with nbviewer.org.</b></div><div class=\"sk-container\" hidden><div class=\"sk-item sk-dashed-wrapped\"><div class=\"sk-label-container\"><div class=\"sk-label sk-toggleable\"><input class=\"sk-toggleable__control sk-hidden--visually\" id=\"sk-estimator-id-1\" type=\"checkbox\" ><label for=\"sk-estimator-id-1\" class=\"sk-toggleable__label sk-toggleable__label-arrow\">GridSearchCV</label><div class=\"sk-toggleable__content\"><pre>GridSearchCV(cv=5,\n",
       "             estimator=Pipeline(steps=[(&#x27;columntransformer&#x27;,\n",
       "                                        ColumnTransformer(transformers=[(&#x27;pipeline-1&#x27;,\n",
       "                                                                         Pipeline(steps=[(&#x27;simpleimputer&#x27;,\n",
       "                                                                                          SimpleImputer(strategy=&#x27;median&#x27;)),\n",
       "                                                                                         (&#x27;standardscaler&#x27;,\n",
       "                                                                                          StandardScaler())]),\n",
       "                                                                         [&#x27;surface_covered_in_m2&#x27;,\n",
       "                                                                          &#x27;price_per_m2&#x27;,\n",
       "                                                                          &#x27;lat&#x27;,\n",
       "                                                                          &#x27;lon&#x27;]),\n",
       "                                                                        (&#x27;pipeline-2&#x27;,\n",
       "                                                                         Pipeline(steps=[(&#x27;simpleimputer&#x27;,\n",
       "                                                                                          SimpleImputer(strategy=&#x27;most_frequent&#x27;)),\n",
       "                                                                                         (&#x27;ordinalencoder&#x27;,\n",
       "                                                                                          OrdinalEncoder())]),\n",
       "                                                                         [&#x27;property_type&#x27;,\n",
       "                                                                          &#x27;borough&#x27;])])),\n",
       "                                       (&#x27;randomforestregressor&#x27;,\n",
       "                                        RandomForestRegressor())]),\n",
       "             n_jobs=-1,\n",
       "             param_grid={&#x27;randomforestregressor__min_samples_leaf&#x27;: [1, 2, 3],\n",
       "                         &#x27;randomforestregressor__min_samples_split&#x27;: [2, 3, 5],\n",
       "                         &#x27;randomforestregressor__n_estimators&#x27;: [100, 200,\n",
       "                                                                 300]})</pre></div></div></div><div class=\"sk-parallel\"><div class=\"sk-parallel-item\"><div class=\"sk-item\"><div class=\"sk-label-container\"><div class=\"sk-label sk-toggleable\"><input class=\"sk-toggleable__control sk-hidden--visually\" id=\"sk-estimator-id-2\" type=\"checkbox\" ><label for=\"sk-estimator-id-2\" class=\"sk-toggleable__label sk-toggleable__label-arrow\">estimator: Pipeline</label><div class=\"sk-toggleable__content\"><pre>Pipeline(steps=[(&#x27;columntransformer&#x27;,\n",
       "                 ColumnTransformer(transformers=[(&#x27;pipeline-1&#x27;,\n",
       "                                                  Pipeline(steps=[(&#x27;simpleimputer&#x27;,\n",
       "                                                                   SimpleImputer(strategy=&#x27;median&#x27;)),\n",
       "                                                                  (&#x27;standardscaler&#x27;,\n",
       "                                                                   StandardScaler())]),\n",
       "                                                  [&#x27;surface_covered_in_m2&#x27;,\n",
       "                                                   &#x27;price_per_m2&#x27;, &#x27;lat&#x27;,\n",
       "                                                   &#x27;lon&#x27;]),\n",
       "                                                 (&#x27;pipeline-2&#x27;,\n",
       "                                                  Pipeline(steps=[(&#x27;simpleimputer&#x27;,\n",
       "                                                                   SimpleImputer(strategy=&#x27;most_frequent&#x27;)),\n",
       "                                                                  (&#x27;ordinalencoder&#x27;,\n",
       "                                                                   OrdinalEncoder())]),\n",
       "                                                  [&#x27;property_type&#x27;,\n",
       "                                                   &#x27;borough&#x27;])])),\n",
       "                (&#x27;randomforestregressor&#x27;, RandomForestRegressor())])</pre></div></div></div><div class=\"sk-serial\"><div class=\"sk-item\"><div class=\"sk-serial\"><div class=\"sk-item sk-dashed-wrapped\"><div class=\"sk-label-container\"><div class=\"sk-label sk-toggleable\"><input class=\"sk-toggleable__control sk-hidden--visually\" id=\"sk-estimator-id-3\" type=\"checkbox\" ><label for=\"sk-estimator-id-3\" class=\"sk-toggleable__label sk-toggleable__label-arrow\">columntransformer: ColumnTransformer</label><div class=\"sk-toggleable__content\"><pre>ColumnTransformer(transformers=[(&#x27;pipeline-1&#x27;,\n",
       "                                 Pipeline(steps=[(&#x27;simpleimputer&#x27;,\n",
       "                                                  SimpleImputer(strategy=&#x27;median&#x27;)),\n",
       "                                                 (&#x27;standardscaler&#x27;,\n",
       "                                                  StandardScaler())]),\n",
       "                                 [&#x27;surface_covered_in_m2&#x27;, &#x27;price_per_m2&#x27;,\n",
       "                                  &#x27;lat&#x27;, &#x27;lon&#x27;]),\n",
       "                                (&#x27;pipeline-2&#x27;,\n",
       "                                 Pipeline(steps=[(&#x27;simpleimputer&#x27;,\n",
       "                                                  SimpleImputer(strategy=&#x27;most_frequent&#x27;)),\n",
       "                                                 (&#x27;ordinalencoder&#x27;,\n",
       "                                                  OrdinalEncoder())]),\n",
       "                                 [&#x27;property_type&#x27;, &#x27;borough&#x27;])])</pre></div></div></div><div class=\"sk-parallel\"><div class=\"sk-parallel-item\"><div class=\"sk-item\"><div class=\"sk-label-container\"><div class=\"sk-label sk-toggleable\"><input class=\"sk-toggleable__control sk-hidden--visually\" id=\"sk-estimator-id-4\" type=\"checkbox\" ><label for=\"sk-estimator-id-4\" class=\"sk-toggleable__label sk-toggleable__label-arrow\">pipeline-1</label><div class=\"sk-toggleable__content\"><pre>[&#x27;surface_covered_in_m2&#x27;, &#x27;price_per_m2&#x27;, &#x27;lat&#x27;, &#x27;lon&#x27;]</pre></div></div></div><div class=\"sk-serial\"><div class=\"sk-item\"><div class=\"sk-serial\"><div class=\"sk-item\"><div class=\"sk-estimator sk-toggleable\"><input class=\"sk-toggleable__control sk-hidden--visually\" id=\"sk-estimator-id-5\" type=\"checkbox\" ><label for=\"sk-estimator-id-5\" class=\"sk-toggleable__label sk-toggleable__label-arrow\">SimpleImputer</label><div class=\"sk-toggleable__content\"><pre>SimpleImputer(strategy=&#x27;median&#x27;)</pre></div></div></div><div class=\"sk-item\"><div class=\"sk-estimator sk-toggleable\"><input class=\"sk-toggleable__control sk-hidden--visually\" id=\"sk-estimator-id-6\" type=\"checkbox\" ><label for=\"sk-estimator-id-6\" class=\"sk-toggleable__label sk-toggleable__label-arrow\">StandardScaler</label><div class=\"sk-toggleable__content\"><pre>StandardScaler()</pre></div></div></div></div></div></div></div></div><div class=\"sk-parallel-item\"><div class=\"sk-item\"><div class=\"sk-label-container\"><div class=\"sk-label sk-toggleable\"><input class=\"sk-toggleable__control sk-hidden--visually\" id=\"sk-estimator-id-7\" type=\"checkbox\" ><label for=\"sk-estimator-id-7\" class=\"sk-toggleable__label sk-toggleable__label-arrow\">pipeline-2</label><div class=\"sk-toggleable__content\"><pre>[&#x27;property_type&#x27;, &#x27;borough&#x27;]</pre></div></div></div><div class=\"sk-serial\"><div class=\"sk-item\"><div class=\"sk-serial\"><div class=\"sk-item\"><div class=\"sk-estimator sk-toggleable\"><input class=\"sk-toggleable__control sk-hidden--visually\" id=\"sk-estimator-id-8\" type=\"checkbox\" ><label for=\"sk-estimator-id-8\" class=\"sk-toggleable__label sk-toggleable__label-arrow\">SimpleImputer</label><div class=\"sk-toggleable__content\"><pre>SimpleImputer(strategy=&#x27;most_frequent&#x27;)</pre></div></div></div><div class=\"sk-item\"><div class=\"sk-estimator sk-toggleable\"><input class=\"sk-toggleable__control sk-hidden--visually\" id=\"sk-estimator-id-9\" type=\"checkbox\" ><label for=\"sk-estimator-id-9\" class=\"sk-toggleable__label sk-toggleable__label-arrow\">OrdinalEncoder</label><div class=\"sk-toggleable__content\"><pre>OrdinalEncoder()</pre></div></div></div></div></div></div></div></div></div></div><div class=\"sk-item\"><div class=\"sk-estimator sk-toggleable\"><input class=\"sk-toggleable__control sk-hidden--visually\" id=\"sk-estimator-id-10\" type=\"checkbox\" ><label for=\"sk-estimator-id-10\" class=\"sk-toggleable__label sk-toggleable__label-arrow\">RandomForestRegressor</label><div class=\"sk-toggleable__content\"><pre>RandomForestRegressor()</pre></div></div></div></div></div></div></div></div></div></div></div></div>"
      ],
      "text/plain": [
       "GridSearchCV(cv=5,\n",
       "             estimator=Pipeline(steps=[('columntransformer',\n",
       "                                        ColumnTransformer(transformers=[('pipeline-1',\n",
       "                                                                         Pipeline(steps=[('simpleimputer',\n",
       "                                                                                          SimpleImputer(strategy='median')),\n",
       "                                                                                         ('standardscaler',\n",
       "                                                                                          StandardScaler())]),\n",
       "                                                                         ['surface_covered_in_m2',\n",
       "                                                                          'price_per_m2',\n",
       "                                                                          'lat',\n",
       "                                                                          'lon']),\n",
       "                                                                        ('pipeline-2',\n",
       "                                                                         Pipeline(steps=[('simpleimputer',\n",
       "                                                                                          SimpleImputer(strategy='most_frequent')),\n",
       "                                                                                         ('ordinalencoder',\n",
       "                                                                                          OrdinalEncoder())]),\n",
       "                                                                         ['property_type',\n",
       "                                                                          'borough'])])),\n",
       "                                       ('randomforestregressor',\n",
       "                                        RandomForestRegressor())]),\n",
       "             n_jobs=-1,\n",
       "             param_grid={'randomforestregressor__min_samples_leaf': [1, 2, 3],\n",
       "                         'randomforestregressor__min_samples_split': [2, 3, 5],\n",
       "                         'randomforestregressor__n_estimators': [100, 200,\n",
       "                                                                 300]})"
      ]
     },
     "execution_count": 38,
     "metadata": {},
     "output_type": "execute_result"
    }
   ],
   "source": [
    "# Import dataframe\n",
    "df = pd.read_parquet('./data/mexico_data.parquet')\n",
    "\n",
    "# Prepare X and Y variables\n",
    "X = df.drop(columns=['price_aprox_usd'], axis=1)\n",
    "y = df['price_aprox_usd']\n",
    "\n",
    "# Subset categorical and numerical columns\n",
    "num_features = X.select_dtypes(include=\"number\").columns.to_list()\n",
    "cat_features = X.select_dtypes(exclude=\"number\").columns.to_list()\n",
    "\n",
    "\n",
    "# Create the preprocessor.\n",
    "num_pipeline = make_pipeline(SimpleImputer(strategy=\"median\"), StandardScaler())\n",
    "cat_pipeline = make_pipeline(SimpleImputer(strategy=\"most_frequent\"), OrdinalEncoder())\n",
    "\n",
    "preprocessor = make_column_transformer(\n",
    "    (num_pipeline, num_features),\n",
    "    (cat_pipeline, cat_features)\n",
    ")\n",
    "\n",
    "\n",
    "# Separate dataset into train and test\n",
    "X_train, X_test, y_train, y_test = train_test_split(X, y, test_size=0.2, random_state=42)\n",
    "\n",
    "# Define estimator\n",
    "estimator = make_pipeline(preprocessor, RandomForestRegressor())\n",
    "\n",
    "# Define parameter range\n",
    "param_grid = {\n",
    "    'randomforestregressor__n_estimators': [100, 200, 300],\n",
    "    'randomforestregressor__min_samples_split': [2, 3, 5], \n",
    "    'randomforestregressor__min_samples_leaf': [1, 2, 3]\n",
    "}\n",
    "\n",
    "# Define model\n",
    "grid = GridSearchCV(\n",
    "    estimator=estimator, \n",
    "    param_grid=param_grid,\n",
    "    cv=5, \n",
    "    n_jobs=-1\n",
    ") \n",
    "   \n",
    "# Fit model for grid search \n",
    "grid.fit(X_train, y_train)"
   ]
  },
  {
   "cell_type": "code",
   "execution_count": 39,
   "id": "29f87098-5f67-4d46-b78c-6f3f1b6a0b89",
   "metadata": {},
   "outputs": [
    {
     "name": "stdout",
     "output_type": "stream",
     "text": [
      "{'randomforestregressor__min_samples_leaf': 1, 'randomforestregressor__min_samples_split': 2, 'randomforestregressor__n_estimators': 100}\n",
      "\n",
      "0.9691\n"
     ]
    }
   ],
   "source": [
    "# Calculate predictions\n",
    "predictions = grid.predict(X_test)\n",
    " \n",
    "# Print best parameter after tuning \n",
    "print(f'{grid.best_params_}\\n')\n",
    "\n",
    "# Print r2_square\n",
    "print(f'{r2_score(y_test, predictions):.4f}')"
   ]
  },
  {
   "cell_type": "markdown",
   "id": "3ee47249",
   "metadata": {},
   "source": [
    "## Save and load model"
   ]
  },
  {
   "cell_type": "code",
   "execution_count": 40,
   "id": "02424857",
   "metadata": {},
   "outputs": [],
   "source": [
    "# Save the model to disk\n",
    "pickle.dump(grid, gzip.open('mexico_model.pkl', 'wb'), protocol=pickle.HIGHEST_PROTOCOL)"
   ]
  },
  {
   "cell_type": "code",
   "execution_count": 41,
   "id": "8968c3b9",
   "metadata": {},
   "outputs": [],
   "source": [
    "# load the model from disk\n",
    "loaded_model = pickle.load(gzip.open('mexico_model.pkl', 'rb'))"
   ]
  },
  {
   "cell_type": "markdown",
   "id": "12c6d5f0-784f-4015-be88-d45039533389",
   "metadata": {},
   "source": [
    "## Use the model for some predictions"
   ]
  },
  {
   "cell_type": "code",
   "execution_count": 42,
   "id": "5fbc18f2-fab8-417f-ac02-e35488dfd7f0",
   "metadata": {},
   "outputs": [],
   "source": [
    "# Create function to predict the raw data\n",
    "def predict_data(raw_data):\n",
    "    data_frame = pd.DataFrame(raw_data, index=[0])\n",
    "    data_predict = loaded_model.predict(data_frame)\n",
    "    return data_predict[0]"
   ]
  },
  {
   "cell_type": "code",
   "execution_count": 43,
   "id": "1b3a3234-47cc-408a-aa93-1a45da5bdb2c",
   "metadata": {},
   "outputs": [
    {
     "data": {
      "text/plain": [
       "property_type                  store\n",
       "borough                   Cuauhtémoc\n",
       "surface_covered_in_m2          355.0\n",
       "price_per_m2             14464.78873\n",
       "lat                        19.405168\n",
       "lon                       -99.142608\n",
       "price_aprox_usd            270545.09\n",
       "Name: 1404, dtype: object"
      ]
     },
     "execution_count": 43,
     "metadata": {},
     "output_type": "execute_result"
    }
   ],
   "source": [
    "# Get the sample data to use.\n",
    "sample_data = df.loc[1404]\n",
    "sample_data"
   ]
  },
  {
   "cell_type": "code",
   "execution_count": 44,
   "id": "c47e75d5-01ae-43cd-9518-89e6e4f1f68c",
   "metadata": {},
   "outputs": [
    {
     "data": {
      "text/plain": [
       "{'property_type': 'store',\n",
       " 'borough': 'Cuauhtémoc',\n",
       " 'surface_covered_in_m2': 355.0,\n",
       " 'price_per_m2': 14464.78873,\n",
       " 'lat': 19.405168,\n",
       " 'lon': -99.142608}"
      ]
     },
     "execution_count": 44,
     "metadata": {},
     "output_type": "execute_result"
    }
   ],
   "source": [
    "# Define raw data\n",
    "raw_data = {\n",
    "    \"property_type\": sample_data.loc['property_type'],\n",
    "    \"borough\": sample_data.loc['borough'],\n",
    "    \"surface_covered_in_m2\": sample_data.loc['surface_covered_in_m2'],\n",
    "    \"price_per_m2\": sample_data.loc['price_per_m2'],\n",
    "    \"lat\": sample_data.loc['lat'],\n",
    "    \"lon\": sample_data.loc['lon']\n",
    "}\n",
    "\n",
    "raw_data"
   ]
  },
  {
   "cell_type": "code",
   "execution_count": 45,
   "id": "640f2a5e-3613-4a62-9d47-b1d523b2b183",
   "metadata": {},
   "outputs": [
    {
     "data": {
      "text/plain": [
       "271105.66"
      ]
     },
     "execution_count": 45,
     "metadata": {},
     "output_type": "execute_result"
    }
   ],
   "source": [
    "# Compute prediction\n",
    "prediction = predict_data(raw_data).round(2)\n",
    "prediction"
   ]
  },
  {
   "cell_type": "code",
   "execution_count": 46,
   "id": "44184f16-1c07-47e2-b894-e0e2b87b13e8",
   "metadata": {},
   "outputs": [
    {
     "data": {
      "text/plain": [
       "property_type                 apartment\n",
       "borough                  Miguel Hidalgo\n",
       "surface_covered_in_m2              75.0\n",
       "price_per_m2                8977.773333\n",
       "lat                           19.455894\n",
       "lon                           -99.18355\n",
       "price_aprox_usd                35483.96\n",
       "Name: 1234, dtype: object"
      ]
     },
     "execution_count": 46,
     "metadata": {},
     "output_type": "execute_result"
    }
   ],
   "source": [
    "# Get the sample data to use.\n",
    "sample_data = df.loc[1234]\n",
    "sample_data"
   ]
  },
  {
   "cell_type": "code",
   "execution_count": 47,
   "id": "cb5980df-0676-411e-b018-acd43c4b6a9b",
   "metadata": {},
   "outputs": [
    {
     "data": {
      "text/plain": [
       "{'property_type': 'apartment',\n",
       " 'borough': 'Miguel Hidalgo',\n",
       " 'surface_covered_in_m2': 75.0,\n",
       " 'price_per_m2': 8977.773333,\n",
       " 'lat': 19.455894,\n",
       " 'lon': -99.18355}"
      ]
     },
     "execution_count": 47,
     "metadata": {},
     "output_type": "execute_result"
    }
   ],
   "source": [
    "# Define raw data\n",
    "raw_data = {\n",
    "    \"property_type\": sample_data.loc['property_type'],\n",
    "    \"borough\": sample_data.loc['borough'],\n",
    "    \"surface_covered_in_m2\": sample_data.loc['surface_covered_in_m2'],\n",
    "    \"price_per_m2\": sample_data.loc['price_per_m2'],\n",
    "    \"lat\": sample_data.loc['lat'],\n",
    "    \"lon\": sample_data.loc['lon']\n",
    "}\n",
    "\n",
    "raw_data"
   ]
  },
  {
   "cell_type": "code",
   "execution_count": 48,
   "id": "b3f578d5-b0e5-4c85-b47d-4492fbab1591",
   "metadata": {},
   "outputs": [
    {
     "data": {
      "text/plain": [
       "35499.13"
      ]
     },
     "execution_count": 48,
     "metadata": {},
     "output_type": "execute_result"
    }
   ],
   "source": [
    "# Compute prediction\n",
    "prediction = predict_data(raw_data).round(2)\n",
    "prediction"
   ]
  },
  {
   "cell_type": "code",
   "execution_count": 49,
   "id": "114a83f7-ad28-4a2f-bba0-12b485cbef03",
   "metadata": {},
   "outputs": [
    {
     "data": {
      "text/plain": [
       "property_type                house\n",
       "borough                    Tlalpan\n",
       "surface_covered_in_m2        100.0\n",
       "price_per_m2               28700.0\n",
       "lat                      19.293674\n",
       "lon                     -99.108352\n",
       "price_aprox_usd           151210.2\n",
       "Name: 15555, dtype: object"
      ]
     },
     "execution_count": 49,
     "metadata": {},
     "output_type": "execute_result"
    }
   ],
   "source": [
    "# Get the sample data to use.\n",
    "sample_data = df.loc[15555]\n",
    "sample_data"
   ]
  },
  {
   "cell_type": "code",
   "execution_count": 50,
   "id": "3d84d505-00f3-432b-966b-7be0edc4e2ac",
   "metadata": {},
   "outputs": [
    {
     "data": {
      "text/plain": [
       "{'property_type': 'house',\n",
       " 'borough': 'Tlalpan',\n",
       " 'surface_covered_in_m2': 100.0,\n",
       " 'price_per_m2': 28700.0,\n",
       " 'lat': 19.293674,\n",
       " 'lon': -99.108352}"
      ]
     },
     "execution_count": 50,
     "metadata": {},
     "output_type": "execute_result"
    }
   ],
   "source": [
    "# Define raw data\n",
    "raw_data = {\n",
    "    \"property_type\": sample_data.loc['property_type'],\n",
    "    \"borough\": sample_data.loc['borough'],\n",
    "    \"surface_covered_in_m2\": sample_data.loc['surface_covered_in_m2'],\n",
    "    \"price_per_m2\": sample_data.loc['price_per_m2'],\n",
    "    \"lat\": sample_data.loc['lat'],\n",
    "    \"lon\": sample_data.loc['lon']\n",
    "}\n",
    "\n",
    "raw_data"
   ]
  },
  {
   "cell_type": "code",
   "execution_count": 51,
   "id": "bb7b25cf-3428-4b91-b7fe-57e7131c497f",
   "metadata": {},
   "outputs": [
    {
     "data": {
      "text/plain": [
       "151247.08"
      ]
     },
     "execution_count": 51,
     "metadata": {},
     "output_type": "execute_result"
    }
   ],
   "source": [
    "# Compute prediction\n",
    "prediction = predict_data(raw_data).round(2)\n",
    "prediction"
   ]
  }
 ],
 "metadata": {
  "kernelspec": {
   "display_name": "Python 3 (ipykernel)",
   "language": "python",
   "name": "python3"
  },
  "language_info": {
   "codemirror_mode": {
    "name": "ipython",
    "version": 3
   },
   "file_extension": ".py",
   "mimetype": "text/x-python",
   "name": "python",
   "nbconvert_exporter": "python",
   "pygments_lexer": "ipython3",
   "version": "3.11.5"
  }
 },
 "nbformat": 4,
 "nbformat_minor": 5
}
