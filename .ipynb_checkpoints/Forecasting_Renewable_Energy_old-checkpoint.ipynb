{
 "cells": [
  {
   "cell_type": "markdown",
   "metadata": {},
   "source": [
    "# Forecasting Renewable Energy Generation"
   ]
  },
  {
   "cell_type": "markdown",
   "metadata": {
    "id": "q9qqDqdgMq9_"
   },
   "source": [
    "**OBJECTIVE**\n",
    "\n",
    "The Objectives of this notebook is to Create Several Candidate High Performing Machine Learning Models To Predict Expected Delivery time\n",
    "\n"
   ]
  },
  {
   "cell_type": "markdown",
   "metadata": {
    "id": "8VMgsV_0NH6G"
   },
   "source": [
    "\n",
    "**WORKFLOW**  \n",
    "The workflow is as follows:\n",
    "1. Data Loading And Understanding\n",
    "2. Data Cleaning\n",
    "3. Exploratory Data Analysis\n",
    "4. Feature Engineering and Categorical Encoding\n",
    "5. Feature Selection\n",
    "6. Modelling and Models Selection\n",
    "7. Hyperparameter Tuning\n",
    "8. Ensembling Models\n",
    "9. Deploying via Flask App"
   ]
  },
  {
   "cell_type": "markdown",
   "metadata": {
    "id": "L5cmqMfcO2qP"
   },
   "source": [
    "**DATA LOADING AND UNDERSTANDING**"
   ]
  },
  {
   "cell_type": "code",
   "execution_count": 2,
   "metadata": {
    "executionInfo": {
     "elapsed": 10,
     "status": "ok",
     "timestamp": 1698015886744,
     "user": {
      "displayName": "Efemena Ikpro",
      "userId": "07524339756286888285"
     },
     "user_tz": -60
    },
    "id": "FeaUXId3jHHH"
   },
   "outputs": [],
   "source": [
    "# Import required packages.\n",
    "import pandas as pd\n",
    "import matplotlib.pyplot as plt\n",
    "import seaborn as sns"
   ]
  },
  {
   "cell_type": "code",
   "execution_count": 3,
   "metadata": {
    "executionInfo": {
     "elapsed": 765,
     "status": "ok",
     "timestamp": 1698015888681,
     "user": {
      "displayName": "Efemena Ikpro",
      "userId": "07524339756286888285"
     },
     "user_tz": -60
    },
    "id": "MMW2sp9pkK30"
   },
   "outputs": [],
   "source": [
    "# load the data.\n",
    "data = pd.read_csv(\"./data/renewable_energy_data.csv\")"
   ]
  },
  {
   "cell_type": "code",
   "execution_count": 4,
   "metadata": {},
   "outputs": [
    {
     "data": {
      "text/plain": [
       "(131008, 12)"
      ]
     },
     "execution_count": 4,
     "metadata": {},
     "output_type": "execute_result"
    }
   ],
   "source": [
    "# Check the shape of data.\n",
    "data.shape"
   ]
  },
  {
   "cell_type": "code",
   "execution_count": 5,
   "metadata": {},
   "outputs": [
    {
     "name": "stdout",
     "output_type": "stream",
     "text": [
      "<class 'pandas.core.frame.DataFrame'>\n",
      "RangeIndex: 131008 entries, 0 to 131007\n",
      "Data columns (total 12 columns):\n",
      " #   Column                                 Non-Null Count   Dtype  \n",
      "---  ------                                 --------------   -----  \n",
      " 0   Delivery_ID                            131005 non-null  float64\n",
      " 1   Delivery_Start_Date                    131007 non-null  object \n",
      " 2   Delivery_Start_Time                    131007 non-null  object \n",
      " 3   Traffic_Conditions                     131008 non-null  object \n",
      " 4   Number_of_Packages                     131006 non-null  float64\n",
      " 5   Customer_Preference_for_Delivery_Time  131008 non-null  object \n",
      " 6   Distance_(miles)                       131007 non-null  float64\n",
      " 7   fog                                    52244 non-null   object \n",
      " 8   rain                                   52269 non-null   object \n",
      " 9   snow                                   39180 non-null   object \n",
      " 10  hail                                   26231 non-null   object \n",
      " 11  Historical_Delivery_Time_(hours)       131007 non-null  float64\n",
      "dtypes: float64(4), object(8)\n",
      "memory usage: 12.0+ MB\n"
     ]
    }
   ],
   "source": [
    "# Check the info of data.\n",
    "data.info()"
   ]
  },
  {
   "cell_type": "code",
   "execution_count": 6,
   "metadata": {
    "colab": {
     "base_uri": "https://localhost:8080/",
     "height": 383
    },
    "executionInfo": {
     "elapsed": 624,
     "status": "ok",
     "timestamp": 1698015889681,
     "user": {
      "displayName": "Efemena Ikpro",
      "userId": "07524339756286888285"
     },
     "user_tz": -60
    },
    "id": "Jj1IjkRLkTKc",
    "outputId": "43dbc135-4b33-42a2-91bd-85df7e0548cf"
   },
   "outputs": [
    {
     "data": {
      "text/html": [
       "<div>\n",
       "<style scoped>\n",
       "    .dataframe tbody tr th:only-of-type {\n",
       "        vertical-align: middle;\n",
       "    }\n",
       "\n",
       "    .dataframe tbody tr th {\n",
       "        vertical-align: top;\n",
       "    }\n",
       "\n",
       "    .dataframe thead th {\n",
       "        text-align: right;\n",
       "    }\n",
       "</style>\n",
       "<table border=\"1\" class=\"dataframe\">\n",
       "  <thead>\n",
       "    <tr style=\"text-align: right;\">\n",
       "      <th></th>\n",
       "      <th>Delivery_ID</th>\n",
       "      <th>Delivery_Start_Date</th>\n",
       "      <th>Delivery_Start_Time</th>\n",
       "      <th>Traffic_Conditions</th>\n",
       "      <th>Number_of_Packages</th>\n",
       "      <th>Customer_Preference_for_Delivery_Time</th>\n",
       "      <th>Distance_(miles)</th>\n",
       "      <th>fog</th>\n",
       "      <th>rain</th>\n",
       "      <th>snow</th>\n",
       "      <th>hail</th>\n",
       "      <th>Historical_Delivery_Time_(hours)</th>\n",
       "    </tr>\n",
       "  </thead>\n",
       "  <tbody>\n",
       "    <tr>\n",
       "      <th>0</th>\n",
       "      <td>1.0</td>\n",
       "      <td>2020-09-03</td>\n",
       "      <td>12:41:00</td>\n",
       "      <td>Low</td>\n",
       "      <td>7.0</td>\n",
       "      <td>Evening</td>\n",
       "      <td>167.884751</td>\n",
       "      <td>NaN</td>\n",
       "      <td>NaN</td>\n",
       "      <td>Low</td>\n",
       "      <td>NaN</td>\n",
       "      <td>9.294688</td>\n",
       "    </tr>\n",
       "    <tr>\n",
       "      <th>1</th>\n",
       "      <td>2.0</td>\n",
       "      <td>2022-12-22</td>\n",
       "      <td>20:14:00</td>\n",
       "      <td>Low</td>\n",
       "      <td>10.0</td>\n",
       "      <td>Morning</td>\n",
       "      <td>154.154474</td>\n",
       "      <td>Low</td>\n",
       "      <td>NaN</td>\n",
       "      <td>Mid</td>\n",
       "      <td>NaN</td>\n",
       "      <td>9.303765</td>\n",
       "    </tr>\n",
       "    <tr>\n",
       "      <th>2</th>\n",
       "      <td>3.0</td>\n",
       "      <td>2021-06-05</td>\n",
       "      <td>11:20:00</td>\n",
       "      <td>High</td>\n",
       "      <td>2.0</td>\n",
       "      <td>Afternoon</td>\n",
       "      <td>196.084835</td>\n",
       "      <td>NaN</td>\n",
       "      <td>Mid</td>\n",
       "      <td>NaN</td>\n",
       "      <td>NaN</td>\n",
       "      <td>8.734668</td>\n",
       "    </tr>\n",
       "    <tr>\n",
       "      <th>3</th>\n",
       "      <td>4.0</td>\n",
       "      <td>2023-05-02</td>\n",
       "      <td>05:50:00</td>\n",
       "      <td>High</td>\n",
       "      <td>15.0</td>\n",
       "      <td>Morning</td>\n",
       "      <td>94.010339</td>\n",
       "      <td>NaN</td>\n",
       "      <td>NaN</td>\n",
       "      <td>NaN</td>\n",
       "      <td>NaN</td>\n",
       "      <td>7.806979</td>\n",
       "    </tr>\n",
       "    <tr>\n",
       "      <th>4</th>\n",
       "      <td>5.0</td>\n",
       "      <td>2020-07-07</td>\n",
       "      <td>02:34:00</td>\n",
       "      <td>Moderate</td>\n",
       "      <td>17.0</td>\n",
       "      <td>Evening</td>\n",
       "      <td>202.254271</td>\n",
       "      <td>Mid</td>\n",
       "      <td>NaN</td>\n",
       "      <td>NaN</td>\n",
       "      <td>NaN</td>\n",
       "      <td>12.770403</td>\n",
       "    </tr>\n",
       "    <tr>\n",
       "      <th>5</th>\n",
       "      <td>6.0</td>\n",
       "      <td>2021-01-08</td>\n",
       "      <td>06:46:00</td>\n",
       "      <td>High</td>\n",
       "      <td>7.0</td>\n",
       "      <td>Evening</td>\n",
       "      <td>142.464202</td>\n",
       "      <td>NaN</td>\n",
       "      <td>Low</td>\n",
       "      <td>NaN</td>\n",
       "      <td>NaN</td>\n",
       "      <td>6.731095</td>\n",
       "    </tr>\n",
       "    <tr>\n",
       "      <th>6</th>\n",
       "      <td>7.0</td>\n",
       "      <td>2021-11-02</td>\n",
       "      <td>05:25:00</td>\n",
       "      <td>Low</td>\n",
       "      <td>17.0</td>\n",
       "      <td>Afternoon</td>\n",
       "      <td>193.844452</td>\n",
       "      <td>NaN</td>\n",
       "      <td>Mid</td>\n",
       "      <td>NaN</td>\n",
       "      <td>NaN</td>\n",
       "      <td>9.108041</td>\n",
       "    </tr>\n",
       "    <tr>\n",
       "      <th>7</th>\n",
       "      <td>8.0</td>\n",
       "      <td>2022-03-01</td>\n",
       "      <td>16:44:00</td>\n",
       "      <td>High</td>\n",
       "      <td>6.0</td>\n",
       "      <td>Evening</td>\n",
       "      <td>145.056879</td>\n",
       "      <td>NaN</td>\n",
       "      <td>NaN</td>\n",
       "      <td>NaN</td>\n",
       "      <td>NaN</td>\n",
       "      <td>5.977140</td>\n",
       "    </tr>\n",
       "    <tr>\n",
       "      <th>8</th>\n",
       "      <td>9.0</td>\n",
       "      <td>2023-02-15</td>\n",
       "      <td>18:46:00</td>\n",
       "      <td>High</td>\n",
       "      <td>18.0</td>\n",
       "      <td>Evening</td>\n",
       "      <td>155.081309</td>\n",
       "      <td>NaN</td>\n",
       "      <td>Mid</td>\n",
       "      <td>NaN</td>\n",
       "      <td>NaN</td>\n",
       "      <td>7.241487</td>\n",
       "    </tr>\n",
       "    <tr>\n",
       "      <th>9</th>\n",
       "      <td>10.0</td>\n",
       "      <td>2021-09-16</td>\n",
       "      <td>22:31:00</td>\n",
       "      <td>Low</td>\n",
       "      <td>1.0</td>\n",
       "      <td>Evening</td>\n",
       "      <td>137.508941</td>\n",
       "      <td>NaN</td>\n",
       "      <td>Low</td>\n",
       "      <td>NaN</td>\n",
       "      <td>NaN</td>\n",
       "      <td>3.718040</td>\n",
       "    </tr>\n",
       "  </tbody>\n",
       "</table>\n",
       "</div>"
      ],
      "text/plain": [
       "   Delivery_ID Delivery_Start_Date Delivery_Start_Time Traffic_Conditions  \\\n",
       "0          1.0          2020-09-03            12:41:00                Low   \n",
       "1          2.0          2022-12-22            20:14:00                Low   \n",
       "2          3.0          2021-06-05            11:20:00               High   \n",
       "3          4.0          2023-05-02            05:50:00               High   \n",
       "4          5.0          2020-07-07            02:34:00           Moderate   \n",
       "5          6.0          2021-01-08            06:46:00               High   \n",
       "6          7.0          2021-11-02            05:25:00                Low   \n",
       "7          8.0          2022-03-01            16:44:00               High   \n",
       "8          9.0          2023-02-15            18:46:00               High   \n",
       "9         10.0          2021-09-16            22:31:00                Low   \n",
       "\n",
       "   Number_of_Packages Customer_Preference_for_Delivery_Time  Distance_(miles)  \\\n",
       "0                 7.0                               Evening        167.884751   \n",
       "1                10.0                               Morning        154.154474   \n",
       "2                 2.0                             Afternoon        196.084835   \n",
       "3                15.0                               Morning         94.010339   \n",
       "4                17.0                               Evening        202.254271   \n",
       "5                 7.0                               Evening        142.464202   \n",
       "6                17.0                             Afternoon        193.844452   \n",
       "7                 6.0                               Evening        145.056879   \n",
       "8                18.0                               Evening        155.081309   \n",
       "9                 1.0                               Evening        137.508941   \n",
       "\n",
       "   fog rain snow hail  Historical_Delivery_Time_(hours)  \n",
       "0  NaN  NaN  Low  NaN                          9.294688  \n",
       "1  Low  NaN  Mid  NaN                          9.303765  \n",
       "2  NaN  Mid  NaN  NaN                          8.734668  \n",
       "3  NaN  NaN  NaN  NaN                          7.806979  \n",
       "4  Mid  NaN  NaN  NaN                         12.770403  \n",
       "5  NaN  Low  NaN  NaN                          6.731095  \n",
       "6  NaN  Mid  NaN  NaN                          9.108041  \n",
       "7  NaN  NaN  NaN  NaN                          5.977140  \n",
       "8  NaN  Mid  NaN  NaN                          7.241487  \n",
       "9  NaN  Low  NaN  NaN                          3.718040  "
      ]
     },
     "execution_count": 6,
     "metadata": {},
     "output_type": "execute_result"
    }
   ],
   "source": [
    "# Check the frst 10 rows\n",
    "data.head(10)"
   ]
  },
  {
   "cell_type": "markdown",
   "metadata": {
    "id": "42-onxiwPBzk"
   },
   "source": [
    "**DATA CLEANING**"
   ]
  },
  {
   "cell_type": "code",
   "execution_count": 7,
   "metadata": {
    "colab": {
     "base_uri": "https://localhost:8080/",
     "height": 0
    },
    "executionInfo": {
     "elapsed": 1114,
     "status": "ok",
     "timestamp": 1698015894031,
     "user": {
      "displayName": "Efemena Ikpro",
      "userId": "07524339756286888285"
     },
     "user_tz": -60
    },
    "id": "G46sfW8AkTvR",
    "outputId": "ad1f1923-dfd1-4b30-b2c0-1b1b337edd74"
   },
   "outputs": [
    {
     "data": {
      "text/plain": [
       "Delivery_ID                                   3\n",
       "Delivery_Start_Date                           1\n",
       "Delivery_Start_Time                           1\n",
       "Traffic_Conditions                            0\n",
       "Number_of_Packages                            2\n",
       "Customer_Preference_for_Delivery_Time         0\n",
       "Distance_(miles)                              1\n",
       "fog                                       78764\n",
       "rain                                      78739\n",
       "snow                                      91828\n",
       "hail                                     104777\n",
       "Historical_Delivery_Time_(hours)              1\n",
       "dtype: int64"
      ]
     },
     "execution_count": 7,
     "metadata": {},
     "output_type": "execute_result"
    }
   ],
   "source": [
    "# Check for mising values.\n",
    "data.isna().sum()"
   ]
  },
  {
   "cell_type": "code",
   "execution_count": 8,
   "metadata": {
    "executionInfo": {
     "elapsed": 1179,
     "status": "ok",
     "timestamp": 1698015895206,
     "user": {
      "displayName": "Efemena Ikpro",
      "userId": "07524339756286888285"
     },
     "user_tz": -60
    },
    "id": "WgvMT9irmeBI"
   },
   "outputs": [],
   "source": [
    "# Drop rows with missing values.\n",
    "data.dropna(axis = 0, inplace = True)"
   ]
  },
  {
   "cell_type": "code",
   "execution_count": 12,
   "metadata": {
    "colab": {
     "base_uri": "https://localhost:8080/",
     "height": 0
    },
    "executionInfo": {
     "elapsed": 334,
     "status": "ok",
     "timestamp": 1698015897927,
     "user": {
      "displayName": "Efemena Ikpro",
      "userId": "07524339756286888285"
     },
     "user_tz": -60
    },
    "id": "ckn9-U-atbmA",
    "outputId": "4dbeb77a-a78c-4b2c-9e8b-ea3ce33f1c6a"
   },
   "outputs": [
    {
     "data": {
      "text/plain": [
       "Delivery_ID                              0\n",
       "Delivery_Start_Date                      0\n",
       "Delivery_Start_Time                      0\n",
       "Traffic_Conditions                       0\n",
       "Number_of_Packages                       0\n",
       "Customer_Preference_for_Delivery_Time    0\n",
       "Distance_(miles)                         0\n",
       "fog                                      0\n",
       "rain                                     0\n",
       "snow                                     0\n",
       "hail                                     0\n",
       "Historical_Delivery_Time_(hours)         0\n",
       "dtype: int64"
      ]
     },
     "execution_count": 12,
     "metadata": {},
     "output_type": "execute_result"
    }
   ],
   "source": [
    "# Check for mising values.\n",
    "data.isna().sum()"
   ]
  },
  {
   "cell_type": "code",
   "execution_count": 10,
   "metadata": {},
   "outputs": [
    {
     "data": {
      "text/plain": [
       "0"
      ]
     },
     "execution_count": 10,
     "metadata": {},
     "output_type": "execute_result"
    }
   ],
   "source": [
    "# Check for duplicates.\n",
    "data.duplicated().sum()"
   ]
  },
  {
   "cell_type": "code",
   "execution_count": 13,
   "metadata": {},
   "outputs": [
    {
     "data": {
      "text/plain": [
       "(1274, 12)"
      ]
     },
     "execution_count": 13,
     "metadata": {},
     "output_type": "execute_result"
    }
   ],
   "source": [
    "# Check the shape of data.\n",
    "data.shape"
   ]
  },
  {
   "cell_type": "markdown",
   "metadata": {
    "id": "BgZPVe_bnMUP"
   },
   "source": [
    "IN THE DATA CLEANING PHASE OF THE WORKFLOW, MISSING VALUES HAVE BEEN CLEANED OUT AND DUPLICATES HAVE BEEN DROPPED "
   ]
  },
  {
   "cell_type": "markdown",
   "metadata": {
    "id": "GkFyOZ1unNbn"
   },
   "source": [
    "**EXPLORATORY DATA ANALYSIS:** Observe the relationships between the columns and the target variables"
   ]
  },
  {
   "cell_type": "code",
   "execution_count": 15,
   "metadata": {
    "colab": {
     "base_uri": "https://localhost:8080/",
     "height": 721
    },
    "executionInfo": {
     "elapsed": 2051,
     "status": "ok",
     "timestamp": 1698015908274,
     "user": {
      "displayName": "Efemena Ikpro",
      "userId": "07524339756286888285"
     },
     "user_tz": -60
    },
    "id": "0BFVFUWtnBq-",
    "outputId": "91fb9e96-d52f-4c3f-9ead-4dd64c3334fb"
   },
   "outputs": [
    {
     "data": {
      "text/plain": [
       "<Axes: >"
      ]
     },
     "execution_count": 15,
     "metadata": {},
     "output_type": "execute_result"
    },
    {
     "data": {
      "image/png": "[encoded data removed]",
      "text/plain": [
       "<Figure size 640x480 with 2 Axes>"
      ]
     },
     "metadata": {},
     "output_type": "display_data"
    }
   ],
   "source": [
    "# Create a correlation heatmap.\n",
    "corr_df = data.select_dtypes(include='number')\\\n",
    "                .drop('Historical_Delivery_Time_(hours)', axis=1)\\\n",
    "                .corr()\n",
    "\n",
    "sns.heatmap(corr_df,\n",
    "            cbar=True,\n",
    "            annot=True,\n",
    "            square=True,\n",
    "            fmt='.2f',\n",
    "            annot_kws={'size': 10},\n",
    "            cmap=\"Blues\")\n",
    "\n",
    "#seems to be a slight correlation between snumber of packages and deivery time  ==> could imply that a driver handling multiple deliveries\n",
    "#leads to later delvery times for later product\n",
    "\n",
    "#also not suprising =, distance and delivery time show stron correlation"
   ]
  },
  {
   "cell_type": "code",
   "execution_count": 16,
   "metadata": {
    "colab": {
     "base_uri": "https://localhost:8080/",
     "height": 0
    },
    "executionInfo": {
     "elapsed": 309,
     "status": "ok",
     "timestamp": 1698016011857,
     "user": {
      "displayName": "Efemena Ikpro",
      "userId": "07524339756286888285"
     },
     "user_tz": -60
    },
    "id": "leikqQ4anpHP",
    "outputId": "09bcbb5f-17ca-4e40-d353-8003855fc690"
   },
   "outputs": [
    {
     "data": {
      "text/plain": [
       "Index(['Delivery_ID', 'Delivery_Start_Date', 'Delivery_Start_Time',\n",
       "       'Traffic_Conditions', 'Number_of_Packages',\n",
       "       'Customer_Preference_for_Delivery_Time', 'Distance_(miles)', 'fog',\n",
       "       'rain', 'snow', 'hail', 'Historical_Delivery_Time_(hours)'],\n",
       "      dtype='object')"
      ]
     },
     "execution_count": 16,
     "metadata": {},
     "output_type": "execute_result"
    }
   ],
   "source": [
    "data.columns"
   ]
  },
  {
   "cell_type": "code",
   "execution_count": 17,
   "metadata": {
    "executionInfo": {
     "elapsed": 5,
     "status": "ok",
     "timestamp": 1698016012569,
     "user": {
      "displayName": "Efemena Ikpro",
      "userId": "07524339756286888285"
     },
     "user_tz": -60
    },
    "id": "KCfiDgKsoUeu"
   },
   "outputs": [],
   "source": [
    "##seperating out by columns : cat_columns, num_columns, date_time\n",
    "date_time_columns = ['Delivery_Start_Date','Delivery_Start_Time',]\n",
    "cat_columns = [\"Traffic_Conditions\", \"Customer_Preference_for_Delivery_Time\",'fog','rain', 'snow', 'hail']\n",
    "num_columns = [col for col in data.columns if col not in ['Historical_Delivery_Time_(hours)'] + cat_columns + date_time_columns]"
   ]
  },
  {
   "cell_type": "code",
   "execution_count": 18,
   "metadata": {
    "colab": {
     "base_uri": "https://localhost:8080/",
     "height": 0
    },
    "executionInfo": {
     "elapsed": 9,
     "status": "ok",
     "timestamp": 1698016013056,
     "user": {
      "displayName": "Efemena Ikpro",
      "userId": "07524339756286888285"
     },
     "user_tz": -60
    },
    "id": "VQodSb4Iom-t",
    "outputId": "ae44695e-a2c1-4f3c-b319-4fc02cab2aa6"
   },
   "outputs": [
    {
     "data": {
      "text/plain": [
       "['Delivery_ID', 'Number_of_Packages', 'Distance_(miles)']"
      ]
     },
     "execution_count": 18,
     "metadata": {},
     "output_type": "execute_result"
    }
   ],
   "source": [
    "num_columns"
   ]
  },
  {
   "cell_type": "code",
   "execution_count": 19,
   "metadata": {
    "colab": {
     "base_uri": "https://localhost:8080/",
     "height": 0
    },
    "executionInfo": {
     "elapsed": 9,
     "status": "ok",
     "timestamp": 1698016013833,
     "user": {
      "displayName": "Efemena Ikpro",
      "userId": "07524339756286888285"
     },
     "user_tz": -60
    },
    "id": "EtBfVD_eo98t",
    "outputId": "acac459e-a21d-4247-a167-f1cc9cc88a66"
   },
   "outputs": [
    {
     "data": {
      "text/plain": [
       "['Traffic_Conditions',\n",
       " 'Customer_Preference_for_Delivery_Time',\n",
       " 'fog',\n",
       " 'rain',\n",
       " 'snow',\n",
       " 'hail']"
      ]
     },
     "execution_count": 19,
     "metadata": {},
     "output_type": "execute_result"
    }
   ],
   "source": [
    "cat_columns"
   ]
  },
  {
   "cell_type": "code",
   "execution_count": 20,
   "metadata": {
    "colab": {
     "base_uri": "https://localhost:8080/",
     "height": 0
    },
    "executionInfo": {
     "elapsed": 11,
     "status": "ok",
     "timestamp": 1698016014214,
     "user": {
      "displayName": "Efemena Ikpro",
      "userId": "07524339756286888285"
     },
     "user_tz": -60
    },
    "id": "nRXT4aLT0sN7",
    "outputId": "5680f4de-192d-41c5-ede0-29d2077eee97"
   },
   "outputs": [
    {
     "data": {
      "text/plain": [
       "['Delivery_Start_Date', 'Delivery_Start_Time']"
      ]
     },
     "execution_count": 20,
     "metadata": {},
     "output_type": "execute_result"
    }
   ],
   "source": [
    "date_time_columns"
   ]
  },
  {
   "cell_type": "code",
   "execution_count": 21,
   "metadata": {
    "colab": {
     "base_uri": "https://localhost:8080/",
     "height": 410
    },
    "executionInfo": {
     "elapsed": 920,
     "status": "ok",
     "timestamp": 1698016121795,
     "user": {
      "displayName": "Efemena Ikpro",
      "userId": "07524339756286888285"
     },
     "user_tz": -60
    },
    "id": "F6xqTGHw0taT",
    "outputId": "20751e48-2cac-4fdd-da12-82a1b50a130c"
   },
   "outputs": [
    {
     "data": {
      "image/png": "[encoded data removed]",
      "text/plain": [
       "<Figure size 800x400 with 1 Axes>"
      ]
     },
     "metadata": {},
     "output_type": "display_data"
    }
   ],
   "source": [
    "#Univariate distribution plot\n",
    "#specify figure size\n",
    "plt.figure(figsize=(8, 4))\n",
    "#select and plot data\n",
    "data['Distance_(miles)'].plot(kind='hist', bins=20)\n",
    "#give it a title\n",
    "plt.title(f'Distribution of Distance')\n",
    "#give it a x label\n",
    "plt.xlabel('Distance in miles')\n",
    "#give it a y label\n",
    "plt.ylabel('Frequency')\n",
    "#show figure\n",
    "plt.show()"
   ]
  },
  {
   "cell_type": "code",
   "execution_count": 22,
   "metadata": {
    "colab": {
     "base_uri": "https://localhost:8080/",
     "height": 410
    },
    "executionInfo": {
     "elapsed": 897,
     "status": "ok",
     "timestamp": 1698016287744,
     "user": {
      "displayName": "Efemena Ikpro",
      "userId": "07524339756286888285"
     },
     "user_tz": -60
    },
    "id": "KBhVbT92pcxX",
    "outputId": "b01342c0-178c-430c-ee16-83ccbc1569dc"
   },
   "outputs": [
    {
     "data": {
      "image/png": "[encoded data removed]",
      "text/plain": [
       "<Figure size 800x400 with 1 Axes>"
      ]
     },
     "metadata": {},
     "output_type": "display_data"
    }
   ],
   "source": [
    "#lets do the same thing for number of packages\n",
    "#specify figure size\n",
    "plt.figure(figsize=(8, 4))\n",
    "#select and plot data\n",
    "data['Number_of_Packages'].plot(kind='hist', bins=20)\n",
    "#give it a title\n",
    "plt.title(f'Distribution of Number of packages')\n",
    "#give it a x label\n",
    "plt.xlabel('Number of Packages')\n",
    "#give it a y label\n",
    "plt.ylabel('Frequency')\n",
    "#show figure\n",
    "plt.show()"
   ]
  },
  {
   "cell_type": "code",
   "execution_count": 23,
   "metadata": {
    "colab": {
     "base_uri": "https://localhost:8080/",
     "height": 0
    },
    "executionInfo": {
     "elapsed": 314,
     "status": "ok",
     "timestamp": 1698016292540,
     "user": {
      "displayName": "Efemena Ikpro",
      "userId": "07524339756286888285"
     },
     "user_tz": -60
    },
    "id": "bzoiXYf7qFVl",
    "outputId": "ac19e309-f57b-4c2e-b6e8-faa495a6e5e5"
   },
   "outputs": [
    {
     "data": {
      "text/plain": [
       "['Traffic_Conditions',\n",
       " 'Customer_Preference_for_Delivery_Time',\n",
       " 'fog',\n",
       " 'rain',\n",
       " 'snow',\n",
       " 'hail']"
      ]
     },
     "execution_count": 23,
     "metadata": {},
     "output_type": "execute_result"
    }
   ],
   "source": [
    "cat_columns"
   ]
  },
  {
   "cell_type": "code",
   "execution_count": 24,
   "metadata": {
    "executionInfo": {
     "elapsed": 301,
     "status": "ok",
     "timestamp": 1698016382117,
     "user": {
      "displayName": "Efemena Ikpro",
      "userId": "07524339756286888285"
     },
     "user_tz": -60
    },
    "id": "VCyzkZBo1geA"
   },
   "outputs": [],
   "source": [
    "\n",
    "\n",
    "#creating Categotcal count plot\n",
    "def create_dist_plot(col):\n",
    "  plt.figure(figsize=(8, 4))\n",
    "  data[col].value_counts().plot(kind='bar')\n",
    "  plt.title(f'Distribution of {col}')\n",
    "  plt.xlabel(col)\n",
    "  plt.ylabel('Count')\n",
    "  plt.show()"
   ]
  },
  {
   "cell_type": "code",
   "execution_count": 25,
   "metadata": {
    "colab": {
     "base_uri": "https://localhost:8080/",
     "height": 463
    },
    "executionInfo": {
     "elapsed": 1199,
     "status": "ok",
     "timestamp": 1698016397608,
     "user": {
      "displayName": "Efemena Ikpro",
      "userId": "07524339756286888285"
     },
     "user_tz": -60
    },
    "id": "eH3l7ap-qZlF",
    "outputId": "ff57932f-81fe-4de5-a310-950c10a56e14"
   },
   "outputs": [
    {
     "data": {
      "image/png": "[encoded data removed]",
      "text/plain": [
       "<Figure size 800x400 with 1 Axes>"
      ]
     },
     "metadata": {},
     "output_type": "display_data"
    }
   ],
   "source": [
    "create_dist_plot(\"Traffic_Conditions\")"
   ]
  },
  {
   "cell_type": "code",
   "execution_count": 26,
   "metadata": {
    "colab": {
     "base_uri": "https://localhost:8080/",
     "height": 464
    },
    "executionInfo": {
     "elapsed": 598,
     "status": "ok",
     "timestamp": 1698016440007,
     "user": {
      "displayName": "Efemena Ikpro",
      "userId": "07524339756286888285"
     },
     "user_tz": -60
    },
    "id": "ShiatQ4L1mr6",
    "outputId": "33643c70-9af6-4de4-e211-9345b9a08641"
   },
   "outputs": [
    {
     "data": {
      "image/png": "[encoded data removed]",
      "text/plain": [
       "<Figure size 800x400 with 1 Axes>"
      ]
     },
     "metadata": {},
     "output_type": "display_data"
    }
   ],
   "source": [
    "create_dist_plot(cat_columns[1])"
   ]
  },
  {
   "cell_type": "code",
   "execution_count": 27,
   "metadata": {
    "colab": {
     "base_uri": "https://localhost:8080/",
     "height": 432
    },
    "executionInfo": {
     "elapsed": 932,
     "status": "ok",
     "timestamp": 1698016472511,
     "user": {
      "displayName": "Efemena Ikpro",
      "userId": "07524339756286888285"
     },
     "user_tz": -60
    },
    "id": "RSxj3w0XqqmC",
    "outputId": "f9e673be-b585-4487-8bb3-0b765939beec"
   },
   "outputs": [
    {
     "data": {
      "image/png": "[encoded data removed]",
      "text/plain": [
       "<Figure size 800x400 with 1 Axes>"
      ]
     },
     "metadata": {},
     "output_type": "display_data"
    }
   ],
   "source": [
    "create_dist_plot(cat_columns[2])"
   ]
  },
  {
   "cell_type": "code",
   "execution_count": 28,
   "metadata": {
    "colab": {
     "base_uri": "https://localhost:8080/",
     "height": 432
    },
    "executionInfo": {
     "elapsed": 713,
     "status": "ok",
     "timestamp": 1698016487208,
     "user": {
      "displayName": "Efemena Ikpro",
      "userId": "07524339756286888285"
     },
     "user_tz": -60
    },
    "id": "RK3hO8THqyaU",
    "outputId": "9c3dba9a-8395-4689-aebf-abedb121b2c4"
   },
   "outputs": [
    {
     "data": {
      "image/png": "[encoded data removed]",
      "text/plain": [
       "<Figure size 800x400 with 1 Axes>"
      ]
     },
     "metadata": {},
     "output_type": "display_data"
    }
   ],
   "source": [
    "create_dist_plot(cat_columns[3])"
   ]
  },
  {
   "cell_type": "code",
   "execution_count": 29,
   "metadata": {
    "colab": {
     "base_uri": "https://localhost:8080/",
     "height": 432
    },
    "executionInfo": {
     "elapsed": 1015,
     "status": "ok",
     "timestamp": 1698016507496,
     "user": {
      "displayName": "Efemena Ikpro",
      "userId": "07524339756286888285"
     },
     "user_tz": -60
    },
    "id": "5n6oqW2Vq2AU",
    "outputId": "f9bb094a-4c20-4e86-ea0a-957052394c77"
   },
   "outputs": [
    {
     "data": {
      "image/png": "[encoded data removed]",
      "text/plain": [
       "<Figure size 800x400 with 1 Axes>"
      ]
     },
     "metadata": {},
     "output_type": "display_data"
    }
   ],
   "source": [
    "create_dist_plot(cat_columns[4])"
   ]
  },
  {
   "cell_type": "code",
   "execution_count": 30,
   "metadata": {
    "colab": {
     "base_uri": "https://localhost:8080/",
     "height": 432
    },
    "executionInfo": {
     "elapsed": 1106,
     "status": "ok",
     "timestamp": 1698016524545,
     "user": {
      "displayName": "Efemena Ikpro",
      "userId": "07524339756286888285"
     },
     "user_tz": -60
    },
    "id": "SNNQro9Uq64d",
    "outputId": "a6f67d6f-247c-4938-f87b-805f21178132"
   },
   "outputs": [
    {
     "data": {
      "image/png": "[encoded data removed]",
      "text/plain": [
       "<Figure size 800x400 with 1 Axes>"
      ]
     },
     "metadata": {},
     "output_type": "display_data"
    }
   ],
   "source": [
    "create_dist_plot(cat_columns[5])"
   ]
  },
  {
   "cell_type": "code",
   "execution_count": 31,
   "metadata": {
    "executionInfo": {
     "elapsed": 361,
     "status": "ok",
     "timestamp": 1698016778406,
     "user": {
      "displayName": "Efemena Ikpro",
      "userId": "07524339756286888285"
     },
     "user_tz": -60
    },
    "id": "x5jdCf1mrBe0"
   },
   "outputs": [],
   "source": [
    "###lets see the impact of these weather conditons on delivery time"
   ]
  },
  {
   "cell_type": "code",
   "execution_count": 32,
   "metadata": {
    "colab": {
     "base_uri": "https://localhost:8080/",
     "height": 466
    },
    "executionInfo": {
     "elapsed": 935,
     "status": "ok",
     "timestamp": 1698016671770,
     "user": {
      "displayName": "Efemena Ikpro",
      "userId": "07524339756286888285"
     },
     "user_tz": -60
    },
    "id": "y6hDY3h4rBbt",
    "outputId": "25701bbc-0dde-4c3f-a4d7-950897dec38b"
   },
   "outputs": [
    {
     "data": {
      "text/plain": [
       "<Axes: xlabel='hail', ylabel='Historical_Delivery_Time_(hours)'>"
      ]
     },
     "execution_count": 32,
     "metadata": {},
     "output_type": "execute_result"
    },
    {
     "data": {
      "image/png": "[encoded data removed]",
      "text/plain": [
       "<Figure size 640x480 with 1 Axes>"
      ]
     },
     "metadata": {},
     "output_type": "display_data"
    }
   ],
   "source": [
    "sns.boxplot(data =data , x =\"hail\" , y =\"Historical_Delivery_Time_(hours)\" )"
   ]
  },
  {
   "cell_type": "code",
   "execution_count": 33,
   "metadata": {
    "colab": {
     "base_uri": "https://localhost:8080/",
     "height": 466
    },
    "executionInfo": {
     "elapsed": 1297,
     "status": "ok",
     "timestamp": 1698016715634,
     "user": {
      "displayName": "Efemena Ikpro",
      "userId": "07524339756286888285"
     },
     "user_tz": -60
    },
    "id": "9y2OzewprBT6",
    "outputId": "3a28c56e-a4b6-416c-e95a-c63ba65f37d2"
   },
   "outputs": [
    {
     "data": {
      "text/plain": [
       "<Axes: xlabel='rain', ylabel='Historical_Delivery_Time_(hours)'>"
      ]
     },
     "execution_count": 33,
     "metadata": {},
     "output_type": "execute_result"
    },
    {
     "data": {
      "image/png": "[encoded data removed]",
      "text/plain": [
       "<Figure size 640x480 with 1 Axes>"
      ]
     },
     "metadata": {},
     "output_type": "display_data"
    }
   ],
   "source": [
    "sns.boxplot(data =data , x =\"rain\" , y =\"Historical_Delivery_Time_(hours)\" )"
   ]
  },
  {
   "cell_type": "code",
   "execution_count": 34,
   "metadata": {
    "colab": {
     "base_uri": "https://localhost:8080/",
     "height": 466
    },
    "executionInfo": {
     "elapsed": 925,
     "status": "ok",
     "timestamp": 1698016738454,
     "user": {
      "displayName": "Efemena Ikpro",
      "userId": "07524339756286888285"
     },
     "user_tz": -60
    },
    "id": "Ut9_J0FbrttK",
    "outputId": "1acad2ce-00df-4fcc-a42e-51df0fae2533"
   },
   "outputs": [
    {
     "data": {
      "text/plain": [
       "<Axes: xlabel='fog', ylabel='Historical_Delivery_Time_(hours)'>"
      ]
     },
     "execution_count": 34,
     "metadata": {},
     "output_type": "execute_result"
    },
    {
     "data": {
      "image/png": "[encoded data removed]",
      "text/plain": [
       "<Figure size 640x480 with 1 Axes>"
      ]
     },
     "metadata": {},
     "output_type": "display_data"
    }
   ],
   "source": [
    "sns.boxplot(data =data , x =\"fog\" , y =\"Historical_Delivery_Time_(hours)\" )"
   ]
  },
  {
   "cell_type": "code",
   "execution_count": 35,
   "metadata": {
    "colab": {
     "base_uri": "https://localhost:8080/",
     "height": 466
    },
    "executionInfo": {
     "elapsed": 893,
     "status": "ok",
     "timestamp": 1698016764459,
     "user": {
      "displayName": "Efemena Ikpro",
      "userId": "07524339756286888285"
     },
     "user_tz": -60
    },
    "id": "VpMTmNNorBP6",
    "outputId": "4fca7944-e689-4d53-ab7b-793cf863d307"
   },
   "outputs": [
    {
     "data": {
      "text/plain": [
       "<Axes: xlabel='snow', ylabel='Historical_Delivery_Time_(hours)'>"
      ]
     },
     "execution_count": 35,
     "metadata": {},
     "output_type": "execute_result"
    },
    {
     "data": {
      "image/png": "[encoded data removed]",
      "text/plain": [
       "<Figure size 640x480 with 1 Axes>"
      ]
     },
     "metadata": {},
     "output_type": "display_data"
    }
   ],
   "source": [
    "sns.boxplot(data =data , x =\"snow\" , y =\"Historical_Delivery_Time_(hours)\" )"
   ]
  },
  {
   "cell_type": "markdown",
   "metadata": {
    "id": "KmVu_gI61tGz"
   },
   "source": [
    "**FEATURE ENGINEERING**"
   ]
  },
  {
   "cell_type": "code",
   "execution_count": 36,
   "metadata": {
    "executionInfo": {
     "elapsed": 1731,
     "status": "ok",
     "timestamp": 1698016959713,
     "user": {
      "displayName": "Efemena Ikpro",
      "userId": "07524339756286888285"
     },
     "user_tz": -60
    },
    "id": "iI6vde3h1xKS"
   },
   "outputs": [],
   "source": [
    "#so we are going to perform feature engineering and label encodng of the data in our dataset\n",
    "#for the date column ==> month, year, day of week\n",
    "#for the time column ==> period of the day(morning, afternoo or night)\n",
    "data['year_of_delvery'] =pd.to_datetime(data['Delivery_Start_Date']).apply(lambda x: x.year)\n",
    "data['month_of_delvery'] = pd.to_datetime(data['Delivery_Start_Date']).apply(lambda x: x.month)\n",
    "data['day_of_delvery'] = pd.to_datetime(data['Delivery_Start_Date']).apply(lambda x: x.day_of_week)"
   ]
  },
  {
   "cell_type": "code",
   "execution_count": 37,
   "metadata": {
    "colab": {
     "base_uri": "https://localhost:8080/",
     "height": 444
    },
    "executionInfo": {
     "elapsed": 28,
     "status": "ok",
     "timestamp": 1698016959714,
     "user": {
      "displayName": "Efemena Ikpro",
      "userId": "07524339756286888285"
     },
     "user_tz": -60
    },
    "id": "3r52zX6joxhR",
    "outputId": "d40c9181-60c9-434d-fe2c-7446820aef0f"
   },
   "outputs": [
    {
     "data": {
      "text/html": [
       "<div>\n",
       "<style scoped>\n",
       "    .dataframe tbody tr th:only-of-type {\n",
       "        vertical-align: middle;\n",
       "    }\n",
       "\n",
       "    .dataframe tbody tr th {\n",
       "        vertical-align: top;\n",
       "    }\n",
       "\n",
       "    .dataframe thead th {\n",
       "        text-align: right;\n",
       "    }\n",
       "</style>\n",
       "<table border=\"1\" class=\"dataframe\">\n",
       "  <thead>\n",
       "    <tr style=\"text-align: right;\">\n",
       "      <th></th>\n",
       "      <th>Delivery_ID</th>\n",
       "      <th>Delivery_Start_Date</th>\n",
       "      <th>Delivery_Start_Time</th>\n",
       "      <th>Traffic_Conditions</th>\n",
       "      <th>Number_of_Packages</th>\n",
       "      <th>Customer_Preference_for_Delivery_Time</th>\n",
       "      <th>Distance_(miles)</th>\n",
       "      <th>fog</th>\n",
       "      <th>rain</th>\n",
       "      <th>snow</th>\n",
       "      <th>hail</th>\n",
       "      <th>Historical_Delivery_Time_(hours)</th>\n",
       "      <th>year_of_delvery</th>\n",
       "      <th>month_of_delvery</th>\n",
       "      <th>day_of_delvery</th>\n",
       "    </tr>\n",
       "  </thead>\n",
       "  <tbody>\n",
       "    <tr>\n",
       "      <th>106</th>\n",
       "      <td>107.0</td>\n",
       "      <td>2022-05-18</td>\n",
       "      <td>03:35:00</td>\n",
       "      <td>High</td>\n",
       "      <td>13.0</td>\n",
       "      <td>Morning</td>\n",
       "      <td>125.926583</td>\n",
       "      <td>Low</td>\n",
       "      <td>Low</td>\n",
       "      <td>Low</td>\n",
       "      <td>Low</td>\n",
       "      <td>12.353761</td>\n",
       "      <td>2022</td>\n",
       "      <td>5</td>\n",
       "      <td>2</td>\n",
       "    </tr>\n",
       "    <tr>\n",
       "      <th>193</th>\n",
       "      <td>194.0</td>\n",
       "      <td>2023-10-28</td>\n",
       "      <td>07:55:00</td>\n",
       "      <td>Low</td>\n",
       "      <td>3.0</td>\n",
       "      <td>Morning</td>\n",
       "      <td>185.501994</td>\n",
       "      <td>Low</td>\n",
       "      <td>Low</td>\n",
       "      <td>Low</td>\n",
       "      <td>Mid</td>\n",
       "      <td>7.942314</td>\n",
       "      <td>2023</td>\n",
       "      <td>10</td>\n",
       "      <td>5</td>\n",
       "    </tr>\n",
       "    <tr>\n",
       "      <th>240</th>\n",
       "      <td>241.0</td>\n",
       "      <td>2020-12-10</td>\n",
       "      <td>05:37:00</td>\n",
       "      <td>Moderate</td>\n",
       "      <td>11.0</td>\n",
       "      <td>Morning</td>\n",
       "      <td>91.518198</td>\n",
       "      <td>High</td>\n",
       "      <td>Low</td>\n",
       "      <td>High</td>\n",
       "      <td>Low</td>\n",
       "      <td>13.157350</td>\n",
       "      <td>2020</td>\n",
       "      <td>12</td>\n",
       "      <td>3</td>\n",
       "    </tr>\n",
       "    <tr>\n",
       "      <th>266</th>\n",
       "      <td>267.0</td>\n",
       "      <td>2022-09-13</td>\n",
       "      <td>23:50:00</td>\n",
       "      <td>High</td>\n",
       "      <td>14.0</td>\n",
       "      <td>Evening</td>\n",
       "      <td>191.963738</td>\n",
       "      <td>Low</td>\n",
       "      <td>High</td>\n",
       "      <td>Mid</td>\n",
       "      <td>High</td>\n",
       "      <td>10.610884</td>\n",
       "      <td>2022</td>\n",
       "      <td>9</td>\n",
       "      <td>1</td>\n",
       "    </tr>\n",
       "    <tr>\n",
       "      <th>304</th>\n",
       "      <td>305.0</td>\n",
       "      <td>2021-07-02</td>\n",
       "      <td>08:06:00</td>\n",
       "      <td>High</td>\n",
       "      <td>20.0</td>\n",
       "      <td>Evening</td>\n",
       "      <td>171.415035</td>\n",
       "      <td>Low</td>\n",
       "      <td>Low</td>\n",
       "      <td>Low</td>\n",
       "      <td>Low</td>\n",
       "      <td>14.218450</td>\n",
       "      <td>2021</td>\n",
       "      <td>7</td>\n",
       "      <td>4</td>\n",
       "    </tr>\n",
       "    <tr>\n",
       "      <th>...</th>\n",
       "      <td>...</td>\n",
       "      <td>...</td>\n",
       "      <td>...</td>\n",
       "      <td>...</td>\n",
       "      <td>...</td>\n",
       "      <td>...</td>\n",
       "      <td>...</td>\n",
       "      <td>...</td>\n",
       "      <td>...</td>\n",
       "      <td>...</td>\n",
       "      <td>...</td>\n",
       "      <td>...</td>\n",
       "      <td>...</td>\n",
       "      <td>...</td>\n",
       "      <td>...</td>\n",
       "    </tr>\n",
       "    <tr>\n",
       "      <th>130492</th>\n",
       "      <td>130493.0</td>\n",
       "      <td>2020-09-23</td>\n",
       "      <td>17:00:00</td>\n",
       "      <td>High</td>\n",
       "      <td>15.0</td>\n",
       "      <td>Afternoon</td>\n",
       "      <td>161.811704</td>\n",
       "      <td>Low</td>\n",
       "      <td>Mid</td>\n",
       "      <td>Mid</td>\n",
       "      <td>Low</td>\n",
       "      <td>9.570188</td>\n",
       "      <td>2020</td>\n",
       "      <td>9</td>\n",
       "      <td>2</td>\n",
       "    </tr>\n",
       "    <tr>\n",
       "      <th>130518</th>\n",
       "      <td>130519.0</td>\n",
       "      <td>2020-05-16</td>\n",
       "      <td>04:45:00</td>\n",
       "      <td>High</td>\n",
       "      <td>16.0</td>\n",
       "      <td>Evening</td>\n",
       "      <td>65.168549</td>\n",
       "      <td>High</td>\n",
       "      <td>Low</td>\n",
       "      <td>High</td>\n",
       "      <td>High</td>\n",
       "      <td>8.651244</td>\n",
       "      <td>2020</td>\n",
       "      <td>5</td>\n",
       "      <td>5</td>\n",
       "    </tr>\n",
       "    <tr>\n",
       "      <th>130735</th>\n",
       "      <td>130736.0</td>\n",
       "      <td>2020-06-08</td>\n",
       "      <td>21:28:00</td>\n",
       "      <td>Low</td>\n",
       "      <td>5.0</td>\n",
       "      <td>Morning</td>\n",
       "      <td>143.437112</td>\n",
       "      <td>Low</td>\n",
       "      <td>Low</td>\n",
       "      <td>Mid</td>\n",
       "      <td>Low</td>\n",
       "      <td>9.438782</td>\n",
       "      <td>2020</td>\n",
       "      <td>6</td>\n",
       "      <td>0</td>\n",
       "    </tr>\n",
       "    <tr>\n",
       "      <th>130820</th>\n",
       "      <td>130821.0</td>\n",
       "      <td>2020-11-02</td>\n",
       "      <td>07:57:00</td>\n",
       "      <td>Moderate</td>\n",
       "      <td>17.0</td>\n",
       "      <td>Afternoon</td>\n",
       "      <td>80.996520</td>\n",
       "      <td>Mid</td>\n",
       "      <td>Mid</td>\n",
       "      <td>Low</td>\n",
       "      <td>Low</td>\n",
       "      <td>15.093075</td>\n",
       "      <td>2020</td>\n",
       "      <td>11</td>\n",
       "      <td>0</td>\n",
       "    </tr>\n",
       "    <tr>\n",
       "      <th>130935</th>\n",
       "      <td>130936.0</td>\n",
       "      <td>2020-04-02</td>\n",
       "      <td>11:07:00</td>\n",
       "      <td>Low</td>\n",
       "      <td>20.0</td>\n",
       "      <td>Afternoon</td>\n",
       "      <td>176.680960</td>\n",
       "      <td>Low</td>\n",
       "      <td>High</td>\n",
       "      <td>Low</td>\n",
       "      <td>Low</td>\n",
       "      <td>12.717901</td>\n",
       "      <td>2020</td>\n",
       "      <td>4</td>\n",
       "      <td>3</td>\n",
       "    </tr>\n",
       "  </tbody>\n",
       "</table>\n",
       "<p>1274 rows × 15 columns</p>\n",
       "</div>"
      ],
      "text/plain": [
       "        Delivery_ID Delivery_Start_Date Delivery_Start_Time  \\\n",
       "106           107.0          2022-05-18            03:35:00   \n",
       "193           194.0          2023-10-28            07:55:00   \n",
       "240           241.0          2020-12-10            05:37:00   \n",
       "266           267.0          2022-09-13            23:50:00   \n",
       "304           305.0          2021-07-02            08:06:00   \n",
       "...             ...                 ...                 ...   \n",
       "130492     130493.0          2020-09-23            17:00:00   \n",
       "130518     130519.0          2020-05-16            04:45:00   \n",
       "130735     130736.0          2020-06-08            21:28:00   \n",
       "130820     130821.0          2020-11-02            07:57:00   \n",
       "130935     130936.0          2020-04-02            11:07:00   \n",
       "\n",
       "       Traffic_Conditions  Number_of_Packages  \\\n",
       "106                  High                13.0   \n",
       "193                   Low                 3.0   \n",
       "240              Moderate                11.0   \n",
       "266                  High                14.0   \n",
       "304                  High                20.0   \n",
       "...                   ...                 ...   \n",
       "130492               High                15.0   \n",
       "130518               High                16.0   \n",
       "130735                Low                 5.0   \n",
       "130820           Moderate                17.0   \n",
       "130935                Low                20.0   \n",
       "\n",
       "       Customer_Preference_for_Delivery_Time  Distance_(miles)   fog  rain  \\\n",
       "106                                  Morning        125.926583   Low   Low   \n",
       "193                                  Morning        185.501994   Low   Low   \n",
       "240                                  Morning         91.518198  High   Low   \n",
       "266                                  Evening        191.963738   Low  High   \n",
       "304                                  Evening        171.415035   Low   Low   \n",
       "...                                      ...               ...   ...   ...   \n",
       "130492                             Afternoon        161.811704   Low   Mid   \n",
       "130518                               Evening         65.168549  High   Low   \n",
       "130735                               Morning        143.437112   Low   Low   \n",
       "130820                             Afternoon         80.996520   Mid   Mid   \n",
       "130935                             Afternoon        176.680960   Low  High   \n",
       "\n",
       "        snow  hail  Historical_Delivery_Time_(hours)  year_of_delvery  \\\n",
       "106      Low   Low                         12.353761             2022   \n",
       "193      Low   Mid                          7.942314             2023   \n",
       "240     High   Low                         13.157350             2020   \n",
       "266      Mid  High                         10.610884             2022   \n",
       "304      Low   Low                         14.218450             2021   \n",
       "...      ...   ...                               ...              ...   \n",
       "130492   Mid   Low                          9.570188             2020   \n",
       "130518  High  High                          8.651244             2020   \n",
       "130735   Mid   Low                          9.438782             2020   \n",
       "130820   Low   Low                         15.093075             2020   \n",
       "130935   Low   Low                         12.717901             2020   \n",
       "\n",
       "        month_of_delvery  day_of_delvery  \n",
       "106                    5               2  \n",
       "193                   10               5  \n",
       "240                   12               3  \n",
       "266                    9               1  \n",
       "304                    7               4  \n",
       "...                  ...             ...  \n",
       "130492                 9               2  \n",
       "130518                 5               5  \n",
       "130735                 6               0  \n",
       "130820                11               0  \n",
       "130935                 4               3  \n",
       "\n",
       "[1274 rows x 15 columns]"
      ]
     },
     "execution_count": 37,
     "metadata": {},
     "output_type": "execute_result"
    }
   ],
   "source": [
    "data"
   ]
  },
  {
   "cell_type": "code",
   "execution_count": 38,
   "metadata": {
    "executionInfo": {
     "elapsed": 380,
     "status": "ok",
     "timestamp": 1698016960075,
     "user": {
      "displayName": "Efemena Ikpro",
      "userId": "07524339756286888285"
     },
     "user_tz": -60
    },
    "id": "bXfGzP8E3KFH"
   },
   "outputs": [],
   "source": [
    "\n",
    "#label encoding for traffic and weather conditions\n",
    "###mapping traffic and weather to numbers\n",
    "mapper = {\n",
    "    \"None\": 0,\n",
    "    \"Low\" :1,\n",
    "    \"Mid\": 2,\n",
    "    \"Moderate\": 2,\n",
    "    \"High\": 3\n",
    "\n",
    "}\n",
    "\n",
    "data['hail'] = data['hail'].map(mapper)\n",
    "data['fog'] = data['fog'].map(mapper)\n",
    "data['snow'] = data['snow'].map(mapper)\n",
    "data['rain'] = data['rain'].map(mapper)\n",
    "\n",
    "data[\"Traffic_Conditions\"] = data[\"Traffic_Conditions\"].map(mapper)\n",
    "\n"
   ]
  },
  {
   "cell_type": "code",
   "execution_count": 39,
   "metadata": {
    "colab": {
     "base_uri": "https://localhost:8080/",
     "height": 0
    },
    "executionInfo": {
     "elapsed": 10,
     "status": "ok",
     "timestamp": 1698016960076,
     "user": {
      "displayName": "Efemena Ikpro",
      "userId": "07524339756286888285"
     },
     "user_tz": -60
    },
    "id": "UrjiXn-qrObx",
    "outputId": "2ff22848-5134-4dbb-b4e9-15bdf109e052"
   },
   "outputs": [
    {
     "data": {
      "text/plain": [
       "array(['Morning', 'Evening', 'Afternoon'], dtype=object)"
      ]
     },
     "execution_count": 39,
     "metadata": {},
     "output_type": "execute_result"
    }
   ],
   "source": [
    "data['Customer_Preference_for_Delivery_Time'].unique()"
   ]
  },
  {
   "cell_type": "code",
   "execution_count": 40,
   "metadata": {
    "executionInfo": {
     "elapsed": 8,
     "status": "ok",
     "timestamp": 1698016960076,
     "user": {
      "displayName": "Efemena Ikpro",
      "userId": "07524339756286888285"
     },
     "user_tz": -60
    },
    "id": "ow203E11q5gg"
   },
   "outputs": [],
   "source": [
    "#customer prefrenece also labeled alongside period of the day\n",
    "customer_preference = {\n",
    "    \"Evening\": 3,\n",
    "    \"Afternoon\":2,\n",
    "    \"Morning\":1\n",
    "}\n",
    "\n",
    "data['Customer_Preference_for_Delivery_Time'] = data['Customer_Preference_for_Delivery_Time'].map(customer_preference)"
   ]
  },
  {
   "cell_type": "code",
   "execution_count": 41,
   "metadata": {
    "colab": {
     "base_uri": "https://localhost:8080/",
     "height": 0
    },
    "executionInfo": {
     "elapsed": 7,
     "status": "ok",
     "timestamp": 1698016960076,
     "user": {
      "displayName": "Efemena Ikpro",
      "userId": "07524339756286888285"
     },
     "user_tz": -60
    },
    "id": "Oc0GtSMUtrdX",
    "outputId": "0c1b7126-c547-4765-8419-6a90c78f3816"
   },
   "outputs": [
    {
     "data": {
      "text/plain": [
       "106       1\n",
       "193       1\n",
       "240       1\n",
       "266       3\n",
       "304       3\n",
       "         ..\n",
       "130492    2\n",
       "130518    3\n",
       "130735    1\n",
       "130820    2\n",
       "130935    2\n",
       "Name: Customer_Preference_for_Delivery_Time, Length: 1274, dtype: int64"
      ]
     },
     "execution_count": 41,
     "metadata": {},
     "output_type": "execute_result"
    }
   ],
   "source": [
    "data['Customer_Preference_for_Delivery_Time']"
   ]
  },
  {
   "cell_type": "markdown",
   "metadata": {
    "id": "Ojuiu1tX3LDU"
   },
   "source": [
    "**FEATURE SELECTION**"
   ]
  },
  {
   "cell_type": "code",
   "execution_count": 42,
   "metadata": {
    "colab": {
     "base_uri": "https://localhost:8080/",
     "height": 774
    },
    "executionInfo": {
     "elapsed": 1292,
     "status": "ok",
     "timestamp": 1698016963937,
     "user": {
      "displayName": "Efemena Ikpro",
      "userId": "07524339756286888285"
     },
     "user_tz": -60
    },
    "id": "byR4C-EM3KO7",
    "outputId": "c4ac470a-135e-46d4-b325-272a85e9fb30"
   },
   "outputs": [
    {
     "data": {
      "image/png": "[encoded data removed]",
      "text/plain": [
       "<Figure size 1000x1000 with 2 Axes>"
      ]
     },
     "metadata": {},
     "output_type": "display_data"
    }
   ],
   "source": [
    "#geneate correlation heatmap\n",
    "corr_df = data.select_dtypes(include='number')\\\n",
    "                .drop('Historical_Delivery_Time_(hours)', axis=1)\\\n",
    "                .corr()\n",
    "\n",
    "plt.figure(figsize=(10, 10))\n",
    "\n",
    "sns.heatmap(corr_df,\n",
    "            cbar=True,\n",
    "            annot=True,\n",
    "            square=True,\n",
    "            fmt='.2f',\n",
    "            annot_kws={'size': 10},\n",
    "            cmap=\"Blues\")\n",
    "\n",
    "plt.show()"
   ]
  },
  {
   "cell_type": "code",
   "execution_count": 43,
   "metadata": {
    "id": "3BjFKdtW3eaA"
   },
   "outputs": [],
   "source": [
    "#with the exception of day, year of delivery,  and delivery id, the remainng feature shows a bit of correlation"
   ]
  },
  {
   "cell_type": "code",
   "execution_count": 44,
   "metadata": {
    "executionInfo": {
     "elapsed": 339,
     "status": "ok",
     "timestamp": 1698016973984,
     "user": {
      "displayName": "Efemena Ikpro",
      "userId": "07524339756286888285"
     },
     "user_tz": -60
    },
    "id": "egar6eCHsK6J"
   },
   "outputs": [],
   "source": [
    "features = ['Traffic_Conditions', 'Number_of_Packages',\n",
    "       'Customer_Preference_for_Delivery_Time', 'Distance_(miles)', 'fog',\n",
    "       'rain','snow', 'hail','year_of_delvery', 'month_of_delvery', 'day_of_delvery']\n",
    "\n",
    "target = \"Historical_Delivery_Time_(hours)\""
   ]
  },
  {
   "cell_type": "code",
   "execution_count": 45,
   "metadata": {
    "executionInfo": {
     "elapsed": 547,
     "status": "ok",
     "timestamp": 1698016977677,
     "user": {
      "displayName": "Efemena Ikpro",
      "userId": "07524339756286888285"
     },
     "user_tz": -60
    },
    "id": "0eG9aOmUsp74"
   },
   "outputs": [],
   "source": [
    "from sklearn.model_selection import train_test_split\n",
    "\n",
    "# Your dataset and target variable (X and y)\n",
    "X = data[features]# Features\n",
    "y = data[target]# Target variable\n",
    "\n",
    "# Split the dataset into a training set (e.g., 80%) and a testing set (e.g., 20%)\n",
    "X_train, X_test, y_train, y_test = train_test_split(X, y, test_size=0.3, random_state=42)\n"
   ]
  },
  {
   "cell_type": "code",
   "execution_count": null,
   "metadata": {
    "executionInfo": {
     "elapsed": 12,
     "status": "ok",
     "timestamp": 1698016979744,
     "user": {
      "displayName": "Efemena Ikpro",
      "userId": "07524339756286888285"
     },
     "user_tz": -60
    },
    "id": "qYW3mVzytSna"
   },
   "outputs": [],
   "source": []
  },
  {
   "cell_type": "code",
   "execution_count": 46,
   "metadata": {
    "executionInfo": {
     "elapsed": 471,
     "status": "ok",
     "timestamp": 1698016981504,
     "user": {
      "displayName": "Efemena Ikpro",
      "userId": "07524339756286888285"
     },
     "user_tz": -60
    },
    "id": "Tf9YOF0msptq"
   },
   "outputs": [],
   "source": [
    "import numpy as np\n",
    "import matplotlib.pyplot as plt\n",
    "from sklearn.ensemble import RandomForestRegressor\n"
   ]
  },
  {
   "cell_type": "code",
   "execution_count": 47,
   "metadata": {
    "executionInfo": {
     "elapsed": 50886,
     "status": "ok",
     "timestamp": 1698017035579,
     "user": {
      "displayName": "Efemena Ikpro",
      "userId": "07524339756286888285"
     },
     "user_tz": -60
    },
    "id": "MrcVibJqsK8Q"
   },
   "outputs": [],
   "source": [
    "\n",
    "#use simple random forest model to determine the best features\n",
    "# Create a Random Forest Classifier\n",
    "rf_classifier = RandomForestRegressor(n_estimators=100, random_state=42)\n",
    "\n",
    "# Fit the model to your data\n",
    "rf_classifier.fit(X_train, y_train)\n",
    "\n",
    "# Get feature importances from the model\n",
    "importances = rf_classifier.feature_importances_\n",
    "\n",
    "# Get feature names (assuming you have them)\n",
    "feature_names = features"
   ]
  },
  {
   "cell_type": "code",
   "execution_count": 48,
   "metadata": {
    "colab": {
     "base_uri": "https://localhost:8080/",
     "height": 759
    },
    "executionInfo": {
     "elapsed": 37,
     "status": "ok",
     "timestamp": 1697699676435,
     "user": {
      "displayName": "Efemena Ikpro",
      "userId": "07524339756286888285"
     },
     "user_tz": 420
    },
    "id": "e8SG6z9ItQB1",
    "outputId": "b350550a-40b1-4a5a-c619-a1d3cfb08893"
   },
   "outputs": [
    {
     "data": {
      "image/png": "[encoded data removed]",
      "text/plain": [
       "<Figure size 1000x600 with 1 Axes>"
      ]
     },
     "metadata": {},
     "output_type": "display_data"
    }
   ],
   "source": [
    "# Sort feature importances in descending order, and return the indice\n",
    "indices = np.argsort(importances)[::-1]\n",
    "\n",
    "# Plot the feature importances\n",
    "plt.figure(figsize=(10, 6))\n",
    "plt.title(\"Random Forest - Feature Importance\")\n",
    "\n",
    "plt.bar(range(X.shape[1]), importances[indices], align=\"center\")\n",
    "plt.xticks(range(X.shape[1]), [feature_names[i] for i in indices], rotation=45)\n",
    "plt.xlabel(\"Feature\")\n",
    "plt.ylabel(\"Importance Score\")\n",
    "plt.show()"
   ]
  },
  {
   "cell_type": "code",
   "execution_count": 49,
   "metadata": {
    "id": "ukoDIElzvDuV"
   },
   "outputs": [],
   "source": [
    "#selecting the best features from these models' insights\n",
    "\n",
    "features = ['Traffic_Conditions',\n",
    " 'Number_of_Packages',\n",
    " 'Distance_(miles)',\n",
    " 'fog',\n",
    " 'rain',\n",
    " 'snow',\n",
    " 'hail',\n",
    " 'month_of_delvery',]"
   ]
  },
  {
   "cell_type": "markdown",
   "metadata": {
    "id": "zD2RAO4bukND"
   },
   "source": [
    "The most important features(features that direct the models are\n",
    "'Traffic_Conditions'\n",
    " 'Number_of_Packages'\n",
    " 'Distance_(miles)'\n",
    " 'fog'\n",
    " 'rain'\n",
    " 'snow'\n",
    " 'hail'\n",
    " 'month_of_delvery'"
   ]
  },
  {
   "cell_type": "code",
   "execution_count": 50,
   "metadata": {
    "id": "zfZbI-2FvomW"
   },
   "outputs": [],
   "source": [
    "X = data[features]"
   ]
  },
  {
   "cell_type": "markdown",
   "metadata": {
    "id": "w-ChXWfn3fVu"
   },
   "source": [
    "**MODELING AND MODEL SELECTION**"
   ]
  },
  {
   "cell_type": "code",
   "execution_count": 51,
   "metadata": {
    "colab": {
     "base_uri": "https://localhost:8080/"
    },
    "executionInfo": {
     "elapsed": 57529,
     "status": "ok",
     "timestamp": 1697699134944,
     "user": {
      "displayName": "Efemena Ikpro",
      "userId": "07524339756286888285"
     },
     "user_tz": 420
    },
    "id": "mzQ79jBX3egA",
    "outputId": "16d0e993-df83-4af9-aad8-6b0c69dda0f3"
   },
   "outputs": [
    {
     "name": "stdout",
     "output_type": "stream",
     "text": [
      "Model: Decision Tree\n",
      "RMSE: 2.89\n",
      "MAE: 2.28\n",
      "MAPE: 22.25%\n",
      "========================================\n",
      "Model: Random Forest\n",
      "RMSE: 2.23\n",
      "MAE: 1.80\n",
      "MAPE: 17.43%\n",
      "========================================\n",
      "Model: Gradient Boosting\n",
      "RMSE: 2.17\n",
      "MAE: 1.78\n",
      "MAPE: 17.16%\n",
      "========================================\n"
     ]
    }
   ],
   "source": [
    "#train models from tree based/ensemble\n",
    "import numpy as np\n",
    "from sklearn.model_selection import train_test_split\n",
    "from sklearn.tree import DecisionTreeRegressor\n",
    "from sklearn.ensemble import RandomForestRegressor, GradientBoostingRegressor\n",
    "from sklearn.metrics import mean_squared_error, mean_absolute_error\n",
    "\n",
    "# Assuming you have your X and y data loaded already\n",
    "\n",
    "# Split the data into training and testing sets\n",
    "X_train, X_test, y_train, y_test = train_test_split(X, y, test_size=0.2, random_state=42)\n",
    "\n",
    "# Initialize the models\n",
    "models = {\n",
    "    \"Decision Tree\": DecisionTreeRegressor(random_state=42),\n",
    "    \"Random Forest\": RandomForestRegressor(n_estimators=100, random_state=42),\n",
    "    \"Gradient Boosting\": GradientBoostingRegressor(n_estimators=100, random_state=42)\n",
    "}\n",
    "\n",
    "# Training and evaluation loop\n",
    "for model_name, model in models.items():\n",
    "    # Train the model\n",
    "    model.fit(X_train, y_train)\n",
    "\n",
    "    # Make predictions\n",
    "    y_pred = model.predict(X_test)\n",
    "\n",
    "    # Calculate RMSE, MAE, and MAPE\n",
    "    rmse = np.sqrt(mean_squared_error(y_test, y_pred))\n",
    "    mae = mean_absolute_error(y_test, y_pred)\n",
    "    mape = np.mean(np.abs((y_test - y_pred) / y_test)) * 100  # MAPE in percentage\n",
    "\n",
    "    # Print the results\n",
    "    print(f\"Model: {model_name}\")\n",
    "    print(f\"RMSE: {rmse:.2f}\")\n",
    "    print(f\"MAE: {mae:.2f}\")\n",
    "    print(f\"MAPE: {mape:.2f}%\")\n",
    "    print(\"=\" * 40)\n"
   ]
  },
  {
   "cell_type": "code",
   "execution_count": 52,
   "metadata": {
    "colab": {
     "base_uri": "https://localhost:8080/"
    },
    "executionInfo": {
     "elapsed": 5252,
     "status": "ok",
     "timestamp": 1697699159788,
     "user": {
      "displayName": "Efemena Ikpro",
      "userId": "07524339756286888285"
     },
     "user_tz": 420
    },
    "id": "UPnqf7rUwBpn",
    "outputId": "d48f50a1-628e-497a-f4e6-a848339c9a8d"
   },
   "outputs": [
    {
     "name": "stdout",
     "output_type": "stream",
     "text": [
      "Model: KNN (k=1)\n",
      "RMSE: 3.21\n",
      "MAE: 2.58\n",
      "MAPE: 24.40%\n",
      "========================================\n",
      "Model: KNN (k=3)\n",
      "RMSE: 2.74\n",
      "MAE: 2.19\n",
      "MAPE: 20.96%\n",
      "========================================\n",
      "Model: KNN (k=5)\n",
      "RMSE: 2.55\n",
      "MAE: 2.06\n",
      "MAPE: 19.87%\n",
      "========================================\n",
      "Model: KNN (k=7)\n",
      "RMSE: 2.56\n",
      "MAE: 2.09\n",
      "MAPE: 20.22%\n",
      "========================================\n",
      "Model: KNN (k=9)\n",
      "RMSE: 2.49\n",
      "MAE: 2.02\n",
      "MAPE: 19.54%\n",
      "========================================\n"
     ]
    }
   ],
   "source": [
    "#neigbors\n",
    "import numpy as np\n",
    "from sklearn.model_selection import train_test_split\n",
    "from sklearn.neighbors import KNeighborsRegressor\n",
    "from sklearn.metrics import mean_squared_error, mean_absolute_error\n",
    "\n",
    "# Assuming you have your X and y data loaded already\n",
    "\n",
    "# Split the data into training and testing sets\n",
    "X_train, X_test, y_train, y_test = train_test_split(X, y, test_size=0.2, random_state=42)\n",
    "\n",
    "# Initialize the KNN regressor models with different values of k\n",
    "k_values = [1, 3, 5, 7, 9]  # You can adjust these values\n",
    "models = {f\"KNN (k={k})\": KNeighborsRegressor(n_neighbors=k) for k in k_values}\n",
    "\n",
    "# Training and evaluation loop\n",
    "for model_name, model in models.items():\n",
    "    # Train the model\n",
    "    model.fit(X_train, y_train)\n",
    "\n",
    "    # Make predictions\n",
    "    y_pred = model.predict(X_test)\n",
    "\n",
    "    # Calculate RMSE, MAE, and MAPE\n",
    "    rmse = np.sqrt(mean_squared_error(y_test, y_pred))\n",
    "    mae = mean_absolute_error(y_test, y_pred)\n",
    "    mape = np.mean(np.abs((y_test - y_pred) / y_test)) * 100  # MAPE in percentage\n",
    "\n",
    "    # Print the results\n",
    "    print(f\"Model: {model_name}\")\n",
    "    print(f\"RMSE: {rmse:.2f}\")\n",
    "    print(f\"MAE: {mae:.2f}\")\n",
    "    print(f\"MAPE: {mape:.2f}%\")\n",
    "    print(\"=\" * 40)\n"
   ]
  },
  {
   "cell_type": "code",
   "execution_count": 53,
   "metadata": {
    "colab": {
     "base_uri": "https://localhost:8080/"
    },
    "executionInfo": {
     "elapsed": 498,
     "status": "ok",
     "timestamp": 1697699676926,
     "user": {
      "displayName": "Efemena Ikpro",
      "userId": "07524339756286888285"
     },
     "user_tz": 420
    },
    "id": "bidOZJO8wiLy",
    "outputId": "5cfce79f-c868-4e36-9450-0306e7f88f9b"
   },
   "outputs": [
    {
     "name": "stdout",
     "output_type": "stream",
     "text": [
      "Model: Linear Regression\n",
      "RMSE: 2.19\n",
      "MAE: 1.78\n",
      "MAPE: 17.43%\n",
      "========================================\n",
      "Model: Lasso Regression\n",
      "RMSE: 2.47\n",
      "MAE: 1.99\n",
      "MAPE: 19.68%\n",
      "========================================\n",
      "Model: Ridge Regression\n",
      "RMSE: 2.19\n",
      "MAE: 1.78\n",
      "MAPE: 17.43%\n",
      "========================================\n",
      "Model: Elastic Net\n",
      "RMSE: 2.43\n",
      "MAE: 1.96\n",
      "MAPE: 19.35%\n",
      "========================================\n"
     ]
    }
   ],
   "source": [
    "#linear models\n",
    "import numpy as np\n",
    "from sklearn.model_selection import train_test_split\n",
    "from sklearn.linear_model import LinearRegression, Lasso, Ridge, ElasticNet\n",
    "from sklearn.metrics import mean_squared_error, mean_absolute_error\n",
    "\n",
    "# Assuming you have your X and y data loaded already\n",
    "\n",
    "# Split the data into training and testing sets\n",
    "X_train, X_test, y_train, y_test = train_test_split(X, y, test_size=0.2, random_state=42)\n",
    "\n",
    "# Initialize the linear models\n",
    "linear_regressor = LinearRegression()\n",
    "lasso_regressor = Lasso(alpha=1.0)\n",
    "ridge_regressor = Ridge(alpha=1.0)\n",
    "elasticnet_regressor = ElasticNet(alpha=1.0, l1_ratio=0.5)\n",
    "\n",
    "# Create a dictionary of models\n",
    "models = {\n",
    "    \"Linear Regression\": linear_regressor,\n",
    "    \"Lasso Regression\": lasso_regressor,\n",
    "    \"Ridge Regression\": ridge_regressor,\n",
    "    \"Elastic Net\": elasticnet_regressor\n",
    "}\n",
    "\n",
    "# Training and evaluation loop for each model\n",
    "for model_name, model in models.items():\n",
    "    # Train the model\n",
    "    model.fit(X_train, y_train)\n",
    "\n",
    "    # Make predictions\n",
    "    y_pred = model.predict(X_test)\n",
    "\n",
    "    # Calculate RMSE, MAE, and MAPE\n",
    "    rmse = np.sqrt(mean_squared_error(y_test, y_pred))\n",
    "    mae = mean_absolute_error(y_test, y_pred)\n",
    "    mape = np.mean(np.abs((y_test - y_pred) / y_test)) * 100  # MAPE in percentage\n",
    "\n",
    "    # Print the results\n",
    "    print(f\"Model: {model_name}\")\n",
    "    print(f\"RMSE: {rmse:.2f}\")\n",
    "    print(f\"MAE: {mae:.2f}\")\n",
    "    print(f\"MAPE: {mape:.2f}%\")\n",
    "    print(\"=\" * 40)\n"
   ]
  },
  {
   "cell_type": "code",
   "execution_count": null,
   "metadata": {
    "id": "niV0i_283t7C"
   },
   "outputs": [],
   "source": []
  },
  {
   "cell_type": "code",
   "execution_count": 54,
   "metadata": {
    "id": "Gjpet1_r3-Ga"
   },
   "outputs": [],
   "source": [
    "#select top performing models\n"
   ]
  },
  {
   "cell_type": "markdown",
   "metadata": {
    "id": "v0CWefalyYxg"
   },
   "source": [
    "the top performing models are : Random Forest, Gradient Boosting and KNN"
   ]
  },
  {
   "cell_type": "markdown",
   "metadata": {
    "id": "1vyaXxIZ4Eht"
   },
   "source": [
    "**HYPERPARAMETER TUNING USING GRID SEARCH**"
   ]
  },
  {
   "cell_type": "markdown",
   "metadata": {
    "id": "U-p1-nBPy0rx"
   },
   "source": [
    "Imporoving Random Forest Using Grid serach"
   ]
  },
  {
   "cell_type": "code",
   "execution_count": 55,
   "metadata": {
    "colab": {
     "base_uri": "https://localhost:8080/"
    },
    "executionInfo": {
     "elapsed": 592921,
     "status": "ok",
     "timestamp": 1697700701188,
     "user": {
      "displayName": "Efemena Ikpro",
      "userId": "07524339756286888285"
     },
     "user_tz": 420
    },
    "id": "HRJQ4dMn4Deq",
    "outputId": "eb03dee1-1e62-4f2b-8cbd-bf443acc8291"
   },
   "outputs": [
    {
     "name": "stdout",
     "output_type": "stream",
     "text": [
      "Fitting 3 folds for each of 12 candidates, totalling 36 fits\n",
      "Best Hyperparameters:\n",
      "{'max_depth': 10, 'min_samples_leaf': 2, 'min_samples_split': 5, 'n_estimators': 100}\n",
      "RMSE: 2.28\n",
      "MAE: 1.86\n"
     ]
    }
   ],
   "source": [
    "#for top performing models, implement grid search\n",
    "import numpy as np\n",
    "from sklearn.model_selection import GridSearchCV, train_test_split\n",
    "from sklearn.ensemble import RandomForestRegressor\n",
    "from sklearn.metrics import mean_squared_error, mean_absolute_error\n",
    "\n",
    "# Assuming you have your X and y data loaded already\n",
    "\n",
    "# Split the data into training and testing sets\n",
    "X_train, X_test, y_train, y_test = train_test_split(X, y, test_size=0.3, random_state=42)\n",
    "\n",
    "# Initialize the Random Forest Regressor\n",
    "rf_regressor = RandomForestRegressor(random_state=42)\n",
    "\n",
    "# Define the hyperparameters and their possible values for the grid search\n",
    "param_grid = {\n",
    "    'n_estimators': [100],  # Number of trees in the forest\n",
    "    'max_depth': [None, 10, 20],  # Maximum depth of each tree\n",
    "    'min_samples_split': [ 5, 10],  # Minimum number of samples required to split a node\n",
    "    'min_samples_leaf': [ 2, 4],   # Minimum number of samples required at each leaf node\n",
    "}\n",
    "\n",
    "# Create the grid search\n",
    "grid_search = GridSearchCV(estimator=rf_regressor, param_grid=param_grid,\n",
    "                           scoring='neg_mean_squared_error', cv=3, verbose=2, n_jobs=-1)\n",
    "\n",
    "# Perform the grid search on the training data\n",
    "grid_search.fit(X_train, y_train)\n",
    "\n",
    "# Get the best model from the grid search\n",
    "best_rf_model = grid_search.best_estimator_\n",
    "\n",
    "# Make predictions\n",
    "y_pred = best_rf_model.predict(X_test)\n",
    "\n",
    "# Calculate RMSE and MAE\n",
    "rmse = np.sqrt(mean_squared_error(y_test, y_pred))\n",
    "mae = mean_absolute_error(y_test, y_pred)\n",
    "\n",
    "# Print the best hyperparameters and evaluation metrics\n",
    "print(\"Best Hyperparameters:\")\n",
    "print(grid_search.best_params_)\n",
    "print(f\"RMSE: {rmse:.2f}\")\n",
    "print(f\"MAE: {mae:.2f}\")"
   ]
  },
  {
   "cell_type": "markdown",
   "metadata": {
    "id": "PBgvnsww0Tiv"
   },
   "source": [
    "Impoving Gradient Boosting Regressor Using Grid serach"
   ]
  },
  {
   "cell_type": "code",
   "execution_count": 56,
   "metadata": {
    "colab": {
     "base_uri": "https://localhost:8080/"
    },
    "executionInfo": {
     "elapsed": 222949,
     "status": "ok",
     "timestamp": 1697700924124,
     "user": {
      "displayName": "Efemena Ikpro",
      "userId": "07524339756286888285"
     },
     "user_tz": 420
    },
    "id": "4Sg2Wt9u0Ez2",
    "outputId": "f9a20748-31f3-4fe3-f2eb-e28dcc7a420a"
   },
   "outputs": [
    {
     "name": "stdout",
     "output_type": "stream",
     "text": [
      "Fitting 3 folds for each of 9 candidates, totalling 27 fits\n",
      "Best Hyperparameters:\n",
      "{'learning_rate': 0.1, 'max_depth': 3, 'n_estimators': 100}\n",
      "RMSE: 2.19\n",
      "MAE: 1.80\n"
     ]
    }
   ],
   "source": [
    "import numpy as np\n",
    "from sklearn.model_selection import GridSearchCV, train_test_split\n",
    "from sklearn.ensemble import GradientBoostingRegressor\n",
    "from sklearn.metrics import mean_squared_error, mean_absolute_error\n",
    "\n",
    "# Assuming you have your X and y data loaded already\n",
    "\n",
    "# Split the data into training and testing sets\n",
    "X_train, X_test, y_train, y_test = train_test_split(X, y, test_size=0.3, random_state=42)\n",
    "# Initialize the Gradient Boosting Regressor\n",
    "gb_regressor = GradientBoostingRegressor(random_state=42)\n",
    "\n",
    "# Define the hyperparameters and their possible values for the grid search\n",
    "param_grid = {\n",
    "    'n_estimators': [100],  # Number of boosting stages\n",
    "    'learning_rate': [0.01, 0.1, 0.2],  # Step size shrinkage\n",
    "    'max_depth': [3, 4, 5],  # Maximum depth of individual trees\n",
    "}\n",
    "\n",
    "# Create the grid search\n",
    "grid_search = GridSearchCV(estimator=gb_regressor, param_grid=param_grid,\n",
    "                           scoring='neg_mean_squared_error', cv=3, verbose=2, n_jobs=-1)\n",
    "\n",
    "# Perform the grid search on the training data\n",
    "grid_search.fit(X_train, y_train)\n",
    "\n",
    "# Get the best model from the grid search\n",
    "best_gb_model = grid_search.best_estimator_\n",
    "\n",
    "# Make predictions\n",
    "y_pred = best_gb_model.predict(X_test)\n",
    "\n",
    "# Calculate RMSE and MAE\n",
    "rmse = np.sqrt(mean_squared_error(y_test, y_pred))\n",
    "mae = mean_absolute_error(y_test, y_pred)\n",
    "\n",
    "# Print the best hyperparameters and evaluation metrics\n",
    "print(\"Best Hyperparameters:\")\n",
    "print(grid_search.best_params_)\n",
    "print(f\"RMSE: {rmse:.2f}\")\n",
    "print(f\"MAE: {mae:.2f}\")\n"
   ]
  },
  {
   "cell_type": "markdown",
   "metadata": {
    "id": "R4i-LNUh0C7o"
   },
   "source": [
    "Impoving K nerest Neighbor Regressor Using Grid serach"
   ]
  },
  {
   "cell_type": "code",
   "execution_count": 57,
   "metadata": {
    "colab": {
     "base_uri": "https://localhost:8080/"
    },
    "executionInfo": {
     "elapsed": 35679,
     "status": "ok",
     "timestamp": 1697700960958,
     "user": {
      "displayName": "Efemena Ikpro",
      "userId": "07524339756286888285"
     },
     "user_tz": 420
    },
    "id": "b4A-nP3z0mGW",
    "outputId": "1f69f6df-1932-4f70-9314-8f41556cc463"
   },
   "outputs": [
    {
     "name": "stdout",
     "output_type": "stream",
     "text": [
      "Fitting 3 folds for each of 12 candidates, totalling 36 fits\n",
      "Best Hyperparameters:\n",
      "{'n_neighbors': 9, 'weights': 'distance'}\n",
      "RMSE: 2.48\n",
      "MAE: 2.02\n"
     ]
    }
   ],
   "source": [
    "import numpy as np\n",
    "from sklearn.model_selection import GridSearchCV, train_test_split\n",
    "from sklearn.neighbors import KNeighborsRegressor\n",
    "from sklearn.metrics import mean_squared_error, mean_absolute_error\n",
    "\n",
    "# Assuming you have your X and y data loaded already\n",
    "\n",
    "# Split the data into training and testing sets\n",
    "X_train, X_test, y_train, y_test = train_test_split(X, y, test_size=0.2, random_state=42)\n",
    "\n",
    "# Initialize the KNN Regressor\n",
    "knn_regressor = KNeighborsRegressor()\n",
    "\n",
    "# Define the hyperparameters and their possible values for the grid search\n",
    "param_grid = {\n",
    "    'n_neighbors': [1, 3, 5, 7, 9, 11],  # Number of neighbors to consider\n",
    "    'weights': ['uniform', 'distance'],  # Weighting strategy for neighbors\n",
    "}\n",
    "\n",
    "# Create the grid search\n",
    "grid_search = GridSearchCV(estimator=knn_regressor, param_grid=param_grid,\n",
    "                           scoring='neg_mean_squared_error', cv=3, verbose=2, n_jobs=-1)\n",
    "\n",
    "# Perform the grid search on the training data\n",
    "grid_search.fit(X_train, y_train)\n",
    "\n",
    "# Get the best model from the grid search\n",
    "best_knn_model = grid_search.best_estimator_\n",
    "\n",
    "# Make predictions\n",
    "y_pred = best_knn_model.predict(X_test)\n",
    "\n",
    "# Calculate RMSE and MAE\n",
    "rmse = np.sqrt(mean_squared_error(y_test, y_pred))\n",
    "mae = mean_absolute_error(y_test, y_pred)\n",
    "\n",
    "# Print the best hyperparameters and evaluation metrics\n",
    "print(\"Best Hyperparameters:\")\n",
    "print(grid_search.best_params_)\n",
    "print(f\"RMSE: {rmse:.2f}\")\n",
    "print(f\"MAE: {mae:.2f}\")\n"
   ]
  },
  {
   "cell_type": "code",
   "execution_count": 58,
   "metadata": {
    "colab": {
     "base_uri": "https://localhost:8080/",
     "height": 75
    },
    "executionInfo": {
     "elapsed": 44293,
     "status": "ok",
     "timestamp": 1697703125519,
     "user": {
      "displayName": "Efemena Ikpro",
      "userId": "07524339756286888285"
     },
     "user_tz": 420
    },
    "id": "iovydi9G4c4i",
    "outputId": "a0c70d1e-eceb-420f-d417-8077a42faa65"
   },
   "outputs": [
    {
     "data": {
      "text/html": [
       "<style>#sk-container-id-1 {color: black;background-color: white;}#sk-container-id-1 pre{padding: 0;}#sk-container-id-1 div.sk-toggleable {background-color: white;}#sk-container-id-1 label.sk-toggleable__label {cursor: pointer;display: block;width: 100%;margin-bottom: 0;padding: 0.3em;box-sizing: border-box;text-align: center;}#sk-container-id-1 label.sk-toggleable__label-arrow:before {content: \"▸\";float: left;margin-right: 0.25em;color: #696969;}#sk-container-id-1 label.sk-toggleable__label-arrow:hover:before {color: black;}#sk-container-id-1 div.sk-estimator:hover label.sk-toggleable__label-arrow:before {color: black;}#sk-container-id-1 div.sk-toggleable__content {max-height: 0;max-width: 0;overflow: hidden;text-align: left;background-color: #f0f8ff;}#sk-container-id-1 div.sk-toggleable__content pre {margin: 0.2em;color: black;border-radius: 0.25em;background-color: #f0f8ff;}#sk-container-id-1 input.sk-toggleable__control:checked~div.sk-toggleable__content {max-height: 200px;max-width: 100%;overflow: auto;}#sk-container-id-1 input.sk-toggleable__control:checked~label.sk-toggleable__label-arrow:before {content: \"▾\";}#sk-container-id-1 div.sk-estimator input.sk-toggleable__control:checked~label.sk-toggleable__label {background-color: #d4ebff;}#sk-container-id-1 div.sk-label input.sk-toggleable__control:checked~label.sk-toggleable__label {background-color: #d4ebff;}#sk-container-id-1 input.sk-hidden--visually {border: 0;clip: rect(1px 1px 1px 1px);clip: rect(1px, 1px, 1px, 1px);height: 1px;margin: -1px;overflow: hidden;padding: 0;position: absolute;width: 1px;}#sk-container-id-1 div.sk-estimator {font-family: monospace;background-color: #f0f8ff;border: 1px dotted black;border-radius: 0.25em;box-sizing: border-box;margin-bottom: 0.5em;}#sk-container-id-1 div.sk-estimator:hover {background-color: #d4ebff;}#sk-container-id-1 div.sk-parallel-item::after {content: \"\";width: 100%;border-bottom: 1px solid gray;flex-grow: 1;}#sk-container-id-1 div.sk-label:hover label.sk-toggleable__label {background-color: #d4ebff;}#sk-container-id-1 div.sk-serial::before {content: \"\";position: absolute;border-left: 1px solid gray;box-sizing: border-box;top: 0;bottom: 0;left: 50%;z-index: 0;}#sk-container-id-1 div.sk-serial {display: flex;flex-direction: column;align-items: center;background-color: white;padding-right: 0.2em;padding-left: 0.2em;position: relative;}#sk-container-id-1 div.sk-item {position: relative;z-index: 1;}#sk-container-id-1 div.sk-parallel {display: flex;align-items: stretch;justify-content: center;background-color: white;position: relative;}#sk-container-id-1 div.sk-item::before, #sk-container-id-1 div.sk-parallel-item::before {content: \"\";position: absolute;border-left: 1px solid gray;box-sizing: border-box;top: 0;bottom: 0;left: 50%;z-index: -1;}#sk-container-id-1 div.sk-parallel-item {display: flex;flex-direction: column;z-index: 1;position: relative;background-color: white;}#sk-container-id-1 div.sk-parallel-item:first-child::after {align-self: flex-end;width: 50%;}#sk-container-id-1 div.sk-parallel-item:last-child::after {align-self: flex-start;width: 50%;}#sk-container-id-1 div.sk-parallel-item:only-child::after {width: 0;}#sk-container-id-1 div.sk-dashed-wrapped {border: 1px dashed gray;margin: 0 0.4em 0.5em 0.4em;box-sizing: border-box;padding-bottom: 0.4em;background-color: white;}#sk-container-id-1 div.sk-label label {font-family: monospace;font-weight: bold;display: inline-block;line-height: 1.2em;}#sk-container-id-1 div.sk-label-container {text-align: center;}#sk-container-id-1 div.sk-container {/* jupyter's `normalize.less` sets `[hidden] { display: none; }` but bootstrap.min.css set `[hidden] { display: none !important; }` so we also need the `!important` here to be able to override the default hidden behavior on the sphinx rendered scikit-learn.org. See: https://github.com/scikit-learn/scikit-learn/issues/21755 */display: inline-block !important;position: relative;}#sk-container-id-1 div.sk-text-repr-fallback {display: none;}</style><div id=\"sk-container-id-1\" class=\"sk-top-container\"><div class=\"sk-text-repr-fallback\"><pre>RandomForestRegressor(max_depth=20, min_samples_leaf=4, min_samples_split=10)</pre><b>In a Jupyter environment, please rerun this cell to show the HTML representation or trust the notebook. <br />On GitHub, the HTML representation is unable to render, please try loading this page with nbviewer.org.</b></div><div class=\"sk-container\" hidden><div class=\"sk-item\"><div class=\"sk-estimator sk-toggleable\"><input class=\"sk-toggleable__control sk-hidden--visually\" id=\"sk-estimator-id-1\" type=\"checkbox\" checked><label for=\"sk-estimator-id-1\" class=\"sk-toggleable__label sk-toggleable__label-arrow\">RandomForestRegressor</label><div class=\"sk-toggleable__content\"><pre>RandomForestRegressor(max_depth=20, min_samples_leaf=4, min_samples_split=10)</pre></div></div></div></div></div>"
      ],
      "text/plain": [
       "RandomForestRegressor(max_depth=20, min_samples_leaf=4, min_samples_split=10)"
      ]
     },
     "execution_count": 58,
     "metadata": {},
     "output_type": "execute_result"
    }
   ],
   "source": [
    "#get final models configuration\n",
    "final_rf = RandomForestRegressor(n_estimators =  100,max_depth=  20, min_samples_leaf =  4, min_samples_split = 10)\n",
    "final_rf.fit(X_train, y_train)"
   ]
  },
  {
   "cell_type": "code",
   "execution_count": 59,
   "metadata": {
    "colab": {
     "base_uri": "https://localhost:8080/",
     "height": 75
    },
    "executionInfo": {
     "elapsed": 17087,
     "status": "ok",
     "timestamp": 1697703242896,
     "user": {
      "displayName": "Efemena Ikpro",
      "userId": "07524339756286888285"
     },
     "user_tz": 420
    },
    "id": "qaxNWDO74fsq",
    "outputId": "9db80d7f-9079-49c9-b427-e61036ec49e6"
   },
   "outputs": [
    {
     "data": {
      "text/html": [
       "<style>#sk-container-id-2 {color: black;background-color: white;}#sk-container-id-2 pre{padding: 0;}#sk-container-id-2 div.sk-toggleable {background-color: white;}#sk-container-id-2 label.sk-toggleable__label {cursor: pointer;display: block;width: 100%;margin-bottom: 0;padding: 0.3em;box-sizing: border-box;text-align: center;}#sk-container-id-2 label.sk-toggleable__label-arrow:before {content: \"▸\";float: left;margin-right: 0.25em;color: #696969;}#sk-container-id-2 label.sk-toggleable__label-arrow:hover:before {color: black;}#sk-container-id-2 div.sk-estimator:hover label.sk-toggleable__label-arrow:before {color: black;}#sk-container-id-2 div.sk-toggleable__content {max-height: 0;max-width: 0;overflow: hidden;text-align: left;background-color: #f0f8ff;}#sk-container-id-2 div.sk-toggleable__content pre {margin: 0.2em;color: black;border-radius: 0.25em;background-color: #f0f8ff;}#sk-container-id-2 input.sk-toggleable__control:checked~div.sk-toggleable__content {max-height: 200px;max-width: 100%;overflow: auto;}#sk-container-id-2 input.sk-toggleable__control:checked~label.sk-toggleable__label-arrow:before {content: \"▾\";}#sk-container-id-2 div.sk-estimator input.sk-toggleable__control:checked~label.sk-toggleable__label {background-color: #d4ebff;}#sk-container-id-2 div.sk-label input.sk-toggleable__control:checked~label.sk-toggleable__label {background-color: #d4ebff;}#sk-container-id-2 input.sk-hidden--visually {border: 0;clip: rect(1px 1px 1px 1px);clip: rect(1px, 1px, 1px, 1px);height: 1px;margin: -1px;overflow: hidden;padding: 0;position: absolute;width: 1px;}#sk-container-id-2 div.sk-estimator {font-family: monospace;background-color: #f0f8ff;border: 1px dotted black;border-radius: 0.25em;box-sizing: border-box;margin-bottom: 0.5em;}#sk-container-id-2 div.sk-estimator:hover {background-color: #d4ebff;}#sk-container-id-2 div.sk-parallel-item::after {content: \"\";width: 100%;border-bottom: 1px solid gray;flex-grow: 1;}#sk-container-id-2 div.sk-label:hover label.sk-toggleable__label {background-color: #d4ebff;}#sk-container-id-2 div.sk-serial::before {content: \"\";position: absolute;border-left: 1px solid gray;box-sizing: border-box;top: 0;bottom: 0;left: 50%;z-index: 0;}#sk-container-id-2 div.sk-serial {display: flex;flex-direction: column;align-items: center;background-color: white;padding-right: 0.2em;padding-left: 0.2em;position: relative;}#sk-container-id-2 div.sk-item {position: relative;z-index: 1;}#sk-container-id-2 div.sk-parallel {display: flex;align-items: stretch;justify-content: center;background-color: white;position: relative;}#sk-container-id-2 div.sk-item::before, #sk-container-id-2 div.sk-parallel-item::before {content: \"\";position: absolute;border-left: 1px solid gray;box-sizing: border-box;top: 0;bottom: 0;left: 50%;z-index: -1;}#sk-container-id-2 div.sk-parallel-item {display: flex;flex-direction: column;z-index: 1;position: relative;background-color: white;}#sk-container-id-2 div.sk-parallel-item:first-child::after {align-self: flex-end;width: 50%;}#sk-container-id-2 div.sk-parallel-item:last-child::after {align-self: flex-start;width: 50%;}#sk-container-id-2 div.sk-parallel-item:only-child::after {width: 0;}#sk-container-id-2 div.sk-dashed-wrapped {border: 1px dashed gray;margin: 0 0.4em 0.5em 0.4em;box-sizing: border-box;padding-bottom: 0.4em;background-color: white;}#sk-container-id-2 div.sk-label label {font-family: monospace;font-weight: bold;display: inline-block;line-height: 1.2em;}#sk-container-id-2 div.sk-label-container {text-align: center;}#sk-container-id-2 div.sk-container {/* jupyter's `normalize.less` sets `[hidden] { display: none; }` but bootstrap.min.css set `[hidden] { display: none !important; }` so we also need the `!important` here to be able to override the default hidden behavior on the sphinx rendered scikit-learn.org. See: https://github.com/scikit-learn/scikit-learn/issues/21755 */display: inline-block !important;position: relative;}#sk-container-id-2 div.sk-text-repr-fallback {display: none;}</style><div id=\"sk-container-id-2\" class=\"sk-top-container\"><div class=\"sk-text-repr-fallback\"><pre>GradientBoostingRegressor(learning_rate=0.2)</pre><b>In a Jupyter environment, please rerun this cell to show the HTML representation or trust the notebook. <br />On GitHub, the HTML representation is unable to render, please try loading this page with nbviewer.org.</b></div><div class=\"sk-container\" hidden><div class=\"sk-item\"><div class=\"sk-estimator sk-toggleable\"><input class=\"sk-toggleable__control sk-hidden--visually\" id=\"sk-estimator-id-2\" type=\"checkbox\" checked><label for=\"sk-estimator-id-2\" class=\"sk-toggleable__label sk-toggleable__label-arrow\">GradientBoostingRegressor</label><div class=\"sk-toggleable__content\"><pre>GradientBoostingRegressor(learning_rate=0.2)</pre></div></div></div></div></div>"
      ],
      "text/plain": [
       "GradientBoostingRegressor(learning_rate=0.2)"
      ]
     },
     "execution_count": 59,
     "metadata": {},
     "output_type": "execute_result"
    }
   ],
   "source": [
    "final_gb = GradientBoostingRegressor(learning_rate = 0.2, max_depth = 3, n_estimators=100)\n",
    "final_gb.fit(X_train, y_train)"
   ]
  },
  {
   "cell_type": "code",
   "execution_count": 60,
   "metadata": {
    "colab": {
     "base_uri": "https://localhost:8080/",
     "height": 75
    },
    "executionInfo": {
     "elapsed": 1077,
     "status": "ok",
     "timestamp": 1697703362283,
     "user": {
      "displayName": "Efemena Ikpro",
      "userId": "07524339756286888285"
     },
     "user_tz": 420
    },
    "id": "BwoZdP7K_aMe",
    "outputId": "ae782e83-bb26-475e-fb90-d00894cd11b0"
   },
   "outputs": [
    {
     "data": {
      "text/html": [
       "<style>#sk-container-id-3 {color: black;background-color: white;}#sk-container-id-3 pre{padding: 0;}#sk-container-id-3 div.sk-toggleable {background-color: white;}#sk-container-id-3 label.sk-toggleable__label {cursor: pointer;display: block;width: 100%;margin-bottom: 0;padding: 0.3em;box-sizing: border-box;text-align: center;}#sk-container-id-3 label.sk-toggleable__label-arrow:before {content: \"▸\";float: left;margin-right: 0.25em;color: #696969;}#sk-container-id-3 label.sk-toggleable__label-arrow:hover:before {color: black;}#sk-container-id-3 div.sk-estimator:hover label.sk-toggleable__label-arrow:before {color: black;}#sk-container-id-3 div.sk-toggleable__content {max-height: 0;max-width: 0;overflow: hidden;text-align: left;background-color: #f0f8ff;}#sk-container-id-3 div.sk-toggleable__content pre {margin: 0.2em;color: black;border-radius: 0.25em;background-color: #f0f8ff;}#sk-container-id-3 input.sk-toggleable__control:checked~div.sk-toggleable__content {max-height: 200px;max-width: 100%;overflow: auto;}#sk-container-id-3 input.sk-toggleable__control:checked~label.sk-toggleable__label-arrow:before {content: \"▾\";}#sk-container-id-3 div.sk-estimator input.sk-toggleable__control:checked~label.sk-toggleable__label {background-color: #d4ebff;}#sk-container-id-3 div.sk-label input.sk-toggleable__control:checked~label.sk-toggleable__label {background-color: #d4ebff;}#sk-container-id-3 input.sk-hidden--visually {border: 0;clip: rect(1px 1px 1px 1px);clip: rect(1px, 1px, 1px, 1px);height: 1px;margin: -1px;overflow: hidden;padding: 0;position: absolute;width: 1px;}#sk-container-id-3 div.sk-estimator {font-family: monospace;background-color: #f0f8ff;border: 1px dotted black;border-radius: 0.25em;box-sizing: border-box;margin-bottom: 0.5em;}#sk-container-id-3 div.sk-estimator:hover {background-color: #d4ebff;}#sk-container-id-3 div.sk-parallel-item::after {content: \"\";width: 100%;border-bottom: 1px solid gray;flex-grow: 1;}#sk-container-id-3 div.sk-label:hover label.sk-toggleable__label {background-color: #d4ebff;}#sk-container-id-3 div.sk-serial::before {content: \"\";position: absolute;border-left: 1px solid gray;box-sizing: border-box;top: 0;bottom: 0;left: 50%;z-index: 0;}#sk-container-id-3 div.sk-serial {display: flex;flex-direction: column;align-items: center;background-color: white;padding-right: 0.2em;padding-left: 0.2em;position: relative;}#sk-container-id-3 div.sk-item {position: relative;z-index: 1;}#sk-container-id-3 div.sk-parallel {display: flex;align-items: stretch;justify-content: center;background-color: white;position: relative;}#sk-container-id-3 div.sk-item::before, #sk-container-id-3 div.sk-parallel-item::before {content: \"\";position: absolute;border-left: 1px solid gray;box-sizing: border-box;top: 0;bottom: 0;left: 50%;z-index: -1;}#sk-container-id-3 div.sk-parallel-item {display: flex;flex-direction: column;z-index: 1;position: relative;background-color: white;}#sk-container-id-3 div.sk-parallel-item:first-child::after {align-self: flex-end;width: 50%;}#sk-container-id-3 div.sk-parallel-item:last-child::after {align-self: flex-start;width: 50%;}#sk-container-id-3 div.sk-parallel-item:only-child::after {width: 0;}#sk-container-id-3 div.sk-dashed-wrapped {border: 1px dashed gray;margin: 0 0.4em 0.5em 0.4em;box-sizing: border-box;padding-bottom: 0.4em;background-color: white;}#sk-container-id-3 div.sk-label label {font-family: monospace;font-weight: bold;display: inline-block;line-height: 1.2em;}#sk-container-id-3 div.sk-label-container {text-align: center;}#sk-container-id-3 div.sk-container {/* jupyter's `normalize.less` sets `[hidden] { display: none; }` but bootstrap.min.css set `[hidden] { display: none !important; }` so we also need the `!important` here to be able to override the default hidden behavior on the sphinx rendered scikit-learn.org. See: https://github.com/scikit-learn/scikit-learn/issues/21755 */display: inline-block !important;position: relative;}#sk-container-id-3 div.sk-text-repr-fallback {display: none;}</style><div id=\"sk-container-id-3\" class=\"sk-top-container\"><div class=\"sk-text-repr-fallback\"><pre>KNeighborsRegressor(n_neighbors=11, weights=&#x27;distance&#x27;)</pre><b>In a Jupyter environment, please rerun this cell to show the HTML representation or trust the notebook. <br />On GitHub, the HTML representation is unable to render, please try loading this page with nbviewer.org.</b></div><div class=\"sk-container\" hidden><div class=\"sk-item\"><div class=\"sk-estimator sk-toggleable\"><input class=\"sk-toggleable__control sk-hidden--visually\" id=\"sk-estimator-id-3\" type=\"checkbox\" checked><label for=\"sk-estimator-id-3\" class=\"sk-toggleable__label sk-toggleable__label-arrow\">KNeighborsRegressor</label><div class=\"sk-toggleable__content\"><pre>KNeighborsRegressor(n_neighbors=11, weights=&#x27;distance&#x27;)</pre></div></div></div></div></div>"
      ],
      "text/plain": [
       "KNeighborsRegressor(n_neighbors=11, weights='distance')"
      ]
     },
     "execution_count": 60,
     "metadata": {},
     "output_type": "execute_result"
    }
   ],
   "source": [
    "final_knn = KNeighborsRegressor(n_neighbors =  11, weights = \"distance\")\n",
    "final_knn.fit(X_train, y_train)"
   ]
  },
  {
   "cell_type": "markdown",
   "metadata": {
    "id": "Qtf0Ubzr4ghr"
   },
   "source": [
    "**ENSEMBLING MODELS:STACKING VS AVERAGING**"
   ]
  },
  {
   "cell_type": "code",
   "execution_count": 61,
   "metadata": {
    "colab": {
     "base_uri": "https://localhost:8080/"
    },
    "executionInfo": {
     "elapsed": 247614,
     "status": "ok",
     "timestamp": 1697703818692,
     "user": {
      "displayName": "Efemena Ikpro",
      "userId": "07524339756286888285"
     },
     "user_tz": 420
    },
    "id": "1ypfzjKY4jfB",
    "outputId": "45ae5aa2-7501-4573-bbf6-d51c28da5cd6"
   },
   "outputs": [
    {
     "name": "stdout",
     "output_type": "stream",
     "text": [
      "Stacking Ensemble RMSE: 2.19\n",
      "Stacking Ensemble MAE: 1.79\n"
     ]
    }
   ],
   "source": [
    "from sklearn.ensemble import StackingRegressor\n",
    "from sklearn.linear_model import LinearRegression\n",
    "\n",
    "# Initialize the base models\n",
    "final_rf = RandomForestRegressor(n_estimators =  100,max_depth=  20, min_samples_leaf =  4, min_samples_split = 10)\n",
    "final_gb = GradientBoostingRegressor(learning_rate = 0.2, max_depth = 3, n_estimators=100)\n",
    "final_knn = KNeighborsRegressor(n_neighbors =  11, weights = \"distance\")\n",
    "\n",
    "\n",
    "\n",
    "# Create a list of base models\n",
    "base_models = [('KNN', final_knn), ('GBR', final_gb), ('RFR', final_rf)]\n",
    "\n",
    "# Initialize the meta-model (Linear Regression in this case)\n",
    "meta_model = LinearRegression()\n",
    "\n",
    "# Create the stacking ensemble\n",
    "stacking_regressor = StackingRegressor(estimators=base_models, final_estimator=meta_model)\n",
    "\n",
    "# Fit the stacking ensemble to the data\n",
    "stacking_regressor.fit(X_train, y_train)\n",
    "\n",
    "# Make predictions\n",
    "y_pred = stacking_regressor.predict(X_test)\n",
    "\n",
    "# Evaluate the ensemble\n",
    "rmse = np.sqrt(mean_squared_error(y_test, y_pred))\n",
    "mae = mean_absolute_error(y_test, y_pred)\n",
    "\n",
    "print(f\"Stacking Ensemble RMSE: {rmse:.2f}\")\n",
    "print(f\"Stacking Ensemble MAE: {mae:.2f}\")\n"
   ]
  },
  {
   "cell_type": "code",
   "execution_count": 62,
   "metadata": {
    "colab": {
     "base_uri": "https://localhost:8080/"
    },
    "executionInfo": {
     "elapsed": 48242,
     "status": "ok",
     "timestamp": 1697703866919,
     "user": {
      "displayName": "Efemena Ikpro",
      "userId": "07524339756286888285"
     },
     "user_tz": 420
    },
    "id": "nRSQaOoJ4nyC",
    "outputId": "f7b1810e-c847-4902-82b4-c4381cfe530c"
   },
   "outputs": [
    {
     "name": "stdout",
     "output_type": "stream",
     "text": [
      "Averaging Ensemble RMSE: 2.23\n",
      "Averaging Ensemble MAE: 1.82\n"
     ]
    }
   ],
   "source": [
    "from sklearn.ensemble import VotingRegressor\n",
    "\n",
    "# Initialize the base models\n",
    "final_rf = RandomForestRegressor(n_estimators =  100,max_depth=  20, min_samples_leaf =  4, min_samples_split = 10)\n",
    "final_gb = GradientBoostingRegressor(learning_rate = 0.2, max_depth = 3, n_estimators=100)\n",
    "final_knn = KNeighborsRegressor(n_neighbors =  11, weights = \"distance\")\n",
    "\n",
    "\n",
    "# Create a list of base models\n",
    "base_models = [('KNN', final_knn), ('GBR', final_gb), ('RFR', final_rf)]\n",
    "\n",
    "# Initialize the ensemble (VotingRegressor with averaging)\n",
    "ensemble_regressor = VotingRegressor(estimators=base_models)\n",
    "\n",
    "# Fit the ensemble to the data\n",
    "ensemble_regressor.fit(X_train, y_train)\n",
    "\n",
    "# Make predictions\n",
    "y_pred = ensemble_regressor.predict(X_test)\n",
    "\n",
    "# Evaluate the ensemble\n",
    "rmse = np.sqrt(mean_squared_error(y_test, y_pred))\n",
    "mae = mean_absolute_error(y_test, y_pred)\n",
    "\n",
    "print(f\"Averaging Ensemble RMSE: {rmse:.2f}\")\n",
    "print(f\"Averaging Ensemble MAE: {mae:.2f}\")\n"
   ]
  },
  {
   "cell_type": "markdown",
   "metadata": {},
   "source": [
    "**FLASK APP FOR MAKIG PREDICTONS ON NEW TEST/INFORMATION**"
   ]
  },
  {
   "cell_type": "code",
   "execution_count": 63,
   "metadata": {},
   "outputs": [],
   "source": [
    "# Import module for saving model.\n",
    "import pickle"
   ]
  },
  {
   "cell_type": "code",
   "execution_count": 64,
   "metadata": {},
   "outputs": [],
   "source": [
    "# Save the stacking_regressor model.\n",
    "pickle.dump(stacking_regressor, gzip.open('renewable_energy_model.pkl', 'wb'), protocol=pickle.HIGHEST_PROTOCOL)"
   ]
  },
  {
   "cell_type": "code",
   "execution_count": null,
   "metadata": {},
   "outputs": [],
   "source": []
  },
  {
   "cell_type": "markdown",
   "metadata": {},
   "source": [
    "**USE THE MODEL FOR SOME PREDICTIONS**"
   ]
  },
  {
   "cell_type": "code",
   "execution_count": 66,
   "metadata": {},
   "outputs": [],
   "source": [
    "import pickle\n",
    "import pandas as pd"
   ]
  },
  {
   "cell_type": "code",
   "execution_count": 67,
   "metadata": {},
   "outputs": [],
   "source": [
    "# load the the stacking_regressor model.\n",
    "loaded_model = pickle.load(gzip.open('renewable_energy_model.pkl', 'rb'))"
   ]
  },
  {
   "cell_type": "code",
   "execution_count": 68,
   "metadata": {},
   "outputs": [],
   "source": [
    "# Create function to predict the raw data\n",
    "def predict_data(raw_data):\n",
    "    data_frame = pd.DataFrame(raw_data, index=[0])\n",
    "    data_predict = loaded_model.predict(data_frame)\n",
    "    return data_predict[0]"
   ]
  },
  {
   "cell_type": "code",
   "execution_count": 69,
   "metadata": {},
   "outputs": [
    {
     "data": {
      "text/plain": [
       "Traffic_Conditions     2.000000\n",
       "Number_of_Packages     8.000000\n",
       "Distance_(miles)      95.904841\n",
       "fog                    1.000000\n",
       "rain                   2.000000\n",
       "snow                   2.000000\n",
       "hail                   3.000000\n",
       "month_of_delvery       5.000000\n",
       "Name: 123866, dtype: float64"
      ]
     },
     "execution_count": 69,
     "metadata": {},
     "output_type": "execute_result"
    }
   ],
   "source": [
    "# Get the sample data to use.\n",
    "sample_data = X.iloc[1204]\n",
    "sample_data"
   ]
  },
  {
   "cell_type": "code",
   "execution_count": 70,
   "metadata": {},
   "outputs": [
    {
     "data": {
      "text/plain": [
       "8.802570531813972"
      ]
     },
     "execution_count": 70,
     "metadata": {},
     "output_type": "execute_result"
    }
   ],
   "source": [
    "# Result of sample_data\n",
    "result_data = y.iloc[1204]\n",
    "result_data"
   ]
  },
  {
   "cell_type": "code",
   "execution_count": 71,
   "metadata": {},
   "outputs": [
    {
     "data": {
      "text/plain": [
       "{'Traffic_Conditions': 2.0,\n",
       " 'Number_of_Packages': 8.0,\n",
       " 'Distance_(miles)': 95.90484100705362,\n",
       " 'fog': 1.0,\n",
       " 'rain': 2.0,\n",
       " 'snow': 2.0,\n",
       " 'hail': 3.0,\n",
       " 'month_of_delvery': 5.0}"
      ]
     },
     "execution_count": 71,
     "metadata": {},
     "output_type": "execute_result"
    }
   ],
   "source": [
    "raw_data = {\n",
    "            \"Traffic_Conditions\": sample_data.iloc[0],\n",
    "            \"Number_of_Packages\": sample_data.iloc[1],\n",
    "            \"Distance_(miles)\": sample_data.iloc[2],\n",
    "            \"fog\": sample_data.iloc[3],\n",
    "            \"rain\": sample_data.iloc[4],\n",
    "            \"snow\": sample_data.iloc[5],\n",
    "            \"hail\": sample_data.iloc[6],\n",
    "            \"month_of_delvery\": sample_data.iloc[7]\n",
    "            }\n",
    "\n",
    "raw_data"
   ]
  },
  {
   "cell_type": "code",
   "execution_count": 74,
   "metadata": {},
   "outputs": [
    {
     "data": {
      "text/plain": [
       "8.602462702398848"
      ]
     },
     "execution_count": 74,
     "metadata": {},
     "output_type": "execute_result"
    }
   ],
   "source": [
    "# Compute prediction\n",
    "prediction = predict_data(raw_data)\n",
    "prediction"
   ]
  },
  {
   "cell_type": "code",
   "execution_count": 73,
   "metadata": {},
   "outputs": [
    {
     "data": {
      "text/plain": [
       "Traffic_Conditions     2.000000\n",
       "Number_of_Packages    16.000000\n",
       "Distance_(miles)      98.385344\n",
       "fog                    1.000000\n",
       "rain                   1.000000\n",
       "snow                   1.000000\n",
       "hail                   3.000000\n",
       "month_of_delvery       4.000000\n",
       "Name: 90001, dtype: float64"
      ]
     },
     "execution_count": 73,
     "metadata": {},
     "output_type": "execute_result"
    }
   ],
   "source": [
    "# Get the sample data to use.\n",
    "sample_data = X.iloc[902]\n",
    "sample_data"
   ]
  },
  {
   "cell_type": "code",
   "execution_count": 76,
   "metadata": {},
   "outputs": [
    {
     "data": {
      "text/plain": [
       "9.562715963388134"
      ]
     },
     "execution_count": 76,
     "metadata": {},
     "output_type": "execute_result"
    }
   ],
   "source": [
    "# Result of sample_data\n",
    "result_data = y.iloc[902]\n",
    "result_data"
   ]
  },
  {
   "cell_type": "code",
   "execution_count": 77,
   "metadata": {},
   "outputs": [
    {
     "data": {
      "text/plain": [
       "{'Traffic_Conditions': 2.0,\n",
       " 'Number_of_Packages': 16.0,\n",
       " 'Distance_(miles)': 98.38534383403773,\n",
       " 'fog': 1.0,\n",
       " 'rain': 1.0,\n",
       " 'snow': 1.0,\n",
       " 'hail': 3.0,\n",
       " 'month_of_delvery': 4.0}"
      ]
     },
     "execution_count": 77,
     "metadata": {},
     "output_type": "execute_result"
    }
   ],
   "source": [
    "raw_data = {\n",
    "            \"Traffic_Conditions\": sample_data.iloc[0],\n",
    "            \"Number_of_Packages\": sample_data.iloc[1],\n",
    "            \"Distance_(miles)\": sample_data.iloc[2],\n",
    "            \"fog\": sample_data.iloc[3],\n",
    "            \"rain\": sample_data.iloc[4],\n",
    "            \"snow\": sample_data.iloc[5],\n",
    "            \"hail\": sample_data.iloc[6],\n",
    "            \"month_of_delvery\": sample_data.iloc[7]\n",
    "            }\n",
    "\n",
    "raw_data"
   ]
  },
  {
   "cell_type": "code",
   "execution_count": 78,
   "metadata": {},
   "outputs": [
    {
     "data": {
      "text/plain": [
       "10.07068479951699"
      ]
     },
     "execution_count": 78,
     "metadata": {},
     "output_type": "execute_result"
    }
   ],
   "source": [
    "# Compute prediction\n",
    "prediction = predict_data(raw_data)\n",
    "prediction"
   ]
  },
  {
   "cell_type": "code",
   "execution_count": 79,
   "metadata": {},
   "outputs": [
    {
     "data": {
      "text/plain": [
       "Traffic_Conditions      1.000000\n",
       "Number_of_Packages      3.000000\n",
       "Distance_(miles)      253.333019\n",
       "fog                     1.000000\n",
       "rain                    1.000000\n",
       "snow                    3.000000\n",
       "hail                    3.000000\n",
       "month_of_delvery        2.000000\n",
       "Name: 6540, dtype: float64"
      ]
     },
     "execution_count": 79,
     "metadata": {},
     "output_type": "execute_result"
    }
   ],
   "source": [
    "# Get the sample data to use.\n",
    "sample_data = X.iloc[65]\n",
    "sample_data"
   ]
  },
  {
   "cell_type": "code",
   "execution_count": 80,
   "metadata": {},
   "outputs": [
    {
     "data": {
      "text/plain": [
       "13.334011339671084"
      ]
     },
     "execution_count": 80,
     "metadata": {},
     "output_type": "execute_result"
    }
   ],
   "source": [
    "# Result of sample_data\n",
    "result_data = y.iloc[65]\n",
    "result_data"
   ]
  },
  {
   "cell_type": "code",
   "execution_count": 81,
   "metadata": {},
   "outputs": [
    {
     "data": {
      "text/plain": [
       "{'Traffic_Conditions': 1.0,\n",
       " 'Number_of_Packages': 3.0,\n",
       " 'Distance_(miles)': 253.33301880115897,\n",
       " 'fog': 1.0,\n",
       " 'rain': 1.0,\n",
       " 'snow': 3.0,\n",
       " 'hail': 3.0,\n",
       " 'month_of_delvery': 2.0}"
      ]
     },
     "execution_count": 81,
     "metadata": {},
     "output_type": "execute_result"
    }
   ],
   "source": [
    "raw_data = {\n",
    "            \"Traffic_Conditions\": sample_data.iloc[0],\n",
    "            \"Number_of_Packages\": sample_data.iloc[1],\n",
    "            \"Distance_(miles)\": sample_data.iloc[2],\n",
    "            \"fog\": sample_data.iloc[3],\n",
    "            \"rain\": sample_data.iloc[4],\n",
    "            \"snow\": sample_data.iloc[5],\n",
    "            \"hail\": sample_data.iloc[6],\n",
    "            \"month_of_delvery\": sample_data.iloc[7]\n",
    "            }\n",
    "\n",
    "raw_data"
   ]
  },
  {
   "cell_type": "code",
   "execution_count": 82,
   "metadata": {},
   "outputs": [
    {
     "data": {
      "text/plain": [
       "14.669316089981848"
      ]
     },
     "execution_count": 82,
     "metadata": {},
     "output_type": "execute_result"
    }
   ],
   "source": [
    "# Compute prediction\n",
    "prediction = predict_data(raw_data)\n",
    "prediction"
   ]
  }
 ],
 "metadata": {
  "colab": {
   "authorship_tag": "ABX9TyNk+0jwL7KFK68k6la7ai4B",
   "mount_file_id": "10JtOVlQnt7H1I8-2Pi3BraSIKzDQYvLz",
   "provenance": []
  },
  "kernelspec": {
   "display_name": "Python 3 (ipykernel)",
   "language": "python",
   "name": "python3"
  },
  "language_info": {
   "codemirror_mode": {
    "name": "ipython",
    "version": 3
   },
   "file_extension": ".py",
   "mimetype": "text/x-python",
   "name": "python",
   "nbconvert_exporter": "python",
   "pygments_lexer": "ipython3",
   "version": "3.11.5"
  }
 },
 "nbformat": 4,
 "nbformat_minor": 4
}
