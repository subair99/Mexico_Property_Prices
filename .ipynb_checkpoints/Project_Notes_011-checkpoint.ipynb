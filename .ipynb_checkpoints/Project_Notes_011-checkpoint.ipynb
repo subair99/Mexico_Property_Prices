{
 "cells": [
  {
   "cell_type": "markdown",
   "metadata": {},
   "source": [
    "# Project_Notes_011"
   ]
  },
  {
   "cell_type": "markdown",
   "metadata": {},
   "source": [
    "## Forecasting Renewable Energy Generation"
   ]
  },
  {
   "cell_type": "markdown",
   "metadata": {
    "id": "q9qqDqdgMq9_"
   },
   "source": [
    "**OBJECTIVE**  \n",
    "The Objectives of this notebook is to Create Several Candidate High Performing Machine Learning Models To Predict Expected Delivery time\n",
    "\n"
   ]
  },
  {
   "cell_type": "markdown",
   "metadata": {
    "id": "8VMgsV_0NH6G"
   },
   "source": [
    "\n",
    "**WORKFLOW**  \n",
    "The workflow is as follows:  \n",
    "1. Data Loading And Understanding\n",
    "2. Data Cleaning\n",
    "3. Exploratory Data Analysis\n",
    "4. Feature Engineering and Categorical Encoding\n",
    "5. Feature Selection\n",
    "6. Modelling and Models Selection\n",
    "7. Hyperparameter Tuning\n",
    "8. Ensembling Models\n",
    "9. Deploying via Flask App"
   ]
  },
  {
   "cell_type": "markdown",
   "metadata": {
    "id": "L5cmqMfcO2qP"
   },
   "source": [
    "**DATA LOADING AND UNDERSTANDING**"
   ]
  },
  {
   "cell_type": "code",
   "execution_count": 1,
   "metadata": {
    "executionInfo": {
     "elapsed": 10,
     "status": "ok",
     "timestamp": 1698015886744,
     "user": {
      "displayName": "Efemena Ikpro",
      "userId": "07524339756286888285"
     },
     "user_tz": -60
    },
    "id": "FeaUXId3jHHH"
   },
   "outputs": [],
   "source": [
    "# Import required packages.\n",
    "import pandas as pd\n",
    "import numpy as np\n",
    "import matplotlib.pyplot as plt\n",
    "import seaborn as sns\n",
    "import pickle\n",
    "import gzip\n",
    "from datetime import date\n",
    "from datetime import time\n",
    "from sklearn.model_selection import train_test_split\n",
    "from sklearn.tree import DecisionTreeRegressor\n",
    "from sklearn.ensemble import RandomForestRegressor, GradientBoostingRegressor\n",
    "from sklearn.metrics import mean_squared_error, mean_absolute_error\n"
   ]
  },
  {
   "cell_type": "code",
   "execution_count": 5,
   "metadata": {
    "executionInfo": {
     "elapsed": 765,
     "status": "ok",
     "timestamp": 1698015888681,
     "user": {
      "displayName": "Efemena Ikpro",
      "userId": "07524339756286888285"
     },
     "user_tz": -60
    },
    "id": "MMW2sp9pkK30"
   },
   "outputs": [],
   "source": [
    "# load the data.\n",
    "data = pd.read_csv('data/renewable_data.csv')"
   ]
  },
  {
   "cell_type": "code",
   "execution_count": 6,
   "metadata": {},
   "outputs": [
    {
     "data": {
      "text/plain": [
       "(131008, 12)"
      ]
     },
     "execution_count": 6,
     "metadata": {},
     "output_type": "execute_result"
    }
   ],
   "source": [
    "# Check the shape of data.\n",
    "data.shape"
   ]
  },
  {
   "cell_type": "code",
   "execution_count": 7,
   "metadata": {},
   "outputs": [
    {
     "name": "stdout",
     "output_type": "stream",
     "text": [
      "<class 'pandas.core.frame.DataFrame'>\n",
      "RangeIndex: 131008 entries, 0 to 131007\n",
      "Data columns (total 12 columns):\n",
      " #   Column                                 Non-Null Count   Dtype  \n",
      "---  ------                                 --------------   -----  \n",
      " 0   Delivery_ID                            131005 non-null  float64\n",
      " 1   Delivery_Start_Date                    131007 non-null  object \n",
      " 2   Delivery_Start_Time                    131007 non-null  object \n",
      " 3   Traffic_Conditions                     131008 non-null  object \n",
      " 4   Number_of_Packages                     131006 non-null  float64\n",
      " 5   Customer_Preference_for_Delivery_Time  131008 non-null  object \n",
      " 6   Distance_(miles)                       131007 non-null  float64\n",
      " 7   fog                                    52244 non-null   object \n",
      " 8   rain                                   52269 non-null   object \n",
      " 9   snow                                   39180 non-null   object \n",
      " 10  hail                                   26231 non-null   object \n",
      " 11  Historical_Delivery_Time_(hours)       131007 non-null  float64\n",
      "dtypes: float64(4), object(8)\n",
      "memory usage: 12.0+ MB\n"
     ]
    }
   ],
   "source": [
    "# Check the info of data.\n",
    "data.info()"
   ]
  },
  {
   "cell_type": "code",
   "execution_count": 8,
   "metadata": {
    "colab": {
     "base_uri": "https://localhost:8080/",
     "height": 383
    },
    "executionInfo": {
     "elapsed": 624,
     "status": "ok",
     "timestamp": 1698015889681,
     "user": {
      "displayName": "Efemena Ikpro",
      "userId": "07524339756286888285"
     },
     "user_tz": -60
    },
    "id": "Jj1IjkRLkTKc",
    "outputId": "43dbc135-4b33-42a2-91bd-85df7e0548cf"
   },
   "outputs": [
    {
     "data": {
      "text/html": [
       "<div>\n",
       "<style scoped>\n",
       "    .dataframe tbody tr th:only-of-type {\n",
       "        vertical-align: middle;\n",
       "    }\n",
       "\n",
       "    .dataframe tbody tr th {\n",
       "        vertical-align: top;\n",
       "    }\n",
       "\n",
       "    .dataframe thead th {\n",
       "        text-align: right;\n",
       "    }\n",
       "</style>\n",
       "<table border=\"1\" class=\"dataframe\">\n",
       "  <thead>\n",
       "    <tr style=\"text-align: right;\">\n",
       "      <th></th>\n",
       "      <th>Delivery_ID</th>\n",
       "      <th>Delivery_Start_Date</th>\n",
       "      <th>Delivery_Start_Time</th>\n",
       "      <th>Traffic_Conditions</th>\n",
       "      <th>Number_of_Packages</th>\n",
       "      <th>Customer_Preference_for_Delivery_Time</th>\n",
       "      <th>Distance_(miles)</th>\n",
       "      <th>fog</th>\n",
       "      <th>rain</th>\n",
       "      <th>snow</th>\n",
       "      <th>hail</th>\n",
       "      <th>Historical_Delivery_Time_(hours)</th>\n",
       "    </tr>\n",
       "  </thead>\n",
       "  <tbody>\n",
       "    <tr>\n",
       "      <th>0</th>\n",
       "      <td>1.0</td>\n",
       "      <td>2020-09-03</td>\n",
       "      <td>12:41:00</td>\n",
       "      <td>Low</td>\n",
       "      <td>7.0</td>\n",
       "      <td>Evening</td>\n",
       "      <td>167.884751</td>\n",
       "      <td>NaN</td>\n",
       "      <td>NaN</td>\n",
       "      <td>Low</td>\n",
       "      <td>NaN</td>\n",
       "      <td>9.294688</td>\n",
       "    </tr>\n",
       "    <tr>\n",
       "      <th>1</th>\n",
       "      <td>2.0</td>\n",
       "      <td>2022-12-22</td>\n",
       "      <td>20:14:00</td>\n",
       "      <td>Low</td>\n",
       "      <td>10.0</td>\n",
       "      <td>Morning</td>\n",
       "      <td>154.154474</td>\n",
       "      <td>Low</td>\n",
       "      <td>NaN</td>\n",
       "      <td>Mid</td>\n",
       "      <td>NaN</td>\n",
       "      <td>9.303765</td>\n",
       "    </tr>\n",
       "    <tr>\n",
       "      <th>2</th>\n",
       "      <td>3.0</td>\n",
       "      <td>2021-06-05</td>\n",
       "      <td>11:20:00</td>\n",
       "      <td>High</td>\n",
       "      <td>2.0</td>\n",
       "      <td>Afternoon</td>\n",
       "      <td>196.084835</td>\n",
       "      <td>NaN</td>\n",
       "      <td>Mid</td>\n",
       "      <td>NaN</td>\n",
       "      <td>NaN</td>\n",
       "      <td>8.734668</td>\n",
       "    </tr>\n",
       "    <tr>\n",
       "      <th>3</th>\n",
       "      <td>4.0</td>\n",
       "      <td>2023-05-02</td>\n",
       "      <td>05:50:00</td>\n",
       "      <td>High</td>\n",
       "      <td>15.0</td>\n",
       "      <td>Morning</td>\n",
       "      <td>94.010339</td>\n",
       "      <td>NaN</td>\n",
       "      <td>NaN</td>\n",
       "      <td>NaN</td>\n",
       "      <td>NaN</td>\n",
       "      <td>7.806979</td>\n",
       "    </tr>\n",
       "    <tr>\n",
       "      <th>4</th>\n",
       "      <td>5.0</td>\n",
       "      <td>2020-07-07</td>\n",
       "      <td>02:34:00</td>\n",
       "      <td>Moderate</td>\n",
       "      <td>17.0</td>\n",
       "      <td>Evening</td>\n",
       "      <td>202.254271</td>\n",
       "      <td>Mid</td>\n",
       "      <td>NaN</td>\n",
       "      <td>NaN</td>\n",
       "      <td>NaN</td>\n",
       "      <td>12.770403</td>\n",
       "    </tr>\n",
       "    <tr>\n",
       "      <th>5</th>\n",
       "      <td>6.0</td>\n",
       "      <td>2021-01-08</td>\n",
       "      <td>06:46:00</td>\n",
       "      <td>High</td>\n",
       "      <td>7.0</td>\n",
       "      <td>Evening</td>\n",
       "      <td>142.464202</td>\n",
       "      <td>NaN</td>\n",
       "      <td>Low</td>\n",
       "      <td>NaN</td>\n",
       "      <td>NaN</td>\n",
       "      <td>6.731095</td>\n",
       "    </tr>\n",
       "    <tr>\n",
       "      <th>6</th>\n",
       "      <td>7.0</td>\n",
       "      <td>2021-11-02</td>\n",
       "      <td>05:25:00</td>\n",
       "      <td>Low</td>\n",
       "      <td>17.0</td>\n",
       "      <td>Afternoon</td>\n",
       "      <td>193.844452</td>\n",
       "      <td>NaN</td>\n",
       "      <td>Mid</td>\n",
       "      <td>NaN</td>\n",
       "      <td>NaN</td>\n",
       "      <td>9.108041</td>\n",
       "    </tr>\n",
       "    <tr>\n",
       "      <th>7</th>\n",
       "      <td>8.0</td>\n",
       "      <td>2022-03-01</td>\n",
       "      <td>16:44:00</td>\n",
       "      <td>High</td>\n",
       "      <td>6.0</td>\n",
       "      <td>Evening</td>\n",
       "      <td>145.056879</td>\n",
       "      <td>NaN</td>\n",
       "      <td>NaN</td>\n",
       "      <td>NaN</td>\n",
       "      <td>NaN</td>\n",
       "      <td>5.977140</td>\n",
       "    </tr>\n",
       "    <tr>\n",
       "      <th>8</th>\n",
       "      <td>9.0</td>\n",
       "      <td>2023-02-15</td>\n",
       "      <td>18:46:00</td>\n",
       "      <td>High</td>\n",
       "      <td>18.0</td>\n",
       "      <td>Evening</td>\n",
       "      <td>155.081309</td>\n",
       "      <td>NaN</td>\n",
       "      <td>Mid</td>\n",
       "      <td>NaN</td>\n",
       "      <td>NaN</td>\n",
       "      <td>7.241487</td>\n",
       "    </tr>\n",
       "    <tr>\n",
       "      <th>9</th>\n",
       "      <td>10.0</td>\n",
       "      <td>2021-09-16</td>\n",
       "      <td>22:31:00</td>\n",
       "      <td>Low</td>\n",
       "      <td>1.0</td>\n",
       "      <td>Evening</td>\n",
       "      <td>137.508941</td>\n",
       "      <td>NaN</td>\n",
       "      <td>Low</td>\n",
       "      <td>NaN</td>\n",
       "      <td>NaN</td>\n",
       "      <td>3.718040</td>\n",
       "    </tr>\n",
       "  </tbody>\n",
       "</table>\n",
       "</div>"
      ],
      "text/plain": [
       "   Delivery_ID Delivery_Start_Date Delivery_Start_Time Traffic_Conditions  \\\n",
       "0          1.0          2020-09-03            12:41:00                Low   \n",
       "1          2.0          2022-12-22            20:14:00                Low   \n",
       "2          3.0          2021-06-05            11:20:00               High   \n",
       "3          4.0          2023-05-02            05:50:00               High   \n",
       "4          5.0          2020-07-07            02:34:00           Moderate   \n",
       "5          6.0          2021-01-08            06:46:00               High   \n",
       "6          7.0          2021-11-02            05:25:00                Low   \n",
       "7          8.0          2022-03-01            16:44:00               High   \n",
       "8          9.0          2023-02-15            18:46:00               High   \n",
       "9         10.0          2021-09-16            22:31:00                Low   \n",
       "\n",
       "   Number_of_Packages Customer_Preference_for_Delivery_Time  Distance_(miles)  \\\n",
       "0                 7.0                               Evening        167.884751   \n",
       "1                10.0                               Morning        154.154474   \n",
       "2                 2.0                             Afternoon        196.084835   \n",
       "3                15.0                               Morning         94.010339   \n",
       "4                17.0                               Evening        202.254271   \n",
       "5                 7.0                               Evening        142.464202   \n",
       "6                17.0                             Afternoon        193.844452   \n",
       "7                 6.0                               Evening        145.056879   \n",
       "8                18.0                               Evening        155.081309   \n",
       "9                 1.0                               Evening        137.508941   \n",
       "\n",
       "   fog rain snow hail  Historical_Delivery_Time_(hours)  \n",
       "0  NaN  NaN  Low  NaN                          9.294688  \n",
       "1  Low  NaN  Mid  NaN                          9.303765  \n",
       "2  NaN  Mid  NaN  NaN                          8.734668  \n",
       "3  NaN  NaN  NaN  NaN                          7.806979  \n",
       "4  Mid  NaN  NaN  NaN                         12.770403  \n",
       "5  NaN  Low  NaN  NaN                          6.731095  \n",
       "6  NaN  Mid  NaN  NaN                          9.108041  \n",
       "7  NaN  NaN  NaN  NaN                          5.977140  \n",
       "8  NaN  Mid  NaN  NaN                          7.241487  \n",
       "9  NaN  Low  NaN  NaN                          3.718040  "
      ]
     },
     "execution_count": 8,
     "metadata": {},
     "output_type": "execute_result"
    }
   ],
   "source": [
    "# Check the frst 10 rows of data.\n",
    "data.head(10)"
   ]
  },
  {
   "cell_type": "code",
   "execution_count": 9,
   "metadata": {},
   "outputs": [],
   "source": [
    "# Define a dictionary to rename the columns.\n",
    "col_dict = {\n",
    "            'Delivery_ID': 'id', \n",
    "            'Delivery_Start_Date': 'start_date', \n",
    "            'Delivery_Start_Time': 'start_time', \n",
    "            'Traffic_Conditions': 'traffic', \n",
    "            'Number_of_Packages': 'packages',  \n",
    "            'Customer_Preference_for_Delivery_Time': 'customer_preference', \n",
    "            'Distance_(miles)': 'distance', \n",
    "            'Historical_Delivery_Time_(hours)': 'historical_delivery'\n",
    "           }"
   ]
  },
  {
   "cell_type": "code",
   "execution_count": 10,
   "metadata": {},
   "outputs": [],
   "source": [
    "# Rename the required columns.\n",
    "data = data.rename(columns=col_dict)"
   ]
  },
  {
   "cell_type": "code",
   "execution_count": 11,
   "metadata": {},
   "outputs": [
    {
     "data": {
      "text/html": [
       "<div>\n",
       "<style scoped>\n",
       "    .dataframe tbody tr th:only-of-type {\n",
       "        vertical-align: middle;\n",
       "    }\n",
       "\n",
       "    .dataframe tbody tr th {\n",
       "        vertical-align: top;\n",
       "    }\n",
       "\n",
       "    .dataframe thead th {\n",
       "        text-align: right;\n",
       "    }\n",
       "</style>\n",
       "<table border=\"1\" class=\"dataframe\">\n",
       "  <thead>\n",
       "    <tr style=\"text-align: right;\">\n",
       "      <th></th>\n",
       "      <th>id</th>\n",
       "      <th>start_date</th>\n",
       "      <th>start_time</th>\n",
       "      <th>traffic</th>\n",
       "      <th>packages</th>\n",
       "      <th>customer_preference</th>\n",
       "      <th>distance</th>\n",
       "      <th>fog</th>\n",
       "      <th>rain</th>\n",
       "      <th>snow</th>\n",
       "      <th>hail</th>\n",
       "      <th>historical_delivery</th>\n",
       "    </tr>\n",
       "  </thead>\n",
       "  <tbody>\n",
       "    <tr>\n",
       "      <th>0</th>\n",
       "      <td>1.0</td>\n",
       "      <td>2020-09-03</td>\n",
       "      <td>12:41:00</td>\n",
       "      <td>Low</td>\n",
       "      <td>7.0</td>\n",
       "      <td>Evening</td>\n",
       "      <td>167.884751</td>\n",
       "      <td>NaN</td>\n",
       "      <td>NaN</td>\n",
       "      <td>Low</td>\n",
       "      <td>NaN</td>\n",
       "      <td>9.294688</td>\n",
       "    </tr>\n",
       "    <tr>\n",
       "      <th>1</th>\n",
       "      <td>2.0</td>\n",
       "      <td>2022-12-22</td>\n",
       "      <td>20:14:00</td>\n",
       "      <td>Low</td>\n",
       "      <td>10.0</td>\n",
       "      <td>Morning</td>\n",
       "      <td>154.154474</td>\n",
       "      <td>Low</td>\n",
       "      <td>NaN</td>\n",
       "      <td>Mid</td>\n",
       "      <td>NaN</td>\n",
       "      <td>9.303765</td>\n",
       "    </tr>\n",
       "    <tr>\n",
       "      <th>2</th>\n",
       "      <td>3.0</td>\n",
       "      <td>2021-06-05</td>\n",
       "      <td>11:20:00</td>\n",
       "      <td>High</td>\n",
       "      <td>2.0</td>\n",
       "      <td>Afternoon</td>\n",
       "      <td>196.084835</td>\n",
       "      <td>NaN</td>\n",
       "      <td>Mid</td>\n",
       "      <td>NaN</td>\n",
       "      <td>NaN</td>\n",
       "      <td>8.734668</td>\n",
       "    </tr>\n",
       "    <tr>\n",
       "      <th>3</th>\n",
       "      <td>4.0</td>\n",
       "      <td>2023-05-02</td>\n",
       "      <td>05:50:00</td>\n",
       "      <td>High</td>\n",
       "      <td>15.0</td>\n",
       "      <td>Morning</td>\n",
       "      <td>94.010339</td>\n",
       "      <td>NaN</td>\n",
       "      <td>NaN</td>\n",
       "      <td>NaN</td>\n",
       "      <td>NaN</td>\n",
       "      <td>7.806979</td>\n",
       "    </tr>\n",
       "    <tr>\n",
       "      <th>4</th>\n",
       "      <td>5.0</td>\n",
       "      <td>2020-07-07</td>\n",
       "      <td>02:34:00</td>\n",
       "      <td>Moderate</td>\n",
       "      <td>17.0</td>\n",
       "      <td>Evening</td>\n",
       "      <td>202.254271</td>\n",
       "      <td>Mid</td>\n",
       "      <td>NaN</td>\n",
       "      <td>NaN</td>\n",
       "      <td>NaN</td>\n",
       "      <td>12.770403</td>\n",
       "    </tr>\n",
       "    <tr>\n",
       "      <th>5</th>\n",
       "      <td>6.0</td>\n",
       "      <td>2021-01-08</td>\n",
       "      <td>06:46:00</td>\n",
       "      <td>High</td>\n",
       "      <td>7.0</td>\n",
       "      <td>Evening</td>\n",
       "      <td>142.464202</td>\n",
       "      <td>NaN</td>\n",
       "      <td>Low</td>\n",
       "      <td>NaN</td>\n",
       "      <td>NaN</td>\n",
       "      <td>6.731095</td>\n",
       "    </tr>\n",
       "    <tr>\n",
       "      <th>6</th>\n",
       "      <td>7.0</td>\n",
       "      <td>2021-11-02</td>\n",
       "      <td>05:25:00</td>\n",
       "      <td>Low</td>\n",
       "      <td>17.0</td>\n",
       "      <td>Afternoon</td>\n",
       "      <td>193.844452</td>\n",
       "      <td>NaN</td>\n",
       "      <td>Mid</td>\n",
       "      <td>NaN</td>\n",
       "      <td>NaN</td>\n",
       "      <td>9.108041</td>\n",
       "    </tr>\n",
       "    <tr>\n",
       "      <th>7</th>\n",
       "      <td>8.0</td>\n",
       "      <td>2022-03-01</td>\n",
       "      <td>16:44:00</td>\n",
       "      <td>High</td>\n",
       "      <td>6.0</td>\n",
       "      <td>Evening</td>\n",
       "      <td>145.056879</td>\n",
       "      <td>NaN</td>\n",
       "      <td>NaN</td>\n",
       "      <td>NaN</td>\n",
       "      <td>NaN</td>\n",
       "      <td>5.977140</td>\n",
       "    </tr>\n",
       "    <tr>\n",
       "      <th>8</th>\n",
       "      <td>9.0</td>\n",
       "      <td>2023-02-15</td>\n",
       "      <td>18:46:00</td>\n",
       "      <td>High</td>\n",
       "      <td>18.0</td>\n",
       "      <td>Evening</td>\n",
       "      <td>155.081309</td>\n",
       "      <td>NaN</td>\n",
       "      <td>Mid</td>\n",
       "      <td>NaN</td>\n",
       "      <td>NaN</td>\n",
       "      <td>7.241487</td>\n",
       "    </tr>\n",
       "    <tr>\n",
       "      <th>9</th>\n",
       "      <td>10.0</td>\n",
       "      <td>2021-09-16</td>\n",
       "      <td>22:31:00</td>\n",
       "      <td>Low</td>\n",
       "      <td>1.0</td>\n",
       "      <td>Evening</td>\n",
       "      <td>137.508941</td>\n",
       "      <td>NaN</td>\n",
       "      <td>Low</td>\n",
       "      <td>NaN</td>\n",
       "      <td>NaN</td>\n",
       "      <td>3.718040</td>\n",
       "    </tr>\n",
       "  </tbody>\n",
       "</table>\n",
       "</div>"
      ],
      "text/plain": [
       "     id  start_date start_time   traffic  packages customer_preference  \\\n",
       "0   1.0  2020-09-03   12:41:00       Low       7.0             Evening   \n",
       "1   2.0  2022-12-22   20:14:00       Low      10.0             Morning   \n",
       "2   3.0  2021-06-05   11:20:00      High       2.0           Afternoon   \n",
       "3   4.0  2023-05-02   05:50:00      High      15.0             Morning   \n",
       "4   5.0  2020-07-07   02:34:00  Moderate      17.0             Evening   \n",
       "5   6.0  2021-01-08   06:46:00      High       7.0             Evening   \n",
       "6   7.0  2021-11-02   05:25:00       Low      17.0           Afternoon   \n",
       "7   8.0  2022-03-01   16:44:00      High       6.0             Evening   \n",
       "8   9.0  2023-02-15   18:46:00      High      18.0             Evening   \n",
       "9  10.0  2021-09-16   22:31:00       Low       1.0             Evening   \n",
       "\n",
       "     distance  fog rain snow hail  historical_delivery  \n",
       "0  167.884751  NaN  NaN  Low  NaN             9.294688  \n",
       "1  154.154474  Low  NaN  Mid  NaN             9.303765  \n",
       "2  196.084835  NaN  Mid  NaN  NaN             8.734668  \n",
       "3   94.010339  NaN  NaN  NaN  NaN             7.806979  \n",
       "4  202.254271  Mid  NaN  NaN  NaN            12.770403  \n",
       "5  142.464202  NaN  Low  NaN  NaN             6.731095  \n",
       "6  193.844452  NaN  Mid  NaN  NaN             9.108041  \n",
       "7  145.056879  NaN  NaN  NaN  NaN             5.977140  \n",
       "8  155.081309  NaN  Mid  NaN  NaN             7.241487  \n",
       "9  137.508941  NaN  Low  NaN  NaN             3.718040  "
      ]
     },
     "execution_count": 11,
     "metadata": {},
     "output_type": "execute_result"
    }
   ],
   "source": [
    "# Check the frst 10 rows of data.\n",
    "data.head(10)"
   ]
  },
  {
   "cell_type": "markdown",
   "metadata": {
    "id": "42-onxiwPBzk"
   },
   "source": [
    "**DATA CLEANING**"
   ]
  },
  {
   "cell_type": "code",
   "execution_count": 12,
   "metadata": {},
   "outputs": [
    {
     "data": {
      "text/plain": [
       "8"
      ]
     },
     "execution_count": 12,
     "metadata": {},
     "output_type": "execute_result"
    }
   ],
   "source": [
    "# Check for duplicates.\n",
    "data.duplicated().sum()"
   ]
  },
  {
   "cell_type": "code",
   "execution_count": 13,
   "metadata": {},
   "outputs": [],
   "source": [
    "# Remove duplicates.\n",
    "data.drop_duplicates(inplace=True)"
   ]
  },
  {
   "cell_type": "code",
   "execution_count": 14,
   "metadata": {},
   "outputs": [
    {
     "data": {
      "text/plain": [
       "(131000, 12)"
      ]
     },
     "execution_count": 14,
     "metadata": {},
     "output_type": "execute_result"
    }
   ],
   "source": [
    "# Check the shape of data.\n",
    "data.shape"
   ]
  },
  {
   "cell_type": "code",
   "execution_count": 15,
   "metadata": {
    "colab": {
     "base_uri": "https://localhost:8080/",
     "height": 0
    },
    "executionInfo": {
     "elapsed": 1114,
     "status": "ok",
     "timestamp": 1698015894031,
     "user": {
      "displayName": "Efemena Ikpro",
      "userId": "07524339756286888285"
     },
     "user_tz": -60
    },
    "id": "G46sfW8AkTvR",
    "outputId": "ad1f1923-dfd1-4b30-b2c0-1b1b337edd74"
   },
   "outputs": [
    {
     "data": {
      "text/plain": [
       "id                          3\n",
       "start_date                  1\n",
       "start_time                  1\n",
       "traffic                     0\n",
       "packages                    2\n",
       "customer_preference         0\n",
       "distance                    1\n",
       "fog                     78762\n",
       "rain                    78735\n",
       "snow                    91820\n",
       "hail                   104771\n",
       "historical_delivery         1\n",
       "dtype: int64"
      ]
     },
     "execution_count": 15,
     "metadata": {},
     "output_type": "execute_result"
    }
   ],
   "source": [
    "# Check for mising values.\n",
    "data.isna().sum()"
   ]
  },
  {
   "cell_type": "code",
   "execution_count": 16,
   "metadata": {},
   "outputs": [
    {
     "name": "stdout",
     "output_type": "stream",
     "text": [
      "Percentage missing in id is: 0%\n",
      "Percentage missing in start_date is: 0%\n",
      "Percentage missing in start_time is: 0%\n",
      "Percentage missing in traffic is: 0%\n",
      "Percentage missing in packages is: 0%\n",
      "Percentage missing in customer_preference is: 0%\n",
      "Percentage missing in distance is: 0%\n",
      "Percentage missing in fog is: 60%\n",
      "Percentage missing in rain is: 60%\n",
      "Percentage missing in snow is: 70%\n",
      "Percentage missing in hail is: 79%\n",
      "Percentage missing in historical_delivery is: 0%\n"
     ]
    }
   ],
   "source": [
    "# calculate the percentage of missing values in each column.\n",
    "miss_val = data.isna().sum()\n",
    "miss_ind = miss_val.index.to_list()\n",
    "\n",
    "for x in range(len(miss_val)):\n",
    "    print(f'Percentage missing in {miss_ind[x]} is: {int(miss_val.iloc[x]/131000 * 100)}%')"
   ]
  },
  {
   "cell_type": "markdown",
   "metadata": {},
   "source": [
    "miss_ind = miss_val.index.to_list()"
   ]
  },
  {
   "cell_type": "markdown",
   "metadata": {},
   "source": [
    "The 'id', 'fog', 'rain', 'snow' and 'hail' columns will be deleted."
   ]
  },
  {
   "cell_type": "code",
   "execution_count": 17,
   "metadata": {},
   "outputs": [],
   "source": [
    "# Drop columns not needed.\n",
    "drop_cols = ['id', 'fog', 'rain', 'snow', 'hail']\n",
    "data.drop(columns=drop_cols, axis=1, inplace=True)"
   ]
  },
  {
   "cell_type": "code",
   "execution_count": 18,
   "metadata": {},
   "outputs": [
    {
     "data": {
      "text/html": [
       "<div>\n",
       "<style scoped>\n",
       "    .dataframe tbody tr th:only-of-type {\n",
       "        vertical-align: middle;\n",
       "    }\n",
       "\n",
       "    .dataframe tbody tr th {\n",
       "        vertical-align: top;\n",
       "    }\n",
       "\n",
       "    .dataframe thead th {\n",
       "        text-align: right;\n",
       "    }\n",
       "</style>\n",
       "<table border=\"1\" class=\"dataframe\">\n",
       "  <thead>\n",
       "    <tr style=\"text-align: right;\">\n",
       "      <th></th>\n",
       "      <th>start_date</th>\n",
       "      <th>start_time</th>\n",
       "      <th>traffic</th>\n",
       "      <th>packages</th>\n",
       "      <th>customer_preference</th>\n",
       "      <th>distance</th>\n",
       "      <th>historical_delivery</th>\n",
       "    </tr>\n",
       "  </thead>\n",
       "  <tbody>\n",
       "    <tr>\n",
       "      <th>0</th>\n",
       "      <td>2020-09-03</td>\n",
       "      <td>12:41:00</td>\n",
       "      <td>Low</td>\n",
       "      <td>7.0</td>\n",
       "      <td>Evening</td>\n",
       "      <td>167.884751</td>\n",
       "      <td>9.294688</td>\n",
       "    </tr>\n",
       "    <tr>\n",
       "      <th>1</th>\n",
       "      <td>2022-12-22</td>\n",
       "      <td>20:14:00</td>\n",
       "      <td>Low</td>\n",
       "      <td>10.0</td>\n",
       "      <td>Morning</td>\n",
       "      <td>154.154474</td>\n",
       "      <td>9.303765</td>\n",
       "    </tr>\n",
       "    <tr>\n",
       "      <th>2</th>\n",
       "      <td>2021-06-05</td>\n",
       "      <td>11:20:00</td>\n",
       "      <td>High</td>\n",
       "      <td>2.0</td>\n",
       "      <td>Afternoon</td>\n",
       "      <td>196.084835</td>\n",
       "      <td>8.734668</td>\n",
       "    </tr>\n",
       "    <tr>\n",
       "      <th>3</th>\n",
       "      <td>2023-05-02</td>\n",
       "      <td>05:50:00</td>\n",
       "      <td>High</td>\n",
       "      <td>15.0</td>\n",
       "      <td>Morning</td>\n",
       "      <td>94.010339</td>\n",
       "      <td>7.806979</td>\n",
       "    </tr>\n",
       "    <tr>\n",
       "      <th>4</th>\n",
       "      <td>2020-07-07</td>\n",
       "      <td>02:34:00</td>\n",
       "      <td>Moderate</td>\n",
       "      <td>17.0</td>\n",
       "      <td>Evening</td>\n",
       "      <td>202.254271</td>\n",
       "      <td>12.770403</td>\n",
       "    </tr>\n",
       "    <tr>\n",
       "      <th>5</th>\n",
       "      <td>2021-01-08</td>\n",
       "      <td>06:46:00</td>\n",
       "      <td>High</td>\n",
       "      <td>7.0</td>\n",
       "      <td>Evening</td>\n",
       "      <td>142.464202</td>\n",
       "      <td>6.731095</td>\n",
       "    </tr>\n",
       "    <tr>\n",
       "      <th>6</th>\n",
       "      <td>2021-11-02</td>\n",
       "      <td>05:25:00</td>\n",
       "      <td>Low</td>\n",
       "      <td>17.0</td>\n",
       "      <td>Afternoon</td>\n",
       "      <td>193.844452</td>\n",
       "      <td>9.108041</td>\n",
       "    </tr>\n",
       "    <tr>\n",
       "      <th>7</th>\n",
       "      <td>2022-03-01</td>\n",
       "      <td>16:44:00</td>\n",
       "      <td>High</td>\n",
       "      <td>6.0</td>\n",
       "      <td>Evening</td>\n",
       "      <td>145.056879</td>\n",
       "      <td>5.977140</td>\n",
       "    </tr>\n",
       "    <tr>\n",
       "      <th>8</th>\n",
       "      <td>2023-02-15</td>\n",
       "      <td>18:46:00</td>\n",
       "      <td>High</td>\n",
       "      <td>18.0</td>\n",
       "      <td>Evening</td>\n",
       "      <td>155.081309</td>\n",
       "      <td>7.241487</td>\n",
       "    </tr>\n",
       "    <tr>\n",
       "      <th>9</th>\n",
       "      <td>2021-09-16</td>\n",
       "      <td>22:31:00</td>\n",
       "      <td>Low</td>\n",
       "      <td>1.0</td>\n",
       "      <td>Evening</td>\n",
       "      <td>137.508941</td>\n",
       "      <td>3.718040</td>\n",
       "    </tr>\n",
       "  </tbody>\n",
       "</table>\n",
       "</div>"
      ],
      "text/plain": [
       "   start_date start_time   traffic  packages customer_preference    distance  \\\n",
       "0  2020-09-03   12:41:00       Low       7.0             Evening  167.884751   \n",
       "1  2022-12-22   20:14:00       Low      10.0             Morning  154.154474   \n",
       "2  2021-06-05   11:20:00      High       2.0           Afternoon  196.084835   \n",
       "3  2023-05-02   05:50:00      High      15.0             Morning   94.010339   \n",
       "4  2020-07-07   02:34:00  Moderate      17.0             Evening  202.254271   \n",
       "5  2021-01-08   06:46:00      High       7.0             Evening  142.464202   \n",
       "6  2021-11-02   05:25:00       Low      17.0           Afternoon  193.844452   \n",
       "7  2022-03-01   16:44:00      High       6.0             Evening  145.056879   \n",
       "8  2023-02-15   18:46:00      High      18.0             Evening  155.081309   \n",
       "9  2021-09-16   22:31:00       Low       1.0             Evening  137.508941   \n",
       "\n",
       "   historical_delivery  \n",
       "0             9.294688  \n",
       "1             9.303765  \n",
       "2             8.734668  \n",
       "3             7.806979  \n",
       "4            12.770403  \n",
       "5             6.731095  \n",
       "6             9.108041  \n",
       "7             5.977140  \n",
       "8             7.241487  \n",
       "9             3.718040  "
      ]
     },
     "execution_count": 18,
     "metadata": {},
     "output_type": "execute_result"
    }
   ],
   "source": [
    "# Check the frst 10 rows of data.\n",
    "data.head(10)"
   ]
  },
  {
   "cell_type": "code",
   "execution_count": 19,
   "metadata": {},
   "outputs": [],
   "source": [
    "# Drop other missing values.\n",
    "data.dropna(inplace=True)"
   ]
  },
  {
   "cell_type": "code",
   "execution_count": 20,
   "metadata": {},
   "outputs": [
    {
     "data": {
      "text/plain": [
       "(130994, 7)"
      ]
     },
     "execution_count": 20,
     "metadata": {},
     "output_type": "execute_result"
    }
   ],
   "source": [
    "# Check the shape of data.\n",
    "data.shape"
   ]
  },
  {
   "cell_type": "markdown",
   "metadata": {
    "id": "GkFyOZ1unNbn"
   },
   "source": [
    "**EXPLORATORY DATA ANALYSIS:** Observe the relationships between the columns and the target variables"
   ]
  },
  {
   "cell_type": "code",
   "execution_count": 21,
   "metadata": {
    "colab": {
     "base_uri": "https://localhost:8080/",
     "height": 721
    },
    "executionInfo": {
     "elapsed": 2051,
     "status": "ok",
     "timestamp": 1698015908274,
     "user": {
      "displayName": "Efemena Ikpro",
      "userId": "07524339756286888285"
     },
     "user_tz": -60
    },
    "id": "0BFVFUWtnBq-",
    "outputId": "91fb9e96-d52f-4c3f-9ead-4dd64c3334fb"
   },
   "outputs": [
    {
     "data": {
      "image/png": "[encoded data removed]",
      "text/plain": [
       "<Figure size 640x480 with 2 Axes>"
      ]
     },
     "metadata": {},
     "output_type": "display_data"
    }
   ],
   "source": [
    "# Create a correlation heatmap.\n",
    "corr_df = data.select_dtypes(include='number')\\\n",
    "                .drop('historical_delivery', axis=1)\\\n",
    "                .corr()\n",
    "\n",
    "sns.heatmap(corr_df,\n",
    "            cbar=True,\n",
    "            annot=True,\n",
    "            square=True,\n",
    "            fmt='.2f',\n",
    "            annot_kws={'size': 10},\n",
    "            cmap=\"Blues\")\n",
    "\n",
    "plt.show()"
   ]
  },
  {
   "cell_type": "code",
   "execution_count": 22,
   "metadata": {},
   "outputs": [
    {
     "data": {
      "image/png": "[encoded data removed]",
      "text/plain": [
       "<Figure size 800x400 with 1 Axes>"
      ]
     },
     "metadata": {},
     "output_type": "display_data"
    }
   ],
   "source": [
    "# Plot distribution of distance.\n",
    "plt.figure(figsize=(8, 4))\n",
    "data['distance'].plot(kind='hist', bins=20)\n",
    "plt.title(f'Distribution of Distance')\n",
    "plt.xlabel('Distance in miles')\n",
    "plt.ylabel('Frequency')\n",
    "plt.show()"
   ]
  },
  {
   "cell_type": "code",
   "execution_count": 23,
   "metadata": {},
   "outputs": [
    {
     "data": {
      "image/png": "[encoded data removed]",
      "text/plain": [
       "<Figure size 800x400 with 1 Axes>"
      ]
     },
     "metadata": {},
     "output_type": "display_data"
    }
   ],
   "source": [
    "# Plot distribution of packages.\n",
    "plt.figure(figsize=(8, 4))\n",
    "data['packages'].plot(kind='hist', bins=20)\n",
    "plt.title(f'Distribution of Packages')\n",
    "plt.xlabel('Number of packages')\n",
    "plt.ylabel('Frequency')\n",
    "plt.show()"
   ]
  },
  {
   "cell_type": "code",
   "execution_count": 24,
   "metadata": {
    "executionInfo": {
     "elapsed": 301,
     "status": "ok",
     "timestamp": 1698016382117,
     "user": {
      "displayName": "Efemena Ikpro",
      "userId": "07524339756286888285"
     },
     "user_tz": -60
    },
    "id": "VCyzkZBo1geA"
   },
   "outputs": [],
   "source": [
    "# Function to create categorical count plot.\n",
    "def create_count_plot(col):\n",
    "  plt.figure(figsize=(8, 4))\n",
    "  data[col].value_counts().plot(kind='bar')\n",
    "  plt.title(f'Distribution of {col}')\n",
    "  plt.xlabel(col)\n",
    "  plt.ylabel('Count')\n",
    "  plt.show()"
   ]
  },
  {
   "cell_type": "code",
   "execution_count": 25,
   "metadata": {
    "colab": {
     "base_uri": "https://localhost:8080/",
     "height": 463
    },
    "executionInfo": {
     "elapsed": 1199,
     "status": "ok",
     "timestamp": 1698016397608,
     "user": {
      "displayName": "Efemena Ikpro",
      "userId": "07524339756286888285"
     },
     "user_tz": -60
    },
    "id": "eH3l7ap-qZlF",
    "outputId": "ff57932f-81fe-4de5-a310-950c10a56e14"
   },
   "outputs": [
    {
     "data": {
      "image/png": "[encoded data removed]",
      "text/plain": [
       "<Figure size 800x400 with 1 Axes>"
      ]
     },
     "metadata": {},
     "output_type": "display_data"
    }
   ],
   "source": [
    "# Show count bplot for traffic.\n",
    "create_count_plot(\"traffic\")"
   ]
  },
  {
   "cell_type": "code",
   "execution_count": 26,
   "metadata": {
    "colab": {
     "base_uri": "https://localhost:8080/",
     "height": 464
    },
    "executionInfo": {
     "elapsed": 598,
     "status": "ok",
     "timestamp": 1698016440007,
     "user": {
      "displayName": "Efemena Ikpro",
      "userId": "07524339756286888285"
     },
     "user_tz": -60
    },
    "id": "ShiatQ4L1mr6",
    "outputId": "33643c70-9af6-4de4-e211-9345b9a08641"
   },
   "outputs": [
    {
     "data": {
      "image/png": "[encoded data removed]",
      "text/plain": [
       "<Figure size 800x400 with 1 Axes>"
      ]
     },
     "metadata": {},
     "output_type": "display_data"
    }
   ],
   "source": [
    "# Show count bplot for customer_preference.\n",
    "create_count_plot(\"customer_preference\")"
   ]
  },
  {
   "cell_type": "markdown",
   "metadata": {
    "id": "KmVu_gI61tGz"
   },
   "source": [
    "**FEATURE ENGINEERING**"
   ]
  },
  {
   "cell_type": "code",
   "execution_count": 27,
   "metadata": {},
   "outputs": [],
   "source": [
    "# Split the start_date column to year, month and day columns.\n",
    "data['year'] = [int(pd.to_datetime(x).year) for x in data['start_date']]\n",
    "data['month'] = [int(pd.to_datetime(x).month) for x in data['start_date']]\n",
    "data['day'] = [int(pd.to_datetime(x).day) for x in data['start_date']]"
   ]
  },
  {
   "cell_type": "code",
   "execution_count": 28,
   "metadata": {},
   "outputs": [],
   "source": [
    "# Split the start_time column to hour, minute and second columns.\n",
    "data['hour'] = [int(pd.to_datetime(x).hour) for x in data['start_time']]\n",
    "data['minute'] = [int(pd.to_datetime(x).minute) for x in data['start_time']]\n",
    "data['second'] = [int(pd.to_datetime(x).year) for x in data['start_time']]"
   ]
  },
  {
   "cell_type": "code",
   "execution_count": 29,
   "metadata": {},
   "outputs": [],
   "source": [
    "# Drop the start_date and start_time columns after spliting.\n",
    "data.drop(columns=['start_date', 'start_time'], axis=1, inplace=True)"
   ]
  },
  {
   "cell_type": "code",
   "execution_count": 30,
   "metadata": {},
   "outputs": [],
   "source": [
    "# Reset the index of data.\n",
    "data.reset_index(inplace=True)"
   ]
  },
  {
   "cell_type": "code",
   "execution_count": 31,
   "metadata": {},
   "outputs": [
    {
     "data": {
      "text/html": [
       "<div>\n",
       "<style scoped>\n",
       "    .dataframe tbody tr th:only-of-type {\n",
       "        vertical-align: middle;\n",
       "    }\n",
       "\n",
       "    .dataframe tbody tr th {\n",
       "        vertical-align: top;\n",
       "    }\n",
       "\n",
       "    .dataframe thead th {\n",
       "        text-align: right;\n",
       "    }\n",
       "</style>\n",
       "<table border=\"1\" class=\"dataframe\">\n",
       "  <thead>\n",
       "    <tr style=\"text-align: right;\">\n",
       "      <th></th>\n",
       "      <th>index</th>\n",
       "      <th>traffic</th>\n",
       "      <th>packages</th>\n",
       "      <th>customer_preference</th>\n",
       "      <th>distance</th>\n",
       "      <th>historical_delivery</th>\n",
       "      <th>year</th>\n",
       "      <th>month</th>\n",
       "      <th>day</th>\n",
       "      <th>hour</th>\n",
       "      <th>minute</th>\n",
       "      <th>second</th>\n",
       "    </tr>\n",
       "  </thead>\n",
       "  <tbody>\n",
       "    <tr>\n",
       "      <th>0</th>\n",
       "      <td>0</td>\n",
       "      <td>Low</td>\n",
       "      <td>7.0</td>\n",
       "      <td>Evening</td>\n",
       "      <td>167.884751</td>\n",
       "      <td>9.294688</td>\n",
       "      <td>2020</td>\n",
       "      <td>9</td>\n",
       "      <td>3</td>\n",
       "      <td>12</td>\n",
       "      <td>41</td>\n",
       "      <td>2024</td>\n",
       "    </tr>\n",
       "    <tr>\n",
       "      <th>1</th>\n",
       "      <td>1</td>\n",
       "      <td>Low</td>\n",
       "      <td>10.0</td>\n",
       "      <td>Morning</td>\n",
       "      <td>154.154474</td>\n",
       "      <td>9.303765</td>\n",
       "      <td>2022</td>\n",
       "      <td>12</td>\n",
       "      <td>22</td>\n",
       "      <td>20</td>\n",
       "      <td>14</td>\n",
       "      <td>2024</td>\n",
       "    </tr>\n",
       "    <tr>\n",
       "      <th>2</th>\n",
       "      <td>2</td>\n",
       "      <td>High</td>\n",
       "      <td>2.0</td>\n",
       "      <td>Afternoon</td>\n",
       "      <td>196.084835</td>\n",
       "      <td>8.734668</td>\n",
       "      <td>2021</td>\n",
       "      <td>6</td>\n",
       "      <td>5</td>\n",
       "      <td>11</td>\n",
       "      <td>20</td>\n",
       "      <td>2024</td>\n",
       "    </tr>\n",
       "    <tr>\n",
       "      <th>3</th>\n",
       "      <td>3</td>\n",
       "      <td>High</td>\n",
       "      <td>15.0</td>\n",
       "      <td>Morning</td>\n",
       "      <td>94.010339</td>\n",
       "      <td>7.806979</td>\n",
       "      <td>2023</td>\n",
       "      <td>5</td>\n",
       "      <td>2</td>\n",
       "      <td>5</td>\n",
       "      <td>50</td>\n",
       "      <td>2024</td>\n",
       "    </tr>\n",
       "    <tr>\n",
       "      <th>4</th>\n",
       "      <td>4</td>\n",
       "      <td>Moderate</td>\n",
       "      <td>17.0</td>\n",
       "      <td>Evening</td>\n",
       "      <td>202.254271</td>\n",
       "      <td>12.770403</td>\n",
       "      <td>2020</td>\n",
       "      <td>7</td>\n",
       "      <td>7</td>\n",
       "      <td>2</td>\n",
       "      <td>34</td>\n",
       "      <td>2024</td>\n",
       "    </tr>\n",
       "    <tr>\n",
       "      <th>...</th>\n",
       "      <td>...</td>\n",
       "      <td>...</td>\n",
       "      <td>...</td>\n",
       "      <td>...</td>\n",
       "      <td>...</td>\n",
       "      <td>...</td>\n",
       "      <td>...</td>\n",
       "      <td>...</td>\n",
       "      <td>...</td>\n",
       "      <td>...</td>\n",
       "      <td>...</td>\n",
       "      <td>...</td>\n",
       "    </tr>\n",
       "    <tr>\n",
       "      <th>130989</th>\n",
       "      <td>130995</td>\n",
       "      <td>High</td>\n",
       "      <td>14.0</td>\n",
       "      <td>Afternoon</td>\n",
       "      <td>129.664099</td>\n",
       "      <td>10.144627</td>\n",
       "      <td>2020</td>\n",
       "      <td>1</td>\n",
       "      <td>11</td>\n",
       "      <td>23</td>\n",
       "      <td>19</td>\n",
       "      <td>2024</td>\n",
       "    </tr>\n",
       "    <tr>\n",
       "      <th>130990</th>\n",
       "      <td>130996</td>\n",
       "      <td>Moderate</td>\n",
       "      <td>7.0</td>\n",
       "      <td>Afternoon</td>\n",
       "      <td>180.837540</td>\n",
       "      <td>6.494870</td>\n",
       "      <td>2020</td>\n",
       "      <td>6</td>\n",
       "      <td>23</td>\n",
       "      <td>10</td>\n",
       "      <td>44</td>\n",
       "      <td>2024</td>\n",
       "    </tr>\n",
       "    <tr>\n",
       "      <th>130991</th>\n",
       "      <td>130997</td>\n",
       "      <td>Low</td>\n",
       "      <td>6.0</td>\n",
       "      <td>Evening</td>\n",
       "      <td>147.811287</td>\n",
       "      <td>7.818925</td>\n",
       "      <td>2020</td>\n",
       "      <td>6</td>\n",
       "      <td>4</td>\n",
       "      <td>23</td>\n",
       "      <td>13</td>\n",
       "      <td>2024</td>\n",
       "    </tr>\n",
       "    <tr>\n",
       "      <th>130992</th>\n",
       "      <td>130998</td>\n",
       "      <td>Low</td>\n",
       "      <td>12.0</td>\n",
       "      <td>Evening</td>\n",
       "      <td>89.197186</td>\n",
       "      <td>4.545268</td>\n",
       "      <td>2022</td>\n",
       "      <td>12</td>\n",
       "      <td>1</td>\n",
       "      <td>1</td>\n",
       "      <td>5</td>\n",
       "      <td>2024</td>\n",
       "    </tr>\n",
       "    <tr>\n",
       "      <th>130993</th>\n",
       "      <td>130999</td>\n",
       "      <td>Low</td>\n",
       "      <td>3.0</td>\n",
       "      <td>Evening</td>\n",
       "      <td>102.531877</td>\n",
       "      <td>8.186037</td>\n",
       "      <td>2022</td>\n",
       "      <td>12</td>\n",
       "      <td>24</td>\n",
       "      <td>23</td>\n",
       "      <td>49</td>\n",
       "      <td>2024</td>\n",
       "    </tr>\n",
       "  </tbody>\n",
       "</table>\n",
       "<p>130994 rows × 12 columns</p>\n",
       "</div>"
      ],
      "text/plain": [
       "         index   traffic  packages customer_preference    distance  \\\n",
       "0            0       Low       7.0             Evening  167.884751   \n",
       "1            1       Low      10.0             Morning  154.154474   \n",
       "2            2      High       2.0           Afternoon  196.084835   \n",
       "3            3      High      15.0             Morning   94.010339   \n",
       "4            4  Moderate      17.0             Evening  202.254271   \n",
       "...        ...       ...       ...                 ...         ...   \n",
       "130989  130995      High      14.0           Afternoon  129.664099   \n",
       "130990  130996  Moderate       7.0           Afternoon  180.837540   \n",
       "130991  130997       Low       6.0             Evening  147.811287   \n",
       "130992  130998       Low      12.0             Evening   89.197186   \n",
       "130993  130999       Low       3.0             Evening  102.531877   \n",
       "\n",
       "        historical_delivery  year  month  day  hour  minute  second  \n",
       "0                  9.294688  2020      9    3    12      41    2024  \n",
       "1                  9.303765  2022     12   22    20      14    2024  \n",
       "2                  8.734668  2021      6    5    11      20    2024  \n",
       "3                  7.806979  2023      5    2     5      50    2024  \n",
       "4                 12.770403  2020      7    7     2      34    2024  \n",
       "...                     ...   ...    ...  ...   ...     ...     ...  \n",
       "130989            10.144627  2020      1   11    23      19    2024  \n",
       "130990             6.494870  2020      6   23    10      44    2024  \n",
       "130991             7.818925  2020      6    4    23      13    2024  \n",
       "130992             4.545268  2022     12    1     1       5    2024  \n",
       "130993             8.186037  2022     12   24    23      49    2024  \n",
       "\n",
       "[130994 rows x 12 columns]"
      ]
     },
     "execution_count": 31,
     "metadata": {},
     "output_type": "execute_result"
    }
   ],
   "source": [
    "# view data.\n",
    "data"
   ]
  },
  {
   "cell_type": "markdown",
   "metadata": {},
   "source": [
    "### SAVE DATAFRAME TO DATA FOLDER"
   ]
  },
  {
   "cell_type": "code",
   "execution_count": 32,
   "metadata": {
    "scrolled": true
   },
   "outputs": [
    {
     "ename": "OSError",
     "evalue": "[Errno 22] Invalid argument: '.\\\\data\\renewable_df.parquet'",
     "output_type": "error",
     "traceback": [
      "\u001b[1;31m---------------------------------------------------------------------------\u001b[0m",
      "\u001b[1;31mOSError\u001b[0m                                   Traceback (most recent call last)",
      "Cell \u001b[1;32mIn[32], line 2\u001b[0m\n\u001b[0;32m      1\u001b[0m \u001b[38;5;66;03m# Save data.\u001b[39;00m\n\u001b[1;32m----> 2\u001b[0m data\u001b[38;5;241m.\u001b[39mto_parquet(\u001b[38;5;124m'\u001b[39m\u001b[38;5;124m.\u001b[39m\u001b[38;5;124m\\\u001b[39m\u001b[38;5;124mdata\u001b[39m\u001b[38;5;130;01m\\r\u001b[39;00m\u001b[38;5;124menewable_df.parquet\u001b[39m\u001b[38;5;124m'\u001b[39m, compression\u001b[38;5;241m=\u001b[39m\u001b[38;5;124m'\u001b[39m\u001b[38;5;124mgzip\u001b[39m\u001b[38;5;124m'\u001b[39m)\n",
      "File \u001b[1;32m~\\anaconda3\\Lib\\site-packages\\pandas\\util\\_decorators.py:333\u001b[0m, in \u001b[0;36mdeprecate_nonkeyword_arguments.<locals>.decorate.<locals>.wrapper\u001b[1;34m(*args, **kwargs)\u001b[0m\n\u001b[0;32m    327\u001b[0m \u001b[38;5;28;01mif\u001b[39;00m \u001b[38;5;28mlen\u001b[39m(args) \u001b[38;5;241m>\u001b[39m num_allow_args:\n\u001b[0;32m    328\u001b[0m     warnings\u001b[38;5;241m.\u001b[39mwarn(\n\u001b[0;32m    329\u001b[0m         msg\u001b[38;5;241m.\u001b[39mformat(arguments\u001b[38;5;241m=\u001b[39m_format_argument_list(allow_args)),\n\u001b[0;32m    330\u001b[0m         \u001b[38;5;167;01mFutureWarning\u001b[39;00m,\n\u001b[0;32m    331\u001b[0m         stacklevel\u001b[38;5;241m=\u001b[39mfind_stack_level(),\n\u001b[0;32m    332\u001b[0m     )\n\u001b[1;32m--> 333\u001b[0m \u001b[38;5;28;01mreturn\u001b[39;00m func(\u001b[38;5;241m*\u001b[39margs, \u001b[38;5;241m*\u001b[39m\u001b[38;5;241m*\u001b[39mkwargs)\n",
      "File \u001b[1;32m~\\anaconda3\\Lib\\site-packages\\pandas\\core\\frame.py:3101\u001b[0m, in \u001b[0;36mDataFrame.to_parquet\u001b[1;34m(self, path, engine, compression, index, partition_cols, storage_options, **kwargs)\u001b[0m\n\u001b[0;32m   3020\u001b[0m \u001b[38;5;250m\u001b[39m\u001b[38;5;124;03m\"\"\"\u001b[39;00m\n\u001b[0;32m   3021\u001b[0m \u001b[38;5;124;03mWrite a DataFrame to the binary parquet format.\u001b[39;00m\n\u001b[0;32m   3022\u001b[0m \n\u001b[1;32m   (...)\u001b[0m\n\u001b[0;32m   3097\u001b[0m \u001b[38;5;124;03m>>> content = f.read()\u001b[39;00m\n\u001b[0;32m   3098\u001b[0m \u001b[38;5;124;03m\"\"\"\u001b[39;00m\n\u001b[0;32m   3099\u001b[0m \u001b[38;5;28;01mfrom\u001b[39;00m \u001b[38;5;21;01mpandas\u001b[39;00m\u001b[38;5;21;01m.\u001b[39;00m\u001b[38;5;21;01mio\u001b[39;00m\u001b[38;5;21;01m.\u001b[39;00m\u001b[38;5;21;01mparquet\u001b[39;00m \u001b[38;5;28;01mimport\u001b[39;00m to_parquet\n\u001b[1;32m-> 3101\u001b[0m \u001b[38;5;28;01mreturn\u001b[39;00m to_parquet(\n\u001b[0;32m   3102\u001b[0m     \u001b[38;5;28mself\u001b[39m,\n\u001b[0;32m   3103\u001b[0m     path,\n\u001b[0;32m   3104\u001b[0m     engine,\n\u001b[0;32m   3105\u001b[0m     compression\u001b[38;5;241m=\u001b[39mcompression,\n\u001b[0;32m   3106\u001b[0m     index\u001b[38;5;241m=\u001b[39mindex,\n\u001b[0;32m   3107\u001b[0m     partition_cols\u001b[38;5;241m=\u001b[39mpartition_cols,\n\u001b[0;32m   3108\u001b[0m     storage_options\u001b[38;5;241m=\u001b[39mstorage_options,\n\u001b[0;32m   3109\u001b[0m     \u001b[38;5;241m*\u001b[39m\u001b[38;5;241m*\u001b[39mkwargs,\n\u001b[0;32m   3110\u001b[0m )\n",
      "File \u001b[1;32m~\\anaconda3\\Lib\\site-packages\\pandas\\io\\parquet.py:480\u001b[0m, in \u001b[0;36mto_parquet\u001b[1;34m(df, path, engine, compression, index, storage_options, partition_cols, filesystem, **kwargs)\u001b[0m\n\u001b[0;32m    476\u001b[0m impl \u001b[38;5;241m=\u001b[39m get_engine(engine)\n\u001b[0;32m    478\u001b[0m path_or_buf: FilePath \u001b[38;5;241m|\u001b[39m WriteBuffer[\u001b[38;5;28mbytes\u001b[39m] \u001b[38;5;241m=\u001b[39m io\u001b[38;5;241m.\u001b[39mBytesIO() \u001b[38;5;28;01mif\u001b[39;00m path \u001b[38;5;129;01mis\u001b[39;00m \u001b[38;5;28;01mNone\u001b[39;00m \u001b[38;5;28;01melse\u001b[39;00m path\n\u001b[1;32m--> 480\u001b[0m impl\u001b[38;5;241m.\u001b[39mwrite(\n\u001b[0;32m    481\u001b[0m     df,\n\u001b[0;32m    482\u001b[0m     path_or_buf,\n\u001b[0;32m    483\u001b[0m     compression\u001b[38;5;241m=\u001b[39mcompression,\n\u001b[0;32m    484\u001b[0m     index\u001b[38;5;241m=\u001b[39mindex,\n\u001b[0;32m    485\u001b[0m     partition_cols\u001b[38;5;241m=\u001b[39mpartition_cols,\n\u001b[0;32m    486\u001b[0m     storage_options\u001b[38;5;241m=\u001b[39mstorage_options,\n\u001b[0;32m    487\u001b[0m     filesystem\u001b[38;5;241m=\u001b[39mfilesystem,\n\u001b[0;32m    488\u001b[0m     \u001b[38;5;241m*\u001b[39m\u001b[38;5;241m*\u001b[39mkwargs,\n\u001b[0;32m    489\u001b[0m )\n\u001b[0;32m    491\u001b[0m \u001b[38;5;28;01mif\u001b[39;00m path \u001b[38;5;129;01mis\u001b[39;00m \u001b[38;5;28;01mNone\u001b[39;00m:\n\u001b[0;32m    492\u001b[0m     \u001b[38;5;28;01massert\u001b[39;00m \u001b[38;5;28misinstance\u001b[39m(path_or_buf, io\u001b[38;5;241m.\u001b[39mBytesIO)\n",
      "File \u001b[1;32m~\\anaconda3\\Lib\\site-packages\\pandas\\io\\parquet.py:198\u001b[0m, in \u001b[0;36mPyArrowImpl.write\u001b[1;34m(self, df, path, compression, index, storage_options, partition_cols, filesystem, **kwargs)\u001b[0m\n\u001b[0;32m    195\u001b[0m     merged_metadata \u001b[38;5;241m=\u001b[39m {\u001b[38;5;241m*\u001b[39m\u001b[38;5;241m*\u001b[39mexisting_metadata, \u001b[38;5;241m*\u001b[39m\u001b[38;5;241m*\u001b[39mdf_metadata}\n\u001b[0;32m    196\u001b[0m     table \u001b[38;5;241m=\u001b[39m table\u001b[38;5;241m.\u001b[39mreplace_schema_metadata(merged_metadata)\n\u001b[1;32m--> 198\u001b[0m path_or_handle, handles, filesystem \u001b[38;5;241m=\u001b[39m _get_path_or_handle(\n\u001b[0;32m    199\u001b[0m     path,\n\u001b[0;32m    200\u001b[0m     filesystem,\n\u001b[0;32m    201\u001b[0m     storage_options\u001b[38;5;241m=\u001b[39mstorage_options,\n\u001b[0;32m    202\u001b[0m     mode\u001b[38;5;241m=\u001b[39m\u001b[38;5;124m\"\u001b[39m\u001b[38;5;124mwb\u001b[39m\u001b[38;5;124m\"\u001b[39m,\n\u001b[0;32m    203\u001b[0m     is_dir\u001b[38;5;241m=\u001b[39mpartition_cols \u001b[38;5;129;01mis\u001b[39;00m \u001b[38;5;129;01mnot\u001b[39;00m \u001b[38;5;28;01mNone\u001b[39;00m,\n\u001b[0;32m    204\u001b[0m )\n\u001b[0;32m    205\u001b[0m \u001b[38;5;28;01mif\u001b[39;00m (\n\u001b[0;32m    206\u001b[0m     \u001b[38;5;28misinstance\u001b[39m(path_or_handle, io\u001b[38;5;241m.\u001b[39mBufferedWriter)\n\u001b[0;32m    207\u001b[0m     \u001b[38;5;129;01mand\u001b[39;00m \u001b[38;5;28mhasattr\u001b[39m(path_or_handle, \u001b[38;5;124m\"\u001b[39m\u001b[38;5;124mname\u001b[39m\u001b[38;5;124m\"\u001b[39m)\n\u001b[0;32m    208\u001b[0m     \u001b[38;5;129;01mand\u001b[39;00m \u001b[38;5;28misinstance\u001b[39m(path_or_handle\u001b[38;5;241m.\u001b[39mname, (\u001b[38;5;28mstr\u001b[39m, \u001b[38;5;28mbytes\u001b[39m))\n\u001b[0;32m    209\u001b[0m ):\n\u001b[0;32m    210\u001b[0m     \u001b[38;5;28;01mif\u001b[39;00m \u001b[38;5;28misinstance\u001b[39m(path_or_handle\u001b[38;5;241m.\u001b[39mname, \u001b[38;5;28mbytes\u001b[39m):\n",
      "File \u001b[1;32m~\\anaconda3\\Lib\\site-packages\\pandas\\io\\parquet.py:140\u001b[0m, in \u001b[0;36m_get_path_or_handle\u001b[1;34m(path, fs, storage_options, mode, is_dir)\u001b[0m\n\u001b[0;32m    130\u001b[0m handles \u001b[38;5;241m=\u001b[39m \u001b[38;5;28;01mNone\u001b[39;00m\n\u001b[0;32m    131\u001b[0m \u001b[38;5;28;01mif\u001b[39;00m (\n\u001b[0;32m    132\u001b[0m     \u001b[38;5;129;01mnot\u001b[39;00m fs\n\u001b[0;32m    133\u001b[0m     \u001b[38;5;129;01mand\u001b[39;00m \u001b[38;5;129;01mnot\u001b[39;00m is_dir\n\u001b[1;32m   (...)\u001b[0m\n\u001b[0;32m    138\u001b[0m     \u001b[38;5;66;03m# fsspec resources can also point to directories\u001b[39;00m\n\u001b[0;32m    139\u001b[0m     \u001b[38;5;66;03m# this branch is used for example when reading from non-fsspec URLs\u001b[39;00m\n\u001b[1;32m--> 140\u001b[0m     handles \u001b[38;5;241m=\u001b[39m get_handle(\n\u001b[0;32m    141\u001b[0m         path_or_handle, mode, is_text\u001b[38;5;241m=\u001b[39m\u001b[38;5;28;01mFalse\u001b[39;00m, storage_options\u001b[38;5;241m=\u001b[39mstorage_options\n\u001b[0;32m    142\u001b[0m     )\n\u001b[0;32m    143\u001b[0m     fs \u001b[38;5;241m=\u001b[39m \u001b[38;5;28;01mNone\u001b[39;00m\n\u001b[0;32m    144\u001b[0m     path_or_handle \u001b[38;5;241m=\u001b[39m handles\u001b[38;5;241m.\u001b[39mhandle\n",
      "File \u001b[1;32m~\\anaconda3\\Lib\\site-packages\\pandas\\io\\common.py:882\u001b[0m, in \u001b[0;36mget_handle\u001b[1;34m(path_or_buf, mode, encoding, compression, memory_map, is_text, errors, storage_options)\u001b[0m\n\u001b[0;32m    873\u001b[0m         handle \u001b[38;5;241m=\u001b[39m \u001b[38;5;28mopen\u001b[39m(\n\u001b[0;32m    874\u001b[0m             handle,\n\u001b[0;32m    875\u001b[0m             ioargs\u001b[38;5;241m.\u001b[39mmode,\n\u001b[1;32m   (...)\u001b[0m\n\u001b[0;32m    878\u001b[0m             newline\u001b[38;5;241m=\u001b[39m\u001b[38;5;124m\"\u001b[39m\u001b[38;5;124m\"\u001b[39m,\n\u001b[0;32m    879\u001b[0m         )\n\u001b[0;32m    880\u001b[0m     \u001b[38;5;28;01melse\u001b[39;00m:\n\u001b[0;32m    881\u001b[0m         \u001b[38;5;66;03m# Binary mode\u001b[39;00m\n\u001b[1;32m--> 882\u001b[0m         handle \u001b[38;5;241m=\u001b[39m \u001b[38;5;28mopen\u001b[39m(handle, ioargs\u001b[38;5;241m.\u001b[39mmode)\n\u001b[0;32m    883\u001b[0m     handles\u001b[38;5;241m.\u001b[39mappend(handle)\n\u001b[0;32m    885\u001b[0m \u001b[38;5;66;03m# Convert BytesIO or file objects passed with an encoding\u001b[39;00m\n",
      "\u001b[1;31mOSError\u001b[0m: [Errno 22] Invalid argument: '.\\\\data\\renewable_df.parquet'"
     ]
    }
   ],
   "source": [
    "# Save data.\n",
    "data.to_parquet('.\\data\\renewable_df.parquet', compression='gzip')"
   ]
  },
  {
   "cell_type": "code",
   "execution_count": null,
   "metadata": {},
   "outputs": [],
   "source": [
    "# Import dataframe.\n",
    "df = pd.read_parquet('.\\data\\renewable_df.parquet')"
   ]
  },
  {
   "cell_type": "code",
   "execution_count": null,
   "metadata": {},
   "outputs": [],
   "source": []
  },
  {
   "cell_type": "code",
   "execution_count": null,
   "metadata": {},
   "outputs": [],
   "source": []
  },
  {
   "cell_type": "code",
   "execution_count": null,
   "metadata": {
    "executionInfo": {
     "elapsed": 339,
     "status": "ok",
     "timestamp": 1698016973984,
     "user": {
      "displayName": "Efemena Ikpro",
      "userId": "07524339756286888285"
     },
     "user_tz": -60
    },
    "id": "egar6eCHsK6J"
   },
   "outputs": [],
   "source": [
    "features = ['Traffic_Conditions', 'Number_of_Packages',\n",
    "       'Customer_Preference_for_Delivery_Time', 'Distance_(miles)', 'fog',\n",
    "       'rain','snow', 'hail','year_of_delvery', 'month_of_delvery', 'day_of_delvery']\n",
    "\n",
    "target = \"Historical_Delivery_Time_(hours)\""
   ]
  },
  {
   "cell_type": "code",
   "execution_count": null,
   "metadata": {
    "executionInfo": {
     "elapsed": 547,
     "status": "ok",
     "timestamp": 1698016977677,
     "user": {
      "displayName": "Efemena Ikpro",
      "userId": "07524339756286888285"
     },
     "user_tz": -60
    },
    "id": "0eG9aOmUsp74"
   },
   "outputs": [],
   "source": [
    "from sklearn.model_selection import train_test_split\n",
    "\n",
    "# Your dataset and target variable (X and y)\n",
    "X = data[features]# Features\n",
    "y = data[target]# Target variable\n",
    "\n",
    "# Split the dataset into a training set (e.g., 80%) and a testing set (e.g., 20%)\n",
    "X_train, X_test, y_train, y_test = train_test_split(X, y, test_size=0.3, random_state=42)\n"
   ]
  },
  {
   "cell_type": "code",
   "execution_count": null,
   "metadata": {
    "executionInfo": {
     "elapsed": 12,
     "status": "ok",
     "timestamp": 1698016979744,
     "user": {
      "displayName": "Efemena Ikpro",
      "userId": "07524339756286888285"
     },
     "user_tz": -60
    },
    "id": "qYW3mVzytSna"
   },
   "outputs": [],
   "source": []
  },
  {
   "cell_type": "code",
   "execution_count": null,
   "metadata": {},
   "outputs": [],
   "source": []
  },
  {
   "cell_type": "code",
   "execution_count": null,
   "metadata": {},
   "outputs": [],
   "source": []
  },
  {
   "cell_type": "code",
   "execution_count": null,
   "metadata": {},
   "outputs": [],
   "source": []
  },
  {
   "cell_type": "code",
   "execution_count": null,
   "metadata": {
    "id": "zfZbI-2FvomW"
   },
   "outputs": [],
   "source": [
    "X = data[features]"
   ]
  },
  {
   "cell_type": "markdown",
   "metadata": {
    "id": "w-ChXWfn3fVu"
   },
   "source": [
    "**MODELING AND MODEL SELECTION**"
   ]
  },
  {
   "cell_type": "code",
   "execution_count": null,
   "metadata": {
    "colab": {
     "base_uri": "https://localhost:8080/"
    },
    "executionInfo": {
     "elapsed": 57529,
     "status": "ok",
     "timestamp": 1697699134944,
     "user": {
      "displayName": "Efemena Ikpro",
      "userId": "07524339756286888285"
     },
     "user_tz": 420
    },
    "id": "mzQ79jBX3egA",
    "outputId": "16d0e993-df83-4af9-aad8-6b0c69dda0f3"
   },
   "outputs": [],
   "source": [
    "#train models from tree based/ensemble\n",
    "\n",
    "\n",
    "# Assuming you have your X and y data loaded already\n",
    "\n",
    "# Split the data into training and testing sets\n",
    "X_train, X_test, y_train, y_test = train_test_split(X, y, test_size=0.2, random_state=42)\n",
    "\n",
    "# Initialize the models\n",
    "models = {\n",
    "    \"Decision Tree\": DecisionTreeRegressor(random_state=42),\n",
    "    \"Random Forest\": RandomForestRegressor(n_estimators=100, random_state=42),\n",
    "    \"Gradient Boosting\": GradientBoostingRegressor(n_estimators=100, random_state=42)\n",
    "}\n",
    "\n",
    "# Training and evaluation loop\n",
    "for model_name, model in models.items():\n",
    "    # Train the model\n",
    "    model.fit(X_train, y_train)\n",
    "\n",
    "    # Make predictions\n",
    "    y_pred = model.predict(X_test)\n",
    "\n",
    "    # Calculate RMSE, MAE, and MAPE\n",
    "    rmse = np.sqrt(mean_squared_error(y_test, y_pred))\n",
    "    mae = mean_absolute_error(y_test, y_pred)\n",
    "    mape = np.mean(np.abs((y_test - y_pred) / y_test)) * 100  # MAPE in percentage\n",
    "\n",
    "    # Print the results\n",
    "    print(f\"Model: {model_name}\")\n",
    "    print(f\"RMSE: {rmse:.2f}\")\n",
    "    print(f\"MAE: {mae:.2f}\")\n",
    "    print(f\"MAPE: {mape:.2f}%\")\n",
    "    print(\"=\" * 40)\n"
   ]
  },
  {
   "cell_type": "code",
   "execution_count": null,
   "metadata": {
    "colab": {
     "base_uri": "https://localhost:8080/"
    },
    "executionInfo": {
     "elapsed": 5252,
     "status": "ok",
     "timestamp": 1697699159788,
     "user": {
      "displayName": "Efemena Ikpro",
      "userId": "07524339756286888285"
     },
     "user_tz": 420
    },
    "id": "UPnqf7rUwBpn",
    "outputId": "d48f50a1-628e-497a-f4e6-a848339c9a8d"
   },
   "outputs": [],
   "source": [
    "#neigbors\n",
    "import numpy as np\n",
    "from sklearn.model_selection import train_test_split\n",
    "from sklearn.neighbors import KNeighborsRegressor\n",
    "from sklearn.metrics import mean_squared_error, mean_absolute_error\n",
    "\n",
    "# Assuming you have your X and y data loaded already\n",
    "\n",
    "# Split the data into training and testing sets\n",
    "X_train, X_test, y_train, y_test = train_test_split(X, y, test_size=0.2, random_state=42)\n",
    "\n",
    "# Initialize the KNN regressor models with different values of k\n",
    "k_values = [1, 3, 5, 7, 9]  # You can adjust these values\n",
    "models = {f\"KNN (k={k})\": KNeighborsRegressor(n_neighbors=k) for k in k_values}\n",
    "\n",
    "# Training and evaluation loop\n",
    "for model_name, model in models.items():\n",
    "    # Train the model\n",
    "    model.fit(X_train, y_train)\n",
    "\n",
    "    # Make predictions\n",
    "    y_pred = model.predict(X_test)\n",
    "\n",
    "    # Calculate RMSE, MAE, and MAPE\n",
    "    rmse = np.sqrt(mean_squared_error(y_test, y_pred))\n",
    "    mae = mean_absolute_error(y_test, y_pred)\n",
    "    mape = np.mean(np.abs((y_test - y_pred) / y_test)) * 100  # MAPE in percentage\n",
    "\n",
    "    # Print the results\n",
    "    print(f\"Model: {model_name}\")\n",
    "    print(f\"RMSE: {rmse:.2f}\")\n",
    "    print(f\"MAE: {mae:.2f}\")\n",
    "    print(f\"MAPE: {mape:.2f}%\")\n",
    "    print(\"=\" * 40)\n"
   ]
  },
  {
   "cell_type": "code",
   "execution_count": null,
   "metadata": {
    "colab": {
     "base_uri": "https://localhost:8080/"
    },
    "executionInfo": {
     "elapsed": 498,
     "status": "ok",
     "timestamp": 1697699676926,
     "user": {
      "displayName": "Efemena Ikpro",
      "userId": "07524339756286888285"
     },
     "user_tz": 420
    },
    "id": "bidOZJO8wiLy",
    "outputId": "5cfce79f-c868-4e36-9450-0306e7f88f9b"
   },
   "outputs": [],
   "source": [
    "#linear models\n",
    "import numpy as np\n",
    "from sklearn.model_selection import train_test_split\n",
    "from sklearn.linear_model import LinearRegression, Lasso, Ridge, ElasticNet\n",
    "from sklearn.metrics import mean_squared_error, mean_absolute_error\n",
    "\n",
    "# Assuming you have your X and y data loaded already\n",
    "\n",
    "# Split the data into training and testing sets\n",
    "X_train, X_test, y_train, y_test = train_test_split(X, y, test_size=0.2, random_state=42)\n",
    "\n",
    "# Initialize the linear models\n",
    "linear_regressor = LinearRegression()\n",
    "lasso_regressor = Lasso(alpha=1.0)\n",
    "ridge_regressor = Ridge(alpha=1.0)\n",
    "elasticnet_regressor = ElasticNet(alpha=1.0, l1_ratio=0.5)\n",
    "\n",
    "# Create a dictionary of models\n",
    "models = {\n",
    "    \"Linear Regression\": linear_regressor,\n",
    "    \"Lasso Regression\": lasso_regressor,\n",
    "    \"Ridge Regression\": ridge_regressor,\n",
    "    \"Elastic Net\": elasticnet_regressor\n",
    "}\n",
    "\n",
    "# Training and evaluation loop for each model\n",
    "for model_name, model in models.items():\n",
    "    # Train the model\n",
    "    model.fit(X_train, y_train)\n",
    "\n",
    "    # Make predictions\n",
    "    y_pred = model.predict(X_test)\n",
    "\n",
    "    # Calculate RMSE, MAE, and MAPE\n",
    "    rmse = np.sqrt(mean_squared_error(y_test, y_pred))\n",
    "    mae = mean_absolute_error(y_test, y_pred)\n",
    "    mape = np.mean(np.abs((y_test - y_pred) / y_test)) * 100  # MAPE in percentage\n",
    "\n",
    "    # Print the results\n",
    "    print(f\"Model: {model_name}\")\n",
    "    print(f\"RMSE: {rmse:.2f}\")\n",
    "    print(f\"MAE: {mae:.2f}\")\n",
    "    print(f\"MAPE: {mape:.2f}%\")\n",
    "    print(\"=\" * 40)\n"
   ]
  },
  {
   "cell_type": "code",
   "execution_count": null,
   "metadata": {
    "id": "niV0i_283t7C"
   },
   "outputs": [],
   "source": []
  },
  {
   "cell_type": "code",
   "execution_count": null,
   "metadata": {
    "id": "Gjpet1_r3-Ga"
   },
   "outputs": [],
   "source": [
    "#select top performing models\n"
   ]
  },
  {
   "cell_type": "markdown",
   "metadata": {
    "id": "v0CWefalyYxg"
   },
   "source": [
    "the top performing models are : Random Forest, Gradient Boosting and KNN"
   ]
  },
  {
   "cell_type": "markdown",
   "metadata": {
    "id": "1vyaXxIZ4Eht"
   },
   "source": [
    "**HYPERPARAMETER TUNING USING GRID SEARCH**"
   ]
  },
  {
   "cell_type": "markdown",
   "metadata": {
    "id": "U-p1-nBPy0rx"
   },
   "source": [
    "Imporoving Random Forest Using Grid serach"
   ]
  },
  {
   "cell_type": "code",
   "execution_count": null,
   "metadata": {
    "colab": {
     "base_uri": "https://localhost:8080/"
    },
    "executionInfo": {
     "elapsed": 592921,
     "status": "ok",
     "timestamp": 1697700701188,
     "user": {
      "displayName": "Efemena Ikpro",
      "userId": "07524339756286888285"
     },
     "user_tz": 420
    },
    "id": "HRJQ4dMn4Deq",
    "outputId": "eb03dee1-1e62-4f2b-8cbd-bf443acc8291"
   },
   "outputs": [],
   "source": [
    "#for top performing models, implement grid search\n",
    "import numpy as np\n",
    "from sklearn.model_selection import GridSearchCV, train_test_split\n",
    "from sklearn.ensemble import RandomForestRegressor\n",
    "from sklearn.metrics import mean_squared_error, mean_absolute_error\n",
    "\n",
    "# Assuming you have your X and y data loaded already\n",
    "\n",
    "# Split the data into training and testing sets\n",
    "X_train, X_test, y_train, y_test = train_test_split(X, y, test_size=0.3, random_state=42)\n",
    "\n",
    "# Initialize the Random Forest Regressor\n",
    "rf_regressor = RandomForestRegressor(random_state=42)\n",
    "\n",
    "# Define the hyperparameters and their possible values for the grid search\n",
    "param_grid = {\n",
    "    'n_estimators': [100],  # Number of trees in the forest\n",
    "    'max_depth': [None, 10, 20],  # Maximum depth of each tree\n",
    "    'min_samples_split': [ 5, 10],  # Minimum number of samples required to split a node\n",
    "    'min_samples_leaf': [ 2, 4],   # Minimum number of samples required at each leaf node\n",
    "}\n",
    "\n",
    "# Create the grid search\n",
    "grid_search = GridSearchCV(estimator=rf_regressor, param_grid=param_grid,\n",
    "                           scoring='neg_mean_squared_error', cv=3, verbose=2, n_jobs=-1)\n",
    "\n",
    "# Perform the grid search on the training data\n",
    "grid_search.fit(X_train, y_train)\n",
    "\n",
    "# Get the best model from the grid search\n",
    "best_rf_model = grid_search.best_estimator_\n",
    "\n",
    "# Make predictions\n",
    "y_pred = best_rf_model.predict(X_test)\n",
    "\n",
    "# Calculate RMSE and MAE\n",
    "rmse = np.sqrt(mean_squared_error(y_test, y_pred))\n",
    "mae = mean_absolute_error(y_test, y_pred)\n",
    "\n",
    "# Print the best hyperparameters and evaluation metrics\n",
    "print(\"Best Hyperparameters:\")\n",
    "print(grid_search.best_params_)\n",
    "print(f\"RMSE: {rmse:.2f}\")\n",
    "print(f\"MAE: {mae:.2f}\")"
   ]
  },
  {
   "cell_type": "markdown",
   "metadata": {
    "id": "PBgvnsww0Tiv"
   },
   "source": [
    "Impoving Gradient Boosting Regressor Using Grid serach"
   ]
  },
  {
   "cell_type": "code",
   "execution_count": null,
   "metadata": {
    "colab": {
     "base_uri": "https://localhost:8080/"
    },
    "executionInfo": {
     "elapsed": 222949,
     "status": "ok",
     "timestamp": 1697700924124,
     "user": {
      "displayName": "Efemena Ikpro",
      "userId": "07524339756286888285"
     },
     "user_tz": 420
    },
    "id": "4Sg2Wt9u0Ez2",
    "outputId": "f9a20748-31f3-4fe3-f2eb-e28dcc7a420a"
   },
   "outputs": [],
   "source": [
    "import numpy as np\n",
    "from sklearn.model_selection import GridSearchCV, train_test_split\n",
    "from sklearn.ensemble import GradientBoostingRegressor\n",
    "from sklearn.metrics import mean_squared_error, mean_absolute_error\n",
    "\n",
    "# Assuming you have your X and y data loaded already\n",
    "\n",
    "# Split the data into training and testing sets\n",
    "X_train, X_test, y_train, y_test = train_test_split(X, y, test_size=0.3, random_state=42)\n",
    "# Initialize the Gradient Boosting Regressor\n",
    "gb_regressor = GradientBoostingRegressor(random_state=42)\n",
    "\n",
    "# Define the hyperparameters and their possible values for the grid search\n",
    "param_grid = {\n",
    "    'n_estimators': [100],  # Number of boosting stages\n",
    "    'learning_rate': [0.01, 0.1, 0.2],  # Step size shrinkage\n",
    "    'max_depth': [3, 4, 5],  # Maximum depth of individual trees\n",
    "}\n",
    "\n",
    "# Create the grid search\n",
    "grid_search = GridSearchCV(estimator=gb_regressor, param_grid=param_grid,\n",
    "                           scoring='neg_mean_squared_error', cv=3, verbose=2, n_jobs=-1)\n",
    "\n",
    "# Perform the grid search on the training data\n",
    "grid_search.fit(X_train, y_train)\n",
    "\n",
    "# Get the best model from the grid search\n",
    "best_gb_model = grid_search.best_estimator_\n",
    "\n",
    "# Make predictions\n",
    "y_pred = best_gb_model.predict(X_test)\n",
    "\n",
    "# Calculate RMSE and MAE\n",
    "rmse = np.sqrt(mean_squared_error(y_test, y_pred))\n",
    "mae = mean_absolute_error(y_test, y_pred)\n",
    "\n",
    "# Print the best hyperparameters and evaluation metrics\n",
    "print(\"Best Hyperparameters:\")\n",
    "print(grid_search.best_params_)\n",
    "print(f\"RMSE: {rmse:.2f}\")\n",
    "print(f\"MAE: {mae:.2f}\")\n"
   ]
  },
  {
   "cell_type": "markdown",
   "metadata": {
    "id": "R4i-LNUh0C7o"
   },
   "source": [
    "Impoving K nerest Neighbor Regressor Using Grid serach"
   ]
  },
  {
   "cell_type": "code",
   "execution_count": null,
   "metadata": {
    "colab": {
     "base_uri": "https://localhost:8080/"
    },
    "executionInfo": {
     "elapsed": 35679,
     "status": "ok",
     "timestamp": 1697700960958,
     "user": {
      "displayName": "Efemena Ikpro",
      "userId": "07524339756286888285"
     },
     "user_tz": 420
    },
    "id": "b4A-nP3z0mGW",
    "outputId": "1f69f6df-1932-4f70-9314-8f41556cc463"
   },
   "outputs": [],
   "source": [
    "import numpy as np\n",
    "from sklearn.model_selection import GridSearchCV, train_test_split\n",
    "from sklearn.neighbors import KNeighborsRegressor\n",
    "from sklearn.metrics import mean_squared_error, mean_absolute_error\n",
    "\n",
    "# Assuming you have your X and y data loaded already\n",
    "\n",
    "# Split the data into training and testing sets\n",
    "X_train, X_test, y_train, y_test = train_test_split(X, y, test_size=0.2, random_state=42)\n",
    "\n",
    "# Initialize the KNN Regressor\n",
    "knn_regressor = KNeighborsRegressor()\n",
    "\n",
    "# Define the hyperparameters and their possible values for the grid search\n",
    "param_grid = {\n",
    "    'n_neighbors': [1, 3, 5, 7, 9, 11],  # Number of neighbors to consider\n",
    "    'weights': ['uniform', 'distance'],  # Weighting strategy for neighbors\n",
    "}\n",
    "\n",
    "# Create the grid search\n",
    "grid_search = GridSearchCV(estimator=knn_regressor, param_grid=param_grid,\n",
    "                           scoring='neg_mean_squared_error', cv=3, verbose=2, n_jobs=-1)\n",
    "\n",
    "# Perform the grid search on the training data\n",
    "grid_search.fit(X_train, y_train)\n",
    "\n",
    "# Get the best model from the grid search\n",
    "best_knn_model = grid_search.best_estimator_\n",
    "\n",
    "# Make predictions\n",
    "y_pred = best_knn_model.predict(X_test)\n",
    "\n",
    "# Calculate RMSE and MAE\n",
    "rmse = np.sqrt(mean_squared_error(y_test, y_pred))\n",
    "mae = mean_absolute_error(y_test, y_pred)\n",
    "\n",
    "# Print the best hyperparameters and evaluation metrics\n",
    "print(\"Best Hyperparameters:\")\n",
    "print(grid_search.best_params_)\n",
    "print(f\"RMSE: {rmse:.2f}\")\n",
    "print(f\"MAE: {mae:.2f}\")\n"
   ]
  },
  {
   "cell_type": "code",
   "execution_count": null,
   "metadata": {
    "colab": {
     "base_uri": "https://localhost:8080/",
     "height": 75
    },
    "executionInfo": {
     "elapsed": 44293,
     "status": "ok",
     "timestamp": 1697703125519,
     "user": {
      "displayName": "Efemena Ikpro",
      "userId": "07524339756286888285"
     },
     "user_tz": 420
    },
    "id": "iovydi9G4c4i",
    "outputId": "a0c70d1e-eceb-420f-d417-8077a42faa65"
   },
   "outputs": [],
   "source": [
    "#get final models configuration\n",
    "final_rf = RandomForestRegressor(n_estimators =  100,max_depth=  20, min_samples_leaf =  4, min_samples_split = 10)\n",
    "final_rf.fit(X_train, y_train)"
   ]
  },
  {
   "cell_type": "code",
   "execution_count": null,
   "metadata": {
    "colab": {
     "base_uri": "https://localhost:8080/",
     "height": 75
    },
    "executionInfo": {
     "elapsed": 17087,
     "status": "ok",
     "timestamp": 1697703242896,
     "user": {
      "displayName": "Efemena Ikpro",
      "userId": "07524339756286888285"
     },
     "user_tz": 420
    },
    "id": "qaxNWDO74fsq",
    "outputId": "9db80d7f-9079-49c9-b427-e61036ec49e6"
   },
   "outputs": [],
   "source": [
    "final_gb = GradientBoostingRegressor(learning_rate = 0.2, max_depth = 3, n_estimators=100)\n",
    "final_gb.fit(X_train, y_train)"
   ]
  },
  {
   "cell_type": "code",
   "execution_count": null,
   "metadata": {
    "colab": {
     "base_uri": "https://localhost:8080/",
     "height": 75
    },
    "executionInfo": {
     "elapsed": 1077,
     "status": "ok",
     "timestamp": 1697703362283,
     "user": {
      "displayName": "Efemena Ikpro",
      "userId": "07524339756286888285"
     },
     "user_tz": 420
    },
    "id": "BwoZdP7K_aMe",
    "outputId": "ae782e83-bb26-475e-fb90-d00894cd11b0"
   },
   "outputs": [],
   "source": [
    "final_knn = KNeighborsRegressor(n_neighbors =  11, weights = \"distance\")\n",
    "final_knn.fit(X_train, y_train)"
   ]
  },
  {
   "cell_type": "markdown",
   "metadata": {
    "id": "Qtf0Ubzr4ghr"
   },
   "source": [
    "**ENSEMBLING MODELS:STACKING VS AVERAGING**"
   ]
  },
  {
   "cell_type": "code",
   "execution_count": null,
   "metadata": {
    "colab": {
     "base_uri": "https://localhost:8080/"
    },
    "executionInfo": {
     "elapsed": 247614,
     "status": "ok",
     "timestamp": 1697703818692,
     "user": {
      "displayName": "Efemena Ikpro",
      "userId": "07524339756286888285"
     },
     "user_tz": 420
    },
    "id": "1ypfzjKY4jfB",
    "outputId": "45ae5aa2-7501-4573-bbf6-d51c28da5cd6"
   },
   "outputs": [],
   "source": [
    "from sklearn.ensemble import StackingRegressor\n",
    "from sklearn.linear_model import LinearRegression\n",
    "\n",
    "# Initialize the base models\n",
    "final_rf = RandomForestRegressor(n_estimators =  100,max_depth=  20, min_samples_leaf =  4, min_samples_split = 10)\n",
    "final_gb = GradientBoostingRegressor(learning_rate = 0.2, max_depth = 3, n_estimators=100)\n",
    "final_knn = KNeighborsRegressor(n_neighbors =  11, weights = \"distance\")\n",
    "\n",
    "\n",
    "\n",
    "# Create a list of base models\n",
    "base_models = [('KNN', final_knn), ('GBR', final_gb), ('RFR', final_rf)]\n",
    "\n",
    "# Initialize the meta-model (Linear Regression in this case)\n",
    "meta_model = LinearRegression()\n",
    "\n",
    "# Create the stacking ensemble\n",
    "stacking_regressor = StackingRegressor(estimators=base_models, final_estimator=meta_model)\n",
    "\n",
    "# Fit the stacking ensemble to the data\n",
    "stacking_regressor.fit(X_train, y_train)\n",
    "\n",
    "# Make predictions\n",
    "y_pred = stacking_regressor.predict(X_test)\n",
    "\n",
    "# Evaluate the ensemble\n",
    "rmse = np.sqrt(mean_squared_error(y_test, y_pred))\n",
    "mae = mean_absolute_error(y_test, y_pred)\n",
    "\n",
    "print(f\"Stacking Ensemble RMSE: {rmse:.2f}\")\n",
    "print(f\"Stacking Ensemble MAE: {mae:.2f}\")\n"
   ]
  },
  {
   "cell_type": "code",
   "execution_count": null,
   "metadata": {
    "colab": {
     "base_uri": "https://localhost:8080/"
    },
    "executionInfo": {
     "elapsed": 48242,
     "status": "ok",
     "timestamp": 1697703866919,
     "user": {
      "displayName": "Efemena Ikpro",
      "userId": "07524339756286888285"
     },
     "user_tz": 420
    },
    "id": "nRSQaOoJ4nyC",
    "outputId": "f7b1810e-c847-4902-82b4-c4381cfe530c"
   },
   "outputs": [],
   "source": [
    "from sklearn.ensemble import VotingRegressor\n",
    "\n",
    "# Initialize the base models\n",
    "final_rf = RandomForestRegressor(n_estimators =  100,max_depth=  20, min_samples_leaf =  4, min_samples_split = 10)\n",
    "final_gb = GradientBoostingRegressor(learning_rate = 0.2, max_depth = 3, n_estimators=100)\n",
    "final_knn = KNeighborsRegressor(n_neighbors =  11, weights = \"distance\")\n",
    "\n",
    "\n",
    "# Create a list of base models\n",
    "base_models = [('KNN', final_knn), ('GBR', final_gb), ('RFR', final_rf)]\n",
    "\n",
    "# Initialize the ensemble (VotingRegressor with averaging)\n",
    "ensemble_regressor = VotingRegressor(estimators=base_models)\n",
    "\n",
    "# Fit the ensemble to the data\n",
    "ensemble_regressor.fit(X_train, y_train)\n",
    "\n",
    "# Make predictions\n",
    "y_pred = ensemble_regressor.predict(X_test)\n",
    "\n",
    "# Evaluate the ensemble\n",
    "rmse = np.sqrt(mean_squared_error(y_test, y_pred))\n",
    "mae = mean_absolute_error(y_test, y_pred)\n",
    "\n",
    "print(f\"Averaging Ensemble RMSE: {rmse:.2f}\")\n",
    "print(f\"Averaging Ensemble MAE: {mae:.2f}\")\n"
   ]
  },
  {
   "cell_type": "markdown",
   "metadata": {},
   "source": [
    "**FLASK APP FOR MAKIG PREDICTONS ON NEW TEST/INFORMATION**"
   ]
  },
  {
   "cell_type": "code",
   "execution_count": null,
   "metadata": {},
   "outputs": [],
   "source": [
    "# Import module for saving model.\n",
    "import pickle"
   ]
  },
  {
   "cell_type": "code",
   "execution_count": null,
   "metadata": {},
   "outputs": [],
   "source": [
    "# Save the stacking_regressor model.\n",
    "pickle.dump(stacking_regressor, gzip.open('renewable_energy_model.pkl', 'wb'), protocol=pickle.HIGHEST_PROTOCOL)"
   ]
  },
  {
   "cell_type": "code",
   "execution_count": null,
   "metadata": {},
   "outputs": [],
   "source": []
  },
  {
   "cell_type": "markdown",
   "metadata": {},
   "source": [
    "**USE THE MODEL FOR SOME PREDICTIONS**"
   ]
  },
  {
   "cell_type": "code",
   "execution_count": null,
   "metadata": {},
   "outputs": [],
   "source": [
    "import pickle\n",
    "import pandas as pd"
   ]
  },
  {
   "cell_type": "code",
   "execution_count": null,
   "metadata": {},
   "outputs": [],
   "source": [
    "# load the the stacking_regressor model.\n",
    "loaded_model = pickle.load(gzip.open('renewable_energy_model.pkl', 'rb'))"
   ]
  },
  {
   "cell_type": "code",
   "execution_count": null,
   "metadata": {},
   "outputs": [],
   "source": [
    "# Create function to predict the raw data\n",
    "def predict_data(raw_data):\n",
    "    data_frame = pd.DataFrame(raw_data, index=[0])\n",
    "    data_predict = loaded_model.predict(data_frame)\n",
    "    return data_predict[0]"
   ]
  },
  {
   "cell_type": "code",
   "execution_count": null,
   "metadata": {},
   "outputs": [],
   "source": [
    "# Get the sample data to use.\n",
    "sample_data = X.iloc[1204]\n",
    "sample_data"
   ]
  },
  {
   "cell_type": "code",
   "execution_count": null,
   "metadata": {},
   "outputs": [],
   "source": [
    "# Result of sample_data\n",
    "result_data = y.iloc[1204]\n",
    "result_data"
   ]
  },
  {
   "cell_type": "code",
   "execution_count": null,
   "metadata": {},
   "outputs": [],
   "source": [
    "raw_data = {\n",
    "            \"Traffic_Conditions\": sample_data.iloc[0],\n",
    "            \"Number_of_Packages\": sample_data.iloc[1],\n",
    "            \"Distance_(miles)\": sample_data.iloc[2],\n",
    "            \"fog\": sample_data.iloc[3],\n",
    "            \"rain\": sample_data.iloc[4],\n",
    "            \"snow\": sample_data.iloc[5],\n",
    "            \"hail\": sample_data.iloc[6],\n",
    "            \"month_of_delvery\": sample_data.iloc[7]\n",
    "            }\n",
    "\n",
    "raw_data"
   ]
  },
  {
   "cell_type": "code",
   "execution_count": null,
   "metadata": {},
   "outputs": [],
   "source": [
    "# Compute prediction\n",
    "prediction = predict_data(raw_data)\n",
    "prediction"
   ]
  },
  {
   "cell_type": "code",
   "execution_count": null,
   "metadata": {},
   "outputs": [],
   "source": [
    "# Get the sample data to use.\n",
    "sample_data = X.iloc[902]\n",
    "sample_data"
   ]
  },
  {
   "cell_type": "code",
   "execution_count": null,
   "metadata": {},
   "outputs": [],
   "source": [
    "# Result of sample_data\n",
    "result_data = y.iloc[902]\n",
    "result_data"
   ]
  },
  {
   "cell_type": "code",
   "execution_count": null,
   "metadata": {},
   "outputs": [],
   "source": [
    "raw_data = {\n",
    "            \"Traffic_Conditions\": sample_data.iloc[0],\n",
    "            \"Number_of_Packages\": sample_data.iloc[1],\n",
    "            \"Distance_(miles)\": sample_data.iloc[2],\n",
    "            \"fog\": sample_data.iloc[3],\n",
    "            \"rain\": sample_data.iloc[4],\n",
    "            \"snow\": sample_data.iloc[5],\n",
    "            \"hail\": sample_data.iloc[6],\n",
    "            \"month_of_delvery\": sample_data.iloc[7]\n",
    "            }\n",
    "\n",
    "raw_data"
   ]
  },
  {
   "cell_type": "code",
   "execution_count": null,
   "metadata": {},
   "outputs": [],
   "source": [
    "# Compute prediction\n",
    "prediction = predict_data(raw_data)\n",
    "prediction"
   ]
  },
  {
   "cell_type": "code",
   "execution_count": null,
   "metadata": {},
   "outputs": [],
   "source": [
    "# Get the sample data to use.\n",
    "sample_data = X.iloc[65]\n",
    "sample_data"
   ]
  },
  {
   "cell_type": "code",
   "execution_count": null,
   "metadata": {},
   "outputs": [],
   "source": [
    "# Result of sample_data\n",
    "result_data = y.iloc[65]\n",
    "result_data"
   ]
  },
  {
   "cell_type": "code",
   "execution_count": null,
   "metadata": {},
   "outputs": [],
   "source": [
    "raw_data = {\n",
    "            \"Traffic_Conditions\": sample_data.iloc[0],\n",
    "            \"Number_of_Packages\": sample_data.iloc[1],\n",
    "            \"Distance_(miles)\": sample_data.iloc[2],\n",
    "            \"fog\": sample_data.iloc[3],\n",
    "            \"rain\": sample_data.iloc[4],\n",
    "            \"snow\": sample_data.iloc[5],\n",
    "            \"hail\": sample_data.iloc[6],\n",
    "            \"month_of_delvery\": sample_data.iloc[7]\n",
    "            }\n",
    "\n",
    "raw_data"
   ]
  },
  {
   "cell_type": "code",
   "execution_count": null,
   "metadata": {},
   "outputs": [],
   "source": [
    "# Compute prediction\n",
    "prediction = predict_data(raw_data)\n",
    "prediction"
   ]
  }
 ],
 "metadata": {
  "colab": {
   "authorship_tag": "ABX9TyNk+0jwL7KFK68k6la7ai4B",
   "mount_file_id": "10JtOVlQnt7H1I8-2Pi3BraSIKzDQYvLz",
   "provenance": []
  },
  "kernelspec": {
   "display_name": "Python 3 (ipykernel)",
   "language": "python",
   "name": "python3"
  },
  "language_info": {
   "codemirror_mode": {
    "name": "ipython",
    "version": 3
   },
   "file_extension": ".py",
   "mimetype": "text/x-python",
   "name": "python",
   "nbconvert_exporter": "python",
   "pygments_lexer": "ipython3",
   "version": "3.11.5"
  }
 },
 "nbformat": 4,
 "nbformat_minor": 4
}
