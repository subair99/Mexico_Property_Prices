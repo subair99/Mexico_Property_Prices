{
 "cells": [
  {
   "cell_type": "markdown",
   "metadata": {},
   "source": [
    "# Project_Notes_012"
   ]
  },
  {
   "cell_type": "markdown",
   "metadata": {},
   "source": [
    "## Forecasting Renewable Energy Generation"
   ]
  },
  {
   "cell_type": "markdown",
   "metadata": {
    "id": "q9qqDqdgMq9_"
   },
   "source": [
    "**OBJECTIVE**  \n",
    "The Objectives of this notebook is to Create Several Candidate High Performing Machine Learning Models To Predict Expected Delivery Time in Hours.\n",
    "\n"
   ]
  },
  {
   "cell_type": "markdown",
   "metadata": {
    "id": "8VMgsV_0NH6G"
   },
   "source": [
    "**WORKFLOW**  \n",
    "The workflow is as follows:  \n",
    "1. Data Loading And Understanding\n",
    "2. Data Cleaning\n",
    "3. Exploratory Data Analysis\n",
    "4. Feature Engineering and Categorical Encoding\n",
    "5. Feature Selection\n",
    "6. Modelling and Models Selection\n",
    "7. Hyperparameter Tuning\n",
    "8. Ensembling Models\n",
    "9. Deploying via Flask App"
   ]
  },
  {
   "cell_type": "markdown",
   "metadata": {
    "id": "L5cmqMfcO2qP"
   },
   "source": [
    "**DATA LOADING AND UNDERSTANDING**"
   ]
  },
  {
   "cell_type": "code",
   "execution_count": 61,
   "metadata": {
    "executionInfo": {
     "elapsed": 10,
     "status": "ok",
     "timestamp": 1698015886744,
     "user": {
      "displayName": "Efemena Ikpro",
      "userId": "07524339756286888285"
     },
     "user_tz": -60
    },
    "id": "FeaUXId3jHHH"
   },
   "outputs": [],
   "source": [
    "# Import required packages.\n",
    "import pandas as pd\n",
    "import numpy as np\n",
    "import matplotlib.pyplot as plt\n",
    "import seaborn as sns\n",
    "import pickle\n",
    "import gzip\n",
    "from datetime import date\n",
    "from datetime import time\n",
    "from sklearn.model_selection import train_test_split, GridSearchCV\n",
    "from sklearn.metrics import mean_squared_error, mean_absolute_error\n",
    "from sklearn.tree import DecisionTreeRegressor\n",
    "from sklearn.neighbors import KNeighborsRegressor\n",
    "from sklearn.ensemble import RandomForestRegressor, GradientBoostingRegressor, VotingRegressor, StackingRegressor\n",
    "from sklearn.linear_model import LinearRegression, Lasso, Ridge, ElasticNet"
   ]
  },
  {
   "cell_type": "code",
   "execution_count": 2,
   "metadata": {
    "executionInfo": {
     "elapsed": 765,
     "status": "ok",
     "timestamp": 1698015888681,
     "user": {
      "displayName": "Efemena Ikpro",
      "userId": "07524339756286888285"
     },
     "user_tz": -60
    },
    "id": "MMW2sp9pkK30"
   },
   "outputs": [],
   "source": [
    "# load the data.\n",
    "df = pd.read_csv('./data/Project_Notes_011_renewable_data.csv')"
   ]
  },
  {
   "cell_type": "code",
   "execution_count": 3,
   "metadata": {},
   "outputs": [
    {
     "data": {
      "text/plain": [
       "(131008, 12)"
      ]
     },
     "execution_count": 3,
     "metadata": {},
     "output_type": "execute_result"
    }
   ],
   "source": [
    "# Check the shape of data.\n",
    "df.shape"
   ]
  },
  {
   "cell_type": "code",
   "execution_count": 4,
   "metadata": {},
   "outputs": [
    {
     "name": "stdout",
     "output_type": "stream",
     "text": [
      "<class 'pandas.core.frame.DataFrame'>\n",
      "RangeIndex: 131008 entries, 0 to 131007\n",
      "Data columns (total 12 columns):\n",
      " #   Column                                 Non-Null Count   Dtype  \n",
      "---  ------                                 --------------   -----  \n",
      " 0   Delivery_ID                            131005 non-null  float64\n",
      " 1   Delivery_Start_Date                    131007 non-null  object \n",
      " 2   Delivery_Start_Time                    131007 non-null  object \n",
      " 3   Traffic_Conditions                     131008 non-null  object \n",
      " 4   Number_of_Packages                     131006 non-null  float64\n",
      " 5   Customer_Preference_for_Delivery_Time  131008 non-null  object \n",
      " 6   Distance_(miles)                       131007 non-null  float64\n",
      " 7   fog                                    52244 non-null   object \n",
      " 8   rain                                   52269 non-null   object \n",
      " 9   snow                                   39180 non-null   object \n",
      " 10  hail                                   26231 non-null   object \n",
      " 11  Historical_Delivery_Time_(hours)       131007 non-null  float64\n",
      "dtypes: float64(4), object(8)\n",
      "memory usage: 12.0+ MB\n"
     ]
    }
   ],
   "source": [
    "# Check the info of data.\n",
    "df.info()"
   ]
  },
  {
   "cell_type": "code",
   "execution_count": 5,
   "metadata": {
    "colab": {
     "base_uri": "https://localhost:8080/",
     "height": 383
    },
    "executionInfo": {
     "elapsed": 624,
     "status": "ok",
     "timestamp": 1698015889681,
     "user": {
      "displayName": "Efemena Ikpro",
      "userId": "07524339756286888285"
     },
     "user_tz": -60
    },
    "id": "Jj1IjkRLkTKc",
    "outputId": "43dbc135-4b33-42a2-91bd-85df7e0548cf"
   },
   "outputs": [
    {
     "data": {
      "text/html": [
       "<div>\n",
       "<style scoped>\n",
       "    .dataframe tbody tr th:only-of-type {\n",
       "        vertical-align: middle;\n",
       "    }\n",
       "\n",
       "    .dataframe tbody tr th {\n",
       "        vertical-align: top;\n",
       "    }\n",
       "\n",
       "    .dataframe thead th {\n",
       "        text-align: right;\n",
       "    }\n",
       "</style>\n",
       "<table border=\"1\" class=\"dataframe\">\n",
       "  <thead>\n",
       "    <tr style=\"text-align: right;\">\n",
       "      <th></th>\n",
       "      <th>Delivery_ID</th>\n",
       "      <th>Delivery_Start_Date</th>\n",
       "      <th>Delivery_Start_Time</th>\n",
       "      <th>Traffic_Conditions</th>\n",
       "      <th>Number_of_Packages</th>\n",
       "      <th>Customer_Preference_for_Delivery_Time</th>\n",
       "      <th>Distance_(miles)</th>\n",
       "      <th>fog</th>\n",
       "      <th>rain</th>\n",
       "      <th>snow</th>\n",
       "      <th>hail</th>\n",
       "      <th>Historical_Delivery_Time_(hours)</th>\n",
       "    </tr>\n",
       "  </thead>\n",
       "  <tbody>\n",
       "    <tr>\n",
       "      <th>0</th>\n",
       "      <td>1.0</td>\n",
       "      <td>2020-09-03</td>\n",
       "      <td>12:41:00</td>\n",
       "      <td>Low</td>\n",
       "      <td>7.0</td>\n",
       "      <td>Evening</td>\n",
       "      <td>167.884751</td>\n",
       "      <td>NaN</td>\n",
       "      <td>NaN</td>\n",
       "      <td>Low</td>\n",
       "      <td>NaN</td>\n",
       "      <td>9.294688</td>\n",
       "    </tr>\n",
       "    <tr>\n",
       "      <th>1</th>\n",
       "      <td>2.0</td>\n",
       "      <td>2022-12-22</td>\n",
       "      <td>20:14:00</td>\n",
       "      <td>Low</td>\n",
       "      <td>10.0</td>\n",
       "      <td>Morning</td>\n",
       "      <td>154.154474</td>\n",
       "      <td>Low</td>\n",
       "      <td>NaN</td>\n",
       "      <td>Mid</td>\n",
       "      <td>NaN</td>\n",
       "      <td>9.303765</td>\n",
       "    </tr>\n",
       "    <tr>\n",
       "      <th>2</th>\n",
       "      <td>3.0</td>\n",
       "      <td>2021-06-05</td>\n",
       "      <td>11:20:00</td>\n",
       "      <td>High</td>\n",
       "      <td>2.0</td>\n",
       "      <td>Afternoon</td>\n",
       "      <td>196.084835</td>\n",
       "      <td>NaN</td>\n",
       "      <td>Mid</td>\n",
       "      <td>NaN</td>\n",
       "      <td>NaN</td>\n",
       "      <td>8.734668</td>\n",
       "    </tr>\n",
       "    <tr>\n",
       "      <th>3</th>\n",
       "      <td>4.0</td>\n",
       "      <td>2023-05-02</td>\n",
       "      <td>05:50:00</td>\n",
       "      <td>High</td>\n",
       "      <td>15.0</td>\n",
       "      <td>Morning</td>\n",
       "      <td>94.010339</td>\n",
       "      <td>NaN</td>\n",
       "      <td>NaN</td>\n",
       "      <td>NaN</td>\n",
       "      <td>NaN</td>\n",
       "      <td>7.806979</td>\n",
       "    </tr>\n",
       "    <tr>\n",
       "      <th>4</th>\n",
       "      <td>5.0</td>\n",
       "      <td>2020-07-07</td>\n",
       "      <td>02:34:00</td>\n",
       "      <td>Moderate</td>\n",
       "      <td>17.0</td>\n",
       "      <td>Evening</td>\n",
       "      <td>202.254271</td>\n",
       "      <td>Mid</td>\n",
       "      <td>NaN</td>\n",
       "      <td>NaN</td>\n",
       "      <td>NaN</td>\n",
       "      <td>12.770403</td>\n",
       "    </tr>\n",
       "    <tr>\n",
       "      <th>5</th>\n",
       "      <td>6.0</td>\n",
       "      <td>2021-01-08</td>\n",
       "      <td>06:46:00</td>\n",
       "      <td>High</td>\n",
       "      <td>7.0</td>\n",
       "      <td>Evening</td>\n",
       "      <td>142.464202</td>\n",
       "      <td>NaN</td>\n",
       "      <td>Low</td>\n",
       "      <td>NaN</td>\n",
       "      <td>NaN</td>\n",
       "      <td>6.731095</td>\n",
       "    </tr>\n",
       "    <tr>\n",
       "      <th>6</th>\n",
       "      <td>7.0</td>\n",
       "      <td>2021-11-02</td>\n",
       "      <td>05:25:00</td>\n",
       "      <td>Low</td>\n",
       "      <td>17.0</td>\n",
       "      <td>Afternoon</td>\n",
       "      <td>193.844452</td>\n",
       "      <td>NaN</td>\n",
       "      <td>Mid</td>\n",
       "      <td>NaN</td>\n",
       "      <td>NaN</td>\n",
       "      <td>9.108041</td>\n",
       "    </tr>\n",
       "    <tr>\n",
       "      <th>7</th>\n",
       "      <td>8.0</td>\n",
       "      <td>2022-03-01</td>\n",
       "      <td>16:44:00</td>\n",
       "      <td>High</td>\n",
       "      <td>6.0</td>\n",
       "      <td>Evening</td>\n",
       "      <td>145.056879</td>\n",
       "      <td>NaN</td>\n",
       "      <td>NaN</td>\n",
       "      <td>NaN</td>\n",
       "      <td>NaN</td>\n",
       "      <td>5.977140</td>\n",
       "    </tr>\n",
       "    <tr>\n",
       "      <th>8</th>\n",
       "      <td>9.0</td>\n",
       "      <td>2023-02-15</td>\n",
       "      <td>18:46:00</td>\n",
       "      <td>High</td>\n",
       "      <td>18.0</td>\n",
       "      <td>Evening</td>\n",
       "      <td>155.081309</td>\n",
       "      <td>NaN</td>\n",
       "      <td>Mid</td>\n",
       "      <td>NaN</td>\n",
       "      <td>NaN</td>\n",
       "      <td>7.241487</td>\n",
       "    </tr>\n",
       "    <tr>\n",
       "      <th>9</th>\n",
       "      <td>10.0</td>\n",
       "      <td>2021-09-16</td>\n",
       "      <td>22:31:00</td>\n",
       "      <td>Low</td>\n",
       "      <td>1.0</td>\n",
       "      <td>Evening</td>\n",
       "      <td>137.508941</td>\n",
       "      <td>NaN</td>\n",
       "      <td>Low</td>\n",
       "      <td>NaN</td>\n",
       "      <td>NaN</td>\n",
       "      <td>3.718040</td>\n",
       "    </tr>\n",
       "  </tbody>\n",
       "</table>\n",
       "</div>"
      ],
      "text/plain": [
       "   Delivery_ID Delivery_Start_Date Delivery_Start_Time Traffic_Conditions  \\\n",
       "0          1.0          2020-09-03            12:41:00                Low   \n",
       "1          2.0          2022-12-22            20:14:00                Low   \n",
       "2          3.0          2021-06-05            11:20:00               High   \n",
       "3          4.0          2023-05-02            05:50:00               High   \n",
       "4          5.0          2020-07-07            02:34:00           Moderate   \n",
       "5          6.0          2021-01-08            06:46:00               High   \n",
       "6          7.0          2021-11-02            05:25:00                Low   \n",
       "7          8.0          2022-03-01            16:44:00               High   \n",
       "8          9.0          2023-02-15            18:46:00               High   \n",
       "9         10.0          2021-09-16            22:31:00                Low   \n",
       "\n",
       "   Number_of_Packages Customer_Preference_for_Delivery_Time  Distance_(miles)  \\\n",
       "0                 7.0                               Evening        167.884751   \n",
       "1                10.0                               Morning        154.154474   \n",
       "2                 2.0                             Afternoon        196.084835   \n",
       "3                15.0                               Morning         94.010339   \n",
       "4                17.0                               Evening        202.254271   \n",
       "5                 7.0                               Evening        142.464202   \n",
       "6                17.0                             Afternoon        193.844452   \n",
       "7                 6.0                               Evening        145.056879   \n",
       "8                18.0                               Evening        155.081309   \n",
       "9                 1.0                               Evening        137.508941   \n",
       "\n",
       "   fog rain snow hail  Historical_Delivery_Time_(hours)  \n",
       "0  NaN  NaN  Low  NaN                          9.294688  \n",
       "1  Low  NaN  Mid  NaN                          9.303765  \n",
       "2  NaN  Mid  NaN  NaN                          8.734668  \n",
       "3  NaN  NaN  NaN  NaN                          7.806979  \n",
       "4  Mid  NaN  NaN  NaN                         12.770403  \n",
       "5  NaN  Low  NaN  NaN                          6.731095  \n",
       "6  NaN  Mid  NaN  NaN                          9.108041  \n",
       "7  NaN  NaN  NaN  NaN                          5.977140  \n",
       "8  NaN  Mid  NaN  NaN                          7.241487  \n",
       "9  NaN  Low  NaN  NaN                          3.718040  "
      ]
     },
     "execution_count": 5,
     "metadata": {},
     "output_type": "execute_result"
    }
   ],
   "source": [
    "# Check the frst 10 rows of data.\n",
    "df.head(10)"
   ]
  },
  {
   "cell_type": "code",
   "execution_count": 6,
   "metadata": {},
   "outputs": [],
   "source": [
    "# Define a dictionary to rename some columns.\n",
    "col_dict = {\n",
    "            'Delivery_ID': 'id', \n",
    "            'Delivery_Start_Date': 'start_date', \n",
    "            'Delivery_Start_Time': 'start_time', \n",
    "            'Traffic_Conditions': 'traffic', \n",
    "            'Number_of_Packages': 'packages',  \n",
    "            'Customer_Preference_for_Delivery_Time': 'preference', \n",
    "            'Distance_(miles)': 'distance', \n",
    "            'Historical_Delivery_Time_(hours)': 'delivery'\n",
    "           }"
   ]
  },
  {
   "cell_type": "code",
   "execution_count": 7,
   "metadata": {},
   "outputs": [],
   "source": [
    "# Rename the required columns.\n",
    "df = df.rename(columns=col_dict)"
   ]
  },
  {
   "cell_type": "code",
   "execution_count": 8,
   "metadata": {},
   "outputs": [
    {
     "data": {
      "text/html": [
       "<div>\n",
       "<style scoped>\n",
       "    .dataframe tbody tr th:only-of-type {\n",
       "        vertical-align: middle;\n",
       "    }\n",
       "\n",
       "    .dataframe tbody tr th {\n",
       "        vertical-align: top;\n",
       "    }\n",
       "\n",
       "    .dataframe thead th {\n",
       "        text-align: right;\n",
       "    }\n",
       "</style>\n",
       "<table border=\"1\" class=\"dataframe\">\n",
       "  <thead>\n",
       "    <tr style=\"text-align: right;\">\n",
       "      <th></th>\n",
       "      <th>id</th>\n",
       "      <th>start_date</th>\n",
       "      <th>start_time</th>\n",
       "      <th>traffic</th>\n",
       "      <th>packages</th>\n",
       "      <th>preference</th>\n",
       "      <th>distance</th>\n",
       "      <th>fog</th>\n",
       "      <th>rain</th>\n",
       "      <th>snow</th>\n",
       "      <th>hail</th>\n",
       "      <th>delivery</th>\n",
       "    </tr>\n",
       "  </thead>\n",
       "  <tbody>\n",
       "    <tr>\n",
       "      <th>0</th>\n",
       "      <td>1.0</td>\n",
       "      <td>2020-09-03</td>\n",
       "      <td>12:41:00</td>\n",
       "      <td>Low</td>\n",
       "      <td>7.0</td>\n",
       "      <td>Evening</td>\n",
       "      <td>167.884751</td>\n",
       "      <td>NaN</td>\n",
       "      <td>NaN</td>\n",
       "      <td>Low</td>\n",
       "      <td>NaN</td>\n",
       "      <td>9.294688</td>\n",
       "    </tr>\n",
       "    <tr>\n",
       "      <th>1</th>\n",
       "      <td>2.0</td>\n",
       "      <td>2022-12-22</td>\n",
       "      <td>20:14:00</td>\n",
       "      <td>Low</td>\n",
       "      <td>10.0</td>\n",
       "      <td>Morning</td>\n",
       "      <td>154.154474</td>\n",
       "      <td>Low</td>\n",
       "      <td>NaN</td>\n",
       "      <td>Mid</td>\n",
       "      <td>NaN</td>\n",
       "      <td>9.303765</td>\n",
       "    </tr>\n",
       "    <tr>\n",
       "      <th>2</th>\n",
       "      <td>3.0</td>\n",
       "      <td>2021-06-05</td>\n",
       "      <td>11:20:00</td>\n",
       "      <td>High</td>\n",
       "      <td>2.0</td>\n",
       "      <td>Afternoon</td>\n",
       "      <td>196.084835</td>\n",
       "      <td>NaN</td>\n",
       "      <td>Mid</td>\n",
       "      <td>NaN</td>\n",
       "      <td>NaN</td>\n",
       "      <td>8.734668</td>\n",
       "    </tr>\n",
       "    <tr>\n",
       "      <th>3</th>\n",
       "      <td>4.0</td>\n",
       "      <td>2023-05-02</td>\n",
       "      <td>05:50:00</td>\n",
       "      <td>High</td>\n",
       "      <td>15.0</td>\n",
       "      <td>Morning</td>\n",
       "      <td>94.010339</td>\n",
       "      <td>NaN</td>\n",
       "      <td>NaN</td>\n",
       "      <td>NaN</td>\n",
       "      <td>NaN</td>\n",
       "      <td>7.806979</td>\n",
       "    </tr>\n",
       "    <tr>\n",
       "      <th>4</th>\n",
       "      <td>5.0</td>\n",
       "      <td>2020-07-07</td>\n",
       "      <td>02:34:00</td>\n",
       "      <td>Moderate</td>\n",
       "      <td>17.0</td>\n",
       "      <td>Evening</td>\n",
       "      <td>202.254271</td>\n",
       "      <td>Mid</td>\n",
       "      <td>NaN</td>\n",
       "      <td>NaN</td>\n",
       "      <td>NaN</td>\n",
       "      <td>12.770403</td>\n",
       "    </tr>\n",
       "  </tbody>\n",
       "</table>\n",
       "</div>"
      ],
      "text/plain": [
       "    id  start_date start_time   traffic  packages preference    distance  fog  \\\n",
       "0  1.0  2020-09-03   12:41:00       Low       7.0    Evening  167.884751  NaN   \n",
       "1  2.0  2022-12-22   20:14:00       Low      10.0    Morning  154.154474  Low   \n",
       "2  3.0  2021-06-05   11:20:00      High       2.0  Afternoon  196.084835  NaN   \n",
       "3  4.0  2023-05-02   05:50:00      High      15.0    Morning   94.010339  NaN   \n",
       "4  5.0  2020-07-07   02:34:00  Moderate      17.0    Evening  202.254271  Mid   \n",
       "\n",
       "  rain snow hail   delivery  \n",
       "0  NaN  Low  NaN   9.294688  \n",
       "1  NaN  Mid  NaN   9.303765  \n",
       "2  Mid  NaN  NaN   8.734668  \n",
       "3  NaN  NaN  NaN   7.806979  \n",
       "4  NaN  NaN  NaN  12.770403  "
      ]
     },
     "execution_count": 8,
     "metadata": {},
     "output_type": "execute_result"
    }
   ],
   "source": [
    "# Check a few rows of df.\n",
    "df.head()"
   ]
  },
  {
   "cell_type": "markdown",
   "metadata": {
    "id": "42-onxiwPBzk"
   },
   "source": [
    "**DATA CLEANING**"
   ]
  },
  {
   "cell_type": "code",
   "execution_count": 9,
   "metadata": {},
   "outputs": [
    {
     "data": {
      "text/plain": [
       "8"
      ]
     },
     "execution_count": 9,
     "metadata": {},
     "output_type": "execute_result"
    }
   ],
   "source": [
    "# Check for duplicates.\n",
    "df.duplicated().sum()"
   ]
  },
  {
   "cell_type": "code",
   "execution_count": 10,
   "metadata": {},
   "outputs": [],
   "source": [
    "# Remove duplicates.\n",
    "df.drop_duplicates(inplace=True)"
   ]
  },
  {
   "cell_type": "code",
   "execution_count": 11,
   "metadata": {},
   "outputs": [
    {
     "data": {
      "text/plain": [
       "(131000, 12)"
      ]
     },
     "execution_count": 11,
     "metadata": {},
     "output_type": "execute_result"
    }
   ],
   "source": [
    "# Check the shape of df.\n",
    "df.shape"
   ]
  },
  {
   "cell_type": "code",
   "execution_count": 12,
   "metadata": {
    "colab": {
     "base_uri": "https://localhost:8080/",
     "height": 0
    },
    "executionInfo": {
     "elapsed": 1114,
     "status": "ok",
     "timestamp": 1698015894031,
     "user": {
      "displayName": "Efemena Ikpro",
      "userId": "07524339756286888285"
     },
     "user_tz": -60
    },
    "id": "G46sfW8AkTvR",
    "outputId": "ad1f1923-dfd1-4b30-b2c0-1b1b337edd74"
   },
   "outputs": [
    {
     "data": {
      "text/plain": [
       "id                 3\n",
       "start_date         1\n",
       "start_time         1\n",
       "traffic            0\n",
       "packages           2\n",
       "preference         0\n",
       "distance           1\n",
       "fog            78762\n",
       "rain           78735\n",
       "snow           91820\n",
       "hail          104771\n",
       "delivery           1\n",
       "dtype: int64"
      ]
     },
     "execution_count": 12,
     "metadata": {},
     "output_type": "execute_result"
    }
   ],
   "source": [
    "# Check for mising values.\n",
    "df.isna().sum()"
   ]
  },
  {
   "cell_type": "code",
   "execution_count": 13,
   "metadata": {},
   "outputs": [
    {
     "name": "stdout",
     "output_type": "stream",
     "text": [
      "Percentage missing in id is: 0%\n",
      "Percentage missing in start_date is: 0%\n",
      "Percentage missing in start_time is: 0%\n",
      "Percentage missing in traffic is: 0%\n",
      "Percentage missing in packages is: 0%\n",
      "Percentage missing in preference is: 0%\n",
      "Percentage missing in distance is: 0%\n",
      "Percentage missing in fog is: 60%\n",
      "Percentage missing in rain is: 60%\n",
      "Percentage missing in snow is: 70%\n",
      "Percentage missing in hail is: 79%\n",
      "Percentage missing in delivery is: 0%\n"
     ]
    }
   ],
   "source": [
    "# Calculate the percentage of missing values in each column.\n",
    "miss_val = df.isna().sum()\n",
    "miss_ind = miss_val.index.to_list()\n",
    "\n",
    "for x in range(len(miss_val)):\n",
    "    print(f'Percentage missing in {miss_ind[x]} is: {int(miss_val.iloc[x]/131000 * 100)}%')"
   ]
  },
  {
   "cell_type": "markdown",
   "metadata": {},
   "source": [
    "The 'id', 'fog', 'rain', 'snow' and 'hail' columns will be deleted."
   ]
  },
  {
   "cell_type": "code",
   "execution_count": 14,
   "metadata": {},
   "outputs": [],
   "source": [
    "# Drop columns not needed.\n",
    "drop_cols = ['id', 'fog', 'rain', 'snow', 'hail']\n",
    "df.drop(columns=drop_cols, axis=1, inplace=True)"
   ]
  },
  {
   "cell_type": "code",
   "execution_count": 15,
   "metadata": {},
   "outputs": [
    {
     "data": {
      "text/html": [
       "<div>\n",
       "<style scoped>\n",
       "    .dataframe tbody tr th:only-of-type {\n",
       "        vertical-align: middle;\n",
       "    }\n",
       "\n",
       "    .dataframe tbody tr th {\n",
       "        vertical-align: top;\n",
       "    }\n",
       "\n",
       "    .dataframe thead th {\n",
       "        text-align: right;\n",
       "    }\n",
       "</style>\n",
       "<table border=\"1\" class=\"dataframe\">\n",
       "  <thead>\n",
       "    <tr style=\"text-align: right;\">\n",
       "      <th></th>\n",
       "      <th>start_date</th>\n",
       "      <th>start_time</th>\n",
       "      <th>traffic</th>\n",
       "      <th>packages</th>\n",
       "      <th>preference</th>\n",
       "      <th>distance</th>\n",
       "      <th>delivery</th>\n",
       "    </tr>\n",
       "  </thead>\n",
       "  <tbody>\n",
       "    <tr>\n",
       "      <th>0</th>\n",
       "      <td>2020-09-03</td>\n",
       "      <td>12:41:00</td>\n",
       "      <td>Low</td>\n",
       "      <td>7.0</td>\n",
       "      <td>Evening</td>\n",
       "      <td>167.884751</td>\n",
       "      <td>9.294688</td>\n",
       "    </tr>\n",
       "    <tr>\n",
       "      <th>1</th>\n",
       "      <td>2022-12-22</td>\n",
       "      <td>20:14:00</td>\n",
       "      <td>Low</td>\n",
       "      <td>10.0</td>\n",
       "      <td>Morning</td>\n",
       "      <td>154.154474</td>\n",
       "      <td>9.303765</td>\n",
       "    </tr>\n",
       "    <tr>\n",
       "      <th>2</th>\n",
       "      <td>2021-06-05</td>\n",
       "      <td>11:20:00</td>\n",
       "      <td>High</td>\n",
       "      <td>2.0</td>\n",
       "      <td>Afternoon</td>\n",
       "      <td>196.084835</td>\n",
       "      <td>8.734668</td>\n",
       "    </tr>\n",
       "    <tr>\n",
       "      <th>3</th>\n",
       "      <td>2023-05-02</td>\n",
       "      <td>05:50:00</td>\n",
       "      <td>High</td>\n",
       "      <td>15.0</td>\n",
       "      <td>Morning</td>\n",
       "      <td>94.010339</td>\n",
       "      <td>7.806979</td>\n",
       "    </tr>\n",
       "    <tr>\n",
       "      <th>4</th>\n",
       "      <td>2020-07-07</td>\n",
       "      <td>02:34:00</td>\n",
       "      <td>Moderate</td>\n",
       "      <td>17.0</td>\n",
       "      <td>Evening</td>\n",
       "      <td>202.254271</td>\n",
       "      <td>12.770403</td>\n",
       "    </tr>\n",
       "  </tbody>\n",
       "</table>\n",
       "</div>"
      ],
      "text/plain": [
       "   start_date start_time   traffic  packages preference    distance   delivery\n",
       "0  2020-09-03   12:41:00       Low       7.0    Evening  167.884751   9.294688\n",
       "1  2022-12-22   20:14:00       Low      10.0    Morning  154.154474   9.303765\n",
       "2  2021-06-05   11:20:00      High       2.0  Afternoon  196.084835   8.734668\n",
       "3  2023-05-02   05:50:00      High      15.0    Morning   94.010339   7.806979\n",
       "4  2020-07-07   02:34:00  Moderate      17.0    Evening  202.254271  12.770403"
      ]
     },
     "execution_count": 15,
     "metadata": {},
     "output_type": "execute_result"
    }
   ],
   "source": [
    "# Check a few rows of df.\n",
    "df.head()"
   ]
  },
  {
   "cell_type": "code",
   "execution_count": 16,
   "metadata": {},
   "outputs": [],
   "source": [
    "# Drop other missing values.\n",
    "df.dropna(inplace=True)"
   ]
  },
  {
   "cell_type": "code",
   "execution_count": 17,
   "metadata": {},
   "outputs": [
    {
     "data": {
      "text/plain": [
       "(130994, 7)"
      ]
     },
     "execution_count": 17,
     "metadata": {},
     "output_type": "execute_result"
    }
   ],
   "source": [
    "# Check the shape of df.\n",
    "df.shape"
   ]
  },
  {
   "cell_type": "markdown",
   "metadata": {
    "id": "GkFyOZ1unNbn"
   },
   "source": [
    "**EXPLORATORY DATA ANALYSIS:** Observe the relationships between the columns and the target variables"
   ]
  },
  {
   "cell_type": "code",
   "execution_count": 21,
   "metadata": {
    "colab": {
     "base_uri": "https://localhost:8080/",
     "height": 721
    },
    "executionInfo": {
     "elapsed": 2051,
     "status": "ok",
     "timestamp": 1698015908274,
     "user": {
      "displayName": "Efemena Ikpro",
      "userId": "07524339756286888285"
     },
     "user_tz": -60
    },
    "id": "0BFVFUWtnBq-",
    "outputId": "91fb9e96-d52f-4c3f-9ead-4dd64c3334fb"
   },
   "outputs": [
    {
     "data": {
      "image/png": "[encoded data removed]",
      "text/plain": [
       "<Figure size 640x480 with 2 Axes>"
      ]
     },
     "metadata": {},
     "output_type": "display_data"
    }
   ],
   "source": [
    "# Create a correlation heatmap.\n",
    "corr_df = df.select_dtypes(include='number')\\\n",
    "            .drop('delivery', axis=1)\\\n",
    "            .corr()\n",
    "\n",
    "sns.heatmap(corr_df,\n",
    "            cbar=True,\n",
    "            annot=True,\n",
    "            square=True,\n",
    "            fmt='.2f',\n",
    "            annot_kws={'size': 10},\n",
    "            cmap=\"Blues\")\n",
    "\n",
    "plt.show()"
   ]
  },
  {
   "cell_type": "code",
   "execution_count": 22,
   "metadata": {},
   "outputs": [
    {
     "data": {
      "image/png": "[encoded data removed]",
      "text/plain": [
       "<Figure size 800x400 with 1 Axes>"
      ]
     },
     "metadata": {},
     "output_type": "display_data"
    }
   ],
   "source": [
    "# Plot distribution of distance.\n",
    "plt.figure(figsize=(8, 4))\n",
    "df['distance'].plot(kind='hist', bins=20)\n",
    "plt.title(f'Distribution of Distance')\n",
    "plt.xlabel('Distance in miles')\n",
    "plt.ylabel('Frequency')\n",
    "plt.show()"
   ]
  },
  {
   "cell_type": "code",
   "execution_count": 23,
   "metadata": {},
   "outputs": [
    {
     "data": {
      "image/png": "[encoded data removed]",
      "text/plain": [
       "<Figure size 800x400 with 1 Axes>"
      ]
     },
     "metadata": {},
     "output_type": "display_data"
    }
   ],
   "source": [
    "# Plot distribution of packages.\n",
    "plt.figure(figsize=(8, 4))\n",
    "df['packages'].plot(kind='hist', bins=20)\n",
    "plt.title(f'Distribution of Packages')\n",
    "plt.xlabel('Number of packages')\n",
    "plt.ylabel('Frequency')\n",
    "plt.show()"
   ]
  },
  {
   "cell_type": "code",
   "execution_count": 24,
   "metadata": {
    "executionInfo": {
     "elapsed": 301,
     "status": "ok",
     "timestamp": 1698016382117,
     "user": {
      "displayName": "Efemena Ikpro",
      "userId": "07524339756286888285"
     },
     "user_tz": -60
    },
    "id": "VCyzkZBo1geA"
   },
   "outputs": [],
   "source": [
    "# Function to create categorical count plot.\n",
    "def create_count_plot(col):\n",
    "  plt.figure(figsize=(8, 4))\n",
    "  df[col].value_counts().plot(kind='bar')\n",
    "  plt.title(f'Distribution of {col}')\n",
    "  plt.xlabel(col)\n",
    "  plt.ylabel('Count')\n",
    "  plt.show()"
   ]
  },
  {
   "cell_type": "code",
   "execution_count": 25,
   "metadata": {
    "colab": {
     "base_uri": "https://localhost:8080/",
     "height": 463
    },
    "executionInfo": {
     "elapsed": 1199,
     "status": "ok",
     "timestamp": 1698016397608,
     "user": {
      "displayName": "Efemena Ikpro",
      "userId": "07524339756286888285"
     },
     "user_tz": -60
    },
    "id": "eH3l7ap-qZlF",
    "outputId": "ff57932f-81fe-4de5-a310-950c10a56e14"
   },
   "outputs": [
    {
     "data": {
      "image/png": "[encoded data removed]",
      "text/plain": [
       "<Figure size 800x400 with 1 Axes>"
      ]
     },
     "metadata": {},
     "output_type": "display_data"
    }
   ],
   "source": [
    "# Show count plot for traffic.\n",
    "create_count_plot(\"traffic\")"
   ]
  },
  {
   "cell_type": "code",
   "execution_count": 26,
   "metadata": {
    "colab": {
     "base_uri": "https://localhost:8080/",
     "height": 464
    },
    "executionInfo": {
     "elapsed": 598,
     "status": "ok",
     "timestamp": 1698016440007,
     "user": {
      "displayName": "Efemena Ikpro",
      "userId": "07524339756286888285"
     },
     "user_tz": -60
    },
    "id": "ShiatQ4L1mr6",
    "outputId": "33643c70-9af6-4de4-e211-9345b9a08641"
   },
   "outputs": [
    {
     "data": {
      "image/png": "[encoded data removed]",
      "text/plain": [
       "<Figure size 800x400 with 1 Axes>"
      ]
     },
     "metadata": {},
     "output_type": "display_data"
    }
   ],
   "source": [
    "# Show count plot for customer_preference.\n",
    "create_count_plot(\"preference\")"
   ]
  },
  {
   "cell_type": "markdown",
   "metadata": {
    "id": "KmVu_gI61tGz"
   },
   "source": [
    "**FEATURE ENGINEERING**"
   ]
  },
  {
   "cell_type": "code",
   "execution_count": 27,
   "metadata": {},
   "outputs": [],
   "source": [
    "# Split the start_date column to year, month and day columns.\n",
    "df['year'] = [int(pd.to_datetime(x).year) for x in df['start_date']]\n",
    "df['month'] = [int(pd.to_datetime(x).month) for x in df['start_date']]\n",
    "df['day'] = [int(pd.to_datetime(x).day) for x in df['start_date']]"
   ]
  },
  {
   "cell_type": "code",
   "execution_count": 28,
   "metadata": {},
   "outputs": [],
   "source": [
    "# Split the start_time column to hour, minute and second columns.\n",
    "df['hour'] = [int(pd.to_datetime(x).hour) for x in df['start_time']]\n",
    "df['minute'] = [int(pd.to_datetime(x).minute) for x in df['start_time']]\n",
    "df['second'] = [int(pd.to_datetime(x).second) for x in df['start_time']]"
   ]
  },
  {
   "cell_type": "code",
   "execution_count": 29,
   "metadata": {},
   "outputs": [],
   "source": [
    "# Drop the start_date and start_time columns after spliting.\n",
    "df.drop(columns=['start_date', 'start_time'], axis=1, inplace=True)"
   ]
  },
  {
   "cell_type": "code",
   "execution_count": 30,
   "metadata": {},
   "outputs": [
    {
     "data": {
      "text/html": [
       "<div>\n",
       "<style scoped>\n",
       "    .dataframe tbody tr th:only-of-type {\n",
       "        vertical-align: middle;\n",
       "    }\n",
       "\n",
       "    .dataframe tbody tr th {\n",
       "        vertical-align: top;\n",
       "    }\n",
       "\n",
       "    .dataframe thead th {\n",
       "        text-align: right;\n",
       "    }\n",
       "</style>\n",
       "<table border=\"1\" class=\"dataframe\">\n",
       "  <thead>\n",
       "    <tr style=\"text-align: right;\">\n",
       "      <th></th>\n",
       "      <th>traffic</th>\n",
       "      <th>packages</th>\n",
       "      <th>preference</th>\n",
       "      <th>distance</th>\n",
       "      <th>delivery</th>\n",
       "      <th>year</th>\n",
       "      <th>month</th>\n",
       "      <th>day</th>\n",
       "      <th>hour</th>\n",
       "      <th>minute</th>\n",
       "      <th>second</th>\n",
       "    </tr>\n",
       "  </thead>\n",
       "  <tbody>\n",
       "    <tr>\n",
       "      <th>0</th>\n",
       "      <td>Low</td>\n",
       "      <td>7</td>\n",
       "      <td>Evening</td>\n",
       "      <td>167.884751</td>\n",
       "      <td>9.294688</td>\n",
       "      <td>2020</td>\n",
       "      <td>9</td>\n",
       "      <td>3</td>\n",
       "      <td>12</td>\n",
       "      <td>41</td>\n",
       "      <td>0</td>\n",
       "    </tr>\n",
       "    <tr>\n",
       "      <th>1</th>\n",
       "      <td>Low</td>\n",
       "      <td>10</td>\n",
       "      <td>Morning</td>\n",
       "      <td>154.154474</td>\n",
       "      <td>9.303765</td>\n",
       "      <td>2022</td>\n",
       "      <td>12</td>\n",
       "      <td>22</td>\n",
       "      <td>20</td>\n",
       "      <td>14</td>\n",
       "      <td>0</td>\n",
       "    </tr>\n",
       "    <tr>\n",
       "      <th>2</th>\n",
       "      <td>High</td>\n",
       "      <td>2</td>\n",
       "      <td>Afternoon</td>\n",
       "      <td>196.084835</td>\n",
       "      <td>8.734668</td>\n",
       "      <td>2021</td>\n",
       "      <td>6</td>\n",
       "      <td>5</td>\n",
       "      <td>11</td>\n",
       "      <td>20</td>\n",
       "      <td>0</td>\n",
       "    </tr>\n",
       "    <tr>\n",
       "      <th>3</th>\n",
       "      <td>High</td>\n",
       "      <td>15</td>\n",
       "      <td>Morning</td>\n",
       "      <td>94.010339</td>\n",
       "      <td>7.806979</td>\n",
       "      <td>2023</td>\n",
       "      <td>5</td>\n",
       "      <td>2</td>\n",
       "      <td>5</td>\n",
       "      <td>50</td>\n",
       "      <td>0</td>\n",
       "    </tr>\n",
       "    <tr>\n",
       "      <th>4</th>\n",
       "      <td>Moderate</td>\n",
       "      <td>17</td>\n",
       "      <td>Evening</td>\n",
       "      <td>202.254271</td>\n",
       "      <td>12.770403</td>\n",
       "      <td>2020</td>\n",
       "      <td>7</td>\n",
       "      <td>7</td>\n",
       "      <td>2</td>\n",
       "      <td>34</td>\n",
       "      <td>0</td>\n",
       "    </tr>\n",
       "  </tbody>\n",
       "</table>\n",
       "</div>"
      ],
      "text/plain": [
       "    traffic  packages preference    distance   delivery  year  month  day  \\\n",
       "0       Low         7    Evening  167.884751   9.294688  2020      9    3   \n",
       "1       Low        10    Morning  154.154474   9.303765  2022     12   22   \n",
       "2      High         2  Afternoon  196.084835   8.734668  2021      6    5   \n",
       "3      High        15    Morning   94.010339   7.806979  2023      5    2   \n",
       "4  Moderate        17    Evening  202.254271  12.770403  2020      7    7   \n",
       "\n",
       "   hour  minute  second  \n",
       "0    12      41       0  \n",
       "1    20      14       0  \n",
       "2    11      20       0  \n",
       "3     5      50       0  \n",
       "4     2      34       0  "
      ]
     },
     "execution_count": 30,
     "metadata": {},
     "output_type": "execute_result"
    }
   ],
   "source": [
    "# Check a few rows of df.\n",
    "df.head()"
   ]
  },
  {
   "cell_type": "code",
   "execution_count": 31,
   "metadata": {},
   "outputs": [
    {
     "data": {
      "text/plain": [
       "0"
      ]
     },
     "execution_count": 31,
     "metadata": {},
     "output_type": "execute_result"
    }
   ],
   "source": [
    "# Sum the values in the second column\n",
    "df['second'].sum()"
   ]
  },
  {
   "cell_type": "code",
   "execution_count": 32,
   "metadata": {},
   "outputs": [],
   "source": [
    "# Remove the second column.\n",
    "df.drop(columns='second', axis=1, inplace=True)"
   ]
  },
  {
   "cell_type": "code",
   "execution_count": 33,
   "metadata": {},
   "outputs": [],
   "source": [
    "# Convert the packages column to integer.\n",
    "df['packages'] = df['packages'].astype('int64')"
   ]
  },
  {
   "cell_type": "code",
   "execution_count": 34,
   "metadata": {},
   "outputs": [
    {
     "name": "stdout",
     "output_type": "stream",
     "text": [
      "<class 'pandas.core.frame.DataFrame'>\n",
      "Index: 130994 entries, 0 to 130999\n",
      "Data columns (total 10 columns):\n",
      " #   Column      Non-Null Count   Dtype  \n",
      "---  ------      --------------   -----  \n",
      " 0   traffic     130994 non-null  object \n",
      " 1   packages    130994 non-null  int64  \n",
      " 2   preference  130994 non-null  object \n",
      " 3   distance    130994 non-null  float64\n",
      " 4   delivery    130994 non-null  float64\n",
      " 5   year        130994 non-null  int64  \n",
      " 6   month       130994 non-null  int64  \n",
      " 7   day         130994 non-null  int64  \n",
      " 8   hour        130994 non-null  int64  \n",
      " 9   minute      130994 non-null  int64  \n",
      "dtypes: float64(2), int64(6), object(2)\n",
      "memory usage: 11.0+ MB\n"
     ]
    }
   ],
   "source": [
    "# Check the info of df.\n",
    "df.info()"
   ]
  },
  {
   "cell_type": "code",
   "execution_count": 35,
   "metadata": {},
   "outputs": [
    {
     "data": {
      "text/plain": [
       "array(['Low', 'High', 'Moderate'], dtype=object)"
      ]
     },
     "execution_count": 35,
     "metadata": {},
     "output_type": "execute_result"
    }
   ],
   "source": [
    "# Ckeck the unique values of the traffic column.\n",
    "df['traffic'].unique()"
   ]
  },
  {
   "cell_type": "code",
   "execution_count": 36,
   "metadata": {},
   "outputs": [
    {
     "data": {
      "text/plain": [
       "array(['Evening', 'Morning', 'Afternoon'], dtype=object)"
      ]
     },
     "execution_count": 36,
     "metadata": {},
     "output_type": "execute_result"
    }
   ],
   "source": [
    "# Ckeck the unique values of the customer_preference column.\n",
    "df['preference'].unique()"
   ]
  },
  {
   "cell_type": "code",
   "execution_count": 37,
   "metadata": {},
   "outputs": [],
   "source": [
    "# Create Numerical masks for the traffic and customer_preference columns.\n",
    "mask_traffic = {'Low': 1, 'High': 2, 'Moderate': 3}\n",
    "mask_preference = {'Evening': 1, 'Morning': 2, 'Afternoon': 3}"
   ]
  },
  {
   "cell_type": "code",
   "execution_count": 46,
   "metadata": {},
   "outputs": [],
   "source": [
    "# Apply the masks.\n",
    "df['traffic'] = df['traffic'].map(mask_traffic)\n",
    "df['preference'] = df['preference'].map(mask_preference)"
   ]
  },
  {
   "cell_type": "code",
   "execution_count": 47,
   "metadata": {},
   "outputs": [],
   "source": [
    "# Rearrange df.\n",
    "df = df[['traffic', 'packages', 'preference', 'distance',\n",
    "        'year', 'month', 'day', 'hour', 'minute', 'delivery']]"
   ]
  },
  {
   "cell_type": "code",
   "execution_count": 48,
   "metadata": {},
   "outputs": [
    {
     "data": {
      "text/html": [
       "<div>\n",
       "<style scoped>\n",
       "    .dataframe tbody tr th:only-of-type {\n",
       "        vertical-align: middle;\n",
       "    }\n",
       "\n",
       "    .dataframe tbody tr th {\n",
       "        vertical-align: top;\n",
       "    }\n",
       "\n",
       "    .dataframe thead th {\n",
       "        text-align: right;\n",
       "    }\n",
       "</style>\n",
       "<table border=\"1\" class=\"dataframe\">\n",
       "  <thead>\n",
       "    <tr style=\"text-align: right;\">\n",
       "      <th></th>\n",
       "      <th>traffic</th>\n",
       "      <th>packages</th>\n",
       "      <th>preference</th>\n",
       "      <th>distance</th>\n",
       "      <th>year</th>\n",
       "      <th>month</th>\n",
       "      <th>day</th>\n",
       "      <th>hour</th>\n",
       "      <th>minute</th>\n",
       "      <th>delivery</th>\n",
       "    </tr>\n",
       "  </thead>\n",
       "  <tbody>\n",
       "    <tr>\n",
       "      <th>0</th>\n",
       "      <td>1</td>\n",
       "      <td>7</td>\n",
       "      <td>1</td>\n",
       "      <td>167.884751</td>\n",
       "      <td>2020</td>\n",
       "      <td>9</td>\n",
       "      <td>3</td>\n",
       "      <td>12</td>\n",
       "      <td>41</td>\n",
       "      <td>9.294688</td>\n",
       "    </tr>\n",
       "    <tr>\n",
       "      <th>1</th>\n",
       "      <td>1</td>\n",
       "      <td>10</td>\n",
       "      <td>2</td>\n",
       "      <td>154.154474</td>\n",
       "      <td>2022</td>\n",
       "      <td>12</td>\n",
       "      <td>22</td>\n",
       "      <td>20</td>\n",
       "      <td>14</td>\n",
       "      <td>9.303765</td>\n",
       "    </tr>\n",
       "    <tr>\n",
       "      <th>2</th>\n",
       "      <td>2</td>\n",
       "      <td>2</td>\n",
       "      <td>3</td>\n",
       "      <td>196.084835</td>\n",
       "      <td>2021</td>\n",
       "      <td>6</td>\n",
       "      <td>5</td>\n",
       "      <td>11</td>\n",
       "      <td>20</td>\n",
       "      <td>8.734668</td>\n",
       "    </tr>\n",
       "    <tr>\n",
       "      <th>3</th>\n",
       "      <td>2</td>\n",
       "      <td>15</td>\n",
       "      <td>2</td>\n",
       "      <td>94.010339</td>\n",
       "      <td>2023</td>\n",
       "      <td>5</td>\n",
       "      <td>2</td>\n",
       "      <td>5</td>\n",
       "      <td>50</td>\n",
       "      <td>7.806979</td>\n",
       "    </tr>\n",
       "    <tr>\n",
       "      <th>4</th>\n",
       "      <td>3</td>\n",
       "      <td>17</td>\n",
       "      <td>1</td>\n",
       "      <td>202.254271</td>\n",
       "      <td>2020</td>\n",
       "      <td>7</td>\n",
       "      <td>7</td>\n",
       "      <td>2</td>\n",
       "      <td>34</td>\n",
       "      <td>12.770403</td>\n",
       "    </tr>\n",
       "  </tbody>\n",
       "</table>\n",
       "</div>"
      ],
      "text/plain": [
       "   traffic  packages  preference    distance  year  month  day  hour  minute  \\\n",
       "0        1         7           1  167.884751  2020      9    3    12      41   \n",
       "1        1        10           2  154.154474  2022     12   22    20      14   \n",
       "2        2         2           3  196.084835  2021      6    5    11      20   \n",
       "3        2        15           2   94.010339  2023      5    2     5      50   \n",
       "4        3        17           1  202.254271  2020      7    7     2      34   \n",
       "\n",
       "    delivery  \n",
       "0   9.294688  \n",
       "1   9.303765  \n",
       "2   8.734668  \n",
       "3   7.806979  \n",
       "4  12.770403  "
      ]
     },
     "execution_count": 48,
     "metadata": {},
     "output_type": "execute_result"
    }
   ],
   "source": [
    "# Check a few rows of df.\n",
    "df.head()"
   ]
  },
  {
   "cell_type": "markdown",
   "metadata": {},
   "source": [
    "**CREATE TRAINING AND TEST SET**"
   ]
  },
  {
   "cell_type": "code",
   "execution_count": 51,
   "metadata": {
    "executionInfo": {
     "elapsed": 339,
     "status": "ok",
     "timestamp": 1698016973984,
     "user": {
      "displayName": "Efemena Ikpro",
      "userId": "07524339756286888285"
     },
     "user_tz": -60
    },
    "id": "egar6eCHsK6J"
   },
   "outputs": [],
   "source": [
    "# Define the features and target.\n",
    "features = ['traffic', 'packages', 'preference', 'distance',\n",
    "            'year', 'month', 'day', 'hour', 'minute']\n",
    "\n",
    "target = 'delivery'"
   ]
  },
  {
   "cell_type": "markdown",
   "metadata": {
    "id": "w-ChXWfn3fVu"
   },
   "source": [
    "**MODELING AND SELECTION**  \n",
    "Train models from tree based/ensemble"
   ]
  },
  {
   "cell_type": "code",
   "execution_count": null,
   "metadata": {},
   "outputs": [],
   "source": [
    "# Define X and y.\n",
    "X = df[features]\n",
    "y = df[target]"
   ]
  },
  {
   "cell_type": "code",
   "execution_count": 52,
   "metadata": {
    "colab": {
     "base_uri": "https://localhost:8080/"
    },
    "executionInfo": {
     "elapsed": 57529,
     "status": "ok",
     "timestamp": 1697699134944,
     "user": {
      "displayName": "Efemena Ikpro",
      "userId": "07524339756286888285"
     },
     "user_tz": 420
    },
    "id": "mzQ79jBX3egA",
    "outputId": "16d0e993-df83-4af9-aad8-6b0c69dda0f3"
   },
   "outputs": [
    {
     "name": "stdout",
     "output_type": "stream",
     "text": [
      "Model: Decision Tree\n",
      "RMSE: 2.78\n",
      "MAE: 2.19\n",
      "MAPE: 30.13%\n",
      "========================================\n",
      "Model: Random Forest\n",
      "RMSE: 1.98\n",
      "MAE: 1.58\n",
      "MAPE: 22.18%\n",
      "========================================\n",
      "Model: Gradient Boosting\n",
      "RMSE: 1.91\n",
      "MAE: 1.53\n",
      "MAPE: 21.41%\n",
      "========================================\n"
     ]
    }
   ],
   "source": [
    "# Split the data into train and test sets.\n",
    "X_train, X_test, y_train, y_test = train_test_split(X, y, test_size=0.2, random_state=42)\n",
    "\n",
    "# Initialize the models.\n",
    "models = {\n",
    "    \"Decision Tree\": DecisionTreeRegressor(random_state=42),\n",
    "    \"Random Forest\": RandomForestRegressor(n_estimators=100, random_state=42),\n",
    "    \"Gradient Boosting\": GradientBoostingRegressor(n_estimators=100, random_state=42)\n",
    "}\n",
    "\n",
    "# Training and evaluation loop.\n",
    "for model_name, model in models.items():\n",
    "    \n",
    "    # Train the model.\n",
    "    model.fit(X_train, y_train)\n",
    "\n",
    "    # Make predictions.\n",
    "    y_pred = model.predict(X_test)\n",
    "\n",
    "    # Calculate RMSE, MAE, and MAPE.\n",
    "    rmse = np.sqrt(mean_squared_error(y_test, y_pred))\n",
    "    mae = mean_absolute_error(y_test, y_pred)\n",
    "    mape = np.mean(np.abs((y_test - y_pred) / y_test)) * 100  # MAPE in percentage\n",
    "\n",
    "    # Print the results.\n",
    "    print(f\"Model: {model_name}\")\n",
    "    print(f\"RMSE: {rmse:.2f}\")\n",
    "    print(f\"MAE: {mae:.2f}\")\n",
    "    print(f\"MAPE: {mape:.2f}%\")\n",
    "    print(\"=\" * 40)"
   ]
  },
  {
   "cell_type": "markdown",
   "metadata": {},
   "source": [
    "Neigbours"
   ]
  },
  {
   "cell_type": "code",
   "execution_count": 56,
   "metadata": {
    "colab": {
     "base_uri": "https://localhost:8080/"
    },
    "executionInfo": {
     "elapsed": 5252,
     "status": "ok",
     "timestamp": 1697699159788,
     "user": {
      "displayName": "Efemena Ikpro",
      "userId": "07524339756286888285"
     },
     "user_tz": 420
    },
    "id": "UPnqf7rUwBpn",
    "outputId": "d48f50a1-628e-497a-f4e6-a848339c9a8d"
   },
   "outputs": [
    {
     "name": "stdout",
     "output_type": "stream",
     "text": [
      "Model: KNN (k=1)\n",
      "RMSE: 3.05\n",
      "MAE: 2.40\n",
      "MAPE: 33.39%\n",
      "========================================\n",
      "Model: KNN (k=3)\n",
      "RMSE: 2.48\n",
      "MAE: 1.96\n",
      "MAPE: 27.62%\n",
      "========================================\n",
      "Model: KNN (k=5)\n",
      "RMSE: 2.35\n",
      "MAE: 1.86\n",
      "MAPE: 26.37%\n",
      "========================================\n",
      "Model: KNN (k=7)\n",
      "RMSE: 2.30\n",
      "MAE: 1.82\n",
      "MAPE: 25.80%\n",
      "========================================\n",
      "Model: KNN (k=9)\n",
      "RMSE: 2.27\n",
      "MAE: 1.79\n",
      "MAPE: 25.45%\n",
      "========================================\n"
     ]
    }
   ],
   "source": [
    "# Split the data into train and test sets.\n",
    "X_train, X_test, y_train, y_test = train_test_split(X, y, test_size=0.2, random_state=42)\n",
    "\n",
    "# Initialize the KNN regressor models with different values of k.\n",
    "k_values = [1, 3, 5, 7, 9]  # You can adjust these values\n",
    "models = {f\"KNN (k={k})\": KNeighborsRegressor(n_neighbors=k) for k in k_values}\n",
    "\n",
    "# Training and evaluation loop.\n",
    "for model_name, model in models.items():\n",
    "    # Train the model\n",
    "    model.fit(X_train, y_train)\n",
    "\n",
    "    # Make predictions.\n",
    "    y_pred = model.predict(X_test)\n",
    "\n",
    "    # Calculate RMSE, MAE, and MAPE.\n",
    "    rmse = np.sqrt(mean_squared_error(y_test, y_pred))\n",
    "    mae = mean_absolute_error(y_test, y_pred)\n",
    "    mape = np.mean(np.abs((y_test - y_pred) / y_test)) * 100  # MAPE in percentage\n",
    "\n",
    "    # Print the results.\n",
    "    print(f\"Model: {model_name}\")\n",
    "    print(f\"RMSE: {rmse:.2f}\")\n",
    "    print(f\"MAE: {mae:.2f}\")\n",
    "    print(f\"MAPE: {mape:.2f}%\")\n",
    "    print(\"=\" * 40)"
   ]
  },
  {
   "cell_type": "markdown",
   "metadata": {},
   "source": [
    "Linear models"
   ]
  },
  {
   "cell_type": "code",
   "execution_count": 54,
   "metadata": {
    "colab": {
     "base_uri": "https://localhost:8080/"
    },
    "executionInfo": {
     "elapsed": 498,
     "status": "ok",
     "timestamp": 1697699676926,
     "user": {
      "displayName": "Efemena Ikpro",
      "userId": "07524339756286888285"
     },
     "user_tz": 420
    },
    "id": "bidOZJO8wiLy",
    "outputId": "5cfce79f-c868-4e36-9450-0306e7f88f9b"
   },
   "outputs": [
    {
     "name": "stdout",
     "output_type": "stream",
     "text": [
      "Model: Linear Regression\n",
      "RMSE: 2.16\n",
      "MAE: 1.72\n",
      "MAPE: 24.33%\n",
      "========================================\n",
      "Model: Lasso Regression\n",
      "RMSE: 2.21\n",
      "MAE: 1.76\n",
      "MAPE: 25.27%\n",
      "========================================\n",
      "Model: Ridge Regression\n",
      "RMSE: 2.16\n",
      "MAE: 1.72\n",
      "MAPE: 24.33%\n",
      "========================================\n",
      "Model: Elastic Net\n",
      "RMSE: 2.19\n",
      "MAE: 1.74\n",
      "MAPE: 24.99%\n",
      "========================================\n"
     ]
    }
   ],
   "source": [
    "# Split the data into train and test sets.\n",
    "X_train, X_test, y_train, y_test = train_test_split(X, y, test_size=0.2, random_state=42)\n",
    "\n",
    "# Initialize the linear models.\n",
    "linear_regressor = LinearRegression()\n",
    "lasso_regressor = Lasso(alpha=1.0)\n",
    "ridge_regressor = Ridge(alpha=1.0)\n",
    "elasticnet_regressor = ElasticNet(alpha=1.0, l1_ratio=0.5)\n",
    "\n",
    "# Create a dictionary of models.\n",
    "models = {\n",
    "    \"Linear Regression\": linear_regressor,\n",
    "    \"Lasso Regression\": lasso_regressor,\n",
    "    \"Ridge Regression\": ridge_regressor,\n",
    "    \"Elastic Net\": elasticnet_regressor\n",
    "}\n",
    "\n",
    "# Training and evaluation loop for each model.\n",
    "for model_name, model in models.items():\n",
    "    \n",
    "    # Train the model.\n",
    "    model.fit(X_train, y_train)\n",
    "\n",
    "    # Make predictions.\n",
    "    y_pred = model.predict(X_test)\n",
    "\n",
    "    # Calculate RMSE, MAE, and MAPE.\n",
    "    rmse = np.sqrt(mean_squared_error(y_test, y_pred))\n",
    "    mae = mean_absolute_error(y_test, y_pred)\n",
    "    mape = np.mean(np.abs((y_test - y_pred) / y_test)) * 100  # MAPE in percentage\n",
    "\n",
    "    # Print the results.\n",
    "    print(f\"Model: {model_name}\")\n",
    "    print(f\"RMSE: {rmse:.2f}\")\n",
    "    print(f\"MAE: {mae:.2f}\")\n",
    "    print(f\"MAPE: {mape:.2f}%\")\n",
    "    print(\"=\" * 40)"
   ]
  },
  {
   "cell_type": "markdown",
   "metadata": {
    "id": "v0CWefalyYxg"
   },
   "source": [
    "The top performing models are : Random Forest, Gradient Boosting and KNN"
   ]
  },
  {
   "cell_type": "markdown",
   "metadata": {
    "id": "1vyaXxIZ4Eht"
   },
   "source": [
    "**HYPERPARAMETER TUNING USING GRID SEARCH**"
   ]
  },
  {
   "cell_type": "markdown",
   "metadata": {
    "id": "U-p1-nBPy0rx"
   },
   "source": [
    "Imporoving Random Forest Using Grid serach"
   ]
  },
  {
   "cell_type": "code",
   "execution_count": 58,
   "metadata": {
    "colab": {
     "base_uri": "https://localhost:8080/"
    },
    "executionInfo": {
     "elapsed": 592921,
     "status": "ok",
     "timestamp": 1697700701188,
     "user": {
      "displayName": "Efemena Ikpro",
      "userId": "07524339756286888285"
     },
     "user_tz": 420
    },
    "id": "HRJQ4dMn4Deq",
    "outputId": "eb03dee1-1e62-4f2b-8cbd-bf443acc8291"
   },
   "outputs": [
    {
     "name": "stdout",
     "output_type": "stream",
     "text": [
      "Fitting 3 folds for each of 12 candidates, totalling 36 fits\n",
      "Best Hyperparameters:\n",
      "{'max_depth': 10, 'min_samples_leaf': 4, 'min_samples_split': 10, 'n_estimators': 100}\n",
      "RMSE: 1.94\n",
      "MAE: 1.55\n"
     ]
    }
   ],
   "source": [
    "# Split the data into train and test sets.\n",
    "X_train, X_test, y_train, y_test = train_test_split(X, y, test_size=0.3, random_state=42)\n",
    "\n",
    "# Initialize the Random Forest Regressor.\n",
    "rf_regressor = RandomForestRegressor(random_state=42)\n",
    "\n",
    "# Define the hyperparameters and their possible values for the grid search.\n",
    "param_grid = {\n",
    "    'n_estimators': [100],  # Number of trees in the forest\n",
    "    'max_depth': [None, 10, 20],  # Maximum depth of each tree\n",
    "    'min_samples_split': [ 5, 10],  # Minimum number of samples required to split a node\n",
    "    'min_samples_leaf': [ 2, 4],   # Minimum number of samples required at each leaf node\n",
    "}\n",
    "\n",
    "# Create the grid search.\n",
    "grid_search = GridSearchCV(estimator=rf_regressor, param_grid=param_grid,\n",
    "                           scoring='neg_mean_squared_error', cv=3, verbose=2, n_jobs=-1)\n",
    "\n",
    "# Perform the grid search on the training data.\n",
    "grid_search.fit(X_train, y_train)\n",
    "\n",
    "# Get the best model from the grid search.\n",
    "best_rf_model = grid_search.best_estimator_\n",
    "\n",
    "# Make predictions.\n",
    "y_pred = best_rf_model.predict(X_test)\n",
    "\n",
    "# Calculate RMSE and MAE.\n",
    "rmse = np.sqrt(mean_squared_error(y_test, y_pred))\n",
    "mae = mean_absolute_error(y_test, y_pred)\n",
    "\n",
    "# Print the best hyperparameters and evaluation metrics.\n",
    "print(\"Best Hyperparameters:\")\n",
    "print(grid_search.best_params_)\n",
    "print(f\"RMSE: {rmse:.2f}\")\n",
    "print(f\"MAE: {mae:.2f}\")"
   ]
  },
  {
   "cell_type": "markdown",
   "metadata": {
    "id": "PBgvnsww0Tiv"
   },
   "source": [
    "Impoving Gradient Boosting Regressor Using Grid serach"
   ]
  },
  {
   "cell_type": "code",
   "execution_count": 59,
   "metadata": {
    "colab": {
     "base_uri": "https://localhost:8080/"
    },
    "executionInfo": {
     "elapsed": 222949,
     "status": "ok",
     "timestamp": 1697700924124,
     "user": {
      "displayName": "Efemena Ikpro",
      "userId": "07524339756286888285"
     },
     "user_tz": 420
    },
    "id": "4Sg2Wt9u0Ez2",
    "outputId": "f9a20748-31f3-4fe3-f2eb-e28dcc7a420a"
   },
   "outputs": [
    {
     "name": "stdout",
     "output_type": "stream",
     "text": [
      "Fitting 3 folds for each of 9 candidates, totalling 27 fits\n",
      "Best Hyperparameters:\n",
      "{'learning_rate': 0.1, 'max_depth': 4, 'n_estimators': 100}\n",
      "RMSE: 1.91\n",
      "MAE: 1.53\n"
     ]
    }
   ],
   "source": [
    "# Split the data into train and test sets.\n",
    "X_train, X_test, y_train, y_test = train_test_split(X, y, test_size=0.3, random_state=42)\n",
    "\n",
    "# Initialize the Gradient Boosting Regressor.\n",
    "gb_regressor = GradientBoostingRegressor(random_state=42)\n",
    "\n",
    "# Define the hyperparameters and their possible values for the grid search.\n",
    "param_grid = {\n",
    "    'n_estimators': [100],  # Number of boosting stages\n",
    "    'learning_rate': [0.01, 0.1, 0.2],  # Step size shrinkage\n",
    "    'max_depth': [3, 4, 5],  # Maximum depth of individual trees\n",
    "}\n",
    "\n",
    "# Create the grid search.\n",
    "grid_search = GridSearchCV(estimator=gb_regressor, param_grid=param_grid,\n",
    "                           scoring='neg_mean_squared_error', cv=3, verbose=2, n_jobs=-1)\n",
    "\n",
    "# Perform the grid search on the training data.\n",
    "grid_search.fit(X_train, y_train)\n",
    "\n",
    "# Get the best model from the grid search.\n",
    "best_gb_model = grid_search.best_estimator_\n",
    "\n",
    "# Make predictions.\n",
    "y_pred = best_gb_model.predict(X_test)\n",
    "\n",
    "# Calculate RMSE and MAE\n",
    "rmse = np.sqrt(mean_squared_error(y_test, y_pred))\n",
    "mae = mean_absolute_error(y_test, y_pred)\n",
    "\n",
    "# Print the best hyperparameters and evaluation metrics.\n",
    "print(\"Best Hyperparameters:\")\n",
    "print(grid_search.best_params_)\n",
    "print(f\"RMSE: {rmse:.2f}\")\n",
    "print(f\"MAE: {mae:.2f}\")"
   ]
  },
  {
   "cell_type": "markdown",
   "metadata": {
    "id": "R4i-LNUh0C7o"
   },
   "source": [
    "Impoving K nerest Neighbor Regressor Using Grid serach"
   ]
  },
  {
   "cell_type": "code",
   "execution_count": 60,
   "metadata": {
    "colab": {
     "base_uri": "https://localhost:8080/"
    },
    "executionInfo": {
     "elapsed": 35679,
     "status": "ok",
     "timestamp": 1697700960958,
     "user": {
      "displayName": "Efemena Ikpro",
      "userId": "07524339756286888285"
     },
     "user_tz": 420
    },
    "id": "b4A-nP3z0mGW",
    "outputId": "1f69f6df-1932-4f70-9314-8f41556cc463"
   },
   "outputs": [
    {
     "name": "stdout",
     "output_type": "stream",
     "text": [
      "Fitting 3 folds for each of 12 candidates, totalling 36 fits\n",
      "Best Hyperparameters:\n",
      "{'n_neighbors': 11, 'weights': 'distance'}\n",
      "RMSE: 2.25\n",
      "MAE: 1.78\n"
     ]
    }
   ],
   "source": [
    "# Split the data into train and test sets.\n",
    "X_train, X_test, y_train, y_test = train_test_split(X, y, test_size=0.2, random_state=42)\n",
    "\n",
    "# Initialize the KNN Regressor.\n",
    "knn_regressor = KNeighborsRegressor()\n",
    "\n",
    "# Define the hyperparameters and their possible values for the grid search.\n",
    "param_grid = {\n",
    "    'n_neighbors': [1, 3, 5, 7, 9, 11],  # Number of neighbors to consider\n",
    "    'weights': ['uniform', 'distance'],  # Weighting strategy for neighbors\n",
    "}\n",
    "\n",
    "# Create the grid search.\n",
    "grid_search = GridSearchCV(estimator=knn_regressor, param_grid=param_grid,\n",
    "                           scoring='neg_mean_squared_error', cv=3, verbose=2, n_jobs=-1)\n",
    "\n",
    "# Perform the grid search on the training data.\n",
    "grid_search.fit(X_train, y_train)\n",
    "\n",
    "# Get the best model from the grid search.\n",
    "best_knn_model = grid_search.best_estimator_\n",
    "\n",
    "# Make predictions.\n",
    "y_pred = best_knn_model.predict(X_test)\n",
    "\n",
    "# Calculate RMSE and MAE.\n",
    "rmse = np.sqrt(mean_squared_error(y_test, y_pred))\n",
    "mae = mean_absolute_error(y_test, y_pred)\n",
    "\n",
    "# Print the best hyperparameters and evaluation metrics.\n",
    "print(\"Best Hyperparameters:\")\n",
    "print(grid_search.best_params_)\n",
    "print(f\"RMSE: {rmse:.2f}\")\n",
    "print(f\"MAE: {mae:.2f}\")"
   ]
  },
  {
   "cell_type": "code",
   "execution_count": 63,
   "metadata": {
    "colab": {
     "base_uri": "https://localhost:8080/",
     "height": 75
    },
    "executionInfo": {
     "elapsed": 44293,
     "status": "ok",
     "timestamp": 1697703125519,
     "user": {
      "displayName": "Efemena Ikpro",
      "userId": "07524339756286888285"
     },
     "user_tz": 420
    },
    "id": "iovydi9G4c4i",
    "outputId": "a0c70d1e-eceb-420f-d417-8077a42faa65"
   },
   "outputs": [
    {
     "data": {
      "text/html": [
       "<style>#sk-container-id-1 {color: black;background-color: white;}#sk-container-id-1 pre{padding: 0;}#sk-container-id-1 div.sk-toggleable {background-color: white;}#sk-container-id-1 label.sk-toggleable__label {cursor: pointer;display: block;width: 100%;margin-bottom: 0;padding: 0.3em;box-sizing: border-box;text-align: center;}#sk-container-id-1 label.sk-toggleable__label-arrow:before {content: \"▸\";float: left;margin-right: 0.25em;color: #696969;}#sk-container-id-1 label.sk-toggleable__label-arrow:hover:before {color: black;}#sk-container-id-1 div.sk-estimator:hover label.sk-toggleable__label-arrow:before {color: black;}#sk-container-id-1 div.sk-toggleable__content {max-height: 0;max-width: 0;overflow: hidden;text-align: left;background-color: #f0f8ff;}#sk-container-id-1 div.sk-toggleable__content pre {margin: 0.2em;color: black;border-radius: 0.25em;background-color: #f0f8ff;}#sk-container-id-1 input.sk-toggleable__control:checked~div.sk-toggleable__content {max-height: 200px;max-width: 100%;overflow: auto;}#sk-container-id-1 input.sk-toggleable__control:checked~label.sk-toggleable__label-arrow:before {content: \"▾\";}#sk-container-id-1 div.sk-estimator input.sk-toggleable__control:checked~label.sk-toggleable__label {background-color: #d4ebff;}#sk-container-id-1 div.sk-label input.sk-toggleable__control:checked~label.sk-toggleable__label {background-color: #d4ebff;}#sk-container-id-1 input.sk-hidden--visually {border: 0;clip: rect(1px 1px 1px 1px);clip: rect(1px, 1px, 1px, 1px);height: 1px;margin: -1px;overflow: hidden;padding: 0;position: absolute;width: 1px;}#sk-container-id-1 div.sk-estimator {font-family: monospace;background-color: #f0f8ff;border: 1px dotted black;border-radius: 0.25em;box-sizing: border-box;margin-bottom: 0.5em;}#sk-container-id-1 div.sk-estimator:hover {background-color: #d4ebff;}#sk-container-id-1 div.sk-parallel-item::after {content: \"\";width: 100%;border-bottom: 1px solid gray;flex-grow: 1;}#sk-container-id-1 div.sk-label:hover label.sk-toggleable__label {background-color: #d4ebff;}#sk-container-id-1 div.sk-serial::before {content: \"\";position: absolute;border-left: 1px solid gray;box-sizing: border-box;top: 0;bottom: 0;left: 50%;z-index: 0;}#sk-container-id-1 div.sk-serial {display: flex;flex-direction: column;align-items: center;background-color: white;padding-right: 0.2em;padding-left: 0.2em;position: relative;}#sk-container-id-1 div.sk-item {position: relative;z-index: 1;}#sk-container-id-1 div.sk-parallel {display: flex;align-items: stretch;justify-content: center;background-color: white;position: relative;}#sk-container-id-1 div.sk-item::before, #sk-container-id-1 div.sk-parallel-item::before {content: \"\";position: absolute;border-left: 1px solid gray;box-sizing: border-box;top: 0;bottom: 0;left: 50%;z-index: -1;}#sk-container-id-1 div.sk-parallel-item {display: flex;flex-direction: column;z-index: 1;position: relative;background-color: white;}#sk-container-id-1 div.sk-parallel-item:first-child::after {align-self: flex-end;width: 50%;}#sk-container-id-1 div.sk-parallel-item:last-child::after {align-self: flex-start;width: 50%;}#sk-container-id-1 div.sk-parallel-item:only-child::after {width: 0;}#sk-container-id-1 div.sk-dashed-wrapped {border: 1px dashed gray;margin: 0 0.4em 0.5em 0.4em;box-sizing: border-box;padding-bottom: 0.4em;background-color: white;}#sk-container-id-1 div.sk-label label {font-family: monospace;font-weight: bold;display: inline-block;line-height: 1.2em;}#sk-container-id-1 div.sk-label-container {text-align: center;}#sk-container-id-1 div.sk-container {/* jupyter's `normalize.less` sets `[hidden] { display: none; }` but bootstrap.min.css set `[hidden] { display: none !important; }` so we also need the `!important` here to be able to override the default hidden behavior on the sphinx rendered scikit-learn.org. See: https://github.com/scikit-learn/scikit-learn/issues/21755 */display: inline-block !important;position: relative;}#sk-container-id-1 div.sk-text-repr-fallback {display: none;}</style><div id=\"sk-container-id-1\" class=\"sk-top-container\"><div class=\"sk-text-repr-fallback\"><pre>RandomForestRegressor(max_depth=20, min_samples_leaf=4, min_samples_split=10)</pre><b>In a Jupyter environment, please rerun this cell to show the HTML representation or trust the notebook. <br />On GitHub, the HTML representation is unable to render, please try loading this page with nbviewer.org.</b></div><div class=\"sk-container\" hidden><div class=\"sk-item\"><div class=\"sk-estimator sk-toggleable\"><input class=\"sk-toggleable__control sk-hidden--visually\" id=\"sk-estimator-id-1\" type=\"checkbox\" checked><label for=\"sk-estimator-id-1\" class=\"sk-toggleable__label sk-toggleable__label-arrow\">RandomForestRegressor</label><div class=\"sk-toggleable__content\"><pre>RandomForestRegressor(max_depth=20, min_samples_leaf=4, min_samples_split=10)</pre></div></div></div></div></div>"
      ],
      "text/plain": [
       "RandomForestRegressor(max_depth=20, min_samples_leaf=4, min_samples_split=10)"
      ]
     },
     "execution_count": 63,
     "metadata": {},
     "output_type": "execute_result"
    }
   ],
   "source": [
    "# Get final RandomForestRegressor model.\n",
    "final_rf = RandomForestRegressor(n_estimators=100,max_depth=20, min_samples_leaf= 4, min_samples_split=10)\n",
    "final_rf.fit(X_train, y_train)"
   ]
  },
  {
   "cell_type": "code",
   "execution_count": 64,
   "metadata": {
    "colab": {
     "base_uri": "https://localhost:8080/",
     "height": 75
    },
    "executionInfo": {
     "elapsed": 17087,
     "status": "ok",
     "timestamp": 1697703242896,
     "user": {
      "displayName": "Efemena Ikpro",
      "userId": "07524339756286888285"
     },
     "user_tz": 420
    },
    "id": "qaxNWDO74fsq",
    "outputId": "9db80d7f-9079-49c9-b427-e61036ec49e6"
   },
   "outputs": [
    {
     "data": {
      "text/html": [
       "<style>#sk-container-id-2 {color: black;background-color: white;}#sk-container-id-2 pre{padding: 0;}#sk-container-id-2 div.sk-toggleable {background-color: white;}#sk-container-id-2 label.sk-toggleable__label {cursor: pointer;display: block;width: 100%;margin-bottom: 0;padding: 0.3em;box-sizing: border-box;text-align: center;}#sk-container-id-2 label.sk-toggleable__label-arrow:before {content: \"▸\";float: left;margin-right: 0.25em;color: #696969;}#sk-container-id-2 label.sk-toggleable__label-arrow:hover:before {color: black;}#sk-container-id-2 div.sk-estimator:hover label.sk-toggleable__label-arrow:before {color: black;}#sk-container-id-2 div.sk-toggleable__content {max-height: 0;max-width: 0;overflow: hidden;text-align: left;background-color: #f0f8ff;}#sk-container-id-2 div.sk-toggleable__content pre {margin: 0.2em;color: black;border-radius: 0.25em;background-color: #f0f8ff;}#sk-container-id-2 input.sk-toggleable__control:checked~div.sk-toggleable__content {max-height: 200px;max-width: 100%;overflow: auto;}#sk-container-id-2 input.sk-toggleable__control:checked~label.sk-toggleable__label-arrow:before {content: \"▾\";}#sk-container-id-2 div.sk-estimator input.sk-toggleable__control:checked~label.sk-toggleable__label {background-color: #d4ebff;}#sk-container-id-2 div.sk-label input.sk-toggleable__control:checked~label.sk-toggleable__label {background-color: #d4ebff;}#sk-container-id-2 input.sk-hidden--visually {border: 0;clip: rect(1px 1px 1px 1px);clip: rect(1px, 1px, 1px, 1px);height: 1px;margin: -1px;overflow: hidden;padding: 0;position: absolute;width: 1px;}#sk-container-id-2 div.sk-estimator {font-family: monospace;background-color: #f0f8ff;border: 1px dotted black;border-radius: 0.25em;box-sizing: border-box;margin-bottom: 0.5em;}#sk-container-id-2 div.sk-estimator:hover {background-color: #d4ebff;}#sk-container-id-2 div.sk-parallel-item::after {content: \"\";width: 100%;border-bottom: 1px solid gray;flex-grow: 1;}#sk-container-id-2 div.sk-label:hover label.sk-toggleable__label {background-color: #d4ebff;}#sk-container-id-2 div.sk-serial::before {content: \"\";position: absolute;border-left: 1px solid gray;box-sizing: border-box;top: 0;bottom: 0;left: 50%;z-index: 0;}#sk-container-id-2 div.sk-serial {display: flex;flex-direction: column;align-items: center;background-color: white;padding-right: 0.2em;padding-left: 0.2em;position: relative;}#sk-container-id-2 div.sk-item {position: relative;z-index: 1;}#sk-container-id-2 div.sk-parallel {display: flex;align-items: stretch;justify-content: center;background-color: white;position: relative;}#sk-container-id-2 div.sk-item::before, #sk-container-id-2 div.sk-parallel-item::before {content: \"\";position: absolute;border-left: 1px solid gray;box-sizing: border-box;top: 0;bottom: 0;left: 50%;z-index: -1;}#sk-container-id-2 div.sk-parallel-item {display: flex;flex-direction: column;z-index: 1;position: relative;background-color: white;}#sk-container-id-2 div.sk-parallel-item:first-child::after {align-self: flex-end;width: 50%;}#sk-container-id-2 div.sk-parallel-item:last-child::after {align-self: flex-start;width: 50%;}#sk-container-id-2 div.sk-parallel-item:only-child::after {width: 0;}#sk-container-id-2 div.sk-dashed-wrapped {border: 1px dashed gray;margin: 0 0.4em 0.5em 0.4em;box-sizing: border-box;padding-bottom: 0.4em;background-color: white;}#sk-container-id-2 div.sk-label label {font-family: monospace;font-weight: bold;display: inline-block;line-height: 1.2em;}#sk-container-id-2 div.sk-label-container {text-align: center;}#sk-container-id-2 div.sk-container {/* jupyter's `normalize.less` sets `[hidden] { display: none; }` but bootstrap.min.css set `[hidden] { display: none !important; }` so we also need the `!important` here to be able to override the default hidden behavior on the sphinx rendered scikit-learn.org. See: https://github.com/scikit-learn/scikit-learn/issues/21755 */display: inline-block !important;position: relative;}#sk-container-id-2 div.sk-text-repr-fallback {display: none;}</style><div id=\"sk-container-id-2\" class=\"sk-top-container\"><div class=\"sk-text-repr-fallback\"><pre>GradientBoostingRegressor(learning_rate=0.2)</pre><b>In a Jupyter environment, please rerun this cell to show the HTML representation or trust the notebook. <br />On GitHub, the HTML representation is unable to render, please try loading this page with nbviewer.org.</b></div><div class=\"sk-container\" hidden><div class=\"sk-item\"><div class=\"sk-estimator sk-toggleable\"><input class=\"sk-toggleable__control sk-hidden--visually\" id=\"sk-estimator-id-2\" type=\"checkbox\" checked><label for=\"sk-estimator-id-2\" class=\"sk-toggleable__label sk-toggleable__label-arrow\">GradientBoostingRegressor</label><div class=\"sk-toggleable__content\"><pre>GradientBoostingRegressor(learning_rate=0.2)</pre></div></div></div></div></div>"
      ],
      "text/plain": [
       "GradientBoostingRegressor(learning_rate=0.2)"
      ]
     },
     "execution_count": 64,
     "metadata": {},
     "output_type": "execute_result"
    }
   ],
   "source": [
    "# Get final GradientBoostingRegressor model.\n",
    "final_gb = GradientBoostingRegressor(learning_rate=0.2, max_depth=3, n_estimators=100)\n",
    "final_gb.fit(X_train, y_train)"
   ]
  },
  {
   "cell_type": "code",
   "execution_count": 65,
   "metadata": {
    "colab": {
     "base_uri": "https://localhost:8080/",
     "height": 75
    },
    "executionInfo": {
     "elapsed": 1077,
     "status": "ok",
     "timestamp": 1697703362283,
     "user": {
      "displayName": "Efemena Ikpro",
      "userId": "07524339756286888285"
     },
     "user_tz": 420
    },
    "id": "BwoZdP7K_aMe",
    "outputId": "ae782e83-bb26-475e-fb90-d00894cd11b0"
   },
   "outputs": [
    {
     "data": {
      "text/html": [
       "<style>#sk-container-id-3 {color: black;background-color: white;}#sk-container-id-3 pre{padding: 0;}#sk-container-id-3 div.sk-toggleable {background-color: white;}#sk-container-id-3 label.sk-toggleable__label {cursor: pointer;display: block;width: 100%;margin-bottom: 0;padding: 0.3em;box-sizing: border-box;text-align: center;}#sk-container-id-3 label.sk-toggleable__label-arrow:before {content: \"▸\";float: left;margin-right: 0.25em;color: #696969;}#sk-container-id-3 label.sk-toggleable__label-arrow:hover:before {color: black;}#sk-container-id-3 div.sk-estimator:hover label.sk-toggleable__label-arrow:before {color: black;}#sk-container-id-3 div.sk-toggleable__content {max-height: 0;max-width: 0;overflow: hidden;text-align: left;background-color: #f0f8ff;}#sk-container-id-3 div.sk-toggleable__content pre {margin: 0.2em;color: black;border-radius: 0.25em;background-color: #f0f8ff;}#sk-container-id-3 input.sk-toggleable__control:checked~div.sk-toggleable__content {max-height: 200px;max-width: 100%;overflow: auto;}#sk-container-id-3 input.sk-toggleable__control:checked~label.sk-toggleable__label-arrow:before {content: \"▾\";}#sk-container-id-3 div.sk-estimator input.sk-toggleable__control:checked~label.sk-toggleable__label {background-color: #d4ebff;}#sk-container-id-3 div.sk-label input.sk-toggleable__control:checked~label.sk-toggleable__label {background-color: #d4ebff;}#sk-container-id-3 input.sk-hidden--visually {border: 0;clip: rect(1px 1px 1px 1px);clip: rect(1px, 1px, 1px, 1px);height: 1px;margin: -1px;overflow: hidden;padding: 0;position: absolute;width: 1px;}#sk-container-id-3 div.sk-estimator {font-family: monospace;background-color: #f0f8ff;border: 1px dotted black;border-radius: 0.25em;box-sizing: border-box;margin-bottom: 0.5em;}#sk-container-id-3 div.sk-estimator:hover {background-color: #d4ebff;}#sk-container-id-3 div.sk-parallel-item::after {content: \"\";width: 100%;border-bottom: 1px solid gray;flex-grow: 1;}#sk-container-id-3 div.sk-label:hover label.sk-toggleable__label {background-color: #d4ebff;}#sk-container-id-3 div.sk-serial::before {content: \"\";position: absolute;border-left: 1px solid gray;box-sizing: border-box;top: 0;bottom: 0;left: 50%;z-index: 0;}#sk-container-id-3 div.sk-serial {display: flex;flex-direction: column;align-items: center;background-color: white;padding-right: 0.2em;padding-left: 0.2em;position: relative;}#sk-container-id-3 div.sk-item {position: relative;z-index: 1;}#sk-container-id-3 div.sk-parallel {display: flex;align-items: stretch;justify-content: center;background-color: white;position: relative;}#sk-container-id-3 div.sk-item::before, #sk-container-id-3 div.sk-parallel-item::before {content: \"\";position: absolute;border-left: 1px solid gray;box-sizing: border-box;top: 0;bottom: 0;left: 50%;z-index: -1;}#sk-container-id-3 div.sk-parallel-item {display: flex;flex-direction: column;z-index: 1;position: relative;background-color: white;}#sk-container-id-3 div.sk-parallel-item:first-child::after {align-self: flex-end;width: 50%;}#sk-container-id-3 div.sk-parallel-item:last-child::after {align-self: flex-start;width: 50%;}#sk-container-id-3 div.sk-parallel-item:only-child::after {width: 0;}#sk-container-id-3 div.sk-dashed-wrapped {border: 1px dashed gray;margin: 0 0.4em 0.5em 0.4em;box-sizing: border-box;padding-bottom: 0.4em;background-color: white;}#sk-container-id-3 div.sk-label label {font-family: monospace;font-weight: bold;display: inline-block;line-height: 1.2em;}#sk-container-id-3 div.sk-label-container {text-align: center;}#sk-container-id-3 div.sk-container {/* jupyter's `normalize.less` sets `[hidden] { display: none; }` but bootstrap.min.css set `[hidden] { display: none !important; }` so we also need the `!important` here to be able to override the default hidden behavior on the sphinx rendered scikit-learn.org. See: https://github.com/scikit-learn/scikit-learn/issues/21755 */display: inline-block !important;position: relative;}#sk-container-id-3 div.sk-text-repr-fallback {display: none;}</style><div id=\"sk-container-id-3\" class=\"sk-top-container\"><div class=\"sk-text-repr-fallback\"><pre>KNeighborsRegressor(n_neighbors=11, weights=&#x27;distance&#x27;)</pre><b>In a Jupyter environment, please rerun this cell to show the HTML representation or trust the notebook. <br />On GitHub, the HTML representation is unable to render, please try loading this page with nbviewer.org.</b></div><div class=\"sk-container\" hidden><div class=\"sk-item\"><div class=\"sk-estimator sk-toggleable\"><input class=\"sk-toggleable__control sk-hidden--visually\" id=\"sk-estimator-id-3\" type=\"checkbox\" checked><label for=\"sk-estimator-id-3\" class=\"sk-toggleable__label sk-toggleable__label-arrow\">KNeighborsRegressor</label><div class=\"sk-toggleable__content\"><pre>KNeighborsRegressor(n_neighbors=11, weights=&#x27;distance&#x27;)</pre></div></div></div></div></div>"
      ],
      "text/plain": [
       "KNeighborsRegressor(n_neighbors=11, weights='distance')"
      ]
     },
     "execution_count": 65,
     "metadata": {},
     "output_type": "execute_result"
    }
   ],
   "source": [
    "# Get final KNeighborsRegressor model.\n",
    "final_knn = KNeighborsRegressor(n_neighbors=11, weights=\"distance\")\n",
    "final_knn.fit(X_train, y_train)"
   ]
  },
  {
   "cell_type": "markdown",
   "metadata": {
    "id": "Qtf0Ubzr4ghr"
   },
   "source": [
    "**ENSEMBLING MODELS: STACKING VS AVERAGING**  \n",
    "STACKING"
   ]
  },
  {
   "cell_type": "code",
   "execution_count": 66,
   "metadata": {
    "colab": {
     "base_uri": "https://localhost:8080/"
    },
    "executionInfo": {
     "elapsed": 247614,
     "status": "ok",
     "timestamp": 1697703818692,
     "user": {
      "displayName": "Efemena Ikpro",
      "userId": "07524339756286888285"
     },
     "user_tz": 420
    },
    "id": "1ypfzjKY4jfB",
    "outputId": "45ae5aa2-7501-4573-bbf6-d51c28da5cd6"
   },
   "outputs": [
    {
     "name": "stdout",
     "output_type": "stream",
     "text": [
      "Stacking Ensemble RMSE: 1.91\n",
      "Stacking Ensemble MAE: 1.53\n"
     ]
    }
   ],
   "source": [
    "# Initialize the base models.\n",
    "final_rf = RandomForestRegressor(n_estimators=100, max_depth=20, min_samples_leaf=4, min_samples_split=10)\n",
    "final_gb = GradientBoostingRegressor(learning_rate=0.2, max_depth=3, n_estimators=100)\n",
    "final_knn = KNeighborsRegressor(n_neighbors=11, weights=\"distance\")\n",
    "\n",
    "# Create a list of base models.\n",
    "base_models = [('KNN', final_knn), ('GBR', final_gb), ('RFR', final_rf)]\n",
    "\n",
    "# Initialize the meta-model (Linear Regression in this case).\n",
    "meta_model = LinearRegression()\n",
    "\n",
    "# Create the stacking ensemble\n",
    "stacking_regressor = StackingRegressor(estimators=base_models, final_estimator=meta_model)\n",
    "\n",
    "# Fit the stacking ensemble to the data.\n",
    "stacking_regressor.fit(X_train, y_train)\n",
    "\n",
    "# Make predictions.\n",
    "y_pred = stacking_regressor.predict(X_test)\n",
    "\n",
    "# Evaluate the ensemble.\n",
    "rmse = np.sqrt(mean_squared_error(y_test, y_pred))\n",
    "mae = mean_absolute_error(y_test, y_pred)\n",
    "\n",
    "print(f\"Stacking Ensemble RMSE: {rmse:.2f}\")\n",
    "print(f\"Stacking Ensemble MAE: {mae:.2f}\")"
   ]
  },
  {
   "cell_type": "markdown",
   "metadata": {},
   "source": [
    "AVERAGING"
   ]
  },
  {
   "cell_type": "code",
   "execution_count": 68,
   "metadata": {
    "colab": {
     "base_uri": "https://localhost:8080/"
    },
    "executionInfo": {
     "elapsed": 48242,
     "status": "ok",
     "timestamp": 1697703866919,
     "user": {
      "displayName": "Efemena Ikpro",
      "userId": "07524339756286888285"
     },
     "user_tz": 420
    },
    "id": "nRSQaOoJ4nyC",
    "outputId": "f7b1810e-c847-4902-82b4-c4381cfe530c"
   },
   "outputs": [
    {
     "name": "stdout",
     "output_type": "stream",
     "text": [
      "Averaging Ensemble RMSE: 1.96\n",
      "Averaging Ensemble MAE: 1.57\n"
     ]
    }
   ],
   "source": [
    "# Initialize the base models.\n",
    "final_rf = RandomForestRegressor(n_estimators=100, max_depth=20, min_samples_leaf= 4, min_samples_split=10)\n",
    "final_gb = GradientBoostingRegressor(learning_rate=0.2, max_depth=3, n_estimators=100)\n",
    "final_knn = KNeighborsRegressor(n_neighbors=11, weights=\"distance\")\n",
    "\n",
    "# Create a list of base models.\n",
    "base_models = [('KNN', final_knn), ('GBR', final_gb), ('RFR', final_rf)]\n",
    "\n",
    "# Initialize the ensemble (VotingRegressor with averaging).\n",
    "ensemble_regressor = VotingRegressor(estimators=base_models)\n",
    "\n",
    "# Fit the ensemble to the data.\n",
    "ensemble_regressor.fit(X_train, y_train)\n",
    "\n",
    "# Make predictions.\n",
    "y_pred = ensemble_regressor.predict(X_test)\n",
    "\n",
    "# Evaluate the ensemble.\n",
    "rmse = np.sqrt(mean_squared_error(y_test, y_pred))\n",
    "mae = mean_absolute_error(y_test, y_pred)\n",
    "\n",
    "print(f\"Averaging Ensemble RMSE: {rmse:.2f}\")\n",
    "print(f\"Averaging Ensemble MAE: {mae:.2f}\")"
   ]
  },
  {
   "cell_type": "markdown",
   "metadata": {},
   "source": [
    "**USE THE MODEL FOR SOME PREDICTIONS**"
   ]
  },
  {
   "cell_type": "code",
   "execution_count": 71,
   "metadata": {},
   "outputs": [],
   "source": [
    "# Save the stacking_regressor model.\n",
    "pickle.dump(stacking_regressor, gzip.open('./data/Project_Notes_011_renewable_model.pkl', 'wb'), protocol=pickle.HIGHEST_PROTOCOL)"
   ]
  },
  {
   "cell_type": "code",
   "execution_count": 72,
   "metadata": {},
   "outputs": [],
   "source": [
    "# load the the stacking_regressor model.\n",
    "loaded_model = pickle.load(gzip.open('./data/Project_Notes_011_renewable_model.pkl', 'rb'))"
   ]
  },
  {
   "cell_type": "code",
   "execution_count": 73,
   "metadata": {},
   "outputs": [],
   "source": [
    "# Create function to predict the raw data\n",
    "def predict_data(raw_data):\n",
    "    data_frame = pd.DataFrame(raw_data, index=[0])\n",
    "    data_predict = loaded_model.predict(data_frame)\n",
    "    return data_predict[0]"
   ]
  },
  {
   "cell_type": "code",
   "execution_count": 109,
   "metadata": {},
   "outputs": [
    {
     "data": {
      "text/plain": [
       "traffic          1.000000\n",
       "packages         2.000000\n",
       "preference       2.000000\n",
       "distance       133.539599\n",
       "year          2020.000000\n",
       "month            3.000000\n",
       "day              7.000000\n",
       "hour            10.000000\n",
       "minute           5.000000\n",
       "delivery         4.738282\n",
       "Name: 2120, dtype: float64"
      ]
     },
     "execution_count": 109,
     "metadata": {},
     "output_type": "execute_result"
    }
   ],
   "source": [
    "# Get the sample data to use.\n",
    "sample_data = df.iloc[2120]\n",
    "sample_data"
   ]
  },
  {
   "cell_type": "code",
   "execution_count": 110,
   "metadata": {},
   "outputs": [
    {
     "data": {
      "text/plain": [
       "{'traffic': 1.0,\n",
       " 'packages': 2.0,\n",
       " 'preference': 2.0,\n",
       " 'distance': 133.53959872358544,\n",
       " 'year': 2020.0,\n",
       " 'month': 3.0,\n",
       " 'day': 7.0,\n",
       " 'hour': 10.0,\n",
       " 'minute': 5.0}"
      ]
     },
     "execution_count": 110,
     "metadata": {},
     "output_type": "execute_result"
    }
   ],
   "source": [
    "raw_data = {\n",
    "            \"traffic\": sample_data.iloc[0],\n",
    "            \"packages\": sample_data.iloc[1],\n",
    "            \"preference\": sample_data.iloc[2],\n",
    "            \"distance\": sample_data.iloc[3],\n",
    "            \"year\": sample_data.iloc[4],\n",
    "            \"month\": sample_data.iloc[5],\n",
    "            \"day\": sample_data.iloc[6],\n",
    "            \"hour\": sample_data.iloc[7],\n",
    "            \"minute\": sample_data.iloc[8]\n",
    "            }\n",
    "\n",
    "raw_data"
   ]
  },
  {
   "cell_type": "code",
   "execution_count": 111,
   "metadata": {},
   "outputs": [
    {
     "data": {
      "text/plain": [
       "5.394793007171949"
      ]
     },
     "execution_count": 111,
     "metadata": {},
     "output_type": "execute_result"
    }
   ],
   "source": [
    "# Compute prediction\n",
    "prediction = predict_data(raw_data)\n",
    "prediction"
   ]
  },
  {
   "cell_type": "code",
   "execution_count": 121,
   "metadata": {},
   "outputs": [
    {
     "data": {
      "text/plain": [
       "traffic          1.000000\n",
       "packages        16.000000\n",
       "preference       2.000000\n",
       "distance       150.688004\n",
       "year          2020.000000\n",
       "month            9.000000\n",
       "day              5.000000\n",
       "hour             6.000000\n",
       "minute           6.000000\n",
       "delivery         5.739895\n",
       "Name: 4132, dtype: float64"
      ]
     },
     "execution_count": 121,
     "metadata": {},
     "output_type": "execute_result"
    }
   ],
   "source": [
    "# Get the sample data to use.\n",
    "sample_data = df.iloc[4132]\n",
    "sample_data"
   ]
  },
  {
   "cell_type": "code",
   "execution_count": 122,
   "metadata": {},
   "outputs": [
    {
     "data": {
      "text/plain": [
       "{'traffic': 1.0,\n",
       " 'packages': 16.0,\n",
       " 'preference': 2.0,\n",
       " 'distance': 150.6880038974703,\n",
       " 'year': 2020.0,\n",
       " 'month': 9.0,\n",
       " 'day': 5.0,\n",
       " 'hour': 6.0,\n",
       " 'minute': 6.0}"
      ]
     },
     "execution_count": 122,
     "metadata": {},
     "output_type": "execute_result"
    }
   ],
   "source": [
    "raw_data = {\n",
    "            \"traffic\": sample_data.iloc[0],\n",
    "            \"packages\": sample_data.iloc[1],\n",
    "            \"preference\": sample_data.iloc[2],\n",
    "            \"distance\": sample_data.iloc[3],\n",
    "            \"year\": sample_data.iloc[4],\n",
    "            \"month\": sample_data.iloc[5],\n",
    "            \"day\": sample_data.iloc[6],\n",
    "            \"hour\": sample_data.iloc[7],\n",
    "            \"minute\": sample_data.iloc[8]\n",
    "            }\n",
    "\n",
    "raw_data"
   ]
  },
  {
   "cell_type": "code",
   "execution_count": 123,
   "metadata": {},
   "outputs": [
    {
     "data": {
      "text/plain": [
       "8.163452305184677"
      ]
     },
     "execution_count": 123,
     "metadata": {},
     "output_type": "execute_result"
    }
   ],
   "source": [
    "# Compute prediction\n",
    "prediction = predict_data(raw_data)\n",
    "prediction"
   ]
  },
  {
   "cell_type": "code",
   "execution_count": 124,
   "metadata": {},
   "outputs": [
    {
     "data": {
      "text/plain": [
       "traffic          3.000000\n",
       "packages        20.000000\n",
       "preference       2.000000\n",
       "distance        21.211363\n",
       "year          2020.000000\n",
       "month           12.000000\n",
       "day             12.000000\n",
       "hour             9.000000\n",
       "minute          13.000000\n",
       "delivery         5.892630\n",
       "Name: 9066, dtype: float64"
      ]
     },
     "execution_count": 124,
     "metadata": {},
     "output_type": "execute_result"
    }
   ],
   "source": [
    "# Get the sample data to use.\n",
    "sample_data = df.iloc[9065]\n",
    "sample_data"
   ]
  },
  {
   "cell_type": "code",
   "execution_count": 125,
   "metadata": {},
   "outputs": [
    {
     "data": {
      "text/plain": [
       "{'traffic': 3.0,\n",
       " 'packages': 20.0,\n",
       " 'preference': 2.0,\n",
       " 'distance': 21.211363411110767,\n",
       " 'year': 2020.0,\n",
       " 'month': 12.0,\n",
       " 'day': 12.0,\n",
       " 'hour': 9.0,\n",
       " 'minute': 13.0}"
      ]
     },
     "execution_count": 125,
     "metadata": {},
     "output_type": "execute_result"
    }
   ],
   "source": [
    "raw_data = {\n",
    "            \"traffic\": sample_data.iloc[0],\n",
    "            \"packages\": sample_data.iloc[1],\n",
    "            \"preference\": sample_data.iloc[2],\n",
    "            \"distance\": sample_data.iloc[3],\n",
    "            \"year\": sample_data.iloc[4],\n",
    "            \"month\": sample_data.iloc[5],\n",
    "            \"day\": sample_data.iloc[6],\n",
    "            \"hour\": sample_data.iloc[7],\n",
    "            \"minute\": sample_data.iloc[8]\n",
    "            }\n",
    "\n",
    "raw_data"
   ]
  },
  {
   "cell_type": "code",
   "execution_count": 126,
   "metadata": {},
   "outputs": [
    {
     "data": {
      "text/plain": [
       "7.05846177786543"
      ]
     },
     "execution_count": 126,
     "metadata": {},
     "output_type": "execute_result"
    }
   ],
   "source": [
    "# Compute prediction\n",
    "prediction = predict_data(raw_data)\n",
    "prediction"
   ]
  }
 ],
 "metadata": {
  "colab": {
   "authorship_tag": "ABX9TyNk+0jwL7KFK68k6la7ai4B",
   "mount_file_id": "10JtOVlQnt7H1I8-2Pi3BraSIKzDQYvLz",
   "provenance": []
  },
  "kernelspec": {
   "display_name": "Python 3 (ipykernel)",
   "language": "python",
   "name": "python3"
  },
  "language_info": {
   "codemirror_mode": {
    "name": "ipython",
    "version": 3
   },
   "file_extension": ".py",
   "mimetype": "text/x-python",
   "name": "python",
   "nbconvert_exporter": "python",
   "pygments_lexer": "ipython3",
   "version": "3.11.5"
  }
 },
 "nbformat": 4,
 "nbformat_minor": 4
}
